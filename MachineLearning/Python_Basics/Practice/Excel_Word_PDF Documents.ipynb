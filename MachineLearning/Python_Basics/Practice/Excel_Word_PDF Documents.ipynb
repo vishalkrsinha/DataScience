# =============================================================================
# Reading Excel Spreadsheets
# =============================================================================
#The OpenPyXL 3rd-party module handles Excel spreadsheets (.xlsx files).
import openpyxl, os
os.getcwd()

#openpyxl.load_workbook(filename) returns a Workbook object.
workbook = openpyxl.load_workbook('example.xlsx')
type(workbook)

#get_sheet_names()[deprecated. Use sheetnames] and get_sheet_by_name()[deprecated. wb['sheetname']] help get Worksheet objects.
workbook.sheetnames #listing all sheets available in the workbook

sheet = workbook['Sheet1']
type(sheet)

#The square brackets in sheet['A1'] get Cell objects.
cell = sheet['A1']

#Cell objects have a value member variable with the content of that cell.
cell.value
str(cell.value)
str(sheet['A1'].value)

sheet['B1'].value
sheet['C1'].value
str(sheet['C1'].value)

#The cell() method also returns a Cell object from a sheet.
sheet.cell(row=1,column=2)
sheet['B1']

for i in range(1,8):
    print(i, sheet.cell(row=i, column=2).value)



# =============================================================================
# Editing Excel Spreadsheets
# =============================================================================
#Changing a cell's value is done using the square brackets, just like changing a value in a list or dictionary
import openpyxl
wb = openpyxl.Workbook() #Creates a new workbook with a single sheet (Sheet), by default get created with the workbook
wb.sheetnames
sheet = wb['Sheet']
sheet['A1'].value
sheet['A1'].value == None

sheet['A1'] = 42
sheet['A2'] = 'Hello'

import os
os.getcwd()
wb.save('testexample.xlsx') #Saves the cell data updates to the workbook

sheet2 = wb.create_sheet() #Creates a new sheet at the end - in current workbook
wb.sheetnames #output: ['Sheet', 'Sheet1']

#We can view and modify a sheet's name with it's title member variable.
sheet2.title #sheet name: 'Sheet1
sheet2.title = 'My New Sheet Name' #Updating the sheet name
wb.sheetnames
wb.save('testexample.xlsx')

#Changes we make to the workbook object can be saved with the save() method.
wb.create_sheet(title = 'My Other Sheet', index = 1)
wb.save('testexample.xlsx')


# =============================================================================
# Reading & Editing PDFs
# =============================================================================
#The PyPDF2 module can read & write PDFs.
import PyPDF2

#Opening a PDF is done by calling open() and passing the file object to PdfFileReader().
pdfFile = open('meetingminutes1.pdf','rb') #PDFs are binary files, so opening it in read binary format
reader = PyPDF2.PdfFileReader(pdfFile)
reader.numPages

#A Page object can be obtained from the PDF object with the getPage() method.
page = reader.getPage(0)

#The text from a Page object is obtained with the extractText() method, which can be imperfect.
page.extractText()

for pageNum in range(reader.numPages):
    print(reader.getPage(pageNum).extractText())

#New PDFs can be made from PdfFileWriter().
import PyPDF2
pdfFile1 = open('meetingminutes1.pdf','rb')
reader1 = PyPDF2.PdfFileReader(pdfFile1)

pdfFile2 = open('meetingminutes2.pdf','rb')
reader2 = PyPDF2.PdfFileReader(pdfFile2)

writer = PyPDF2.PdfFileWriter()

#New pages can be appended to a writer object with the addPage() method.
for pageNum in range(reader1.numPages):
    page = reader1.getPage(pageNum)
    writer.addPage(page)
    
for pageNum in range(reader2.numPages):
    page = reader2.getPage(pageNum)
    writer.addPage(page)

#Call the write() method to save its changes.
outputFile = open('combinedminutes.pdf','wb')
writer.write(outputFile)
outputFile.close()
pdfFile1.close()
pdfFile2.close()


# =============================================================================
# Reading & Editing Word Documents
# =============================================================================
#Python-Docx can read and write .docx word files.
#Install it through command: pip install python-docx
import docx

#Open a word file with docx.Document()
d = docx.Document('demo.docx')

#Access one of the paragraph objects from the paragraphs member variable, which is a list of paragraph objects.
d.paragraphs
d.paragraphs[0]

#Paragraph objects have a text member variable containing the text as a string value.
d.paragraphs[0].text
d.paragraphs[1].text

#Paragraphs are composed of "runs". The runs member variable of a paragraph object contains a list of run objects.
p = d.paragraphs[1]
p.runs

#Run objects also have a text member variable.
p.runs[0].text
p.runs[1].text
p.runs[2].text
p.runs[3].text

#Run objects have a bold, italic, and underline member variables which can be set to True or False.
p.runs[0].bold
p.runs[0].bold == None #True
p.runs[3].italic #True
d.paragraphs[1].text

p.runs[3].underline = True
p.runs[3].text = 'italic and underlined.'
d.save('demo.docx')

#Paragraph and run objects have a style member variable that can be set to one of Word's built-in styles.
#Ctrl+Alt+Shft+s: Opens the style dialog in word document.
p.style
p.style = 'Title'
d.save('demo1.docx')

#Word files can be created by calling add_paragraph() and add_run() to append text content.
d = docx.Document() # Creates a new document.
d.add_paragraph('Hello this is a paragraph.')
d.add_paragraph('Hello this is another paragraph.')
d.save('demo2.docx')
p = d.paragraphs[0]
p.add_run('This is a new run.')
p.runs
p.runs[1].bold = True
d.save('demo3.docx')
