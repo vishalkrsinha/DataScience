{
 "cells": [
  {
   "cell_type": "code",
   "execution_count": null,
   "metadata": {
    "collapsed": true
   },
   "outputs": [],
   "source": [
    "a = raw_input()\n",
    "# py3 \n",
    "a = input()"
   ]
  },
  {
   "cell_type": "code",
   "execution_count": null,
   "metadata": {},
   "outputs": [],
   "source": [
    "val = raw_input(\"Enter something and press Return key\")"
   ]
  },
  {
   "cell_type": "code",
   "execution_count": null,
   "metadata": {},
   "outputs": [],
   "source": [
    "print(val)"
   ]
  },
  {
   "cell_type": "code",
   "execution_count": null,
   "metadata": {},
   "outputs": [],
   "source": [
    "type(val)"
   ]
  },
  {
   "cell_type": "code",
   "execution_count": null,
   "metadata": {
    "collapsed": true
   },
   "outputs": [],
   "source": []
  },
  {
   "cell_type": "code",
   "execution_count": null,
   "metadata": {},
   "outputs": [],
   "source": [
    "a = raw_input(\"Enter a number: \")\n",
    "a = float(a)\n",
    "a += 1\n",
    "print(a)"
   ]
  },
  {
   "cell_type": "markdown",
   "metadata": {},
   "source": [
    "## Packages Modules, Classes, and Objects\n"
   ]
  },
  {
   "cell_type": "markdown",
   "metadata": {},
   "source": [
    "Considering a sample module that we created earlier. We add a function and a variable to it and try to access them in the current program."
   ]
  },
  {
   "cell_type": "code",
   "execution_count": null,
   "metadata": {
    "collapsed": true
   },
   "outputs": [],
   "source": [
    "import addition"
   ]
  },
  {
   "cell_type": "markdown",
   "metadata": {},
   "source": [
    "The below code is an example of function in a module"
   ]
  },
  {
   "cell_type": "code",
   "execution_count": null,
   "metadata": {},
   "outputs": [],
   "source": [
    "addition.apple()"
   ]
  },
  {
   "cell_type": "markdown",
   "metadata": {},
   "source": [
    "This is a very common pattern in Python:\n",
    "1. Take a key=value style container.\n",
    "2. Get something out of it by the key’s name."
   ]
  },
  {
   "cell_type": "markdown",
   "metadata": {},
   "source": [
    "### Classes are similar to modules"
   ]
  },
  {
   "cell_type": "markdown",
   "metadata": {},
   "source": [
    "#### Car\n",
    "- Model\n",
    "- Make\n",
    "- Year\n",
    "- Owner\n",
    "- Color\n",
    "- Engine\n",
    "- AM\n",
    "\n",
    "#### Cellphone\n",
    "- Model\n",
    "- Make\n",
    "- Year\n",
    "- Owner\n",
    "- Color\n",
    "- OS\n",
    "- ScreenSize\n"
   ]
  },
  {
   "cell_type": "code",
   "execution_count": null,
   "metadata": {
    "collapsed": true
   },
   "outputs": [],
   "source": [
    "class MyCard(object):\n",
    "    def __init__(self): # \"Constructor\"\n",
    "        self.tangerine = \"There are some things money can't buy. For everything else, there's MasterCard\"\n",
    "    def DescribeName(): # \"member function\"\n",
    "        print \"MasterCard\""
   ]
  },
  {
   "cell_type": "raw",
   "metadata": {
    "collapsed": true
   },
   "source": [
    "# Constructor is something that initializes - assign some properties to the object of a class\n",
    "# and\n",
    "# Constructor in a class is defined using the function __init__()\n",
    "\n",
    "# We have to \"invoke\" or call the constructor to initialize\n",
    "# A constructor is a function which has the same name that of it's class\n",
    "def Cars:\n",
    "    def __init__():\n",
    "        ....\n",
    "\n",
    "myCar = Cars() # Contructor"
   ]
  },
  {
   "cell_type": "code",
   "execution_count": null,
   "metadata": {
    "collapsed": true
   },
   "outputs": [],
   "source": [
    "# Encapsulation\n",
    "\n",
    "# A container\n",
    "\n",
    "# Protecting the code\n",
    "\n",
    "# is wrapping up of code and data into a single unit called class"
   ]
  },
  {
   "cell_type": "markdown",
   "metadata": {},
   "source": [
    "Things that are relatively new : \n",
    "1. __init__() function and\n",
    "2. use of self.tangerine for setting the tangerine variable."
   ]
  },
  {
   "cell_type": "markdown",
   "metadata": {},
   "source": [
    "### Objects Are Like Mini- Imports\n",
    "\n",
    "If a class is like a “mini- module,” then there has to be a similar concept to import but for\n",
    "classes. That concept is called “instantiate,” or create. When we instantiate a class, what we get is called an object.\n",
    "\n",
    "The way you do this is you call the class like it’s a function, like this:\n",
    "\n",
    "`thing = MyStuff()\n",
    "thing.apple()\n",
    "print thing.tangerine`\n",
    "\n",
    "The first line is the “instantiate” operation, and it’s a lot like calling a function. However, when\n",
    "you call this, there’s a sequence of events that Python performs:\n",
    "\n",
    "1. Python looks for MyStuff() and sees that it is a class you’ve defi ned.\n",
    "2. Python crafts an empty object with all the functions you’ve specifi ed in the class using def.\n",
    "3. Python then looks to see if you made a “magic” __init__ function, and if you have, it calls that function to initialize your newly created empty object.\n",
    "4. In the MyStuff function __init__ I then get this extra variable self, which is that empty object Python made for me, and I can set variables on it just like you would with a module, dict, or other object.\n",
    "5. In this case, I set self.cars to car names and then I’ve initialized this object.\n",
    "6. Now Python can take this newly minted object and assign it to the thing variable for me to work with."
   ]
  },
  {
   "cell_type": "markdown",
   "metadata": {},
   "source": [
    "#### Classes : \n",
    "\n",
    "- Classes are like blueprints or definitions for creating new mini-modules.\n",
    "- Instantiation is how you make one of these mini-modules and import it at the same time.\n",
    "- The resulting created mini-module is called an object and you then assign it to a variable to work with it."
   ]
  },
  {
   "cell_type": "code",
   "execution_count": null,
   "metadata": {},
   "outputs": [],
   "source": [
    "#### Car\n",
    "#- Model\n",
    "#- Make\n",
    "#- Year\n",
    "#- Owner\n",
    "#- Color\n",
    "#- Engine\n",
    "#- AutoGear\n",
    "class Cars:\n",
    "    showroom = \"The Only Showroom\" # Global Variable\n",
    "    # initialization\n",
    "    def __init__(self,Model,Make,Year,Owner,Color,Engine,AutoGear = False):\n",
    "        self.Model = Model\n",
    "        self.Make = Make\n",
    "        self.Year = Year\n",
    "        self.Owner = Owner\n",
    "        self.Color = Color\n",
    "        self.Engine = Engine\n",
    "        self.AutoGear = AutoGear\n",
    "\n",
    "        \n",
    "    def getNames():\n",
    "        MyName = \"xyz\"\n",
    "        \n",
    "    "
   ]
  },
  {
   "cell_type": "code",
   "execution_count": null,
   "metadata": {},
   "outputs": [],
   "source": [
    "myCar1 = Cars(Model=\"Hyundai\",Make=\"i20\",Owner=\"Alok\",Year=2017,Engine=\"1200cc\",Color=\"red\",AutoGear=False)"
   ]
  },
  {
   "cell_type": "code",
   "execution_count": null,
   "metadata": {},
   "outputs": [],
   "source": [
    "myCar1.AutoGear"
   ]
  },
  {
   "cell_type": "code",
   "execution_count": null,
   "metadata": {},
   "outputs": [],
   "source": [
    "myCar1.Make"
   ]
  },
  {
   "cell_type": "code",
   "execution_count": null,
   "metadata": {},
   "outputs": [],
   "source": [
    "myCar1.Model"
   ]
  },
  {
   "cell_type": "code",
   "execution_count": null,
   "metadata": {
    "collapsed": true
   },
   "outputs": [],
   "source": [
    "myCar2 = Cars(Owner=\"Clarkson\",Model=\"Alfa Romeo\",Make=\"8c\",Color=\"red\",Year=2011,AutoGear=True,Engine=\"5l V8 Turbo\")"
   ]
  },
  {
   "cell_type": "code",
   "execution_count": null,
   "metadata": {},
   "outputs": [],
   "source": [
    "myCar2.Year"
   ]
  },
  {
   "cell_type": "code",
   "execution_count": null,
   "metadata": {},
   "outputs": [],
   "source": [
    "myCar2.Color = \"white\"\n",
    "\n",
    "print myCar2.Color"
   ]
  },
  {
   "cell_type": "markdown",
   "metadata": {},
   "source": [
    "- **class** — Tell Python to make a new kind of thing.\n",
    "\n",
    "- **object** — Two meanings: the most basic kind of thing, and any instance of some thing.\n",
    "\n",
    "- **instance** — What you get when you tell Python to create a class.\n",
    "\n",
    "- **def** — How you defi ne a function inside a class.\n",
    "\n",
    "- **self** — Inside the functions in a class, self is a variable for the instance/object being accessed.\n",
    "\n",
    "- **inheritance** — The concept that one class can inherit traits from another class, much like you and your parents.\n",
    "\n",
    "- **composition** — The concept that a class can be composed of other classes as parts, much like how a car has wheels.\n",
    "\n",
    "- **attribute** — A property classes have that are from composition and are usually variables.\n",
    "\n",
    "- **is- a** — A phrase to say that something inherits from another, as in a “salmon” is- a “fi sh.”\n",
    "\n",
    "- **has- a** — A phrase to say that something is composed of other things or has a trait, as in “a salmon has- a mouth.”"
   ]
  },
  {
   "cell_type": "code",
   "execution_count": null,
   "metadata": {
    "collapsed": true
   },
   "outputs": [],
   "source": [
    "class Vehicles # “Make a class named Abc”\n",
    "class Cars(Vehicles) # A class called X which inherits properties from Abc\n",
    "\n",
    "# “class has- a __init__ that takes self and some more parameters.”\n",
    "class Cars: \n",
    "    def __init__(self,owner, model, make, year, engine) \n",
    "\n",
    "class Cars:\n",
    "    launchYear = 2017\n",
    "    def __init__(self, model, make, year, engine):\n",
    "        #...\n",
    "        #...\n",
    "    \n",
    "    def accelerate(a = 0):\n",
    "        a += 1\n",
    "        #...\n",
    "        #...\n",
    "    \n",
    "\n",
    "MyCar = Cars() # “Set foo to an instance of class X.”\n",
    "MyCar.accelerate(10)\n",
    "MyCar.launchYear = 2010"
   ]
  },
  {
   "cell_type": "code",
   "execution_count": null,
   "metadata": {
    "collapsed": true
   },
   "outputs": [],
   "source": [
    "# The destructuor\n",
    "class Cars:\n",
    "    showroom = \"The Only Showroom\" # Global Variable\n",
    "    # initialization\n",
    "    def __init__(self,Model,Make,Year,Owner,Color,Engine,AutoGear = False):\n",
    "        self.Model = Model\n",
    "        self.Make = Make\n",
    "        self.Year = Year\n",
    "        self.Owner = Owner\n",
    "        self.Color = Color\n",
    "        self.Engine = Engine\n",
    "        self.AutoGear = AutoGear\n",
    "    def __del__(self):\n",
    "        print(\"Destructor started\")\n",
    "        \n",
    "    def getNames():\n",
    "        MyName = \"xyz\"\n"
   ]
  },
  {
   "cell_type": "code",
   "execution_count": null,
   "metadata": {},
   "outputs": [],
   "source": [
    "myCar2 = Cars(Owner=\"Sunit\",Model=\"Koineigsegg\",Make=\"CCX\",Color=\"black\",Year=2011,AutoGear=True,Engine=\"5l V8 Turbo\")"
   ]
  },
  {
   "cell_type": "code",
   "execution_count": null,
   "metadata": {},
   "outputs": [],
   "source": [
    "del myCar2"
   ]
  },
  {
   "cell_type": "code",
   "execution_count": null,
   "metadata": {
    "collapsed": true
   },
   "outputs": [],
   "source": [
    "class Account(object):\n",
    "    def __init__(self, holder, number, balance,credit_line=1500): \n",
    "        self.Holder = holder \n",
    "        self.Number = number \n",
    "        self.Balance = balance\n",
    "        self.CreditLine = credit_line\n",
    "\n",
    "    def deposit(self, amount): \n",
    "        self.Balance = self.Balance + amount\n",
    "\n",
    "    def withdraw(self, amount): \n",
    "        if(self.Balance - amount < -self.CreditLine):\n",
    "            # coverage insufficient\n",
    "            return False  \n",
    "        else: \n",
    "            self.Balance -= amount \n",
    "            return True\n",
    "\n",
    "    def balance(self): \n",
    "        return self.Balance\n",
    "\n",
    "    def transfer(self, target, amount):\n",
    "\tif(self.Balance - amount < -self.CreditLine):\n",
    "            # coverage insufficient\n",
    "            return False  \n",
    "        else: \n",
    "            self.Balance -= amount \n",
    "            target.Balance += amount \n",
    "            return True"
   ]
  },
  {
   "cell_type": "code",
   "execution_count": null,
   "metadata": {},
   "outputs": [],
   "source": [
    "k = Account(\"Kumar\",345267,10009.78)\n"
   ]
  },
  {
   "cell_type": "code",
   "execution_count": null,
   "metadata": {},
   "outputs": [],
   "source": [
    "k.balance()"
   ]
  },
  {
   "cell_type": "code",
   "execution_count": null,
   "metadata": {
    "collapsed": true
   },
   "outputs": [],
   "source": [
    "k.deposit(1000)"
   ]
  },
  {
   "cell_type": "code",
   "execution_count": null,
   "metadata": {},
   "outputs": [],
   "source": [
    "k.balance()"
   ]
  },
  {
   "cell_type": "code",
   "execution_count": null,
   "metadata": {
    "collapsed": true
   },
   "outputs": [],
   "source": []
  },
  {
   "cell_type": "raw",
   "metadata": {},
   "source": [
    "\n",
    "Name    Notation                 Behaviour\n",
    "name\tPublic              Can be accessed from inside and outside\n",
    "_name\tProtected           Like a public member, but they shouldn't be directly \n",
    "                            accessed from outside.\n",
    "__name  Private             Can't be seen and accessed from outside"
   ]
  },
  {
   "cell_type": "code",
   "execution_count": 1,
   "metadata": {
    "collapsed": true
   },
   "outputs": [],
   "source": [
    "class DemoClass:\n",
    "    def __init__(self, a, b, c):\n",
    "        self.publicVar = a\n",
    "        self._protectedVar = b\n",
    "        self.__privateVar = c"
   ]
  },
  {
   "cell_type": "code",
   "execution_count": 2,
   "metadata": {
    "collapsed": true
   },
   "outputs": [],
   "source": [
    "obj1 = DemoClass(\"ExcelClass\",\"Python Class\",\"Python Text Mining Class\")"
   ]
  },
  {
   "cell_type": "code",
   "execution_count": 4,
   "metadata": {},
   "outputs": [
    {
     "data": {
      "text/plain": [
       "'ExcelClass'"
      ]
     },
     "execution_count": 4,
     "metadata": {},
     "output_type": "execute_result"
    }
   ],
   "source": [
    "obj1.publicVar"
   ]
  },
  {
   "cell_type": "code",
   "execution_count": 5,
   "metadata": {},
   "outputs": [
    {
     "data": {
      "text/plain": [
       "'Python Class'"
      ]
     },
     "execution_count": 5,
     "metadata": {},
     "output_type": "execute_result"
    }
   ],
   "source": [
    "obj1._protectedVar"
   ]
  },
  {
   "cell_type": "code",
   "execution_count": 6,
   "metadata": {},
   "outputs": [
    {
     "ename": "AttributeError",
     "evalue": "DemoClass instance has no attribute '__privateVar'",
     "output_type": "error",
     "traceback": [
      "\u001b[0;31m---------------------------------------------------------------------------\u001b[0m",
      "\u001b[0;31mAttributeError\u001b[0m                            Traceback (most recent call last)",
      "\u001b[0;32m<ipython-input-6-fb12003024fd>\u001b[0m in \u001b[0;36m<module>\u001b[0;34m()\u001b[0m\n\u001b[0;32m----> 1\u001b[0;31m \u001b[0mobj1\u001b[0m\u001b[1;33m.\u001b[0m\u001b[0m__privateVar\u001b[0m\u001b[1;33m\u001b[0m\u001b[0m\n\u001b[0m",
      "\u001b[0;31mAttributeError\u001b[0m: DemoClass instance has no attribute '__privateVar'"
     ]
    }
   ],
   "source": [
    "obj1.__privateVar"
   ]
  },
  {
   "cell_type": "code",
   "execution_count": null,
   "metadata": {
    "collapsed": true
   },
   "outputs": [],
   "source": [
    "len()\n",
    "dir()\n",
    "sum()\n"
   ]
  }
 ],
 "metadata": {
  "kernelspec": {
   "display_name": "Python 3",
   "language": "python",
   "name": "python3"
  },
  "language_info": {
   "codemirror_mode": {
    "name": "ipython",
    "version": 3
   },
   "file_extension": ".py",
   "mimetype": "text/x-python",
   "name": "python",
   "nbconvert_exporter": "python",
   "pygments_lexer": "ipython3",
   "version": "3.8.1"
  }
 },
 "nbformat": 4,
 "nbformat_minor": 2
}
