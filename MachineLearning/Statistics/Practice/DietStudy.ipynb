{
 "cells": [
  {
   "cell_type": "code",
   "execution_count": 1,
   "metadata": {},
   "outputs": [],
   "source": [
    "# #1. A physician is evaluating a new diet for her patients with a family history of heart disease. \n",
    "# To test the effectiveness of this diet, 16 patients are placed on the diet for 6 months. \n",
    "# Their weights and triglyceride levels are measured before and after the study, \n",
    "# and the physician wants to know if either set of measurements has changed."
   ]
  },
  {
   "cell_type": "code",
   "execution_count": 2,
   "metadata": {},
   "outputs": [],
   "source": [
    "import numpy as np\n",
    "import pandas as pd\n",
    "import scipy.stats as stats"
   ]
  },
  {
   "cell_type": "code",
   "execution_count": 3,
   "metadata": {},
   "outputs": [
    {
     "data": {
      "text/html": [
       "<div>\n",
       "<style scoped>\n",
       "    .dataframe tbody tr th:only-of-type {\n",
       "        vertical-align: middle;\n",
       "    }\n",
       "\n",
       "    .dataframe tbody tr th {\n",
       "        vertical-align: top;\n",
       "    }\n",
       "\n",
       "    .dataframe thead th {\n",
       "        text-align: right;\n",
       "    }\n",
       "</style>\n",
       "<table border=\"1\" class=\"dataframe\">\n",
       "  <thead>\n",
       "    <tr style=\"text-align: right;\">\n",
       "      <th></th>\n",
       "      <th>patid</th>\n",
       "      <th>age</th>\n",
       "      <th>gender</th>\n",
       "      <th>tg0</th>\n",
       "      <th>tg1</th>\n",
       "      <th>tg2</th>\n",
       "      <th>tg3</th>\n",
       "      <th>tg4</th>\n",
       "      <th>wgt0</th>\n",
       "      <th>wgt1</th>\n",
       "      <th>wgt2</th>\n",
       "      <th>wgt3</th>\n",
       "      <th>wgt4</th>\n",
       "    </tr>\n",
       "  </thead>\n",
       "  <tbody>\n",
       "    <tr>\n",
       "      <th>0</th>\n",
       "      <td>1</td>\n",
       "      <td>45</td>\n",
       "      <td>Male</td>\n",
       "      <td>180</td>\n",
       "      <td>148</td>\n",
       "      <td>106</td>\n",
       "      <td>113</td>\n",
       "      <td>100</td>\n",
       "      <td>198</td>\n",
       "      <td>196</td>\n",
       "      <td>193</td>\n",
       "      <td>188</td>\n",
       "      <td>192</td>\n",
       "    </tr>\n",
       "    <tr>\n",
       "      <th>1</th>\n",
       "      <td>2</td>\n",
       "      <td>56</td>\n",
       "      <td>Male</td>\n",
       "      <td>139</td>\n",
       "      <td>94</td>\n",
       "      <td>119</td>\n",
       "      <td>75</td>\n",
       "      <td>92</td>\n",
       "      <td>237</td>\n",
       "      <td>233</td>\n",
       "      <td>232</td>\n",
       "      <td>228</td>\n",
       "      <td>225</td>\n",
       "    </tr>\n",
       "    <tr>\n",
       "      <th>2</th>\n",
       "      <td>3</td>\n",
       "      <td>50</td>\n",
       "      <td>Male</td>\n",
       "      <td>152</td>\n",
       "      <td>185</td>\n",
       "      <td>86</td>\n",
       "      <td>149</td>\n",
       "      <td>118</td>\n",
       "      <td>233</td>\n",
       "      <td>231</td>\n",
       "      <td>229</td>\n",
       "      <td>228</td>\n",
       "      <td>226</td>\n",
       "    </tr>\n",
       "    <tr>\n",
       "      <th>3</th>\n",
       "      <td>4</td>\n",
       "      <td>46</td>\n",
       "      <td>Female</td>\n",
       "      <td>112</td>\n",
       "      <td>145</td>\n",
       "      <td>136</td>\n",
       "      <td>149</td>\n",
       "      <td>82</td>\n",
       "      <td>179</td>\n",
       "      <td>181</td>\n",
       "      <td>177</td>\n",
       "      <td>174</td>\n",
       "      <td>172</td>\n",
       "    </tr>\n",
       "    <tr>\n",
       "      <th>4</th>\n",
       "      <td>5</td>\n",
       "      <td>64</td>\n",
       "      <td>Male</td>\n",
       "      <td>156</td>\n",
       "      <td>104</td>\n",
       "      <td>157</td>\n",
       "      <td>79</td>\n",
       "      <td>97</td>\n",
       "      <td>219</td>\n",
       "      <td>217</td>\n",
       "      <td>215</td>\n",
       "      <td>213</td>\n",
       "      <td>214</td>\n",
       "    </tr>\n",
       "  </tbody>\n",
       "</table>\n",
       "</div>"
      ],
      "text/plain": [
       "   patid  age  gender  tg0  tg1  tg2  tg3  tg4  wgt0  wgt1  wgt2  wgt3  wgt4\n",
       "0      1   45    Male  180  148  106  113  100   198   196   193   188   192\n",
       "1      2   56    Male  139   94  119   75   92   237   233   232   228   225\n",
       "2      3   50    Male  152  185   86  149  118   233   231   229   228   226\n",
       "3      4   46  Female  112  145  136  149   82   179   181   177   174   172\n",
       "4      5   64    Male  156  104  157   79   97   219   217   215   213   214"
      ]
     },
     "metadata": {},
     "output_type": "display_data"
    }
   ],
   "source": [
    "dietDF = pd.read_csv(\"dietstudy.csv\")\n",
    "display(dietDF.head())"
   ]
  },
  {
   "cell_type": "code",
   "execution_count": 4,
   "metadata": {},
   "outputs": [],
   "source": [
    "##Step 1: Checking if sample truly represents the population or not::\n",
    "#Yes\n",
    "\n",
    "\n",
    "##Step 2: Defining Null & Alt Hypothesis::\n",
    "#Null hypothesis: There is no difference in the levels of Triglycerides and weight of individual after using new diet \n",
    "#for 6 months. i.e.,  “the difference in the mean values is zero”\n",
    "\n",
    "#Alt hypothesis: There has been a significant difference in the levels of Triglycerides and weight of individual after \n",
    "#using new diet for 6 months.\n",
    "\n",
    "\n",
    "##Step 3: Will decide what test to be done, based on the data::\n",
    "#A paired sample t-test is used to determine whether there is a significant difference between the average values of the \n",
    "# same measurement made under two different conditions."
   ]
  },
  {
   "cell_type": "code",
   "execution_count": 5,
   "metadata": {},
   "outputs": [
    {
     "name": "stdout",
     "output_type": "stream",
     "text": [
      "Test for -- triglyceride levels...\n",
      "Ttest_relResult(statistic=-1.2000008533342437, pvalue=0.24874946576903698)\n"
     ]
    }
   ],
   "source": [
    "##Step 4: Will calculate the test statistic – it will be the Program Output::\n",
    "#triglyceride levels\n",
    "\n",
    "print('Test for -- triglyceride levels...')\n",
    "triglyceride = stats.ttest_rel(a=dietDF.tg4, b = dietDF.tg0)\n",
    "print(triglyceride)"
   ]
  },
  {
   "cell_type": "code",
   "execution_count": 6,
   "metadata": {},
   "outputs": [
    {
     "name": "stdout",
     "output_type": "stream",
     "text": [
      "The average triglyceride level of the customers at the start of the test is 138.4375\n",
      "The average triglyceride level of the customers at the end of the test is 124.375\n"
     ]
    }
   ],
   "source": [
    "print(\"The average triglyceride level of the customers at the start of the test is {}\".format(dietDF.tg0.mean()))\n",
    "print(\"The average triglyceride level of the customers at the end of the test is {}\".format(dietDF.tg4.mean()))"
   ]
  },
  {
   "cell_type": "code",
   "execution_count": 7,
   "metadata": {},
   "outputs": [
    {
     "name": "stdout",
     "output_type": "stream",
     "text": [
      "True\n",
      "Conclusion: Since the p value fails to REJECT H0, will conclude that a==b, hence no effect of new diet.\n"
     ]
    }
   ],
   "source": [
    "##Step 5: Final conclusion based on p-value::\n",
    "#Conclusion - triglyceride ::\n",
    "# Across all 16 subjects, triglyceride levels dropped between 14 and 15 points on average after 6 months of the new diet.\n",
    "#The significance value greater than 0.05 for change in triglyceride level shows the diet did not significantly \n",
    "#reduce their triglyceride levels.\n",
    "\n",
    "print(triglyceride.pvalue > 0.05)\n",
    "print('Conclusion: Since the p value fails to REJECT H0, will conclude that a==b, hence no effect of new diet.')"
   ]
  },
  {
   "cell_type": "code",
   "execution_count": 12,
   "metadata": {},
   "outputs": [
    {
     "data": {
      "text/plain": [
       "28.11798523632161"
      ]
     },
     "execution_count": 12,
     "metadata": {},
     "output_type": "execute_result"
    }
   ],
   "source": [
    "np.std(dietDF.tg0)"
   ]
  },
  {
   "cell_type": "code",
   "execution_count": 8,
   "metadata": {},
   "outputs": [],
   "source": [
    "##Weights...."
   ]
  },
  {
   "cell_type": "code",
   "execution_count": 9,
   "metadata": {},
   "outputs": [
    {
     "name": "stdout",
     "output_type": "stream",
     "text": [
      "Test for -- Weights...\n",
      "Ttest_relResult(statistic=-11.174521688532522, pvalue=1.137689414996614e-08)\n"
     ]
    }
   ],
   "source": [
    "print('Test for -- Weights...')\n",
    "weight = stats.ttest_rel(a=dietDF.wgt4, b = dietDF.wgt0)\n",
    "print(weight)"
   ]
  },
  {
   "cell_type": "code",
   "execution_count": 10,
   "metadata": {},
   "outputs": [
    {
     "name": "stdout",
     "output_type": "stream",
     "text": [
      "The average weight of the customers at the start of the test: 198.375\n",
      "The average weight of the customers at the end of the test: 190.3125\n"
     ]
    }
   ],
   "source": [
    "print(\"The average weight of the customers at the start of the test: {}\".format(dietDF.wgt0.mean()))\n",
    "print(\"The average weight of the customers at the end of the test: {}\".format(dietDF.wgt4.mean()))"
   ]
  },
  {
   "cell_type": "code",
   "execution_count": 11,
   "metadata": {},
   "outputs": [
    {
     "name": "stdout",
     "output_type": "stream",
     "text": [
      "False\n",
      "Conclusion: Since the p value supports the evidence of rejecting H0, will conclude that a>b, hence     had a good effect of new diet.\n"
     ]
    }
   ],
   "source": [
    "##Step 5: Final conclusion based on p-value::\n",
    "#Conclusion - Weight::\n",
    "# The subjects clearly lost weight over the course of the study; on average, about 8 units.\n",
    "#Since the significance value for change in weight is less than 0.05, we can conclude that the average loss \n",
    "#of 8.06 units per patient is not due to chance variation, and can be attributed to the diet.\n",
    "\n",
    "print(weight.pvalue > 0.05)\n",
    "print('Conclusion: Since the p value supports the evidence of rejecting H0, will conclude that a>b, hence \\\n",
    "    had a good effect of new diet.')"
   ]
  },
  {
   "cell_type": "code",
   "execution_count": null,
   "metadata": {},
   "outputs": [],
   "source": []
  }
 ],
 "metadata": {
  "kernelspec": {
   "display_name": "Python 3",
   "language": "python",
   "name": "python3"
  },
  "language_info": {
   "codemirror_mode": {
    "name": "ipython",
    "version": 3
   },
   "file_extension": ".py",
   "mimetype": "text/x-python",
   "name": "python",
   "nbconvert_exporter": "python",
   "pygments_lexer": "ipython3",
   "version": "3.8.5"
  }
 },
 "nbformat": 4,
 "nbformat_minor": 4
}
