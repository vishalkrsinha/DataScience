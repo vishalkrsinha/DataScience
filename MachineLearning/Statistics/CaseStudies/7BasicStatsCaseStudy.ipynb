{
 "cells": [
  {
   "cell_type": "code",
   "execution_count": 9,
   "metadata": {},
   "outputs": [
    {
     "data": {
      "text/html": [
       "<div>\n",
       "<style scoped>\n",
       "    .dataframe tbody tr th:only-of-type {\n",
       "        vertical-align: middle;\n",
       "    }\n",
       "\n",
       "    .dataframe tbody tr th {\n",
       "        vertical-align: top;\n",
       "    }\n",
       "\n",
       "    .dataframe thead th {\n",
       "        text-align: right;\n",
       "    }\n",
       "</style>\n",
       "<table border=\"1\" class=\"dataframe\">\n",
       "  <thead>\n",
       "    <tr style=\"text-align: right;\">\n",
       "      <th></th>\n",
       "      <th>patid</th>\n",
       "      <th>age</th>\n",
       "      <th>gender</th>\n",
       "      <th>tg0</th>\n",
       "      <th>tg1</th>\n",
       "      <th>tg2</th>\n",
       "      <th>tg3</th>\n",
       "      <th>tg4</th>\n",
       "      <th>wgt0</th>\n",
       "      <th>wgt1</th>\n",
       "      <th>wgt2</th>\n",
       "      <th>wgt3</th>\n",
       "      <th>wgt4</th>\n",
       "    </tr>\n",
       "  </thead>\n",
       "  <tbody>\n",
       "    <tr>\n",
       "      <th>0</th>\n",
       "      <td>1</td>\n",
       "      <td>45</td>\n",
       "      <td>Male</td>\n",
       "      <td>180</td>\n",
       "      <td>148</td>\n",
       "      <td>106</td>\n",
       "      <td>113</td>\n",
       "      <td>100</td>\n",
       "      <td>198</td>\n",
       "      <td>196</td>\n",
       "      <td>193</td>\n",
       "      <td>188</td>\n",
       "      <td>192</td>\n",
       "    </tr>\n",
       "    <tr>\n",
       "      <th>1</th>\n",
       "      <td>2</td>\n",
       "      <td>56</td>\n",
       "      <td>Male</td>\n",
       "      <td>139</td>\n",
       "      <td>94</td>\n",
       "      <td>119</td>\n",
       "      <td>75</td>\n",
       "      <td>92</td>\n",
       "      <td>237</td>\n",
       "      <td>233</td>\n",
       "      <td>232</td>\n",
       "      <td>228</td>\n",
       "      <td>225</td>\n",
       "    </tr>\n",
       "    <tr>\n",
       "      <th>2</th>\n",
       "      <td>3</td>\n",
       "      <td>50</td>\n",
       "      <td>Male</td>\n",
       "      <td>152</td>\n",
       "      <td>185</td>\n",
       "      <td>86</td>\n",
       "      <td>149</td>\n",
       "      <td>118</td>\n",
       "      <td>233</td>\n",
       "      <td>231</td>\n",
       "      <td>229</td>\n",
       "      <td>228</td>\n",
       "      <td>226</td>\n",
       "    </tr>\n",
       "    <tr>\n",
       "      <th>3</th>\n",
       "      <td>4</td>\n",
       "      <td>46</td>\n",
       "      <td>Female</td>\n",
       "      <td>112</td>\n",
       "      <td>145</td>\n",
       "      <td>136</td>\n",
       "      <td>149</td>\n",
       "      <td>82</td>\n",
       "      <td>179</td>\n",
       "      <td>181</td>\n",
       "      <td>177</td>\n",
       "      <td>174</td>\n",
       "      <td>172</td>\n",
       "    </tr>\n",
       "    <tr>\n",
       "      <th>4</th>\n",
       "      <td>5</td>\n",
       "      <td>64</td>\n",
       "      <td>Male</td>\n",
       "      <td>156</td>\n",
       "      <td>104</td>\n",
       "      <td>157</td>\n",
       "      <td>79</td>\n",
       "      <td>97</td>\n",
       "      <td>219</td>\n",
       "      <td>217</td>\n",
       "      <td>215</td>\n",
       "      <td>213</td>\n",
       "      <td>214</td>\n",
       "    </tr>\n",
       "  </tbody>\n",
       "</table>\n",
       "</div>"
      ],
      "text/plain": [
       "   patid  age  gender  tg0  tg1  tg2  tg3  tg4  wgt0  wgt1  wgt2  wgt3  wgt4\n",
       "0      1   45    Male  180  148  106  113  100   198   196   193   188   192\n",
       "1      2   56    Male  139   94  119   75   92   237   233   232   228   225\n",
       "2      3   50    Male  152  185   86  149  118   233   231   229   228   226\n",
       "3      4   46  Female  112  145  136  149   82   179   181   177   174   172\n",
       "4      5   64    Male  156  104  157   79   97   219   217   215   213   214"
      ]
     },
     "metadata": {},
     "output_type": "display_data"
    },
    {
     "data": {
      "text/plain": [
       "'Test for -- triglyceride levels...'"
      ]
     },
     "metadata": {},
     "output_type": "display_data"
    },
    {
     "data": {
      "text/plain": [
       "Ttest_relResult(statistic=-1.2000008533342437, pvalue=0.24874946576903698)"
      ]
     },
     "metadata": {},
     "output_type": "display_data"
    },
    {
     "data": {
      "text/plain": [
       "True"
      ]
     },
     "metadata": {},
     "output_type": "display_data"
    },
    {
     "name": "stdout",
     "output_type": "stream",
     "text": [
      "The average triglyceride level of the customers at the start of the test is $138.4375\n",
      "The average triglyceride level of the customers at the end of the test is $124.375\n",
      "Conclusion: Since the p value fails to REJECT H0, will conclude that a==b, hence the campaign had no effect of       new diet.\n"
     ]
    },
    {
     "data": {
      "text/plain": [
       "'Test for -- Weights...'"
      ]
     },
     "metadata": {},
     "output_type": "display_data"
    },
    {
     "data": {
      "text/plain": [
       "Ttest_relResult(statistic=-11.174521688532522, pvalue=1.137689414996614e-08)"
      ]
     },
     "metadata": {},
     "output_type": "display_data"
    },
    {
     "data": {
      "text/plain": [
       "False"
      ]
     },
     "metadata": {},
     "output_type": "display_data"
    },
    {
     "name": "stdout",
     "output_type": "stream",
     "text": [
      "The average weight of the customers at the start of the test $198.375\n",
      "The average weight of the customers at the end of the test $190.3125\n",
      "Since the p value supports the evidence of rejecting H0, will conclude that a>b, hence the campaign     had a good effect of new diet.\n"
     ]
    }
   ],
   "source": [
    "# #1. A physician is evaluating a new diet for her patients with a family history of heart disease. \n",
    "# To test the effectiveness of this diet, 16 patients are placed on the diet for 6 months. \n",
    "# Their weights and triglyceride levels are measured before and after the study, \n",
    "# and the physician wants to know if either set of measurements has changed.\n",
    "\n",
    "import numpy as np\n",
    "import pandas as pd\n",
    "import scipy.stats as stats\n",
    "\n",
    "dietDF = pd.read_csv(\"dietstudy.csv\")\n",
    "display(dietDF.head())\n",
    "\n",
    "##Step 1: Checking if sample truly represents the population or not::\n",
    "#Yes\n",
    "\n",
    "\n",
    "##Step 2: Defining Null & Alt Hypothesis::\n",
    "#Null hypothesis: There is no difference in the levels of Triglycerides and weight of individual after using new diet \n",
    "#for 6 months. i.e.,  “the difference in the mean values is zero”\n",
    "\n",
    "#Alt hypothesis: There is has been a significant difference in the levels of Triglycerides and weight of individual after \n",
    "#using new diet for 6 months.\n",
    "\n",
    "\n",
    "##Step 3: Will decide what test to be done, based on the data::\n",
    "#A paired sample t-test is used to determine whether there is a significant difference between the average values of the \n",
    "# same measurement made under two different conditions.\n",
    "\n",
    "\n",
    "##Step 4: Will calculate the test statistic – it will be the Program Output::\n",
    "#triglyceride levels\n",
    "display('Test for -- triglyceride levels...')\n",
    "triglyceride = stats.ttest_rel(a=dietDF.tg4, b = dietDF.tg0)\n",
    "display(triglyceride)\n",
    "print(\"The average triglyceride level of the customers at the start of the test is ${}\".format(dietDF.tg0.mean()))\n",
    "print(\"The average triglyceride level of the customers at the end of the test is ${}\".format(dietDF.tg4.mean()))\n",
    "\n",
    "\n",
    "##Step 5: Final conclusion based on p-value::\n",
    "#Conclusion - triglyceride ::\n",
    "# Across all 16 subjects, triglyceride levels dropped between 14 and 15 points on average after 6 months of the new diet.\n",
    "#The significance value greater than 0.05 for change in triglyceride level shows the diet did not significantly \n",
    "#reduce their triglyceride levels.\n",
    "display(triglyceride.pvalue > 0.05)\n",
    "print('Conclusion: Since the p value fails to REJECT H0, will conclude that a==b, hence no effect of new diet.')\n",
    "\n",
    "###################################################################################################################\n",
    "\n",
    "##Weights....\n",
    "display('Test for -- Weights...')\n",
    "weight = stats.ttest_rel(a=dietDF.wgt4, b = dietDF.wgt0)\n",
    "display(weight)\n",
    "print(\"The average weight of the customers at the start of the test ${}\".format(dietDF.wgt0.mean()))\n",
    "print(\"The average weight of the customers at the end of the test ${}\".format(dietDF.wgt4.mean()))\n",
    "\n",
    "\n",
    "##Step 5: Final conclusion based on p-value::\n",
    "#Conclusion - Weight::\n",
    "# The subjects clearly lost weight over the course of the study; on average, about 8 units.\n",
    "#Since the significance value for change in weight is less than 0.05, we can conclude that the average loss \n",
    "#of 8.06 units per patient is not due to chance variation, and can be attributed to the diet.\n",
    "display(weight.pvalue > 0.05)\n",
    "print('Conclusion: Since the p value supports the evidence of rejecting H0, will conclude that a>b, hence \\\n",
    "    had a good effect of new diet.')\n"
   ]
  },
  {
   "cell_type": "code",
   "execution_count": 11,
   "metadata": {},
   "outputs": [
    {
     "data": {
      "text/html": [
       "<div>\n",
       "<style scoped>\n",
       "    .dataframe tbody tr th:only-of-type {\n",
       "        vertical-align: middle;\n",
       "    }\n",
       "\n",
       "    .dataframe tbody tr th {\n",
       "        vertical-align: top;\n",
       "    }\n",
       "\n",
       "    .dataframe thead th {\n",
       "        text-align: right;\n",
       "    }\n",
       "</style>\n",
       "<table border=\"1\" class=\"dataframe\">\n",
       "  <thead>\n",
       "    <tr style=\"text-align: right;\">\n",
       "      <th></th>\n",
       "      <th>id</th>\n",
       "      <th>insert</th>\n",
       "      <th>dollars</th>\n",
       "    </tr>\n",
       "  </thead>\n",
       "  <tbody>\n",
       "    <tr>\n",
       "      <th>0</th>\n",
       "      <td>148</td>\n",
       "      <td>Standard</td>\n",
       "      <td>2232.771979</td>\n",
       "    </tr>\n",
       "    <tr>\n",
       "      <th>1</th>\n",
       "      <td>572</td>\n",
       "      <td>New Promotion</td>\n",
       "      <td>1403.807542</td>\n",
       "    </tr>\n",
       "    <tr>\n",
       "      <th>2</th>\n",
       "      <td>973</td>\n",
       "      <td>Standard</td>\n",
       "      <td>2327.092181</td>\n",
       "    </tr>\n",
       "    <tr>\n",
       "      <th>3</th>\n",
       "      <td>1096</td>\n",
       "      <td>Standard</td>\n",
       "      <td>1280.030541</td>\n",
       "    </tr>\n",
       "    <tr>\n",
       "      <th>4</th>\n",
       "      <td>1541</td>\n",
       "      <td>New Promotion</td>\n",
       "      <td>1513.563200</td>\n",
       "    </tr>\n",
       "  </tbody>\n",
       "</table>\n",
       "</div>"
      ],
      "text/plain": [
       "     id         insert      dollars\n",
       "0   148       Standard  2232.771979\n",
       "1   572  New Promotion  1403.807542\n",
       "2   973       Standard  2327.092181\n",
       "3  1096       Standard  1280.030541\n",
       "4  1541  New Promotion  1513.563200"
      ]
     },
     "metadata": {},
     "output_type": "display_data"
    },
    {
     "name": "stdout",
     "output_type": "stream",
     "text": [
      "The average spent for std_promo $id         69003.000000\n",
      "dollars     1566.389031\n",
      "dtype: float64\n",
      "The average spent for new_promo $id         64998.244000\n",
      "dollars     1637.499983\n",
      "dtype: float64\n"
     ]
    },
    {
     "data": {
      "text/plain": [
       "-2.260422726464996"
      ]
     },
     "metadata": {},
     "output_type": "display_data"
    },
    {
     "data": {
      "text/plain": [
       "0.024226348191648997"
      ]
     },
     "metadata": {},
     "output_type": "display_data"
    },
    {
     "data": {
      "text/plain": [
       "-2.2604227264649963"
      ]
     },
     "metadata": {},
     "output_type": "display_data"
    },
    {
     "data": {
      "text/plain": [
       "0.024225996894147814"
      ]
     },
     "metadata": {},
     "output_type": "display_data"
    },
    {
     "data": {
      "text/plain": [
       "False"
      ]
     },
     "metadata": {},
     "output_type": "display_data"
    },
    {
     "name": "stdout",
     "output_type": "stream",
     "text": [
      "Since the p value supports the evidence of rejecting H0, will conclude that a>b, hence the campaign     had a good effect of new diet.\n"
     ]
    }
   ],
   "source": [
    "##2. An analyst at a department store wants to evaluate a recent credit card promotion. To this end, \n",
    "# 500 cardholders were randomly selected. Half received an ad promoting a reduced interest rate on purchases \n",
    "# made over the next three months, and half received a standard seasonal ad. Is the promotion effective to increase sales?\n",
    "\n",
    "creditDF = pd.read_csv(\"creditpromo.csv\")\n",
    "display(creditDF.head())\n",
    "\n",
    "##Step 1: Checking if sample truly represents the population or not::\n",
    "#Yes\n",
    "\n",
    "\n",
    "##Step 2: Defining Null & Alt Hypothesis::\n",
    "#Null hypothesis: There is no difference in ad promotion.\n",
    "#Alt hypothesis: There is has been a significant difference in ad promotion.\n",
    "\n",
    "\n",
    "##Step 3: Will decide what test to be done, based on the data::\n",
    "#The independent two-sample t-test is used to test whether population means are significantly different from each other.\n",
    "#Independent samples are randomly drawn using the means.\n",
    "\n",
    "\n",
    "##Step 4: Will calculate the test statistic – it will be the Program Output::\n",
    "std_promo = creditDF[(creditDF['insert'] == 'Standard')]\n",
    "new_promo = creditDF[(creditDF['insert'] == 'New Promotion')]\n",
    "\n",
    "print(\"The average spent for std_promo ${}\".format(std_promo.mean()))\n",
    "print(\"The average spent for new_promo ${}\".format(new_promo.mean()))\n",
    "\n",
    "uneq_var = stats.ttest_ind(a = std_promo.dollars, b= new_promo.dollars, equal_var=False)  #Different variance\n",
    "display(uneq_var.statistic)\n",
    "display(uneq_var.pvalue)\n",
    "\n",
    "eq_var = stats.ttest_ind(a = std_promo.dollars, b= new_promo.dollars, equal_var=True)  #Equal variance\n",
    "display(eq_var.statistic)\n",
    "display(eq_var.pvalue)\n",
    "\n",
    "##Step 5: Final conclusion based on p-value::\n",
    "##Conclusion ::\n",
    "display(eq_var.pvalue > 0.05)\n",
    "print('Conclusion: Since the p value supports the evidence of rejecting H0, will conclude that std_promo != new_promo. \\\n",
    "    Yes, there is a significant effect of new_promo.')"
   ]
  },
  {
   "cell_type": "code",
   "execution_count": 13,
   "metadata": {},
   "outputs": [
    {
     "data": {
      "text/html": [
       "<div>\n",
       "<style scoped>\n",
       "    .dataframe tbody tr th:only-of-type {\n",
       "        vertical-align: middle;\n",
       "    }\n",
       "\n",
       "    .dataframe tbody tr th {\n",
       "        vertical-align: top;\n",
       "    }\n",
       "\n",
       "    .dataframe thead th {\n",
       "        text-align: right;\n",
       "    }\n",
       "</style>\n",
       "<table border=\"1\" class=\"dataframe\">\n",
       "  <thead>\n",
       "    <tr style=\"text-align: right;\">\n",
       "      <th></th>\n",
       "      <th>Group</th>\n",
       "      <th>Fruit_Wt</th>\n",
       "      <th>Seed_Yield_Plant</th>\n",
       "      <th>Seedling_length</th>\n",
       "    </tr>\n",
       "  </thead>\n",
       "  <tbody>\n",
       "    <tr>\n",
       "      <th>0</th>\n",
       "      <td>Natural</td>\n",
       "      <td>1.85</td>\n",
       "      <td>147.70</td>\n",
       "      <td>16.86</td>\n",
       "    </tr>\n",
       "    <tr>\n",
       "      <th>1</th>\n",
       "      <td>Natural</td>\n",
       "      <td>1.86</td>\n",
       "      <td>136.86</td>\n",
       "      <td>16.77</td>\n",
       "    </tr>\n",
       "    <tr>\n",
       "      <th>2</th>\n",
       "      <td>Natural</td>\n",
       "      <td>1.83</td>\n",
       "      <td>149.97</td>\n",
       "      <td>16.35</td>\n",
       "    </tr>\n",
       "    <tr>\n",
       "      <th>3</th>\n",
       "      <td>Natural</td>\n",
       "      <td>1.89</td>\n",
       "      <td>172.33</td>\n",
       "      <td>18.26</td>\n",
       "    </tr>\n",
       "    <tr>\n",
       "      <th>4</th>\n",
       "      <td>Natural</td>\n",
       "      <td>1.80</td>\n",
       "      <td>144.46</td>\n",
       "      <td>17.90</td>\n",
       "    </tr>\n",
       "  </tbody>\n",
       "</table>\n",
       "</div>"
      ],
      "text/plain": [
       "     Group  Fruit_Wt  Seed_Yield_Plant  Seedling_length\n",
       "0  Natural      1.85            147.70            16.86\n",
       "1  Natural      1.86            136.86            16.77\n",
       "2  Natural      1.83            149.97            16.35\n",
       "3  Natural      1.89            172.33            18.26\n",
       "4  Natural      1.80            144.46            17.90"
      ]
     },
     "metadata": {},
     "output_type": "display_data"
    },
    {
     "name": "stdout",
     "output_type": "stream",
     "text": [
      "The overall population of Seed yield/plant: 180.8035\n",
      "The average of natural_promo: Fruit_Wt              1.848\n",
      "Seed_Yield_Plant    146.009\n",
      "Seedling_length      17.707\n",
      "dtype: float64\n",
      "The average of hand_promo: Fruit_Wt              2.566\n",
      "Seed_Yield_Plant    215.598\n",
      "Seedling_length      18.590\n",
      "dtype: float64\n"
     ]
    },
    {
     "data": {
      "text/plain": [
       "-17.669989614440286"
      ]
     },
     "metadata": {},
     "output_type": "display_data"
    },
    {
     "data": {
      "text/plain": [
       "-17.669989614440286"
      ]
     },
     "metadata": {},
     "output_type": "display_data"
    },
    {
     "name": "stdout",
     "output_type": "stream",
     "text": [
      "p-value of Fruit_Wt: 8.078362076486221e-13\n"
     ]
    },
    {
     "data": {
      "text/plain": [
       "-13.958260515902547"
      ]
     },
     "metadata": {},
     "output_type": "display_data"
    },
    {
     "data": {
      "text/plain": [
       "-13.958260515902547"
      ]
     },
     "metadata": {},
     "output_type": "display_data"
    },
    {
     "name": "stdout",
     "output_type": "stream",
     "text": [
      "p-value of Seed_Yield_Plant: 4.271481585484385e-11\n"
     ]
    },
    {
     "data": {
      "text/plain": [
       "-2.542229999657055"
      ]
     },
     "metadata": {},
     "output_type": "display_data"
    },
    {
     "data": {
      "text/plain": [
       "-2.542229999657055"
      ]
     },
     "metadata": {},
     "output_type": "display_data"
    },
    {
     "name": "stdout",
     "output_type": "stream",
     "text": [
      "p-value of Seedling_length: 0.020428817064110226\n",
      "a. The overall population of Seed yield/plant: 180.8035 < 200\n"
     ]
    },
    {
     "data": {
      "text/plain": [
       "False"
      ]
     },
     "metadata": {},
     "output_type": "display_data"
    },
    {
     "name": "stdout",
     "output_type": "stream",
     "text": [
      "b. Since the p value supports the evidence of rejecting H0, will conclude that     Natural Seed_Yield_Plant == Hand Seed_Yield_Plant. No significant difference.\n"
     ]
    },
    {
     "data": {
      "text/plain": [
       "False"
      ]
     },
     "metadata": {},
     "output_type": "display_data"
    },
    {
     "name": "stdout",
     "output_type": "stream",
     "text": [
      "b. Since the p value supports the evidence of rejecting H0, will conclude that     Natural Seedling_length == Hand Seedling_length. No significant difference.\n"
     ]
    }
   ],
   "source": [
    "# #3. An experiment is conducted to study the hybrid seed production of bottle gourd under open field conditions. \n",
    "# The main aim of the investigation is to compare natural pollination and hand pollination. \n",
    "# The data are collected on 10 randomly selected plants from each of natural pollination and hand pollination. \n",
    "# The data are collected on fruit weight (kg), seed yield/plant (g) and seedling length (cm). (Data set: pollination.csv)\n",
    "# a. Is the overall population of Seed yield/plant (g) equals to 200?\n",
    "# b. Test whether the natural pollination and hand pollination under open field conditions are equally effective or are \n",
    "# significantly different.\n",
    "\n",
    "pollinationDF = pd.read_csv(\"pollination.csv\")\n",
    "display(pollinationDF.head())\n",
    "\n",
    "##Step 1: Checking if sample truly represents the population or not::\n",
    "#Yes\n",
    "\n",
    "\n",
    "##Step 2: Defining Null & Alt Hypothesis::\n",
    "#Null hypothesis: There is no significance of production under open field conditions.\n",
    "#Alt hypothesis: There is a significance of production under open field conditions.\n",
    "\n",
    "\n",
    "##Step 3: Will decide what test to be done, based on the data::\n",
    "#The independent two-sample t-test is used to test whether population means are significantly different from each other.\n",
    "#Independent samples are randomly drawn using the means.\n",
    "\n",
    "\n",
    "##Step 4: Will calculate the test statistic – it will be the Program Output::\n",
    "print(\"The overall population of Seed yield/plant: {}\".format(pollinationDF.Seed_Yield_Plant.mean()))\n",
    "\n",
    "natural_promo = pollinationDF[(pollinationDF['Group'] == 'Natural')]\n",
    "hand_promo = pollinationDF[(pollinationDF['Group'] == 'Hand')]\n",
    "\n",
    "print(\"The average of natural_promo: {}\".format(natural_promo.mean()))\n",
    "print(\"The average of hand_promo: {}\".format(hand_promo.mean()))\n",
    "\n",
    "uneq_var_Fruit_Wt = stats.ttest_ind(a = natural_promo.Fruit_Wt, b= hand_promo.Fruit_Wt, equal_var=False)  #Different variance\n",
    "display(uneq_var_Fruit_Wt.statistic)\n",
    "\n",
    "eq_var_Fruit_Wt = stats.ttest_ind(a = natural_promo.Fruit_Wt, b= hand_promo.Fruit_Wt, equal_var=True)  #Equal variance\n",
    "display(eq_var_Fruit_Wt.statistic)\n",
    "print(\"p-value of Fruit_Wt: {}\".format(eq_var_Fruit_Wt.pvalue))\n",
    "\n",
    "\n",
    "uneq_var_Seed_Yield_Plant = stats.ttest_ind(a = natural_promo.Seed_Yield_Plant, b= hand_promo.Seed_Yield_Plant, equal_var=False)  #Different variance\n",
    "display(uneq_var_Seed_Yield_Plant.statistic)\n",
    "\n",
    "eq_var_Seed_Yield_Plant= stats.ttest_ind(a = natural_promo.Seed_Yield_Plant, b= hand_promo.Seed_Yield_Plant, equal_var=True)  #Equal variance\n",
    "display(eq_var_Seed_Yield_Plant.statistic)\n",
    "print(\"p-value of Seed_Yield_Plant: {}\".format(eq_var_Seed_Yield_Plant.pvalue))\n",
    "\n",
    "uneq_var_Seedling_length = stats.ttest_ind(a = natural_promo.Seedling_length, b= hand_promo.Seedling_length, equal_var=False)  #Different variance\n",
    "display(uneq_var_Seedling_length.statistic)\n",
    "\n",
    "eq_var_Seedling_length = stats.ttest_ind(a = natural_promo.Seedling_length, b= hand_promo.Seedling_length, equal_var=True)  #Equal variance\n",
    "display(eq_var_Seedling_length.statistic)\n",
    "print(\"p-value of Seedling_length: {}\".format(eq_var_Seedling_length.pvalue))\n",
    "\n",
    "\n",
    "##Step 5: Final conclusion based on p-value::\n",
    "#Conclusion::\n",
    "print('a. The overall population of Seed yield/plant: 180.8035 < 200')\n",
    "display(eq_var_Fruit_Wt.pvalue > 0.05)\n",
    "print('b.Conclusion: Since the p value supports the evidence of rejecting H0, will conclude that \\\n",
    "    Natural Seed_Yield_Plant == Hand Seed_Yield_Plant. No significant difference.')\n",
    "\n",
    "display(eq_var_Seedling_length.pvalue > 0.05)\n",
    "print('b.Conclusion: Since the p value supports the evidence of rejecting H0, will conclude that \\\n",
    "    Natural Seedling_length == Hand Seedling_length. No significant difference.')"
   ]
  },
  {
   "cell_type": "code",
   "execution_count": 17,
   "metadata": {},
   "outputs": [
    {
     "data": {
      "text/html": [
       "<div>\n",
       "<style scoped>\n",
       "    .dataframe tbody tr th:only-of-type {\n",
       "        vertical-align: middle;\n",
       "    }\n",
       "\n",
       "    .dataframe tbody tr th {\n",
       "        vertical-align: top;\n",
       "    }\n",
       "\n",
       "    .dataframe thead th {\n",
       "        text-align: right;\n",
       "    }\n",
       "</style>\n",
       "<table border=\"1\" class=\"dataframe\">\n",
       "  <thead>\n",
       "    <tr style=\"text-align: right;\">\n",
       "      <th></th>\n",
       "      <th>agegroup</th>\n",
       "      <th>dvdscore</th>\n",
       "    </tr>\n",
       "  </thead>\n",
       "  <tbody>\n",
       "    <tr>\n",
       "      <th>0</th>\n",
       "      <td>65 and over</td>\n",
       "      <td>38.454803</td>\n",
       "    </tr>\n",
       "    <tr>\n",
       "      <th>1</th>\n",
       "      <td>55-64</td>\n",
       "      <td>17.669677</td>\n",
       "    </tr>\n",
       "    <tr>\n",
       "      <th>2</th>\n",
       "      <td>65 and over</td>\n",
       "      <td>31.704307</td>\n",
       "    </tr>\n",
       "    <tr>\n",
       "      <th>3</th>\n",
       "      <td>65 and over</td>\n",
       "      <td>25.924460</td>\n",
       "    </tr>\n",
       "    <tr>\n",
       "      <th>4</th>\n",
       "      <td>Under 25</td>\n",
       "      <td>30.450007</td>\n",
       "    </tr>\n",
       "    <tr>\n",
       "      <th>...</th>\n",
       "      <td>...</td>\n",
       "      <td>...</td>\n",
       "    </tr>\n",
       "    <tr>\n",
       "      <th>63</th>\n",
       "      <td>45-54</td>\n",
       "      <td>46.567682</td>\n",
       "    </tr>\n",
       "    <tr>\n",
       "      <th>64</th>\n",
       "      <td>65 and over</td>\n",
       "      <td>23.999491</td>\n",
       "    </tr>\n",
       "    <tr>\n",
       "      <th>65</th>\n",
       "      <td>Under 25</td>\n",
       "      <td>24.994419</td>\n",
       "    </tr>\n",
       "    <tr>\n",
       "      <th>66</th>\n",
       "      <td>65 and over</td>\n",
       "      <td>33.538502</td>\n",
       "    </tr>\n",
       "    <tr>\n",
       "      <th>67</th>\n",
       "      <td>45-54</td>\n",
       "      <td>37.201829</td>\n",
       "    </tr>\n",
       "  </tbody>\n",
       "</table>\n",
       "<p>68 rows × 2 columns</p>\n",
       "</div>"
      ],
      "text/plain": [
       "       agegroup   dvdscore\n",
       "0   65 and over  38.454803\n",
       "1         55-64  17.669677\n",
       "2   65 and over  31.704307\n",
       "3   65 and over  25.924460\n",
       "4      Under 25  30.450007\n",
       "..          ...        ...\n",
       "63        45-54  46.567682\n",
       "64  65 and over  23.999491\n",
       "65     Under 25  24.994419\n",
       "66  65 and over  33.538502\n",
       "67        45-54  37.201829\n",
       "\n",
       "[68 rows x 2 columns]"
      ]
     },
     "metadata": {},
     "output_type": "display_data"
    },
    {
     "name": "stdout",
     "output_type": "stream",
     "text": [
      "The average of dvdscore: 31.95076354936375\n",
      "The STD of dvdscore: 7.31999223969135\n",
      "p-value\n"
     ]
    },
    {
     "data": {
      "text/plain": [
       "False"
      ]
     },
     "metadata": {},
     "output_type": "display_data"
    },
    {
     "name": "stdout",
     "output_type": "stream",
     "text": [
      "Conclusion: Since the p-value supports the evidence of rejecting H0, will conclude that there is a similarity among all age groups. No significant difference.\n"
     ]
    }
   ],
   "source": [
    "# #4. An electronics firm is developing a new DVD player in response to customer requests. \n",
    "# Using a prototype, the marketing team has collected focus data for different age groups viz. \n",
    "# Under 25; 25-34; 35-44; 45-54; 55-64; 65 and above. Do you think that consumers of various ages rated the design differently?\n",
    "\n",
    "dvdDF = pd.read_csv(\"dvdplayer.csv\")\n",
    "display(dvdDF)\n",
    "\n",
    "##Step 1: Checking if sample truly represents the population or not::\n",
    "#Yes\n",
    "\n",
    "\n",
    "##Step 2: Defining Null & Alt Hypothesis::\n",
    "#Null hypothesis: There is no significance of consumers of various ages.\n",
    "#Alt hypothesis: There is a significance of consumers of various ages.\n",
    "\n",
    "\n",
    "##Step 3: Will decide what test to be done, based on the data::\n",
    "#Perform the ANOVA: A group/categorical variable is influencing a continuous variable.\n",
    "\n",
    "\n",
    "##Step 4: Will calculate the test statistic – it will be the Program Output::\n",
    "SixtyFivePlus_promo = dvdDF.dvdscore.loc[dvdDF.agegroup == '65 and over']\n",
    "FiftyFiveToSixtyFour_promo = dvdDF.dvdscore.loc[dvdDF.agegroup == '55-64']\n",
    "FortyFiveToFiftyFour_promo = dvdDF.dvdscore.loc[dvdDF.agegroup == '45-54']\n",
    "ThirtyFiveToFortyFour_promo = dvdDF.dvdscore.loc[dvdDF.agegroup == '35-44']\n",
    "TwentyFiveToThirtyFour_promo = dvdDF.dvdscore.loc[dvdDF.agegroup == '25-34']\n",
    "Under25_promo =dvdDF.dvdscore.loc[dvdDF.agegroup == 'Under 25']\n",
    "\n",
    "anova = stats.f_oneway(Under25_promo,TwentyFiveToThirtyFour_promo,ThirtyFiveToFortyFour_promo,\n",
    "               FortyFiveToFiftyFour_promo,FiftyFiveToSixtyFour_promo,SixtyFivePlus_promo)\n",
    "print(\"The average of dvdscore: {}\".format(dvdDF.dvdscore.mean()))\n",
    "print(\"The STD of dvdscore: {}\".format(dvdDF.dvdscore.std()))\n",
    "print(\"p-value\".format(anova.pvalue))\n",
    "\n",
    "##Step 5: Final conclusion based on p-value::\n",
    "#Conclusion ::\n",
    "display(anova.pvalue > 0.05)\n",
    "print('Conclusion: Since the p-value supports the evidence of rejecting H0, will conclude that there is a \\\n",
    "similarity among all age groups. No significant difference.')\n"
   ]
  },
  {
   "cell_type": "code",
   "execution_count": 22,
   "metadata": {},
   "outputs": [
    {
     "data": {
      "text/plain": [
       "(729.2421426572284,\n",
       " 1.820339965538765e-127,\n",
       " 40,\n",
       " array([[5.16918728e+01, 1.55886926e+02, 7.68424028e+01, 1.07787986e+01,\n",
       "         3.28000000e+01, 3.28000000e+02],\n",
       "        [8.51024735e+00, 2.56643110e+01, 1.26508834e+01, 1.77455830e+00,\n",
       "         5.40000000e+00, 5.40000000e+01],\n",
       "        [6.20932862e+01, 1.87254417e+02, 9.23045936e+01, 1.29477032e+01,\n",
       "         3.94000000e+01, 3.94000000e+02],\n",
       "        [1.24501767e+01, 3.75459364e+01, 1.85077739e+01, 2.59611307e+00,\n",
       "         7.90000000e+00, 7.90000000e+01],\n",
       "        [7.24946996e+00, 2.18621908e+01, 1.07766784e+01, 1.51166078e+00,\n",
       "         4.60000000e+00, 4.60000000e+01],\n",
       "        [9.14063604e+00, 2.75653710e+01, 1.35879859e+01, 1.90600707e+00,\n",
       "         5.80000000e+00, 5.80000000e+01],\n",
       "        [2.46954770e+02, 7.44740283e+02, 3.67109894e+02, 5.14950530e+01,\n",
       "         1.56700000e+02, 1.56700000e+03],\n",
       "        [4.79095406e+01, 1.44480565e+02, 7.12197880e+01, 9.99010601e+00,\n",
       "         3.04000000e+01, 3.04000000e+02],\n",
       "        [4.46000000e+02, 1.34500000e+03, 6.63000000e+02, 9.30000000e+01,\n",
       "         2.83000000e+02, 2.83000000e+03]]))"
      ]
     },
     "metadata": {},
     "output_type": "display_data"
    },
    {
     "data": {
      "text/plain": [
       "(122.68449020508541,\n",
       " 7.424404099753273e-15,\n",
       " 25,\n",
       " array([[  75.06345268,  227.39312301,  111.83268345,   15.75824176,\n",
       "           47.95249911,  478.        ],\n",
       "        [  32.19248493,   97.52215526,   47.9617157 ,    6.75824176,\n",
       "           20.56540234,  205.        ],\n",
       "        [ 235.55476781,  713.57674583,  350.9393832 ,   49.45054945,\n",
       "          150.4785537 , 1500.        ],\n",
       "        [  32.66359447,   98.94930876,   48.66359447,    6.85714286,\n",
       "           20.86635945,  208.        ],\n",
       "        [  67.52570011,  204.55866714,  100.60262318,   14.17582418,\n",
       "           43.1371854 ,  430.        ],\n",
       "        [ 443.        , 1342.        ,  660.        ,   93.        ,\n",
       "          283.        , 2821.        ]]))"
      ]
     },
     "metadata": {},
     "output_type": "display_data"
    },
    {
     "data": {
      "text/plain": [
       "(178.95053061216427,\n",
       " 7.234749067043371e-21,\n",
       " 36,\n",
       " array([[   3.89520355,   23.12777106,   21.66706973,   29.82265216,\n",
       "          191.35187424,    2.92140266,    3.89520355,    4.26037888,\n",
       "            4.01692866,    5.72108021,    7.06005643,    4.26037888,\n",
       "          302.        ],\n",
       "        [  18.16041919,  107.82748892,  101.01733172,  139.04070939,\n",
       "          892.1305925 ,   13.62031439,   18.16041919,   19.86295848,\n",
       "           18.72793229,   26.67311568,   32.91575977,   19.86295848,\n",
       "         1408.        ],\n",
       "        [   9.94437727,   59.04474002,   55.31559855,   76.13663845,\n",
       "          488.51753325,    7.45828295,    9.94437727,   10.87666264,\n",
       "           10.25513906,   14.60580411,   18.0241838 ,   10.87666264,\n",
       "          771.        ],\n",
       "        [  32.        ,  190.        ,  178.        ,  245.        ,\n",
       "         1572.        ,   24.        ,   32.        ,   35.        ,\n",
       "           33.        ,   47.        ,   58.        ,   35.        ,\n",
       "         2481.        ]]))"
      ]
     },
     "metadata": {},
     "output_type": "display_data"
    },
    {
     "data": {
      "text/plain": [
       "(260.68943894182826,\n",
       " 7.762777322980048e-47,\n",
       " 15,\n",
       " array([[  53.6969697 ,  162.06060606,   79.27272727,   11.15151515,\n",
       "           33.81818182,  340.        ],\n",
       "        [ 248.58538324,  750.24527629,  366.98609626,   51.62495544,\n",
       "          156.55828877, 1574.        ],\n",
       "        [ 140.71764706,  424.69411765,  207.74117647,   29.22352941,\n",
       "           88.62352941,  891.        ],\n",
       "        [ 443.        , 1337.        ,  654.        ,   92.        ,\n",
       "          279.        , 2805.        ]]))"
      ]
     },
     "metadata": {},
     "output_type": "display_data"
    },
    {
     "name": "stdout",
     "output_type": "stream",
     "text": [
      "Conclusion: a. Since 1.82 > 0.05 , the p-value failed to reject H0, will conclude that there is no influence.\n",
      "Conclusion: b. Since 7.4 > 0.05 , the p-value failed to reject H0, will conclude that there is no influence.\n",
      "Conclusion: c1. Since 7.2 > 0.05 , the p-value failed to reject H0, will conclude that there is no influence.\n",
      "Conclusion: c2 Since 7.7 > 0.05 , the p-value failed to reject H0, will conclude that there is no influence.\n"
     ]
    }
   ],
   "source": [
    "# #5. A survey was conducted among 2800 customers on several demographic characteristics. \n",
    "# Working status, sex, age, age-group, race, happiness, no. of child, marital status, educational qualifications, \n",
    "# income group etc. had been captured for that purpose. (Data set: sample_survey.csv).\n",
    "\n",
    "# a. Is there any relationship in between labour force status with marital status?\n",
    "# b. Do you think educational qualification is somehow controlling the marital status?\n",
    "# c. Is happiness is driven by earnings or marital status?\n",
    "\n",
    "surveyDF = pd.read_csv(\"sample_survey.csv\")\n",
    "surveyDF.head()\n",
    "\n",
    "##Step 1: Checking if sample truly represents the population or not::\n",
    "#Yes\n",
    "\n",
    "\n",
    "##Step 2: Defining Null & Alt Hypothesis::\n",
    "#Null hypothesis: There is no relationship between categorical variables.\n",
    "#Alt hypothesis: There is a relationship between categorical variables.\n",
    "\n",
    "\n",
    "##Step 3: Will decide what test to be done, based on the data::\n",
    "#Chi-Square: Influence of one categorical variable on another\n",
    "\n",
    "\n",
    "##Step 4: Will calculate the test statistic – it will be the Program Output::\n",
    "# a. Is there any relationship in between labour force status with marital status?\n",
    "wrkstat_marital_xtab = pd.crosstab(surveyDF.wrkstat,surveyDF.marital,margins=True)\n",
    "a = stats.chi2_contingency(observed=wrkstat_marital_xtab)\n",
    "display(a)\n",
    "\n",
    "# b. Do you think educational qualification is somehow controlling the marital status?\n",
    "degree_marital_xtab = pd.crosstab(surveyDF.degree,surveyDF.marital,margins=True)\n",
    "b = stats.chi2_contingency(observed=degree_marital_xtab)\n",
    "display(b)\n",
    "\n",
    "# c. Is happiness driven by earnings or marital status?\n",
    "happy_income_xtab = pd.crosstab(surveyDF.happy,surveyDF.income,margins=True)\n",
    "c1 = stats.chi2_contingency(observed=happy_income_xtab)\n",
    "display(c1)\n",
    "\n",
    "happy_marital_xtab = pd.crosstab(surveyDF.happy,surveyDF.marital,margins=True)\n",
    "c2 = stats.chi2_contingency(observed=happy_marital_xtab)\n",
    "display(c2)\n",
    "\n",
    "##Step 5: Final conclusion based on p-value::\n",
    "##Conclusion ::\n",
    "print('Conclusion: a. Since 1.82 > 0.05 , the p-value failed to reject H0, will conclude that there is no influence.')\n",
    "print('Conclusion: b. Since 7.4 > 0.05 , the p-value failed to reject H0, will conclude that there is no influence.')\n",
    "print('Conclusion: c1. Since 7.2 > 0.05 , the p-value failed to reject H0, will conclude that there is no influence.')\n",
    "print('Conclusion: c2 Since 7.7 > 0.05 , the p-value failed to reject H0, will conclude that there is no influence.')\n",
    "\n"
   ]
  },
  {
   "cell_type": "code",
   "execution_count": null,
   "metadata": {},
   "outputs": [],
   "source": []
  }
 ],
 "metadata": {
  "kernelspec": {
   "display_name": "Python 3",
   "language": "python",
   "name": "python3"
  },
  "language_info": {
   "codemirror_mode": {
    "name": "ipython",
    "version": 3
   },
   "file_extension": ".py",
   "mimetype": "text/x-python",
   "name": "python",
   "nbconvert_exporter": "python",
   "pygments_lexer": "ipython3",
   "version": "3.8.1"
  }
 },
 "nbformat": 4,
 "nbformat_minor": 4
}
