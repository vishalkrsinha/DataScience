{
 "cells": [
  {
   "cell_type": "markdown",
   "metadata": {},
   "source": [
    "## Python Basic Programming Exercises"
   ]
  },
  {
   "cell_type": "code",
   "execution_count": 1,
   "metadata": {},
   "outputs": [
    {
     "name": "stdout",
     "output_type": "stream",
     "text": [
      "2002,2009,2016,2023,2037,2044,2051,2058,2072,2079,2086,2093,2107,2114,2121,2128,2142,2149,2156,2163,2177,2184,2191,2198,2212,2219,2226,2233,2247,2254,2261,2268,2282,2289,2296,2303,2317,2324,2331,2338,2352,2359,2366,2373,2387,2394,2401,2408,2422,2429,2436,2443,2457,2464,2471,2478,2492,2499,2506,2513,2527,2534,2541,2548,2562,2569,2576,2583,2597,2604,2611,2618,2632,2639,2646,2653,2667,2674,2681,2688,2702,2709,2716,2723,2737,2744,2751,2758,2772,2779,2786,2793,2807,2814,2821,2828,2842,2849,2856,2863,2877,2884,2891,2898,2912,2919,2926,2933,2947,2954,2961,2968,2982,2989,2996,3003,3017,3024,3031,3038,3052,3059,3066,3073,3087,3094,3101,3108,3122,3129,3136,3143,3157,3164,3171,3178,3192,3199\n"
     ]
    }
   ],
   "source": [
    "#1: Write a program which will find all such numbers which are divisible by 7 \n",
    "#   but are not a multiple of 5, between 2000 and 3200 (both included).\n",
    "\n",
    "#Hints: Consider use range(#begin, #end) method\n",
    "\n",
    "\n",
    "#Solution::\n",
    "#Class Definition\n",
    "class MathematicalOperation:\n",
    "    def __init__(self, num1, num2, divNum, NotMultNum):\n",
    "        self.num1 = num1\n",
    "        self.num2 = num2\n",
    "        self.divNum = divNum\n",
    "        self.NotMultNum = NotMultNum\n",
    "        \n",
    "    def divisibleButNotMultiple(self):\n",
    "        n =[]\n",
    "        for num in range(self.num1, self.num2):\n",
    "            if (num % self.divNum == 0) and (num % self.NotMultNum != 0):\n",
    "                n.append(str(num))\n",
    "\n",
    "        print(','.join(n))\n",
    "    \n",
    "    \n",
    "    \n",
    "#Function Call\n",
    "obj = MathematicalOperation(2000,3200, 7, 5)\n",
    "obj.divisibleButNotMultiple()"
   ]
  },
  {
   "cell_type": "code",
   "execution_count": null,
   "metadata": {
    "collapsed": true
   },
   "outputs": [],
   "source": []
  },
  {
   "cell_type": "code",
   "execution_count": 5,
   "metadata": {},
   "outputs": [
    {
     "name": "stdout",
     "output_type": "stream",
     "text": [
      "Enter a number to find factorial: df\n",
      "Error: Please enter a positive number!!!\n"
     ]
    }
   ],
   "source": [
    "#2. Write a program which can compute the factorial of a given numbers. \n",
    "#   The results should be printed in a comma-separated sequence on a single line. \n",
    "# input() function can be used for getting user(console) input\n",
    "# raw_input() for python 2.x\n",
    "\n",
    "#Suppose the input is supplied to the program:  8  \n",
    "#Then, the output should be:  40320 \n",
    "#Hints: In case of input data being supplied to the question, it should be assumed to be a console input. \n",
    "\n",
    "\n",
    "\n",
    "#Solution::\n",
    "#classs Definition\n",
    "class A:\n",
    "    def Factorial(self):\n",
    "        try:\n",
    "            self.num = int(input(\"Enter a number to find factorial: \"))\n",
    "            if self.num < 0:\n",
    "                print(\"Please enter a positive number!!!\")\n",
    "            elif self.num == 0 or self.num == 1:\n",
    "                return 1\n",
    "            else:            \n",
    "                fact = 1\n",
    "                lst = []\n",
    "                for n in range(1, self.num+1):                \n",
    "                    fact = fact * n\n",
    "                    lst.append(str(fact))\n",
    "\n",
    "            return \", \".join(lst)\n",
    "        \n",
    "        except ValueError:\n",
    "            return \"Error: Please enter a positive number!!!\"\n",
    "        \n",
    "#Function Call\n",
    "obj = A()\n",
    "print(obj.Factorial())"
   ]
  },
  {
   "cell_type": "code",
   "execution_count": null,
   "metadata": {},
   "outputs": [],
   "source": []
  },
  {
   "cell_type": "code",
   "execution_count": 6,
   "metadata": {},
   "outputs": [
    {
     "name": "stdout",
     "output_type": "stream",
     "text": [
      "Please enter a positive number to generate a dictionary: 4\n",
      "{1: 1, 2: 4, 3: 9, 4: 16}\n"
     ]
    }
   ],
   "source": [
    "#3. With a given integral number n, write a program to generate a dictionary that contains (i, i*i) such that is an integral \n",
    "#number between 1 and n (both included). and then the program should print the dictionary.\n",
    "#Suppose the following input is supplied to the program: 8\n",
    "#Then, the output should be: {1: 1, 2: 4, 3: 9, 4: 16, 5: 25, 6: 36, 7: 49, 8: 64}\n",
    "#Hints: In case of input data being supplied to the question, it should be assumed to be a console input. Consider use dict()\n",
    "\n",
    "\n",
    "#Solution::\n",
    "#class definintion\n",
    "class TestDictionary:\n",
    "    def GenerateDictionary(self):\n",
    "        try:\n",
    "            self.num = int(input(\"Please enter a positive number to generate a dictionary: \"))\n",
    "\n",
    "            if self.num <= 0:\n",
    "                return \"Error: Please enter a positive number!!!\"\n",
    "            else:\n",
    "                dict1 = {}\n",
    "                for n in range(1,self.num+1):\n",
    "                    dict1[n] = n*n\n",
    "\n",
    "            return dict1       \n",
    "\n",
    "        except ValueError:\n",
    "            return \"Error: Please enter a positive number!!!\"\n",
    "        \n",
    "        \n",
    "#Function Call\n",
    "obj = TestDictionary()\n",
    "print(obj.GenerateDictionary())"
   ]
  },
  {
   "cell_type": "code",
   "execution_count": null,
   "metadata": {},
   "outputs": [],
   "source": []
  },
  {
   "cell_type": "code",
   "execution_count": 7,
   "metadata": {},
   "outputs": [
    {
     "name": "stdout",
     "output_type": "stream",
     "text": [
      "Please input a list...23,44,23,77,33\n",
      "['23', '44', '23', '77', '33']\n",
      "('23', '44', '23', '77', '33')\n"
     ]
    }
   ],
   "source": [
    "#4. Write a program which accepts a sequence of comma-separated numbers from console and generate a list and a tuple which contains every number.\n",
    "#Suppose the following input is supplied to the program: 34,67,55,33,12,98\n",
    "    #Then, the output should be: ['34', '67', '55', '33', '12', '98'] ('34', '67', '55', '33', '12', '98')\n",
    "\n",
    "#Hints: In case of input data being supplied to the question, it should be assumed to be a console input. tuple() method can convert list to tuple\n",
    "\n",
    "\n",
    "\n",
    "#Solution::\n",
    "#Class Definition: Generic implementation for any string/numbers\n",
    "class TestListNTuple:    \n",
    "    def ListNTuple(self):\n",
    "        lst = input(\"Please input a list...\").split(\",\")\n",
    "        print (lst)\n",
    "        tpl = tuple(lst)\n",
    "        print(tpl)\n",
    "    \n",
    "\n",
    "#Function call\n",
    "obj = TestListNTuple()\n",
    "obj.ListNTuple()"
   ]
  },
  {
   "cell_type": "code",
   "execution_count": null,
   "metadata": {
    "collapsed": true
   },
   "outputs": [],
   "source": []
  },
  {
   "cell_type": "code",
   "execution_count": 8,
   "metadata": {},
   "outputs": [
    {
     "name": "stdout",
     "output_type": "stream",
     "text": [
      "Input a string to convert in upper case..sdqw\n",
      "Converted string...\n",
      "SDQW\n"
     ]
    }
   ],
   "source": [
    "#5. Define a class which has at least two methods: getString: to get a string from console input and \n",
    "#printString: to print the string in upper case. Also please include simple test function to test the class methods.\n",
    "\n",
    "#Hints: Use __init__ method to construct some parameters\n",
    "\n",
    "#Solution::\n",
    "#Class Declaration\n",
    "class UpperCaseConverter:\n",
    "    def __init__(self):\n",
    "        self.inputString = self.getString()\n",
    "        \n",
    "    def getString(self):\n",
    "        return input(\"Input a string to convert in upper case..\")\n",
    "        \n",
    "    def printString(self):\n",
    "        outputString = self.inputString.upper()\n",
    "        print(\"Converted string...\")\n",
    "        print(outputString)\n",
    "        \n",
    "\n",
    "#Function call\n",
    "str = UpperCaseConverter()\n",
    "str.printString()"
   ]
  },
  {
   "cell_type": "code",
   "execution_count": 3,
   "metadata": {
    "collapsed": true
   },
   "outputs": [],
   "source": []
  },
  {
   "cell_type": "code",
   "execution_count": 13,
   "metadata": {},
   "outputs": [
    {
     "name": "stdout",
     "output_type": "stream",
     "text": [
      "Please input a list...without,hello,bag,world\n",
      "['bag', 'hello', 'without', 'world']\n"
     ]
    }
   ],
   "source": [
    "#6. Write a program that accepts a comma separated sequence of words as input and \n",
    "# prints the words in a comma-separated sequence after sorting them alphabetically.\n",
    "\n",
    "# Suppose the following input is supplied to the program: without,hello,bag,world\n",
    "# Then, the output should be: bag,hello,without,world\n",
    "\n",
    "#Hints: In case of input data being supplied to the question, it should be assumed to be a console input.\n",
    "\n",
    "#Solution::\n",
    "#Function Declaration\n",
    "class TestSorting:\n",
    "    def sorting(self):\n",
    "        lst = input(\"Please input a list...\").split(\",\")\n",
    "        lst.sort()\n",
    "        return lst\n",
    "    \n",
    "\n",
    "#Function call:\n",
    "obj = TestSorting()\n",
    "print(obj.sorting())"
   ]
  },
  {
   "cell_type": "code",
   "execution_count": null,
   "metadata": {
    "collapsed": true
   },
   "outputs": [],
   "source": []
  },
  {
   "cell_type": "code",
   "execution_count": 15,
   "metadata": {},
   "outputs": [
    {
     "name": "stdout",
     "output_type": "stream",
     "text": [
      "Please input a list...hello world and practice makes perfect and hello world again\n",
      "again and hello makes perfect practice world\n"
     ]
    }
   ],
   "source": [
    "#7. Write a program that accepts a sequence of whitespace separated words \n",
    "# as input and prints the words after removing all duplicate words and sorting them alphanumerically.\n",
    "# Suppose the following input is supplied to the program: hello world and practice makes perfect and hello world again\n",
    "# Then, the output should be: again and hello makes perfect practice world\n",
    "\n",
    "#Hints: In case of input data being supplied to the question, it should be assumed to be a console input.\n",
    "#We use set container to remove duplicated data automatically and then use sorted() to sort the data.\n",
    "\n",
    "\n",
    "#Solution::\n",
    "#Class Definition\n",
    "class Test:    \n",
    "    def sorting(self):\n",
    "        lst = input(\"Please input a list...\").split()\n",
    "        lst = set(lst)\n",
    "        lst = sorted(lst)\n",
    "        return ' '.join(lst)\n",
    "    \n",
    "\n",
    "#function call\n",
    "obj = Test()\n",
    "print(obj.sorting())\n"
   ]
  },
  {
   "cell_type": "code",
   "execution_count": null,
   "metadata": {
    "collapsed": true
   },
   "outputs": [],
   "source": []
  },
  {
   "cell_type": "code",
   "execution_count": 17,
   "metadata": {},
   "outputs": [
    {
     "name": "stdout",
     "output_type": "stream",
     "text": [
      "Please input a sentence...Hello world!\n",
      "Counter({'LOWER CASE': 9, 'SPECIAL CHARACTERS': 2, 'UPPER CASE': 1})\n"
     ]
    }
   ],
   "source": [
    "#8. Write a program that accepts a sentence and calculate the number of upper case \n",
    "# letters and lower case letters.\n",
    "#Suppose the following input is supplied to the program: Hello world!\n",
    "#Then, the output should be: UPPER CASE 1 LOWER CASE 9\n",
    "\n",
    "#Hints: In case of input data being supplied to the question, it should be assumed to be a console input.\n",
    "\n",
    "\n",
    "#Solution::\n",
    "#Class Definition\n",
    "import collections\n",
    "class Test:\n",
    "    def CaseCounter(self):\n",
    "        str = input(\"Please input a sentence...\")\n",
    "        return collections.Counter(\"UPPER CASE\" if x.isupper() else \"LOWER CASE\" if x.islower() else \"NUMBERS\" if x.isnumeric() else \"SPECIAL CHARACTERS\" for x in str)\n",
    "\n",
    "\n",
    "#Function Call\n",
    "obj = Test()        \n",
    "print(obj.CaseCounter())"
   ]
  },
  {
   "cell_type": "code",
   "execution_count": null,
   "metadata": {
    "collapsed": true
   },
   "outputs": [],
   "source": []
  },
  {
   "cell_type": "code",
   "execution_count": 18,
   "metadata": {},
   "outputs": [
    {
     "name": "stdout",
     "output_type": "stream",
     "text": [
      "Enter the passwords: ABd1234@1,a F1#,2w3E*,2We3345\n",
      "['ABd1234@1', 'a F1#', '2w3E*', '2We3345']\n",
      "ABd1234@1\n"
     ]
    }
   ],
   "source": [
    "#9. A website requires the users to input username and password to register. Write a program to check the validity of password\n",
    "#input by users. Following are the criteria for checking the password:\n",
    "#1. At least 1 letter between [a-z]\n",
    "#2. At least 1 number between [0-9]\n",
    "#1. At least 1 letter between [A-Z]\n",
    "#3. At least 1 character from [$#@]\n",
    "#4. Minimum length of transaction password: 6\n",
    "#5. Maximum length of transaction password: 12\n",
    "#Your program should accept a sequence of comma separated passwords and will check them according to the above criteria. \n",
    "#Passwords that match the criteria are to be printed, each separated by a comma.\n",
    "#Example. If the following passwords are given as input to the program: ABd1234@1,a F1#,2w3E*,2We3345\n",
    "#Then, the output of the program should be: ABd1234@1\n",
    "\n",
    "# You can use module called re\n",
    "#Hints: In case of input data being supplied to the question, it should be assumed to be a console input.\n",
    "\n",
    "\n",
    "#Solution::\n",
    "#Class Definition\n",
    "import re\n",
    "class Test:\n",
    "    def passwordValidator(self):\n",
    "        passwords = input(\"Enter the passwords: \").split(\",\")\n",
    "        print(passwords)        \n",
    "        [self.passwordParser(password) for password in passwords]            \n",
    "        \n",
    "    def passwordParser(self,password):\n",
    "        if (len(password)<6 or len(password)>12):\n",
    "            return\n",
    "        elif not re.search(\"[a-z]\",password):\n",
    "            return\n",
    "        elif not re.search(\"[0-9]\",password):\n",
    "            return\n",
    "        elif not re.search(\"[A-Z]\",password):\n",
    "            return\n",
    "        elif not re.search(\"[$#@]\",password):\n",
    "            return\n",
    "        elif re.search(\"\\s\",password):\n",
    "            return\n",
    "        else:\n",
    "            print(password)                   \n",
    "        \n",
    "\n",
    "#Function Call\n",
    "obj = Test()        \n",
    "obj.passwordValidator()"
   ]
  },
  {
   "cell_type": "code",
   "execution_count": null,
   "metadata": {
    "collapsed": true
   },
   "outputs": [],
   "source": []
  },
  {
   "cell_type": "code",
   "execution_count": 18,
   "metadata": {},
   "outputs": [
    {
     "name": "stdout",
     "output_type": "stream",
     "text": [
      "Input functions..abs(), int(), raw_input()\n",
      "\n",
      "==>abs() documentation...\n",
      " str(object='') -> str\n",
      "str(bytes_or_buffer[, encoding[, errors]]) -> str\n",
      "\n",
      "Create a new string object from the given object. If encoding or\n",
      "errors is specified, then the object must expose a data buffer\n",
      "that will be decoded using the given encoding and error handler.\n",
      "Otherwise, returns the result of object.__str__() (if defined)\n",
      "or repr(object).\n",
      "encoding defaults to sys.getdefaultencoding().\n",
      "errors defaults to 'strict'.\n",
      "\n",
      "==> int() documentation...\n",
      " str(object='') -> str\n",
      "str(bytes_or_buffer[, encoding[, errors]]) -> str\n",
      "\n",
      "Create a new string object from the given object. If encoding or\n",
      "errors is specified, then the object must expose a data buffer\n",
      "that will be decoded using the given encoding and error handler.\n",
      "Otherwise, returns the result of object.__str__() (if defined)\n",
      "or repr(object).\n",
      "encoding defaults to sys.getdefaultencoding().\n",
      "errors defaults to 'strict'.\n",
      "\n",
      "==> raw_input() documentation...\n",
      " str(object='') -> str\n",
      "str(bytes_or_buffer[, encoding[, errors]]) -> str\n",
      "\n",
      "Create a new string object from the given object. If encoding or\n",
      "errors is specified, then the object must expose a data buffer\n",
      "that will be decoded using the given encoding and error handler.\n",
      "Otherwise, returns the result of object.__str__() (if defined)\n",
      "or repr(object).\n",
      "encoding defaults to sys.getdefaultencoding().\n",
      "errors defaults to 'strict'.\n"
     ]
    }
   ],
   "source": [
    "#10. Python has many built-in functions, and if you do not know how to use it, you can read document online or find some books.\n",
    "#But Python has a built-in document function for every built-in functions.\n",
    "#Please write a program to print some Python built-in functions documents, such as abs(), int(), raw_input()\n",
    "#And add document for your own function\n",
    "    \n",
    "#Hints: The built-in document method is __doc__\n",
    "#class definition\n",
    "class Test:\n",
    "    def documentPrint(self):\n",
    "        lst = input(\"Input functions..\").split(\",\")\n",
    "        [print(\"\\n==>{0} documentation...\\n {1}\".format(fun,fun.__doc__)) for fun in lst]\n",
    "\n",
    "#Function call\n",
    "obj = Test()\n",
    "obj.documentPrint()"
   ]
  },
  {
   "cell_type": "code",
   "execution_count": null,
   "metadata": {
    "collapsed": true
   },
   "outputs": [],
   "source": []
  }
 ],
 "metadata": {
  "kernelspec": {
   "display_name": "Python 3",
   "language": "python",
   "name": "python3"
  },
  "language_info": {
   "codemirror_mode": {
    "name": "ipython",
    "version": 3
   },
   "file_extension": ".py",
   "mimetype": "text/x-python",
   "name": "python",
   "nbconvert_exporter": "python",
   "pygments_lexer": "ipython3",
   "version": "3.8.1"
  }
 },
 "nbformat": 4,
 "nbformat_minor": 2
}
