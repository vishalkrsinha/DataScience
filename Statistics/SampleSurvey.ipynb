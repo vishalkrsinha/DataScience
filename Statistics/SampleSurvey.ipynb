{
 "cells": [
  {
   "cell_type": "code",
   "execution_count": 1,
   "metadata": {},
   "outputs": [],
   "source": [
    "# #5. A survey was conducted among 2800 customers on several demographic characteristics. \n",
    "# Working status, sex, age, age-group, race, happiness, no. of child, marital status, educational qualifications, \n",
    "# income group etc. had been captured for that purpose. (Data set: sample_survey.csv).\n",
    "\n",
    "# a. Is there any relationship in between labour force status with marital status?\n",
    "# b. Do you think educational qualification is somehow controlling the marital status?\n",
    "# c. Is happiness is driven by earnings or marital status?"
   ]
  },
  {
   "cell_type": "code",
   "execution_count": 2,
   "metadata": {},
   "outputs": [
    {
     "data": {
      "text/html": [
       "<div>\n",
       "<style scoped>\n",
       "    .dataframe tbody tr th:only-of-type {\n",
       "        vertical-align: middle;\n",
       "    }\n",
       "\n",
       "    .dataframe tbody tr th {\n",
       "        vertical-align: top;\n",
       "    }\n",
       "\n",
       "    .dataframe thead th {\n",
       "        text-align: right;\n",
       "    }\n",
       "</style>\n",
       "<table border=\"1\" class=\"dataframe\">\n",
       "  <thead>\n",
       "    <tr style=\"text-align: right;\">\n",
       "      <th></th>\n",
       "      <th>id</th>\n",
       "      <th>wrkstat</th>\n",
       "      <th>marital</th>\n",
       "      <th>childs</th>\n",
       "      <th>age</th>\n",
       "      <th>educ</th>\n",
       "      <th>paeduc</th>\n",
       "      <th>maeduc</th>\n",
       "      <th>speduc</th>\n",
       "      <th>degree</th>\n",
       "      <th>...</th>\n",
       "      <th>agecat</th>\n",
       "      <th>childcat</th>\n",
       "      <th>news1</th>\n",
       "      <th>news2</th>\n",
       "      <th>news3</th>\n",
       "      <th>news4</th>\n",
       "      <th>news5</th>\n",
       "      <th>car1</th>\n",
       "      <th>car2</th>\n",
       "      <th>car3</th>\n",
       "    </tr>\n",
       "  </thead>\n",
       "  <tbody>\n",
       "    <tr>\n",
       "      <th>0</th>\n",
       "      <td>1</td>\n",
       "      <td>Working full time</td>\n",
       "      <td>Divorced</td>\n",
       "      <td>2.0</td>\n",
       "      <td>60.0</td>\n",
       "      <td>12.0</td>\n",
       "      <td>12.0</td>\n",
       "      <td>12.0</td>\n",
       "      <td>NaN</td>\n",
       "      <td>High school</td>\n",
       "      <td>...</td>\n",
       "      <td>55 to 64</td>\n",
       "      <td>1-2</td>\n",
       "      <td>No</td>\n",
       "      <td>No</td>\n",
       "      <td>No</td>\n",
       "      <td>No</td>\n",
       "      <td>No</td>\n",
       "      <td>American</td>\n",
       "      <td>Japanese</td>\n",
       "      <td>Japanese</td>\n",
       "    </tr>\n",
       "    <tr>\n",
       "      <th>1</th>\n",
       "      <td>2</td>\n",
       "      <td>Working part-time</td>\n",
       "      <td>Never married</td>\n",
       "      <td>0.0</td>\n",
       "      <td>27.0</td>\n",
       "      <td>17.0</td>\n",
       "      <td>20.0</td>\n",
       "      <td>NaN</td>\n",
       "      <td>NaN</td>\n",
       "      <td>Junior college</td>\n",
       "      <td>...</td>\n",
       "      <td>25 to 34</td>\n",
       "      <td>None</td>\n",
       "      <td>No</td>\n",
       "      <td>No</td>\n",
       "      <td>Yes</td>\n",
       "      <td>No</td>\n",
       "      <td>No</td>\n",
       "      <td>American</td>\n",
       "      <td>German</td>\n",
       "      <td>Japanese</td>\n",
       "    </tr>\n",
       "    <tr>\n",
       "      <th>2</th>\n",
       "      <td>3</td>\n",
       "      <td>Working full time</td>\n",
       "      <td>Married</td>\n",
       "      <td>2.0</td>\n",
       "      <td>36.0</td>\n",
       "      <td>12.0</td>\n",
       "      <td>12.0</td>\n",
       "      <td>12.0</td>\n",
       "      <td>16.0</td>\n",
       "      <td>High school</td>\n",
       "      <td>...</td>\n",
       "      <td>35 to 44</td>\n",
       "      <td>1-2</td>\n",
       "      <td>No</td>\n",
       "      <td>No</td>\n",
       "      <td>No</td>\n",
       "      <td>Yes</td>\n",
       "      <td>Yes</td>\n",
       "      <td>American</td>\n",
       "      <td>American</td>\n",
       "      <td>NaN</td>\n",
       "    </tr>\n",
       "    <tr>\n",
       "      <th>3</th>\n",
       "      <td>4</td>\n",
       "      <td>Working full time</td>\n",
       "      <td>Never married</td>\n",
       "      <td>0.0</td>\n",
       "      <td>21.0</td>\n",
       "      <td>13.0</td>\n",
       "      <td>NaN</td>\n",
       "      <td>12.0</td>\n",
       "      <td>NaN</td>\n",
       "      <td>High school</td>\n",
       "      <td>...</td>\n",
       "      <td>Less than 25</td>\n",
       "      <td>None</td>\n",
       "      <td>No</td>\n",
       "      <td>No</td>\n",
       "      <td>No</td>\n",
       "      <td>Yes</td>\n",
       "      <td>Yes</td>\n",
       "      <td>American</td>\n",
       "      <td>Other</td>\n",
       "      <td>NaN</td>\n",
       "    </tr>\n",
       "    <tr>\n",
       "      <th>4</th>\n",
       "      <td>5</td>\n",
       "      <td>Working full time</td>\n",
       "      <td>Never married</td>\n",
       "      <td>0.0</td>\n",
       "      <td>35.0</td>\n",
       "      <td>16.0</td>\n",
       "      <td>NaN</td>\n",
       "      <td>12.0</td>\n",
       "      <td>NaN</td>\n",
       "      <td>Bachelor</td>\n",
       "      <td>...</td>\n",
       "      <td>35 to 44</td>\n",
       "      <td>None</td>\n",
       "      <td>No</td>\n",
       "      <td>No</td>\n",
       "      <td>No</td>\n",
       "      <td>No</td>\n",
       "      <td>No</td>\n",
       "      <td>American</td>\n",
       "      <td>American</td>\n",
       "      <td>Korean</td>\n",
       "    </tr>\n",
       "  </tbody>\n",
       "</table>\n",
       "<p>5 rows × 46 columns</p>\n",
       "</div>"
      ],
      "text/plain": [
       "   id            wrkstat        marital  childs   age  educ  paeduc  maeduc  \\\n",
       "0   1  Working full time       Divorced     2.0  60.0  12.0    12.0    12.0   \n",
       "1   2  Working part-time  Never married     0.0  27.0  17.0    20.0     NaN   \n",
       "2   3  Working full time        Married     2.0  36.0  12.0    12.0    12.0   \n",
       "3   4  Working full time  Never married     0.0  21.0  13.0     NaN    12.0   \n",
       "4   5  Working full time  Never married     0.0  35.0  16.0     NaN    12.0   \n",
       "\n",
       "   speduc          degree  ...        agecat childcat news1 news2  news3  \\\n",
       "0     NaN     High school  ...      55 to 64      1-2    No    No     No   \n",
       "1     NaN  Junior college  ...      25 to 34     None    No    No    Yes   \n",
       "2    16.0     High school  ...      35 to 44      1-2    No    No     No   \n",
       "3     NaN     High school  ...  Less than 25     None    No    No     No   \n",
       "4     NaN        Bachelor  ...      35 to 44     None    No    No     No   \n",
       "\n",
       "  news4 news5      car1      car2      car3  \n",
       "0    No    No  American  Japanese  Japanese  \n",
       "1    No    No  American    German  Japanese  \n",
       "2   Yes   Yes  American  American       NaN  \n",
       "3   Yes   Yes  American     Other       NaN  \n",
       "4    No    No  American  American    Korean  \n",
       "\n",
       "[5 rows x 46 columns]"
      ]
     },
     "execution_count": 2,
     "metadata": {},
     "output_type": "execute_result"
    }
   ],
   "source": [
    "import numpy as np\n",
    "import pandas as pd\n",
    "import scipy.stats as stats\n",
    "\n",
    "surveyDF = pd.read_csv(\"sample_survey.csv\")\n",
    "surveyDF.head()"
   ]
  },
  {
   "cell_type": "code",
   "execution_count": 3,
   "metadata": {},
   "outputs": [],
   "source": [
    "##Step 1: Checking if sample truly represents the population or not::\n",
    "#Yes\n",
    "\n",
    "\n",
    "##Step 2: Defining Null & Alt Hypothesis::\n",
    "#Null hypothesis: There is no relationship between categorical variables.\n",
    "#Alt hypothesis: There is a relationship between categorical variables.\n",
    "\n",
    "\n",
    "##Step 3: Will decide what test to be done, based on the data::\n",
    "#Chi-Square: Influence of one categorical variable on another"
   ]
  },
  {
   "cell_type": "code",
   "execution_count": 4,
   "metadata": {},
   "outputs": [
    {
     "name": "stdout",
     "output_type": "stream",
     "text": [
      "(729.2421426572284, 1.820339965538765e-127, 40, array([[5.16918728e+01, 1.55886926e+02, 7.68424028e+01, 1.07787986e+01,\n",
      "        3.28000000e+01, 3.28000000e+02],\n",
      "       [8.51024735e+00, 2.56643110e+01, 1.26508834e+01, 1.77455830e+00,\n",
      "        5.40000000e+00, 5.40000000e+01],\n",
      "       [6.20932862e+01, 1.87254417e+02, 9.23045936e+01, 1.29477032e+01,\n",
      "        3.94000000e+01, 3.94000000e+02],\n",
      "       [1.24501767e+01, 3.75459364e+01, 1.85077739e+01, 2.59611307e+00,\n",
      "        7.90000000e+00, 7.90000000e+01],\n",
      "       [7.24946996e+00, 2.18621908e+01, 1.07766784e+01, 1.51166078e+00,\n",
      "        4.60000000e+00, 4.60000000e+01],\n",
      "       [9.14063604e+00, 2.75653710e+01, 1.35879859e+01, 1.90600707e+00,\n",
      "        5.80000000e+00, 5.80000000e+01],\n",
      "       [2.46954770e+02, 7.44740283e+02, 3.67109894e+02, 5.14950530e+01,\n",
      "        1.56700000e+02, 1.56700000e+03],\n",
      "       [4.79095406e+01, 1.44480565e+02, 7.12197880e+01, 9.99010601e+00,\n",
      "        3.04000000e+01, 3.04000000e+02],\n",
      "       [4.46000000e+02, 1.34500000e+03, 6.63000000e+02, 9.30000000e+01,\n",
      "        2.83000000e+02, 2.83000000e+03]]))\n"
     ]
    }
   ],
   "source": [
    "##Step 4: Will calculate the test statistic – it will be the Program Output::\n",
    "# a. Is there any relationship in between labour force status with marital status?\n",
    "wrkstat_marital_xtab = pd.crosstab(surveyDF.wrkstat,surveyDF.marital,margins=True)\n",
    "a = stats.chi2_contingency(observed=wrkstat_marital_xtab)\n",
    "print(a)"
   ]
  },
  {
   "cell_type": "code",
   "execution_count": 5,
   "metadata": {},
   "outputs": [
    {
     "data": {
      "text/plain": [
       "(122.68449020508541,\n",
       " 7.424404099753273e-15,\n",
       " 25,\n",
       " array([[  75.06345268,  227.39312301,  111.83268345,   15.75824176,\n",
       "           47.95249911,  478.        ],\n",
       "        [  32.19248493,   97.52215526,   47.9617157 ,    6.75824176,\n",
       "           20.56540234,  205.        ],\n",
       "        [ 235.55476781,  713.57674583,  350.9393832 ,   49.45054945,\n",
       "          150.4785537 , 1500.        ],\n",
       "        [  32.66359447,   98.94930876,   48.66359447,    6.85714286,\n",
       "           20.86635945,  208.        ],\n",
       "        [  67.52570011,  204.55866714,  100.60262318,   14.17582418,\n",
       "           43.1371854 ,  430.        ],\n",
       "        [ 443.        , 1342.        ,  660.        ,   93.        ,\n",
       "          283.        , 2821.        ]]))"
      ]
     },
     "metadata": {},
     "output_type": "display_data"
    }
   ],
   "source": [
    "# b. Do you think educational qualification is somehow controlling the marital status?\n",
    "degree_marital_xtab = pd.crosstab(surveyDF.degree,surveyDF.marital,margins=True)\n",
    "b = stats.chi2_contingency(observed=degree_marital_xtab)\n",
    "display(b)"
   ]
  },
  {
   "cell_type": "code",
   "execution_count": 6,
   "metadata": {},
   "outputs": [
    {
     "data": {
      "text/plain": [
       "(178.95053061216427,\n",
       " 7.234749067043371e-21,\n",
       " 36,\n",
       " array([[   3.89520355,   23.12777106,   21.66706973,   29.82265216,\n",
       "          191.35187424,    2.92140266,    3.89520355,    4.26037888,\n",
       "            4.01692866,    5.72108021,    7.06005643,    4.26037888,\n",
       "          302.        ],\n",
       "        [  18.16041919,  107.82748892,  101.01733172,  139.04070939,\n",
       "          892.1305925 ,   13.62031439,   18.16041919,   19.86295848,\n",
       "           18.72793229,   26.67311568,   32.91575977,   19.86295848,\n",
       "         1408.        ],\n",
       "        [   9.94437727,   59.04474002,   55.31559855,   76.13663845,\n",
       "          488.51753325,    7.45828295,    9.94437727,   10.87666264,\n",
       "           10.25513906,   14.60580411,   18.0241838 ,   10.87666264,\n",
       "          771.        ],\n",
       "        [  32.        ,  190.        ,  178.        ,  245.        ,\n",
       "         1572.        ,   24.        ,   32.        ,   35.        ,\n",
       "           33.        ,   47.        ,   58.        ,   35.        ,\n",
       "         2481.        ]]))"
      ]
     },
     "metadata": {},
     "output_type": "display_data"
    }
   ],
   "source": [
    "# c. Is happiness driven by earnings or marital status?\n",
    "happy_income_xtab = pd.crosstab(surveyDF.happy,surveyDF.income,margins=True)\n",
    "c1 = stats.chi2_contingency(observed=happy_income_xtab)\n",
    "display(c1)"
   ]
  },
  {
   "cell_type": "code",
   "execution_count": 7,
   "metadata": {},
   "outputs": [
    {
     "data": {
      "text/plain": [
       "(260.68943894182826,\n",
       " 7.762777322980048e-47,\n",
       " 15,\n",
       " array([[  53.6969697 ,  162.06060606,   79.27272727,   11.15151515,\n",
       "           33.81818182,  340.        ],\n",
       "        [ 248.58538324,  750.24527629,  366.98609626,   51.62495544,\n",
       "          156.55828877, 1574.        ],\n",
       "        [ 140.71764706,  424.69411765,  207.74117647,   29.22352941,\n",
       "           88.62352941,  891.        ],\n",
       "        [ 443.        , 1337.        ,  654.        ,   92.        ,\n",
       "          279.        , 2805.        ]]))"
      ]
     },
     "metadata": {},
     "output_type": "display_data"
    }
   ],
   "source": [
    "happy_marital_xtab = pd.crosstab(surveyDF.happy,surveyDF.marital,margins=True)\n",
    "c2 = stats.chi2_contingency(observed=happy_marital_xtab)\n",
    "display(c2)\n"
   ]
  },
  {
   "cell_type": "code",
   "execution_count": 8,
   "metadata": {},
   "outputs": [
    {
     "name": "stdout",
     "output_type": "stream",
     "text": [
      "Conclusion: a. Since 1.82e-127 < 0.05 , the p-value rejects H0, will conclude that there is a significant influence.\n",
      "Conclusion: b. Since 7.4e-15 < 0.05 , the p-value rejects H0, will conclude that there is a significant influence.\n",
      "Conclusion: c1. Since 7.2e-21 < 0.05 , the p-value rejects H0, will conclude that there is a significant influence.\n",
      "Conclusion: c2 Since 7.7e-47 < 0.05 , the p-value rejects H0, will conclude that there is a significant influence.\n"
     ]
    }
   ],
   "source": [
    "##Step 5: Final conclusion based on p-value::\n",
    "##Conclusion ::\n",
    "print('Conclusion: a. Since 1.82e-127 < 0.05 , the p-value rejects H0, will conclude that there is a significant influence.')\n",
    "print('Conclusion: b. Since 7.4e-15 < 0.05 , the p-value rejects H0, will conclude that there is a significant influence.')\n",
    "print('Conclusion: c1. Since 7.2e-21 < 0.05 , the p-value rejects H0, will conclude that there is a significant influence.')\n",
    "print('Conclusion: c2 Since 7.7e-47 < 0.05 , the p-value rejects H0, will conclude that there is a significant influence.')"
   ]
  },
  {
   "cell_type": "code",
   "execution_count": null,
   "metadata": {},
   "outputs": [],
   "source": []
  }
 ],
 "metadata": {
  "kernelspec": {
   "display_name": "Python 3",
   "language": "python",
   "name": "python3"
  },
  "language_info": {
   "codemirror_mode": {
    "name": "ipython",
    "version": 3
   },
   "file_extension": ".py",
   "mimetype": "text/x-python",
   "name": "python",
   "nbconvert_exporter": "python",
   "pygments_lexer": "ipython3",
   "version": "3.8.5"
  }
 },
 "nbformat": 4,
 "nbformat_minor": 4
}
