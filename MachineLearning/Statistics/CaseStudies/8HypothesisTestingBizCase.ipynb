{
 "cells": [
  {
   "cell_type": "code",
   "execution_count": 1,
   "metadata": {},
   "outputs": [
    {
     "data": {
      "text/html": [
       "<div>\n",
       "<style scoped>\n",
       "    .dataframe tbody tr th:only-of-type {\n",
       "        vertical-align: middle;\n",
       "    }\n",
       "\n",
       "    .dataframe tbody tr th {\n",
       "        vertical-align: top;\n",
       "    }\n",
       "\n",
       "    .dataframe thead th {\n",
       "        text-align: right;\n",
       "    }\n",
       "</style>\n",
       "<table border=\"1\" class=\"dataframe\">\n",
       "  <thead>\n",
       "    <tr style=\"text-align: right;\">\n",
       "      <th></th>\n",
       "      <th>Sr No</th>\n",
       "      <th>S_Cust_id</th>\n",
       "      <th>Samsung_Score</th>\n",
       "      <th>Apple_Cust_id</th>\n",
       "      <th>Apple_Score</th>\n",
       "    </tr>\n",
       "  </thead>\n",
       "  <tbody>\n",
       "    <tr>\n",
       "      <th>0</th>\n",
       "      <td>1</td>\n",
       "      <td>S336499</td>\n",
       "      <td>94</td>\n",
       "      <td>A336525</td>\n",
       "      <td>82</td>\n",
       "    </tr>\n",
       "    <tr>\n",
       "      <th>1</th>\n",
       "      <td>2</td>\n",
       "      <td>S73004</td>\n",
       "      <td>99</td>\n",
       "      <td>A73011</td>\n",
       "      <td>83</td>\n",
       "    </tr>\n",
       "    <tr>\n",
       "      <th>2</th>\n",
       "      <td>3</td>\n",
       "      <td>S79537</td>\n",
       "      <td>74</td>\n",
       "      <td>A79538</td>\n",
       "      <td>88</td>\n",
       "    </tr>\n",
       "    <tr>\n",
       "      <th>3</th>\n",
       "      <td>4</td>\n",
       "      <td>S769168</td>\n",
       "      <td>74</td>\n",
       "      <td>A769222</td>\n",
       "      <td>80</td>\n",
       "    </tr>\n",
       "    <tr>\n",
       "      <th>4</th>\n",
       "      <td>5</td>\n",
       "      <td>S609791</td>\n",
       "      <td>83</td>\n",
       "      <td>A609801</td>\n",
       "      <td>74</td>\n",
       "    </tr>\n",
       "  </tbody>\n",
       "</table>\n",
       "</div>"
      ],
      "text/plain": [
       "   Sr No S_Cust_id  Samsung_Score Apple_Cust_id  Apple_Score\n",
       "0      1   S336499             94       A336525           82\n",
       "1      2    S73004             99        A73011           83\n",
       "2      3    S79537             74        A79538           88\n",
       "3      4   S769168             74       A769222           80\n",
       "4      5   S609791             83       A609801           74"
      ]
     },
     "execution_count": 1,
     "metadata": {},
     "output_type": "execute_result"
    }
   ],
   "source": [
    "##This is a peer comparison project. Suppose that you are working for Samsung in customer experience management\n",
    "#team. The idea is to regularly monitor the customer satisfaction levels and peer company moves. The competitor\n",
    "#company is Apple. The objective is to test two main hypothesis.\n",
    "# 1. The Samsung Average customer satisfaction score is minimum 75%.\n",
    "# 2. The overall average satisfaction score of Samsung is same as Apple. There is no significant difference in the satisfaction scores\n",
    "\n",
    "#The data is collected for 100 Samsung customers and 100 Apple customers. Their satisfaction scores are recorded. The\n",
    "# sample represent the data and it is unbiased.\n",
    "\n",
    "import pandas as pd\n",
    "import numpy as np\n",
    "import scipy.stats as stats\n",
    "\n",
    "hypDF = pd.read_csv(\"Testing_Of_Hypothesis.csv\")\n",
    "hypDF.head()"
   ]
  },
  {
   "cell_type": "code",
   "execution_count": 4,
   "metadata": {},
   "outputs": [
    {
     "name": "stdout",
     "output_type": "stream",
     "text": [
      "The average for Samsung $84.9\n",
      "The average for Apple $87.81\n"
     ]
    },
    {
     "data": {
      "text/plain": [
       "-1.9064295935043474"
      ]
     },
     "metadata": {},
     "output_type": "display_data"
    },
    {
     "data": {
      "text/plain": [
       "0.05810311766331876"
      ]
     },
     "metadata": {},
     "output_type": "display_data"
    },
    {
     "data": {
      "text/plain": [
       "-1.9064295935043472"
      ]
     },
     "metadata": {},
     "output_type": "display_data"
    },
    {
     "data": {
      "text/plain": [
       "0.05804261444411807"
      ]
     },
     "metadata": {},
     "output_type": "display_data"
    },
    {
     "data": {
      "text/plain": [
       "True"
      ]
     },
     "metadata": {},
     "output_type": "display_data"
    },
    {
     "name": "stdout",
     "output_type": "stream",
     "text": [
      "Conclusion: Since the p value fails to reject H0, will conclude that satisfaction scores of samsung == apple.     Yes, there is no significant effect here.\n"
     ]
    }
   ],
   "source": [
    "##It might be possible that both hypothesis are correct, one of them is correct or both of them are wrong. Perform the\n",
    "#relevant testing to verify these assumptions\n",
    "\n",
    "##Step 1: Checking if sample truly represents the population or not::\n",
    "#Yes\n",
    "\n",
    "\n",
    "##Step 2: Defining Null & Alt Hypothesis::\n",
    "#Null hypothesis: There is no significant difference in the satisfaction scores.\n",
    "#Alt hypothesis: There is a significant difference in the satisfaction scores.\n",
    "\n",
    "\n",
    "##Step 3: Will decide what test to be done, based on the data::\n",
    "#The independent two-sample t-test is used to test whether population means are significantly different from each other.\n",
    "#Independent samples are randomly drawn using the means.\n",
    "\n",
    "\n",
    "##Step 4: Will calculate the test statistic – it will be the Program Output::\n",
    "samsung = hypDF['Samsung_Score']\n",
    "apple = hypDF['Apple_Score']\n",
    "\n",
    "print(\"The average for Samsung ${}\".format(samsung.mean()))\n",
    "print(\"The average for Apple ${}\".format(apple.mean()))\n",
    "\n",
    "uneq_var = stats.ttest_ind(a = samsung, b= apple, equal_var=False)  #Different variance\n",
    "display(uneq_var.statistic)\n",
    "display(uneq_var.pvalue)\n",
    "\n",
    "eq_var = stats.ttest_ind(a = samsung, b= apple, equal_var=True)  #Equal variance\n",
    "display(eq_var.statistic)\n",
    "display(eq_var.pvalue)\n",
    "\n",
    "\n",
    "##Step 5: Final conclusion based on p-value::\n",
    "##Conclusion ::\n",
    "display(eq_var.pvalue > 0.05)\n",
    "print('Conclusion: Since the p value fails to reject H0, will conclude that satisfaction scores of samsung == apple. \\\n",
    "    Yes, there is no significant effect here.')\n",
    "\n"
   ]
  },
  {
   "cell_type": "code",
   "execution_count": null,
   "metadata": {},
   "outputs": [],
   "source": []
  }
 ],
 "metadata": {
  "kernelspec": {
   "display_name": "Python 3",
   "language": "python",
   "name": "python3"
  },
  "language_info": {
   "codemirror_mode": {
    "name": "ipython",
    "version": 3
   },
   "file_extension": ".py",
   "mimetype": "text/x-python",
   "name": "python",
   "nbconvert_exporter": "python",
   "pygments_lexer": "ipython3",
   "version": "3.8.1"
  }
 },
 "nbformat": 4,
 "nbformat_minor": 4
}
