{
 "cells": [
  {
   "cell_type": "markdown",
   "id": "08436648",
   "metadata": {},
   "source": [
    "Source: https://towardsdatascience.com/regex-essential-for-nlp-ee0336ef988d?utm_source=pocket_mylist"
   ]
  },
  {
   "cell_type": "code",
   "execution_count": 4,
   "id": "fd11908f",
   "metadata": {},
   "outputs": [],
   "source": [
    "import re"
   ]
  },
  {
   "cell_type": "markdown",
   "id": "b6e7a059",
   "metadata": {},
   "source": [
    "# Situation 1: Removing words occurring at the start or end of the string"
   ]
  },
  {
   "cell_type": "code",
   "execution_count": 7,
   "id": "cac03238",
   "metadata": {},
   "outputs": [
    {
     "name": "stdout",
     "output_type": "stream",
     "text": [
      "* friendly boy has a nice dog, the dog is friendly\n",
      "the friendly boy has a nice dog, the dog is *\n"
     ]
    }
   ],
   "source": [
    "s = r'the friendly boy has a nice dog, the dog is friendly'\n",
    "print(re.sub(r'^the','*',s))\n",
    "\n",
    "print(re.sub(r'friendly$','*',s))"
   ]
  },
  {
   "cell_type": "code",
   "execution_count": null,
   "id": "c44af36b",
   "metadata": {},
   "outputs": [],
   "source": []
  },
  {
   "cell_type": "markdown",
   "id": "bb8bd747",
   "metadata": {},
   "source": [
    "# Situation 2: Removing numbers and currencies"
   ]
  },
  {
   "cell_type": "code",
   "execution_count": 11,
   "id": "51884b08",
   "metadata": {},
   "outputs": [
    {
     "name": "stdout",
     "output_type": "stream",
     "text": [
      "<re.Match object; span=(7, 8), match='5'>\n",
      "['5', '0', '0', '$', '$', '2', '0', '0']\n"
     ]
    }
   ],
   "source": [
    "s = r'I have 500$ and you have $200.'\n",
    "\n",
    "print(re.search('[\\$\\d+\\d+\\$]',s))\n",
    "\n",
    "print(re.findall('[\\$\\d+\\d+\\$]',s))"
   ]
  },
  {
   "cell_type": "code",
   "execution_count": null,
   "id": "e11c7c79",
   "metadata": {},
   "outputs": [],
   "source": []
  },
  {
   "cell_type": "markdown",
   "id": "f061b115",
   "metadata": {},
   "source": [
    "# Situation 3: Handling all kinds of date formats"
   ]
  },
  {
   "cell_type": "code",
   "execution_count": 17,
   "id": "ae24d784",
   "metadata": {},
   "outputs": [
    {
     "name": "stdout",
     "output_type": "stream",
     "text": [
      "Today is *\n",
      "Today is *\n",
      "Today is *\n"
     ]
    }
   ],
   "source": [
    "#Handling all date formats\n",
    "print(re.sub(r'\\d+[\\.\\/-]\\d+[\\.\\/-]\\d+', '*', 'Today is 04-09-2021'))\n",
    "print(re.sub(r'\\d+[\\.\\/-]\\d+[\\.\\/-]\\d+', '*', 'Today is 04/09/2021'))\n",
    "print(re.sub(r'\\d+[\\.\\/-]\\d+[\\.\\/-]\\d+', '*', 'Today is 04.09.2021'))"
   ]
  },
  {
   "cell_type": "code",
   "execution_count": null,
   "id": "e1e0c54b",
   "metadata": {},
   "outputs": [],
   "source": []
  },
  {
   "cell_type": "markdown",
   "id": "e1e7ee42",
   "metadata": {},
   "source": [
    "# Situation 4: Removing hyperlinks"
   ]
  },
  {
   "cell_type": "code",
   "execution_count": 18,
   "id": "ae585e4f",
   "metadata": {},
   "outputs": [
    {
     "data": {
      "text/plain": [
       "'The website is *'"
      ]
     },
     "execution_count": 18,
     "metadata": {},
     "output_type": "execute_result"
    }
   ],
   "source": [
    "#Removing a hyperlink\n",
    "re.sub(r'https?:\\/\\/.*[\\r\\n]*', '*', 'The website is https://towardsdatascience.com/regex-essential-for-nlp-ee0336ef988d')"
   ]
  },
  {
   "cell_type": "code",
   "execution_count": null,
   "id": "87c5c8a1",
   "metadata": {},
   "outputs": [],
   "source": []
  },
  {
   "cell_type": "markdown",
   "id": "858730b8",
   "metadata": {},
   "source": [
    "# Situation 5: Extracting the main domain name of a URL"
   ]
  },
  {
   "cell_type": "code",
   "execution_count": 20,
   "id": "62a9def0",
   "metadata": {},
   "outputs": [
    {
     "name": "stdout",
     "output_type": "stream",
     "text": [
      "towardsdatascience\n"
     ]
    }
   ],
   "source": [
    "#Extracting the main domain name of a URL\n",
    "url = r'https://towardsdatascience.com/regex-essential-for-nlp-ee0336ef988d'\n",
    "\n",
    "print(re.search(r'[\\.\\/]+(.*)\\.',url).group(1))"
   ]
  },
  {
   "cell_type": "code",
   "execution_count": null,
   "id": "c56181ff",
   "metadata": {},
   "outputs": [],
   "source": []
  },
  {
   "cell_type": "markdown",
   "id": "ea10c7ef",
   "metadata": {},
   "source": [
    "# Situation 6: Removing SOME punctuation"
   ]
  },
  {
   "cell_type": "code",
   "execution_count": 21,
   "id": "9d37bc6e",
   "metadata": {},
   "outputs": [
    {
     "data": {
      "text/plain": [
       "'Hi  I am   Vishal Kumar  Nice to meet you      '"
      ]
     },
     "execution_count": 21,
     "metadata": {},
     "output_type": "execute_result"
    }
   ],
   "source": [
    "#Removing all punctuation\n",
    "re.sub(r'[^a-z0-9A-Z_]',' ','Hi, I am : Vishal Kumar; Nice to meet you!!!!!!')"
   ]
  },
  {
   "cell_type": "code",
   "execution_count": 22,
   "id": "08a6bcec",
   "metadata": {},
   "outputs": [
    {
     "data": {
      "text/plain": [
       "'Hi I am  Vishal Kumar ! Nice to meet you!!!!!!'"
      ]
     },
     "execution_count": 22,
     "metadata": {},
     "output_type": "execute_result"
    }
   ],
   "source": [
    "#Removing all punctuation except exclamation marks\n",
    "re.sub(r'[\\.;:,\\?\\\"\\'\\/]','','''Hi, I am :\" Vishal Kumar ! Nice to meet you!!!!!!''')\n",
    "#Result: Hi I am  Vishal Kumar ! Nice to see you!!!!!!"
   ]
  },
  {
   "cell_type": "code",
   "execution_count": null,
   "id": "5e250a39",
   "metadata": {},
   "outputs": [],
   "source": []
  },
  {
   "cell_type": "markdown",
   "id": "48881894",
   "metadata": {},
   "source": [
    "# Situation 7: Replacing two or more Exclamation marks with a single one"
   ]
  },
  {
   "cell_type": "code",
   "execution_count": 23,
   "id": "463dda55",
   "metadata": {},
   "outputs": [
    {
     "data": {
      "text/plain": [
       "'Hi! I am Vishal Kumar! Nice to see you!'"
      ]
     },
     "execution_count": 23,
     "metadata": {},
     "output_type": "execute_result"
    }
   ],
   "source": [
    "# Replacing 2 or more exclamation marks with a single one\n",
    "re.sub(r'!{2,}','!','''Hi! I am Vishal Kumar!! Nice to see you!!!!!!''')"
   ]
  },
  {
   "cell_type": "code",
   "execution_count": null,
   "id": "169e0d0c",
   "metadata": {},
   "outputs": [],
   "source": []
  },
  {
   "cell_type": "markdown",
   "id": "f94a26dc",
   "metadata": {},
   "source": [
    "# Situation 8: Replacing 2 or more consecutive whitespaces with a single one"
   ]
  },
  {
   "cell_type": "code",
   "execution_count": 24,
   "id": "63c6bcf7",
   "metadata": {},
   "outputs": [
    {
     "data": {
      "text/plain": [
       "' Hi I am Vishal Kumar. Would you like some help? '"
      ]
     },
     "execution_count": 24,
     "metadata": {},
     "output_type": "execute_result"
    }
   ],
   "source": [
    "#Replacing 2 or more whitespaces with a single one to make word spacing uniform\n",
    "re.sub(r' {2,}',' ','  Hi I  am     Vishal Kumar. Would you like  some    help?  ')"
   ]
  },
  {
   "cell_type": "code",
   "execution_count": null,
   "id": "01b1fc93",
   "metadata": {},
   "outputs": [],
   "source": []
  },
  {
   "cell_type": "markdown",
   "id": "9cd487bf",
   "metadata": {},
   "source": [
    "# Situation 9: Combining words that are hyphenated or space separated"
   ]
  },
  {
   "cell_type": "code",
   "execution_count": 25,
   "id": "07cee50e",
   "metadata": {},
   "outputs": [
    {
     "data": {
      "text/plain": [
       "'I like strawberry cheesecake more than blueberry cheesecake or chocolate cheesecake.'"
      ]
     },
     "execution_count": 25,
     "metadata": {},
     "output_type": "execute_result"
    }
   ],
   "source": [
    "#Combining words that are hyphenated or space separated\n",
    "re.sub(r'cheese[- ]?cake','cheesecake','I like strawberry cheese cake more than blueberry cheese-cake or chocolate cheesecake.')"
   ]
  },
  {
   "cell_type": "code",
   "execution_count": null,
   "id": "58512fe3",
   "metadata": {},
   "outputs": [],
   "source": []
  }
 ],
 "metadata": {
  "kernelspec": {
   "display_name": "Python 3",
   "language": "python",
   "name": "python3"
  },
  "language_info": {
   "codemirror_mode": {
    "name": "ipython",
    "version": 3
   },
   "file_extension": ".py",
   "mimetype": "text/x-python",
   "name": "python",
   "nbconvert_exporter": "python",
   "pygments_lexer": "ipython3",
   "version": "3.8.10"
  }
 },
 "nbformat": 4,
 "nbformat_minor": 5
}
