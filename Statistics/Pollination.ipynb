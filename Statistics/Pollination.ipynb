{
 "cells": [
  {
   "cell_type": "code",
   "execution_count": 1,
   "metadata": {},
   "outputs": [],
   "source": [
    "# #3. An experiment is conducted to study the hybrid seed production of bottle gourd under open field conditions. \n",
    "# The main aim of the investigation is to compare natural pollination and hand pollination. \n",
    "# The data are collected on 10 randomly selected plants from each of natural pollination and hand pollination. \n",
    "# The data are collected on fruit weight (kg), seed yield/plant (g) and seedling length (cm). (Data set: pollination.csv)\n",
    "# a. Is the overall population of Seed yield/plant (g) equals to 200?\n",
    "# b. Test whether the natural pollination and hand pollination under open field conditions are equally effective or are \n",
    "# significantly different."
   ]
  },
  {
   "cell_type": "code",
   "execution_count": 1,
   "metadata": {},
   "outputs": [
    {
     "data": {
      "text/html": [
       "<div>\n",
       "<style scoped>\n",
       "    .dataframe tbody tr th:only-of-type {\n",
       "        vertical-align: middle;\n",
       "    }\n",
       "\n",
       "    .dataframe tbody tr th {\n",
       "        vertical-align: top;\n",
       "    }\n",
       "\n",
       "    .dataframe thead th {\n",
       "        text-align: right;\n",
       "    }\n",
       "</style>\n",
       "<table border=\"1\" class=\"dataframe\">\n",
       "  <thead>\n",
       "    <tr style=\"text-align: right;\">\n",
       "      <th></th>\n",
       "      <th>Group</th>\n",
       "      <th>Fruit_Wt</th>\n",
       "      <th>Seed_Yield_Plant</th>\n",
       "      <th>Seedling_length</th>\n",
       "    </tr>\n",
       "  </thead>\n",
       "  <tbody>\n",
       "    <tr>\n",
       "      <th>0</th>\n",
       "      <td>Natural</td>\n",
       "      <td>1.85</td>\n",
       "      <td>147.70</td>\n",
       "      <td>16.86</td>\n",
       "    </tr>\n",
       "    <tr>\n",
       "      <th>1</th>\n",
       "      <td>Natural</td>\n",
       "      <td>1.86</td>\n",
       "      <td>136.86</td>\n",
       "      <td>16.77</td>\n",
       "    </tr>\n",
       "    <tr>\n",
       "      <th>2</th>\n",
       "      <td>Natural</td>\n",
       "      <td>1.83</td>\n",
       "      <td>149.97</td>\n",
       "      <td>16.35</td>\n",
       "    </tr>\n",
       "    <tr>\n",
       "      <th>3</th>\n",
       "      <td>Natural</td>\n",
       "      <td>1.89</td>\n",
       "      <td>172.33</td>\n",
       "      <td>18.26</td>\n",
       "    </tr>\n",
       "    <tr>\n",
       "      <th>4</th>\n",
       "      <td>Natural</td>\n",
       "      <td>1.80</td>\n",
       "      <td>144.46</td>\n",
       "      <td>17.90</td>\n",
       "    </tr>\n",
       "    <tr>\n",
       "      <th>5</th>\n",
       "      <td>Natural</td>\n",
       "      <td>1.88</td>\n",
       "      <td>138.30</td>\n",
       "      <td>16.95</td>\n",
       "    </tr>\n",
       "    <tr>\n",
       "      <th>6</th>\n",
       "      <td>Natural</td>\n",
       "      <td>1.89</td>\n",
       "      <td>150.58</td>\n",
       "      <td>18.15</td>\n",
       "    </tr>\n",
       "    <tr>\n",
       "      <th>7</th>\n",
       "      <td>Natural</td>\n",
       "      <td>1.79</td>\n",
       "      <td>140.99</td>\n",
       "      <td>18.86</td>\n",
       "    </tr>\n",
       "    <tr>\n",
       "      <th>8</th>\n",
       "      <td>Natural</td>\n",
       "      <td>1.85</td>\n",
       "      <td>140.57</td>\n",
       "      <td>18.39</td>\n",
       "    </tr>\n",
       "    <tr>\n",
       "      <th>9</th>\n",
       "      <td>Natural</td>\n",
       "      <td>1.84</td>\n",
       "      <td>138.33</td>\n",
       "      <td>18.58</td>\n",
       "    </tr>\n",
       "    <tr>\n",
       "      <th>10</th>\n",
       "      <td>Hand</td>\n",
       "      <td>2.58</td>\n",
       "      <td>224.26</td>\n",
       "      <td>18.18</td>\n",
       "    </tr>\n",
       "    <tr>\n",
       "      <th>11</th>\n",
       "      <td>Hand</td>\n",
       "      <td>2.74</td>\n",
       "      <td>197.50</td>\n",
       "      <td>18.07</td>\n",
       "    </tr>\n",
       "    <tr>\n",
       "      <th>12</th>\n",
       "      <td>Hand</td>\n",
       "      <td>2.58</td>\n",
       "      <td>230.34</td>\n",
       "      <td>19.07</td>\n",
       "    </tr>\n",
       "    <tr>\n",
       "      <th>13</th>\n",
       "      <td>Hand</td>\n",
       "      <td>2.62</td>\n",
       "      <td>217.05</td>\n",
       "      <td>19.00</td>\n",
       "    </tr>\n",
       "    <tr>\n",
       "      <th>14</th>\n",
       "      <td>Hand</td>\n",
       "      <td>2.68</td>\n",
       "      <td>233.84</td>\n",
       "      <td>18.00</td>\n",
       "    </tr>\n",
       "    <tr>\n",
       "      <th>15</th>\n",
       "      <td>Hand</td>\n",
       "      <td>2.56</td>\n",
       "      <td>216.52</td>\n",
       "      <td>18.49</td>\n",
       "    </tr>\n",
       "    <tr>\n",
       "      <th>16</th>\n",
       "      <td>Hand</td>\n",
       "      <td>2.34</td>\n",
       "      <td>211.93</td>\n",
       "      <td>17.45</td>\n",
       "    </tr>\n",
       "    <tr>\n",
       "      <th>17</th>\n",
       "      <td>Hand</td>\n",
       "      <td>2.67</td>\n",
       "      <td>210.37</td>\n",
       "      <td>18.97</td>\n",
       "    </tr>\n",
       "    <tr>\n",
       "      <th>18</th>\n",
       "      <td>Hand</td>\n",
       "      <td>2.45</td>\n",
       "      <td>199.87</td>\n",
       "      <td>19.31</td>\n",
       "    </tr>\n",
       "    <tr>\n",
       "      <th>19</th>\n",
       "      <td>Hand</td>\n",
       "      <td>2.44</td>\n",
       "      <td>214.30</td>\n",
       "      <td>19.36</td>\n",
       "    </tr>\n",
       "  </tbody>\n",
       "</table>\n",
       "</div>"
      ],
      "text/plain": [
       "      Group  Fruit_Wt  Seed_Yield_Plant  Seedling_length\n",
       "0   Natural      1.85            147.70            16.86\n",
       "1   Natural      1.86            136.86            16.77\n",
       "2   Natural      1.83            149.97            16.35\n",
       "3   Natural      1.89            172.33            18.26\n",
       "4   Natural      1.80            144.46            17.90\n",
       "5   Natural      1.88            138.30            16.95\n",
       "6   Natural      1.89            150.58            18.15\n",
       "7   Natural      1.79            140.99            18.86\n",
       "8   Natural      1.85            140.57            18.39\n",
       "9   Natural      1.84            138.33            18.58\n",
       "10     Hand      2.58            224.26            18.18\n",
       "11     Hand      2.74            197.50            18.07\n",
       "12     Hand      2.58            230.34            19.07\n",
       "13     Hand      2.62            217.05            19.00\n",
       "14     Hand      2.68            233.84            18.00\n",
       "15     Hand      2.56            216.52            18.49\n",
       "16     Hand      2.34            211.93            17.45\n",
       "17     Hand      2.67            210.37            18.97\n",
       "18     Hand      2.45            199.87            19.31\n",
       "19     Hand      2.44            214.30            19.36"
      ]
     },
     "execution_count": 1,
     "metadata": {},
     "output_type": "execute_result"
    }
   ],
   "source": [
    "import numpy as np\n",
    "import pandas as pd\n",
    "import scipy.stats as stats\n",
    "\n",
    "pollinationDF = pd.read_csv(\"pollination.csv\")\n",
    "pollinationDF"
   ]
  },
  {
   "cell_type": "code",
   "execution_count": 5,
   "metadata": {},
   "outputs": [],
   "source": [
    "##Step 1: Checking if sample truly represents the population or not::\n",
    "#Yes\n",
    "\n",
    "\n",
    "##Step 2: Defining Null & Alt Hypothesis::\n",
    "#Null hypothesis: There is no significance of production under open field conditions.\n",
    "#Alt hypothesis: There is a significance of production under open field conditions.\n",
    "\n",
    "\n",
    "##Step 3: Will decide what test to be done, based on the data::\n",
    "#The independent two-sample t-test is used to test whether population means are significantly different from each other.\n",
    "#Independent samples are randomly drawn using the means.\n"
   ]
  },
  {
   "cell_type": "code",
   "execution_count": 7,
   "metadata": {},
   "outputs": [
    {
     "name": "stdout",
     "output_type": "stream",
     "text": [
      "The overall population of Seed yield/plant: 180.8035\n"
     ]
    }
   ],
   "source": [
    "##Step 4: Will calculate the test statistic – it will be the Program Output::\n",
    "print(\"The overall population of Seed yield/plant: {}\".format(pollinationDF.Seed_Yield_Plant.mean()))\n",
    "\n"
   ]
  },
  {
   "cell_type": "code",
   "execution_count": 9,
   "metadata": {},
   "outputs": [
    {
     "name": "stdout",
     "output_type": "stream",
     "text": [
      "The average of natural_promo: Fruit_Wt              1.848\n",
      "Seed_Yield_Plant    146.009\n",
      "Seedling_length      17.707\n",
      "dtype: float64\n",
      "\n",
      "The average of hand_promo: Fruit_Wt              2.566\n",
      "Seed_Yield_Plant    215.598\n",
      "Seedling_length      18.590\n",
      "dtype: float64\n"
     ]
    }
   ],
   "source": [
    "natural_promo = pollinationDF[(pollinationDF['Group'] == 'Natural')]\n",
    "hand_promo = pollinationDF[(pollinationDF['Group'] == 'Hand')]\n",
    "\n",
    "print(\"The average of natural_promo: {}\".format(natural_promo.mean()))\n",
    "print()\n",
    "print(\"The average of hand_promo: {}\".format(hand_promo.mean()))"
   ]
  },
  {
   "cell_type": "code",
   "execution_count": 10,
   "metadata": {},
   "outputs": [
    {
     "name": "stdout",
     "output_type": "stream",
     "text": [
      "-17.669989614440286\n"
     ]
    }
   ],
   "source": [
    "uneq_var_Fruit_Wt = stats.ttest_ind(a = natural_promo.Fruit_Wt, b= hand_promo.Fruit_Wt, equal_var=False)  #Different variance\n",
    "print(uneq_var_Fruit_Wt.statistic)"
   ]
  },
  {
   "cell_type": "code",
   "execution_count": 11,
   "metadata": {},
   "outputs": [
    {
     "name": "stdout",
     "output_type": "stream",
     "text": [
      "-17.669989614440286\n",
      "p-value of Fruit_Wt: 8.078362076486221e-13\n"
     ]
    }
   ],
   "source": [
    "eq_var_Fruit_Wt = stats.ttest_ind(a = natural_promo.Fruit_Wt, b= hand_promo.Fruit_Wt, equal_var=True)  #Equal variance\n",
    "print(eq_var_Fruit_Wt.statistic)\n",
    "print(\"p-value of Fruit_Wt: {}\".format(eq_var_Fruit_Wt.pvalue))"
   ]
  },
  {
   "cell_type": "code",
   "execution_count": 13,
   "metadata": {},
   "outputs": [
    {
     "name": "stdout",
     "output_type": "stream",
     "text": [
      "-13.958260515902547\n"
     ]
    }
   ],
   "source": [
    "uneq_var_Seed_Yield_Plant = stats.ttest_ind(a = natural_promo.Seed_Yield_Plant, b= hand_promo.Seed_Yield_Plant, equal_var=False)  #Different variance\n",
    "print(uneq_var_Seed_Yield_Plant.statistic)"
   ]
  },
  {
   "cell_type": "code",
   "execution_count": 14,
   "metadata": {},
   "outputs": [
    {
     "name": "stdout",
     "output_type": "stream",
     "text": [
      "-13.958260515902547\n",
      "p-value of Seed_Yield_Plant: 4.271481585484385e-11\n"
     ]
    }
   ],
   "source": [
    "eq_var_Seed_Yield_Plant= stats.ttest_ind(a = natural_promo.Seed_Yield_Plant, b= hand_promo.Seed_Yield_Plant, equal_var=True)  #Equal variance\n",
    "print(eq_var_Seed_Yield_Plant.statistic)\n",
    "print(\"p-value of Seed_Yield_Plant: {}\".format(eq_var_Seed_Yield_Plant.pvalue))"
   ]
  },
  {
   "cell_type": "code",
   "execution_count": 15,
   "metadata": {},
   "outputs": [
    {
     "name": "stdout",
     "output_type": "stream",
     "text": [
      "-2.542229999657055\n"
     ]
    }
   ],
   "source": [
    "uneq_var_Seedling_length = stats.ttest_ind(a = natural_promo.Seedling_length, b= hand_promo.Seedling_length, equal_var=False)  #Different variance\n",
    "print(uneq_var_Seedling_length.statistic)"
   ]
  },
  {
   "cell_type": "code",
   "execution_count": 16,
   "metadata": {},
   "outputs": [
    {
     "name": "stdout",
     "output_type": "stream",
     "text": [
      "-2.542229999657055\n",
      "p-value of Seedling_length: 0.020428817064110226\n"
     ]
    }
   ],
   "source": [
    "eq_var_Seedling_length = stats.ttest_ind(a = natural_promo.Seedling_length, b= hand_promo.Seedling_length, equal_var=True)  #Equal variance\n",
    "print(eq_var_Seedling_length.statistic)\n",
    "print(\"p-value of Seedling_length: {}\".format(eq_var_Seedling_length.pvalue))"
   ]
  },
  {
   "cell_type": "code",
   "execution_count": 17,
   "metadata": {},
   "outputs": [
    {
     "name": "stdout",
     "output_type": "stream",
     "text": [
      "a. The overall population of Seed yield/plant: 180.8035 < 200\n",
      "False\n",
      "b.Conclusion: Since the p value supports the evidence of rejecting H0, will conclude that     Natural Seed_Yield_Plant == Hand Seed_Yield_Plant. No significant difference.\n"
     ]
    }
   ],
   "source": [
    "##Step 5: Final conclusion based on p-value::\n",
    "#Conclusion::\n",
    "print('a. The overall population of Seed yield/plant: 180.8035 < 200')\n",
    "print(eq_var_Fruit_Wt.pvalue > 0.05)\n",
    "print('b.Conclusion: Since the p value supports the evidence of rejecting H0, will conclude that \\\n",
    "    Natural Seed_Yield_Plant == Hand Seed_Yield_Plant. No significant difference.')"
   ]
  },
  {
   "cell_type": "code",
   "execution_count": 18,
   "metadata": {},
   "outputs": [
    {
     "name": "stdout",
     "output_type": "stream",
     "text": [
      "False\n",
      "b.Conclusion: Since the p value supports the evidence of rejecting H0, will conclude that     Natural Seedling_length == Hand Seedling_length. No significant difference.\n"
     ]
    }
   ],
   "source": [
    "print(eq_var_Seedling_length.pvalue > 0.05)\n",
    "print('b.Conclusion: Since the p value supports the evidence of rejecting H0, will conclude that \\\n",
    "    Natural Seedling_length == Hand Seedling_length. No significant difference.')"
   ]
  },
  {
   "cell_type": "code",
   "execution_count": null,
   "metadata": {},
   "outputs": [],
   "source": []
  }
 ],
 "metadata": {
  "kernelspec": {
   "display_name": "Python 3",
   "language": "python",
   "name": "python3"
  },
  "language_info": {
   "codemirror_mode": {
    "name": "ipython",
    "version": 3
   },
   "file_extension": ".py",
   "mimetype": "text/x-python",
   "name": "python",
   "nbconvert_exporter": "python",
   "pygments_lexer": "ipython3",
   "version": "3.8.5"
  }
 },
 "nbformat": 4,
 "nbformat_minor": 4
}
