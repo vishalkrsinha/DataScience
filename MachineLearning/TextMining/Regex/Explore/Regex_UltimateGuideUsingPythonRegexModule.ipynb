{
 "cells": [
  {
   "cell_type": "markdown",
   "id": "2a7bcc8c",
   "metadata": {},
   "source": [
    "source:: https://towardsdatascience.com/the-ultimate-guide-to-using-the-python-regex-module-69aad9e9ba56"
   ]
  },
  {
   "cell_type": "code",
   "execution_count": 5,
   "id": "c8793b25",
   "metadata": {},
   "outputs": [],
   "source": [
    "import re"
   ]
  },
  {
   "cell_type": "markdown",
   "id": "3a71ac3d",
   "metadata": {},
   "source": [
    "# 1. Finding number of punctuations in a particular piece of text.."
   ]
  },
  {
   "cell_type": "code",
   "execution_count": 4,
   "id": "d4e797b3",
   "metadata": {},
   "outputs": [
    {
     "name": "stdout",
     "output_type": "stream",
     "text": [
      "19\n"
     ]
    }
   ],
   "source": [
    "string = '''\n",
    "It was the best of times, it was the worst of times, it was the age of wisdom, it was the age of foolishness, \n",
    "it was the epoch of belief, it was the epoch of incredulity, it was the season of Light, it was the season of Darkness, \n",
    "it was the spring of hope, it was the winter of despair, we had everything before us, we had nothing before us, \n",
    "we were all going direct to Heaven, we were all going direct the other way – in short, the period was so far like the present \n",
    "period, that some of its noisiest authorities insisted on its being received, for good or for evil, in the superlative degree \n",
    "of comparison only.\n",
    "'''\n",
    "\n",
    "pattern = r\"[;.,–]\"  \n",
    "print(len(re.findall(pattern,string)))"
   ]
  },
  {
   "cell_type": "markdown",
   "id": "7396aefb",
   "metadata": {},
   "source": [
    "# 2. Creating Patterns..."
   ]
  },
  {
   "cell_type": "code",
   "execution_count": 6,
   "id": "694e9526",
   "metadata": {},
   "outputs": [
    {
     "name": "stdout",
     "output_type": "stream",
     "text": [
      "2\n"
     ]
    }
   ],
   "source": [
    "pattern = r'times'\n",
    "string = \"It was the best of times, it was the worst of times.\"\n",
    "print(len(re.findall(pattern,string)))"
   ]
  },
  {
   "cell_type": "markdown",
   "id": "ae659098",
   "metadata": {},
   "source": [
    "# 2.1 the [] operator"
   ]
  },
  {
   "cell_type": "code",
   "execution_count": 7,
   "id": "0698a35c",
   "metadata": {},
   "outputs": [
    {
     "name": "stdout",
     "output_type": "stream",
     "text": [
      "39\n"
     ]
    }
   ],
   "source": [
    "pattern = r'[a-zA-Z]'\n",
    "string = \"It was the best of times, it was the worst of times.\"\n",
    "print(len(re.findall(pattern,string)))"
   ]
  },
  {
   "cell_type": "markdown",
   "id": "59294c1d",
   "metadata": {},
   "source": [
    "# 2.2. The dot Operator"
   ]
  },
  {
   "cell_type": "code",
   "execution_count": 9,
   "id": "d93bc911",
   "metadata": {},
   "outputs": [
    {
     "name": "stdout",
     "output_type": "stream",
     "text": [
      "['Darkne', 'degree']\n"
     ]
    }
   ],
   "source": [
    "#The dot operator(.) is used to match a single instance of any character except the newline character.\n",
    "\n",
    "##find out the substrings in the string that start with small d or Capital D and end with e with a length of 6.\n",
    "string = '''\n",
    "It was the best of times, it was the worst of times, it was the age of wisdom, it was the age of foolishness, \n",
    "it was the epoch of belief, it was the epoch of incredulity, it was the season of Light, it was the season of Darkness, \n",
    "it was the spring of hope, it was the winter of despair, we had everything before us, we had nothing before us, \n",
    "we were all going direct to Heaven, we were all going direct the other way – in short, the period was so far like the present \n",
    "period, that some of its noisiest authorities insisted on its being received, for good or for evil, in the superlative degree \n",
    "of comparison only.\n",
    "'''\n",
    "\n",
    "pattern = r\"[dD]....e\"  \n",
    "print(re.findall(pattern,string))"
   ]
  },
  {
   "cell_type": "markdown",
   "id": "ff4576d3",
   "metadata": {},
   "source": [
    "# 2.3. Some Meta Sequences"
   ]
  },
  {
   "cell_type": "code",
   "execution_count": 12,
   "id": "e05d6944",
   "metadata": {},
   "outputs": [],
   "source": [
    "# \\w, Matches any letter, digit or underscore. Equivalent to [a-zA-Z0–9_]\n",
    "\n",
    "# \\W, Matches anything other than a letter, digit or underscore.\n",
    "\n",
    "# \\d, Matches any decimal digit. Equivalent to [0–9].\n",
    "\n",
    "# \\D, Matches anything other than a decimal digit.\n"
   ]
  },
  {
   "cell_type": "markdown",
   "id": "90237c35",
   "metadata": {},
   "source": [
    "# 2.4. The Plus and Star operator"
   ]
  },
  {
   "cell_type": "code",
   "execution_count": 15,
   "id": "e3b578a6",
   "metadata": {},
   "outputs": [
    {
     "name": "stdout",
     "output_type": "stream",
     "text": [
      "['dire', 'dire', 'degree']\n"
     ]
    }
   ],
   "source": [
    "#find out all substrings that start with d and end with e with at least one character between d and e, we can use: d\\w+e\n",
    "string = '''\n",
    "It was the best of times, it was the worst of times, it was the age of wisdom, it was the age of foolishness, \n",
    "it was the epoch of belief, it was the epoch of incredulity, it was the season of Light, it was the season of Darkness, \n",
    "it was the spring of hope, it was the winter of despair, we had everything before us, we had nothing before us, \n",
    "we were all going direct to Heaven, we were all going direct the other way – in short, the period was so far like the present \n",
    "period, that some of its noisiest authorities insisted on its being received, for good or for evil, in the superlative degree \n",
    "of comparison only.\n",
    "'''\n",
    "\n",
    "pattern = r\"d\\w+e\"  \n",
    "print(re.findall(pattern,string))\n",
    "\n",
    "\n",
    "# We could also have used a more generic approach using {}\n",
    "\n",
    "# \\w{n} - Repeat \\w exactly n number of times.\n",
    "\n",
    "# \\w{n,} - Repeat \\w at least n times or more.\n",
    "\n",
    "# \\w{n1, n2} - Repeat \\w at least n1 times but no more than n2 times."
   ]
  },
  {
   "cell_type": "markdown",
   "id": "0bdf38ea",
   "metadata": {},
   "source": [
    "# 2.5. ^ Caret Operator and $ Dollar operator.\n",
    "\n"
   ]
  },
  {
   "cell_type": "code",
   "execution_count": 17,
   "id": "4a824643",
   "metadata": {},
   "outputs": [
    {
     "name": "stdout",
     "output_type": "stream",
     "text": [
      "['best']\n",
      "['time']\n"
     ]
    }
   ],
   "source": [
    "#'^' Matches the start of a string, and '$' Matches the end of the string.\n",
    "string = r'best time best time'\n",
    "\n",
    "pattern = r\"^best\"  \n",
    "print(re.findall(pattern,string))\n",
    "\n",
    "pattern1 = r\"time$\"  \n",
    "print(re.findall(pattern1,string))"
   ]
  },
  {
   "cell_type": "markdown",
   "id": "603fdaf2",
   "metadata": {},
   "source": [
    "# 2.6. Word Boundary"
   ]
  },
  {
   "cell_type": "code",
   "execution_count": 19,
   "id": "b9020a26",
   "metadata": {},
   "outputs": [
    {
     "name": "stdout",
     "output_type": "stream",
     "text": [
      "['dom', 'dulity', 'despair', 'd', 'd', 'direct', 'direct', 'd', 'd', 'd', 'd', 'd', 'degree']\n",
      "['despair', 'direct', 'direct', 'degree']\n"
     ]
    }
   ],
   "source": [
    "string = '''\n",
    "It was the best of times, it was the worst of times, it was the age of wisdom, it was the age of foolishness, \n",
    "it was the epoch of belief, it was the epoch of incredulity, it was the season of Light, it was the season of Darkness, \n",
    "it was the spring of hope, it was the winter of despair, we had everything before us, we had nothing before us, \n",
    "we were all going direct to Heaven, we were all going direct the other way – in short, the period was so far like the present \n",
    "period, that some of its noisiest authorities insisted on its being received, for good or for evil, in the superlative degree \n",
    "of comparison only.\n",
    "'''\n",
    "\n",
    "pattern = r\"d\\w*\"  \n",
    "print(re.findall(pattern,string))\n",
    "\n",
    "pattern = r\"\\bd\\w*\"  \n",
    "print(re.findall(pattern,string))"
   ]
  },
  {
   "cell_type": "code",
   "execution_count": null,
   "id": "cddd5680",
   "metadata": {},
   "outputs": [],
   "source": []
  },
  {
   "cell_type": "markdown",
   "id": "8610f6a9",
   "metadata": {},
   "source": [
    "# 3. Regex Functions"
   ]
  },
  {
   "cell_type": "markdown",
   "id": "cae6e7a1",
   "metadata": {},
   "source": [
    "# 3.1 findall"
   ]
  },
  {
   "cell_type": "code",
   "execution_count": 20,
   "id": "f27145dc",
   "metadata": {},
   "outputs": [
    {
     "name": "stdout",
     "output_type": "stream",
     "text": [
      "It\n",
      "it\n"
     ]
    }
   ],
   "source": [
    "#USAGE:\n",
    "pattern = r'[iI]t'\n",
    "string = \"It was the best of times, it was the worst of times.\"\n",
    "\n",
    "matches = re.findall(pattern,string)\n",
    "for match in matches:\n",
    "    print(match)"
   ]
  },
  {
   "cell_type": "markdown",
   "id": "e3d12e78",
   "metadata": {},
   "source": [
    "# 3.2 Search"
   ]
  },
  {
   "cell_type": "code",
   "execution_count": 22,
   "id": "25d045e3",
   "metadata": {},
   "outputs": [
    {
     "name": "stdout",
     "output_type": "stream",
     "text": [
      "<re.Match object; span=(0, 2), match='It'>\n",
      "It\n"
     ]
    }
   ],
   "source": [
    "#USAGE:\n",
    "pattern = r'[iI]t'\n",
    "string = \"It was the best of times, it was the worst of times.\"\n",
    "\n",
    "location = re.search(pattern,string)\n",
    "print(location)\n",
    "\n",
    "#We can get this location object's data using\n",
    "print(location.group())"
   ]
  },
  {
   "cell_type": "markdown",
   "id": "db0756c1",
   "metadata": {},
   "source": [
    "# 3.3 Substitute"
   ]
  },
  {
   "cell_type": "code",
   "execution_count": 23,
   "id": "e2f3965b",
   "metadata": {},
   "outputs": [
    {
     "name": "stdout",
     "output_type": "stream",
     "text": [
      "It was the best of life, it was the worst of life.\n"
     ]
    }
   ],
   "source": [
    "string = \"It was the best of times, it was the worst of times.\"\n",
    "string = re.sub(r'times', r'life', string)\n",
    "print(string)"
   ]
  },
  {
   "cell_type": "code",
   "execution_count": null,
   "id": "e2644490",
   "metadata": {},
   "outputs": [],
   "source": []
  },
  {
   "cell_type": "markdown",
   "id": "5f9d432e",
   "metadata": {},
   "source": [
    "# 4. Some Case Studies:\n",
    "    "
   ]
  },
  {
   "cell_type": "markdown",
   "id": "8c52026b",
   "metadata": {},
   "source": [
    "# 4.1 PAN Numbers:"
   ]
  },
  {
   "cell_type": "code",
   "execution_count": 25,
   "id": "2ce1425f",
   "metadata": {},
   "outputs": [
    {
     "name": "stdout",
     "output_type": "stream",
     "text": [
      "False\n"
     ]
    }
   ],
   "source": [
    "#The basic validation criteria for PAN is that it must have all its letters in uppercase and characters in the following order:\n",
    "## <char><char><char><char><char><digit><digit><digit><digit><char>\n",
    "\n",
    "### Is ‘ABcDE1234L’ a valid PAN?\n",
    "match=re.search(r'[A-Z]{5}[0–9]{4}[A-Z]','ABcDE1234L')\n",
    "if match:\n",
    "    print(True)\n",
    "else:\n",
    "    print(False)"
   ]
  },
  {
   "cell_type": "markdown",
   "id": "4aa0d347",
   "metadata": {},
   "source": [
    "# 4.2 Find Domain Names"
   ]
  },
  {
   "cell_type": "code",
   "execution_count": 26,
   "id": "142c6ec6",
   "metadata": {},
   "outputs": [
    {
     "name": "stdout",
     "output_type": "stream",
     "text": [
      "(':', 'www.', 'askoxford.com')\n",
      "(':', 'www.', 'hydrogencarsnow.com')\n",
      "(':', 'www.', 'bnsf.com')\n",
      "(':', '', 'web.archive.org')\n",
      "(':', 'www.', 'mrvc.indianrail.gov.in')\n",
      "(':', 'www.', 'mrvc.indianrail.gov.in')\n"
     ]
    }
   ],
   "source": [
    "string = '''\n",
    "<div class=\"reflist\" style=\"list-style-type: decimal;\">\n",
    "<ol class=\"references\">\n",
    "<li id=\"cite_note-1\"><span class=\"mw-cite-backlink\"><b>^ [\"Train (noun)\"](http://www.askoxford.com/concise_oed/train?view=uk). <i>(definition – Compact OED)</i>. Oxford University Press<span class=\"reference-accessdate\">. Retrieved 2008-03-18</span>.</span><span title=\"ctx_ver=Z39.88-2004&rfr_id=info%3Asid%2Fen.wikipedia.org%3ATrain&rft.atitle=Train+%28noun%29&rft.genre=article&rft_id=http%3A%2F%2Fwww.askoxford.com%2Fconcise_oed%2Ftrain%3Fview%3Duk&rft.jtitle=%28definition+%E2%80%93+Compact+OED%29&rft.pub=Oxford+University+Press&rft_val_fmt=info%3Aofi%2Ffmt%3Akev%3Amtx%3Ajournal\" class=\"Z3988\"><span style=\"display:none;\"> </span></span></span></li>\n",
    "<li id=\"cite_note-2\"><span class=\"mw-cite-backlink\"><b>^</b></span> <span class=\"reference-text\"><span class=\"citation book\">Atchison, Topeka and Santa Fe Railway (1948). <i>Rules: Operating Department</i>. p. 7.</span><span title=\"ctx_ver=Z39.88-2004&rfr_id=info%3Asid%2Fen.wikipedia.org%3ATrain&rft.au=Atchison%2C+Topeka+and+Santa+Fe+Railway&rft.aulast=Atchison%2C+Topeka+and+Santa+Fe+Railway&rft.btitle=Rules%3A+Operating+Department&rft.date=1948&rft.genre=book&rft.pages=7&rft_val_fmt=info%3Aofi%2Ffmt%3Akev%3Amtx%3Abook\" class=\"Z3988\"><span style=\"display:none;\"> </span></span></span></li>\n",
    "<li id=\"cite_note-3\"><span class=\"mw-cite-backlink\"><b>^ [Hydrogen trains](http://www.hydrogencarsnow.com/blog2/index.php/hydrogen-vehicles/i-hear-the-hydrogen-train-a-comin-its-rolling-round-the-bend/)</span></li>\n",
    "<li id=\"cite_note-4\"><span class=\"mw-cite-backlink\"><b>^ [Vehicle Projects Inc. Fuel cell locomotive](http://www.bnsf.com/media/news/articles/2008/01/2008-01-09a.html)</span></li>\n",
    "<li id=\"cite_note-5\"><span class=\"mw-cite-backlink\"><b>^</b></span> <span class=\"reference-text\"><span class=\"citation book\">Central Japan Railway (2006). <i>Central Japan Railway Data Book 2006</i>. p. 16.</span><span title=\"ctx_ver=Z39.88-2004&rfr_id=info%3Asid%2Fen.wikipedia.org%3ATrain&rft.au=Central+Japan+Railway&rft.aulast=Central+Japan+Railway&rft.btitle=Central+Japan+Railway+Data+Book+2006&rft.date=2006&rft.genre=book&rft.pages=16&rft_val_fmt=info%3Aofi%2Ffmt%3Akev%3Amtx%3Abook\" class=\"Z3988\"><span style=\"display:none;\"> </span></span></span></li>\n",
    "<li id=\"cite_note-6\"><span class=\"mw-cite-backlink\"><b>^ [\"Overview Of the existing Mumbai Suburban Railway\"](http://web.archive.org/web/20080620033027/http://www.mrvc.indianrail.gov.in/overview.htm). _Official webpage of Mumbai Railway Vikas Corporation_. Archived from [the original](http://www.mrvc.indianrail.gov.in/overview.htm) on 2008-06-20<span class=\"reference-accessdate\">. Retrieved 2008-12-11</span>.</span><span title=\"ctx_ver=Z39.88-2004&rfr_id=info%3Asid%2Fen.wikipedia.org%3ATrain&rft.atitle=Overview+Of+the+existing+Mumbai+Suburban+Railway&rft.genre=article&rft_id=http%3A%2F%2Fwww.mrvc.indianrail.gov.in%2Foverview.htm&rft.jtitle=Official+webpage+of+Mumbai+Railway+Vikas+Corporation&rft_val_fmt=info%3Aofi%2Ffmt%3Akev%3Amtx%3Ajournal\" class=\"Z3988\"><span style=\"display:none;\"> </span></span></span></li>\n",
    "</ol>\n",
    "</div>\n",
    "'''\n",
    "\n",
    "match=re.findall(r'http(s:|:)\\/\\/(www.|ww2.|)([0-9a-z.A-Z-]*\\.\\w{2,3})',string)  \n",
    "\n",
    "for elem in match:  \n",
    "    print(elem)"
   ]
  },
  {
   "cell_type": "markdown",
   "id": "3fecd064",
   "metadata": {},
   "source": [
    "# 4.3 Find Email Addresses:"
   ]
  },
  {
   "cell_type": "code",
   "execution_count": 31,
   "id": "b222f933",
   "metadata": {},
   "outputs": [],
   "source": [
    "string = '''\n",
    "<div class=\"reflist\" style=\"list-style-type: decimal;\">\n",
    "<ol class=\"references\">\n",
    "<li id=\"cite_note-1\"><span class=\"mw-cite-backlink\"><b>^ [\"Train (noun)\"](http://www.askoxford.com/concise_oed/train?view=uk). <i>(definition – Compact OED)</i>. Oxford University Press<span class=\"reference-accessdate\">. Retrieved 2008-03-18</span>.</span><span title=\"ctx_ver=Z39.88-2004&rfr_id=info%3Asid%2Fen.wikipedia.org%3ATrain&rft.atitle=Train+%28noun%29&rft.genre=article&rft_id=http%3A%2F%2Fwww.askoxford.com%2Fconcise_oed%2Ftrain%3Fview%3Duk&rft.jtitle=%28definition+%E2%80%93+Compact+OED%29&rft.pub=Oxford+University+Press&rft_val_fmt=info%3Aofi%2Ffmt%3Akev%3Amtx%3Ajournal\" class=\"Z3988\"><span style=\"display:none;\"> </span></span></span></li>\n",
    "<li id=\"cite_note-2\"><span class=\"mw-cite-backlink\"><b>^</b></span> <span class=\"reference-text\"><span class=\"citation book\">Atchison, Topeka and Santa Fe Railway (1948). <i>Rules: Operating Department</i>. p. 7.</span><span title=\"ctx_ver=Z39.88-2004&rfr_id=info%3Asid%2Fen.wikipedia.org%3ATrain&rft.au=Atchison%2C+Topeka+and+Santa+Fe+Railway&rft.aulast=Atchison%2C+Topeka+and+Santa+Fe+Railway&rft.btitle=Rules%3A+Operating+Department&rft.date=1948&rft.genre=book&rft.pages=7&rft_val_fmt=info%3Aofi%2Ffmt%3Akev%3Amtx%3Abook\" class=\"Z3988\"><span style=\"display:none;\"> </span></span></span></li>\n",
    "<li id=\"cite_note-3\"><span class=\"mw-cite-backlink\"><b>^ [Hydrogen trains](http://www.hydrogencarsnow.com/blog2/index.php/hydrogen-vehicles/i-hear-the-hydrogen-train-a-comin-its-rolling-round-the-bend/)</span></li>\n",
    "<li id=\"cite_note-4\"><span class=\"mw-cite-backlink\"><b>^ [Vehicle Projects Inc. Fuel cell locomotive](http://www.bnsf.com/media/news/articles/2008/01/2008-01-09a.html)</span></li>\n",
    "<li id=\"cite_note-5\"><span class=\"mw-cite-backlink\"><b>^</b></span> <span class=\"reference-text\"><span class=\"citation book\">Central Japan Railway (2006). <i>Central Japan Railway Data Book 2006</i>. p. 16.</span><span title=\"ctx_ver=Z39.88-2004&rfr_id=info%3Asid%2Fen.wikipedia.org%3ATrain&rft.au=Central+Japan+Railway&rft.aulast=Central+Japan+Railway&rft.btitle=Central+Japan+Railway+Data+Book+2006&rft.date=2006&rft.genre=book&rft.pages=16&rft_val_fmt=info%3Aofi%2Ffmt%3Akev%3Amtx%3Abook\" class=\"Z3988\"><span style=\"display:none;\"> </span></span></span></li>\n",
    "<li id=\"cite_note-6\"><span class=\"mw-cite-backlink\"><b>^ [\"Overview Of the existing Mumbai Suburban Railway\"](http://web.archive.org/web/20080620033027/http://www.mrvc.indianrail.gov.in/overview.htm). _Official webpage of Mumbai Railway Vikas Corporation_. Archived from [the original](http://www.mrvc.indianrail.gov.in/overview.htm) on 2008-06-20<span class=\"reference-accessdate\">. Retrieved 2008-12-11</span>.</span><span title=\"ctx_ver=Z39.88-2004&rfr_id=info%3Asid%2Fen.wikipedia.org%3ATrain&rft.atitle=Overview+Of+the+existing+Mumbai+Suburban+Railway&rft.genre=article&rft_id=http%3A%2F%2Fwww.mrvc.indianrail.gov.in%2Foverview.htm&rft.jtitle=Official+webpage+of+Mumbai+Railway+Vikas+Corporation&rft_val_fmt=info%3Aofi%2Ffmt%3Akev%3Amtx%3Ajournal\" class=\"Z3988\"><span style=\"display:none;\"> </span></span></span></li>\n",
    "</ol>\n",
    "</div>\n",
    "'''\n",
    "match=re.findall(r'([\\w0-9-._]+@[\\w0-9-.]+[\\w0-9]{2,3})',string)"
   ]
  },
  {
   "cell_type": "code",
   "execution_count": null,
   "id": "8956fa65",
   "metadata": {},
   "outputs": [],
   "source": []
  }
 ],
 "metadata": {
  "kernelspec": {
   "display_name": "Python 3",
   "language": "python",
   "name": "python3"
  },
  "language_info": {
   "codemirror_mode": {
    "name": "ipython",
    "version": 3
   },
   "file_extension": ".py",
   "mimetype": "text/x-python",
   "name": "python",
   "nbconvert_exporter": "python",
   "pygments_lexer": "ipython3",
   "version": "3.8.10"
  }
 },
 "nbformat": 4,
 "nbformat_minor": 5
}
