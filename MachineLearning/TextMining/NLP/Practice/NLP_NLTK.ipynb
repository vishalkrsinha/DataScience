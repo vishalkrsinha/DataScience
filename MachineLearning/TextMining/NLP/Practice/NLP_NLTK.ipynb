{
 "cells": [
  {
   "cell_type": "code",
   "execution_count": 48,
   "id": "c2388004",
   "metadata": {},
   "outputs": [],
   "source": [
    "import nltk #Natural Language Tool Kit\n",
    "from nltk.tokenize import sent_tokenize, word_tokenize"
   ]
  },
  {
   "cell_type": "code",
   "execution_count": 49,
   "id": "c370918d",
   "metadata": {},
   "outputs": [
    {
     "name": "stdout",
     "output_type": "stream",
     "text": [
      "['It is important to by very pythonly while you are pythoning with python.', 'All pythoners have pythoned poorly at least once.']\n"
     ]
    }
   ],
   "source": [
    "# create example text\n",
    "EXAMPLE_TEXT = \"It is important to by very pythonly while you are pythoning with python. All pythoners have pythoned poorly at least once.\"\n",
    "print(sent_tokenize(EXAMPLE_TEXT)) #Tokenizing in sentences"
   ]
  },
  {
   "cell_type": "code",
   "execution_count": 50,
   "id": "d074ec65",
   "metadata": {},
   "outputs": [
    {
     "name": "stdout",
     "output_type": "stream",
     "text": [
      "['It', 'is', 'important', 'to', 'by', 'very', 'pythonly', 'while', 'you', 'are', 'pythoning', 'with', 'python', '.', 'All', 'pythoners', 'have', 'pythoned', 'poorly', 'at', 'least', 'once', '.']\n"
     ]
    }
   ],
   "source": [
    "print(word_tokenize(EXAMPLE_TEXT)) #Tokenizing in words\n",
    "\n",
    "##Most of the times, we use word_tokenize but not the sentence_tokenize"
   ]
  },
  {
   "cell_type": "code",
   "execution_count": 51,
   "id": "6210a9b4",
   "metadata": {},
   "outputs": [
    {
     "name": "stdout",
     "output_type": "stream",
     "text": [
      "{'out', 'until', 'down', \"haven't\", 'but', 'needn', 'mustn', 'hers', 'itself', 'there', 'she', \"aren't\", \"should've\", 'than', 'whom', 'my', 'don', 'll', 'i', 'our', 'how', 'y', 'the', 't', 'once', \"needn't\", 'yourself', \"it's\", 'now', 'them', 'myself', 'into', 'theirs', 'at', 'those', 'her', 'each', 'with', 'ma', \"shan't\", 'you', 'being', 'on', 'and', 'such', 'me', 'which', 'hasn', 'shouldn', 'we', 'your', 'against', \"mustn't\", 'o', 'are', 'himself', 'doing', 'these', 'all', 'were', 'too', \"you've\", 'he', 'further', 'why', \"shouldn't\", 'am', \"hadn't\", 'about', 're', 'very', 'this', 'couldn', 'should', 'then', 'other', 'has', 'in', 'same', 'if', \"you're\", 'is', 'mightn', 'who', \"didn't\", \"doesn't\", \"you'll\", 'did', 'ourselves', 'between', 'does', 'an', 'during', 'wouldn', 'their', 'have', 'had', 'again', 'can', 'ain', 'isn', 'for', 'him', \"you'd\", 'its', 'some', 'of', \"couldn't\", 'below', 'it', 'to', 'before', 'more', 'was', 'been', 'no', 'doesn', 'haven', 'won', 'under', 'd', \"won't\", 'above', 'themselves', \"don't\", 'while', 's', 'only', 'weren', 'his', 'hadn', 'didn', 'herself', 'few', 'from', 'when', \"isn't\", 'up', \"wasn't\", 'because', 'what', \"mightn't\", 'be', 'by', 'wasn', 'yourselves', 'as', \"hasn't\", 'here', 'that', 'm', 'both', \"she's\", 'any', 'ours', 'nor', 'not', \"wouldn't\", 'shan', 'they', 'own', 'through', 've', \"that'll\", 'where', 'most', 'or', 'do', 'after', \"weren't\", 'just', 'having', 'a', 'off', 'so', 'aren', 'will', 'over', 'yours'}\n"
     ]
    }
   ],
   "source": [
    "#Removing Stop words\n",
    "from nltk.corpus import stopwords\n",
    "stop_words = set(stopwords.words('english'))\n",
    "print(stop_words)"
   ]
  },
  {
   "cell_type": "code",
   "execution_count": 52,
   "id": "4929ee89",
   "metadata": {},
   "outputs": [
    {
     "name": "stdout",
     "output_type": "stream",
     "text": [
      "['It', 'is', 'important', 'to', 'by', 'very', 'pythonly', 'while', 'you', 'are', 'pythoning', 'with', 'python', '.', 'All', 'pythoners', 'have', 'pythoned', 'poorly', 'at', 'least', 'once', '.']\n"
     ]
    }
   ],
   "source": [
    "#Printing Stop words\n",
    "word_tokens = word_tokenize(EXAMPLE_TEXT)\n",
    "print(word_tokens)"
   ]
  },
  {
   "cell_type": "code",
   "execution_count": 53,
   "id": "510ea2c4",
   "metadata": {},
   "outputs": [
    {
     "name": "stdout",
     "output_type": "stream",
     "text": [
      "['It', 'important', 'pythonly', 'pythoning', 'python', '.', 'All', 'pythoners', 'pythoned', 'poorly', 'least', '.']\n"
     ]
    }
   ],
   "source": [
    "#Printing filtered Stop words\n",
    "filtered_sentences = [w for w in word_tokens if not w in stop_words]\n",
    "print(filtered_sentences)"
   ]
  },
  {
   "cell_type": "code",
   "execution_count": 54,
   "id": "5a6f184d",
   "metadata": {},
   "outputs": [
    {
     "name": "stdout",
     "output_type": "stream",
     "text": [
      "It\n",
      "import\n",
      "pythonli\n",
      "python\n",
      "python\n",
      ".\n",
      "all\n",
      "python\n",
      "python\n",
      "poorli\n",
      "least\n",
      ".\n"
     ]
    }
   ],
   "source": [
    "#Stemming a list of words\n",
    "##Stemming means - finding the root words among different words. e.g. go/going/goes will result go as a result of stemming\n",
    "from nltk.stem import PorterStemmer\n",
    "\n",
    "ps = PorterStemmer()\n",
    "for w in filtered_sentences:\n",
    "    print(ps.stem(w))"
   ]
  },
  {
   "cell_type": "code",
   "execution_count": 55,
   "id": "b582cbd1",
   "metadata": {},
   "outputs": [
    {
     "name": "stdout",
     "output_type": "stream",
     "text": [
      "It\n",
      "important\n",
      "pythonly\n",
      "pythoning\n",
      "python\n",
      ".\n",
      "All\n",
      "pythoners\n",
      "pythoned\n",
      "poorly\n",
      "least\n",
      ".\n"
     ]
    }
   ],
   "source": [
    "#Lemmatization: Getting original word of the dictionary. Little advanced from stemming. e.g. go/goes/went/gone/going -> go\n",
    "\n",
    "#Stemming is not very accurate. e.g. important->import, pythonly->pythonli\n",
    "#so, it's used for initial analysis. That's why lemmatization is prefered for such cases.\n",
    "\n",
    "\n",
    "#Lemmatizing the list of words\n",
    "from nltk.stem import WordNetLemmatizer\n",
    "lemmatizer = WordNetLemmatizer()\n",
    "\n",
    "for w in filtered_sentences:\n",
    "    print(lemmatizer.lemmatize(w))"
   ]
  },
  {
   "cell_type": "code",
   "execution_count": 56,
   "id": "e6e55ebe",
   "metadata": {},
   "outputs": [],
   "source": [
    "# nltk.download('all')"
   ]
  },
  {
   "cell_type": "code",
   "execution_count": 57,
   "id": "b5520540",
   "metadata": {},
   "outputs": [
    {
     "name": "stdout",
     "output_type": "stream",
     "text": [
      "$: dollar\n",
      "    $ -$ --$ A$ C$ HK$ M$ NZ$ S$ U.S.$ US$\n",
      "'': closing quotation mark\n",
      "    ' ''\n",
      "(: opening parenthesis\n",
      "    ( [ {\n",
      "): closing parenthesis\n",
      "    ) ] }\n",
      ",: comma\n",
      "    ,\n",
      "--: dash\n",
      "    --\n",
      ".: sentence terminator\n",
      "    . ! ?\n",
      ":: colon or ellipsis\n",
      "    : ; ...\n",
      "CC: conjunction, coordinating\n",
      "    & 'n and both but either et for less minus neither nor or plus so\n",
      "    therefore times v. versus vs. whether yet\n",
      "CD: numeral, cardinal\n",
      "    mid-1890 nine-thirty forty-two one-tenth ten million 0.5 one forty-\n",
      "    seven 1987 twenty '79 zero two 78-degrees eighty-four IX '60s .025\n",
      "    fifteen 271,124 dozen quintillion DM2,000 ...\n",
      "DT: determiner\n",
      "    all an another any both del each either every half la many much nary\n",
      "    neither no some such that the them these this those\n",
      "EX: existential there\n",
      "    there\n",
      "FW: foreign word\n",
      "    gemeinschaft hund ich jeux habeas Haementeria Herr K'ang-si vous\n",
      "    lutihaw alai je jour objets salutaris fille quibusdam pas trop Monte\n",
      "    terram fiche oui corporis ...\n",
      "IN: preposition or conjunction, subordinating\n",
      "    astride among uppon whether out inside pro despite on by throughout\n",
      "    below within for towards near behind atop around if like until below\n",
      "    next into if beside ...\n",
      "JJ: adjective or numeral, ordinal\n",
      "    third ill-mannered pre-war regrettable oiled calamitous first separable\n",
      "    ectoplasmic battery-powered participatory fourth still-to-be-named\n",
      "    multilingual multi-disciplinary ...\n",
      "JJR: adjective, comparative\n",
      "    bleaker braver breezier briefer brighter brisker broader bumper busier\n",
      "    calmer cheaper choosier cleaner clearer closer colder commoner costlier\n",
      "    cozier creamier crunchier cuter ...\n",
      "JJS: adjective, superlative\n",
      "    calmest cheapest choicest classiest cleanest clearest closest commonest\n",
      "    corniest costliest crassest creepiest crudest cutest darkest deadliest\n",
      "    dearest deepest densest dinkiest ...\n",
      "LS: list item marker\n",
      "    A A. B B. C C. D E F First G H I J K One SP-44001 SP-44002 SP-44005\n",
      "    SP-44007 Second Third Three Two * a b c d first five four one six three\n",
      "    two\n",
      "MD: modal auxiliary\n",
      "    can cannot could couldn't dare may might must need ought shall should\n",
      "    shouldn't will would\n",
      "NN: noun, common, singular or mass\n",
      "    common-carrier cabbage knuckle-duster Casino afghan shed thermostat\n",
      "    investment slide humour falloff slick wind hyena override subhumanity\n",
      "    machinist ...\n",
      "NNP: noun, proper, singular\n",
      "    Motown Venneboerger Czestochwa Ranzer Conchita Trumplane Christos\n",
      "    Oceanside Escobar Kreisler Sawyer Cougar Yvette Ervin ODI Darryl CTCA\n",
      "    Shannon A.K.C. Meltex Liverpool ...\n",
      "NNPS: noun, proper, plural\n",
      "    Americans Americas Amharas Amityvilles Amusements Anarcho-Syndicalists\n",
      "    Andalusians Andes Andruses Angels Animals Anthony Antilles Antiques\n",
      "    Apache Apaches Apocrypha ...\n",
      "NNS: noun, common, plural\n",
      "    undergraduates scotches bric-a-brac products bodyguards facets coasts\n",
      "    divestitures storehouses designs clubs fragrances averages\n",
      "    subjectivists apprehensions muses factory-jobs ...\n",
      "PDT: pre-determiner\n",
      "    all both half many quite such sure this\n",
      "POS: genitive marker\n",
      "    ' 's\n",
      "PRP: pronoun, personal\n",
      "    hers herself him himself hisself it itself me myself one oneself ours\n",
      "    ourselves ownself self she thee theirs them themselves they thou thy us\n",
      "PRP$: pronoun, possessive\n",
      "    her his mine my our ours their thy your\n",
      "RB: adverb\n",
      "    occasionally unabatingly maddeningly adventurously professedly\n",
      "    stirringly prominently technologically magisterially predominately\n",
      "    swiftly fiscally pitilessly ...\n",
      "RBR: adverb, comparative\n",
      "    further gloomier grander graver greater grimmer harder harsher\n",
      "    healthier heavier higher however larger later leaner lengthier less-\n",
      "    perfectly lesser lonelier longer louder lower more ...\n",
      "RBS: adverb, superlative\n",
      "    best biggest bluntest earliest farthest first furthest hardest\n",
      "    heartiest highest largest least less most nearest second tightest worst\n",
      "RP: particle\n",
      "    aboard about across along apart around aside at away back before behind\n",
      "    by crop down ever fast for forth from go high i.e. in into just later\n",
      "    low more off on open out over per pie raising start teeth that through\n",
      "    under unto up up-pp upon whole with you\n",
      "SYM: symbol\n",
      "    % & ' '' ''. ) ). * + ,. < = > @ A[fj] U.S U.S.S.R * ** ***\n",
      "TO: \"to\" as preposition or infinitive marker\n",
      "    to\n",
      "UH: interjection\n",
      "    Goodbye Goody Gosh Wow Jeepers Jee-sus Hubba Hey Kee-reist Oops amen\n",
      "    huh howdy uh dammit whammo shucks heck anyways whodunnit honey golly\n",
      "    man baby diddle hush sonuvabitch ...\n",
      "VB: verb, base form\n",
      "    ask assemble assess assign assume atone attention avoid bake balkanize\n",
      "    bank begin behold believe bend benefit bevel beware bless boil bomb\n",
      "    boost brace break bring broil brush build ...\n",
      "VBD: verb, past tense\n",
      "    dipped pleaded swiped regummed soaked tidied convened halted registered\n",
      "    cushioned exacted snubbed strode aimed adopted belied figgered\n",
      "    speculated wore appreciated contemplated ...\n",
      "VBG: verb, present participle or gerund\n",
      "    telegraphing stirring focusing angering judging stalling lactating\n",
      "    hankerin' alleging veering capping approaching traveling besieging\n",
      "    encrypting interrupting erasing wincing ...\n",
      "VBN: verb, past participle\n",
      "    multihulled dilapidated aerosolized chaired languished panelized used\n",
      "    experimented flourished imitated reunifed factored condensed sheared\n",
      "    unsettled primed dubbed desired ...\n",
      "VBP: verb, present tense, not 3rd person singular\n",
      "    predominate wrap resort sue twist spill cure lengthen brush terminate\n",
      "    appear tend stray glisten obtain comprise detest tease attract\n",
      "    emphasize mold postpone sever return wag ...\n",
      "VBZ: verb, present tense, 3rd person singular\n",
      "    bases reconstructs marks mixes displeases seals carps weaves snatches\n",
      "    slumps stretches authorizes smolders pictures emerges stockpiles\n",
      "    seduces fizzes uses bolsters slaps speaks pleads ...\n",
      "WDT: WH-determiner\n",
      "    that what whatever which whichever\n",
      "WP: WH-pronoun\n",
      "    that what whatever whatsoever which who whom whosoever\n",
      "WP$: WH-pronoun, possessive\n",
      "    whose\n",
      "WRB: Wh-adverb\n",
      "    how however whence whenever where whereby whereever wherein whereof why\n",
      "``: opening quotation mark\n",
      "    ` ``\n"
     ]
    }
   ],
   "source": [
    "nltk.help.upenn_tagset() #Explains the Parts of Speech (POS) abbreviation"
   ]
  },
  {
   "cell_type": "code",
   "execution_count": 59,
   "id": "bfb2d47b",
   "metadata": {},
   "outputs": [
    {
     "name": "stdout",
     "output_type": "stream",
     "text": [
      "[('feet', 'NNS')]\n",
      "[('It', 'PRP'), ('important', 'JJ'), ('pythonly', 'RB'), ('pythoning', 'VBG'), ('python', 'NN'), ('.', '.'), ('All', 'DT'), ('pythoners', 'NNS'), ('pythoned', 'VBD'), ('poorly', 'RB'), ('least', 'JJS'), ('.', '.')]\n"
     ]
    }
   ],
   "source": [
    "# POS tagging example\n",
    "print(nltk.pos_tag(['feet']))\n",
    "print(nltk.pos_tag(filtered_sentences))\n"
   ]
  },
  {
   "cell_type": "code",
   "execution_count": 60,
   "id": "630121a9",
   "metadata": {},
   "outputs": [
    {
     "name": "stdout",
     "output_type": "stream",
     "text": [
      "D\n",
      "V\n",
      "N\n",
      "V\n",
      "V\n",
      "I\n",
      "P\n",
      "N\n",
      "I\n",
      "J\n",
      "['The', 'strip', 'bat', 'be', 'hang', 'on', 'their', 'foot', 'for', 'best']\n"
     ]
    }
   ],
   "source": [
    "# Clearly Lemmatize is better option than stemming if done with correct POS tagging\n",
    "# Hence lets Lemmatize each word with its corresonding POS Tag\n",
    "from nltk.corpus import wordnet\n",
    "def get_wordnet_pos(word):\n",
    "    \"\"\"Map POS tag to first character lemmatize() accepts\"\"\"\n",
    "    tag = nltk.pos_tag([word])[0][1][0].upper()\n",
    "    print(tag)\n",
    "    tag_dict = {\"J\": wordnet.ADJ,\n",
    "                \"N\": wordnet.NOUN,\n",
    "                \"V\": wordnet.VERB,\n",
    "                \"R\": wordnet.ADV}\n",
    "\n",
    "    return tag_dict.get(tag, wordnet.NOUN) # wordnet.NOUN is optional param, if no match for given key then return this \n",
    "#--------------------------------------------------------------\n",
    "# 1. Init Lemmatizer\n",
    "lemmatizer = WordNetLemmatizer()\n",
    "#------------------------------------------------------------\n",
    "# 2. Lemmatize Single Word with the appropriate POS tag\n",
    "# word = 'feet'\n",
    "# print(lemmatizer.lemmatize(word, get_wordnet_pos(word)))\n",
    "#-----------------------------------------------------------\n",
    "# 3. Lemmatize a Sentence with the appropriate POS tag\n",
    "sentence = \"The striped bats are hanging on their feet for best\"\n",
    "print([lemmatizer.lemmatize(w, get_wordnet_pos(w)) for w in nltk.word_tokenize(sentence)])"
   ]
  },
  {
   "cell_type": "code",
   "execution_count": null,
   "id": "5d80a54f",
   "metadata": {},
   "outputs": [],
   "source": []
  }
 ],
 "metadata": {
  "kernelspec": {
   "display_name": "Python 3",
   "language": "python",
   "name": "python3"
  },
  "language_info": {
   "codemirror_mode": {
    "name": "ipython",
    "version": 3
   },
   "file_extension": ".py",
   "mimetype": "text/x-python",
   "name": "python",
   "nbconvert_exporter": "python",
   "pygments_lexer": "ipython3",
   "version": "3.8.10"
  }
 },
 "nbformat": 4,
 "nbformat_minor": 5
}
