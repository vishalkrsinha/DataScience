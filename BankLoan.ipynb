{
 "cells": [
  {
   "cell_type": "code",
   "execution_count": 16,
   "metadata": {},
   "outputs": [
    {
     "data": {
      "text/plain": [
       "<Figure size 720x540 with 0 Axes>"
      ]
     },
     "metadata": {},
     "output_type": "display_data"
    }
   ],
   "source": [
    "import pandas as pd\n",
    "import numpy as np\n",
    "import seaborn as sns\n",
    "import matplotlib.pyplot as plt\n",
    "\n",
    "import statsmodels.formula.api as smf\n",
    "import scipy.stats as stats\n",
    "import pandas_profiling   #need to install using anaconda prompt (pip install pandas_profiling)\n",
    "\n",
    "%matplotlib inline\n",
    "plt.rcParams['figure.figsize'] = 10, 7.5\n",
    "plt.rcParams['axes.grid'] = True\n",
    "plt.gray()\n",
    "\n",
    "from matplotlib.backends.backend_pdf import PdfPages\n",
    "\n",
    "from sklearn.model_selection import train_test_split\n",
    "from sklearn import metrics\n",
    "from sklearn.linear_model import LogisticRegression\n",
    "from statsmodels.stats.outliers_influence import variance_inflation_factor"
   ]
  },
  {
   "cell_type": "code",
   "execution_count": 4,
   "metadata": {},
   "outputs": [],
   "source": [
    "# Load the data\n",
    "bankloans = pd.read_csv( 'bankloans.csv' )"
   ]
  },
  {
   "cell_type": "code",
   "execution_count": 5,
   "metadata": {},
   "outputs": [
    {
     "data": {
      "text/html": [
       "<div>\n",
       "<style scoped>\n",
       "    .dataframe tbody tr th:only-of-type {\n",
       "        vertical-align: middle;\n",
       "    }\n",
       "\n",
       "    .dataframe tbody tr th {\n",
       "        vertical-align: top;\n",
       "    }\n",
       "\n",
       "    .dataframe thead th {\n",
       "        text-align: right;\n",
       "    }\n",
       "</style>\n",
       "<table border=\"1\" class=\"dataframe\">\n",
       "  <thead>\n",
       "    <tr style=\"text-align: right;\">\n",
       "      <th></th>\n",
       "      <th>age</th>\n",
       "      <th>ed</th>\n",
       "      <th>employ</th>\n",
       "      <th>address</th>\n",
       "      <th>income</th>\n",
       "      <th>debtinc</th>\n",
       "      <th>creddebt</th>\n",
       "      <th>othdebt</th>\n",
       "      <th>default</th>\n",
       "    </tr>\n",
       "  </thead>\n",
       "  <tbody>\n",
       "    <tr>\n",
       "      <td>0</td>\n",
       "      <td>41</td>\n",
       "      <td>3</td>\n",
       "      <td>17</td>\n",
       "      <td>12</td>\n",
       "      <td>176</td>\n",
       "      <td>9.3</td>\n",
       "      <td>11.359392</td>\n",
       "      <td>5.008608</td>\n",
       "      <td>1.0</td>\n",
       "    </tr>\n",
       "    <tr>\n",
       "      <td>1</td>\n",
       "      <td>27</td>\n",
       "      <td>1</td>\n",
       "      <td>10</td>\n",
       "      <td>6</td>\n",
       "      <td>31</td>\n",
       "      <td>17.3</td>\n",
       "      <td>1.362202</td>\n",
       "      <td>4.000798</td>\n",
       "      <td>0.0</td>\n",
       "    </tr>\n",
       "    <tr>\n",
       "      <td>2</td>\n",
       "      <td>40</td>\n",
       "      <td>1</td>\n",
       "      <td>15</td>\n",
       "      <td>14</td>\n",
       "      <td>55</td>\n",
       "      <td>5.5</td>\n",
       "      <td>0.856075</td>\n",
       "      <td>2.168925</td>\n",
       "      <td>0.0</td>\n",
       "    </tr>\n",
       "    <tr>\n",
       "      <td>3</td>\n",
       "      <td>41</td>\n",
       "      <td>1</td>\n",
       "      <td>15</td>\n",
       "      <td>14</td>\n",
       "      <td>120</td>\n",
       "      <td>2.9</td>\n",
       "      <td>2.658720</td>\n",
       "      <td>0.821280</td>\n",
       "      <td>0.0</td>\n",
       "    </tr>\n",
       "    <tr>\n",
       "      <td>4</td>\n",
       "      <td>24</td>\n",
       "      <td>2</td>\n",
       "      <td>2</td>\n",
       "      <td>0</td>\n",
       "      <td>28</td>\n",
       "      <td>17.3</td>\n",
       "      <td>1.787436</td>\n",
       "      <td>3.056564</td>\n",
       "      <td>1.0</td>\n",
       "    </tr>\n",
       "  </tbody>\n",
       "</table>\n",
       "</div>"
      ],
      "text/plain": [
       "   age  ed  employ  address  income  debtinc   creddebt   othdebt  default\n",
       "0   41   3      17       12     176      9.3  11.359392  5.008608      1.0\n",
       "1   27   1      10        6      31     17.3   1.362202  4.000798      0.0\n",
       "2   40   1      15       14      55      5.5   0.856075  2.168925      0.0\n",
       "3   41   1      15       14     120      2.9   2.658720  0.821280      0.0\n",
       "4   24   2       2        0      28     17.3   1.787436  3.056564      1.0"
      ]
     },
     "execution_count": 5,
     "metadata": {},
     "output_type": "execute_result"
    }
   ],
   "source": [
    "bankloans.head()"
   ]
  },
  {
   "cell_type": "code",
   "execution_count": 6,
   "metadata": {},
   "outputs": [],
   "source": [
    "profile_report = pandas_profiling.ProfileReport(bankloans)\n",
    "profile_report.to_file('profileReport.html')"
   ]
  },
  {
   "cell_type": "code",
   "execution_count": 7,
   "metadata": {},
   "outputs": [],
   "source": [
    "profile_report.to_file('profileReport.html')"
   ]
  },
  {
   "cell_type": "code",
   "execution_count": 8,
   "metadata": {},
   "outputs": [],
   "source": [
    "x"
   ]
  },
  {
   "cell_type": "code",
   "execution_count": 9,
   "metadata": {},
   "outputs": [],
   "source": [
    "#Missing vlaue treatment\n",
    "def missings_treat(x):\n",
    "    x = x.fillna(x.median())\n",
    "    return x\n",
    "\n",
    "#Handling Outliers - Method2\n",
    "def outlier_capping(x):\n",
    "    x = x.clip_upper(x.quantile(0.99))\n",
    "    x = x.clip_lower(x.quantile(0.01))\n",
    "    return x\n",
    "\n",
    "bankloans_existing=bankloans_existing.apply(lambda x: missings_treat(x))\n",
    "bankloans_existing=bankloans_existing.apply(lambda x: outlier_capping(x))"
   ]
  },
  {
   "cell_type": "code",
   "execution_count": 10,
   "metadata": {},
   "outputs": [],
   "source": [
    "def print_output(n):\n",
    "    for i in range(n,10):\n",
    "        print(i)\n"
   ]
  },
  {
   "cell_type": "code",
   "execution_count": 11,
   "metadata": {},
   "outputs": [
    {
     "name": "stdout",
     "output_type": "stream",
     "text": [
      "5\n",
      "6\n",
      "7\n",
      "8\n",
      "9\n"
     ]
    }
   ],
   "source": [
    "print_output(5)\n"
   ]
  },
  {
   "cell_type": "code",
   "execution_count": 10,
   "metadata": {},
   "outputs": [],
   "source": [
    "#variable reduction"
   ]
  },
  {
   "cell_type": "code",
   "execution_count": 12,
   "metadata": {},
   "outputs": [],
   "source": [
    "#Information value calculation\n",
    "def calculate_woe_iv(dataset, feature, target):\n",
    "    lst = []\n",
    "    for i in range(dataset[feature].nunique()):\n",
    "        val = list(dataset[feature].unique())[i]\n",
    "        lst.append({\n",
    "            'Value': val,\n",
    "            'All': dataset[dataset[feature] == val].count()[feature],\n",
    "            'Good': dataset[(dataset[feature] == val) & (dataset[target] == 0)].count()[feature],\n",
    "            'Bad': dataset[(dataset[feature] == val) & (dataset[target] == 1)].count()[feature]\n",
    "        })\n",
    "        \n",
    "    dset = pd.DataFrame(lst)\n",
    "    dset['Distr_Good'] = dset['Good'] / dset['Good'].sum()\n",
    "    dset['Distr_Bad'] = dset['Bad'] / dset['Bad'].sum()\n",
    "    dset['WoE'] = np.log(dset['Distr_Good'] / dset['Distr_Bad'])\n",
    "    dset = dset.replace({'WoE': {np.inf: 0, -np.inf: 0}})\n",
    "    dset['IV'] = (dset['Distr_Good'] - dset['Distr_Bad']) * dset['WoE']\n",
    "    iv = dset['IV'].sum()\n",
    "    \n",
    "    dset = dset.sort_values(by='WoE')\n",
    "    \n",
    "    return dset, iv"
   ]
  },
  {
   "cell_type": "code",
   "execution_count": 14,
   "metadata": {},
   "outputs": [
    {
     "name": "stdout",
     "output_type": "stream",
     "text": [
      "WoE and IV for column: age\n",
      "    Value  All  Good  Bad  Distr_Good  Distr_Bad       WoE        IV\n",
      "28  53.00    6     2    4    0.003868   0.021858 -1.731704  0.031152\n",
      "20  23.00   18     8   10    0.015474   0.054645 -1.261700  0.049422\n",
      "3   24.00   24    12   12    0.023211   0.065574 -1.038557  0.043996\n",
      "7   25.00   20    11    9    0.021277   0.049180 -0.837886  0.023380\n",
      "29  53.01    7     4    3    0.007737   0.016393 -0.750875  0.006500\n",
      "30  22.00   12     7    5    0.013540   0.027322 -0.702084  0.009677\n",
      "12  28.00   37    23   14    0.044487   0.076503 -0.542120  0.017356\n",
      "19  32.00   25    16    9    0.030948   0.049180 -0.463193  0.008445\n",
      "1   27.00   28    18   10    0.034816   0.054645 -0.450770  0.008938\n",
      "14  21.00   12     8    4    0.015474   0.021858 -0.345410  0.002205\n",
      "9   37.00   22    15    7    0.029014   0.038251 -0.276417  0.002553\n",
      "13  29.00   44    30   14    0.058027   0.076503 -0.276417  0.005107\n",
      "11  47.00   16    11    5    0.021277   0.027322 -0.250099  0.001512\n",
      "8   52.00    7     5    2    0.009671   0.010929 -0.122266  0.000154\n",
      "27  31.00   36    26   10    0.050290   0.054645 -0.083045  0.000362\n",
      "26  50.00    8     8    0    0.015474   0.000000  0.000000  0.000000\n",
      "33  49.00    4     3    1    0.005803   0.005464  0.060056  0.000020\n",
      "0   41.00   34    26    8    0.050290   0.043716  0.140098  0.000921\n",
      "24  46.00   13    10    3    0.019342   0.016393  0.165416  0.000488\n",
      "23  35.00   27    21    6    0.040619   0.032787  0.214206  0.001678\n",
      "2   40.00   27    21    6    0.040619   0.032787  0.214206  0.001678\n",
      "31  44.00    9     7    2    0.013540   0.010929  0.214206  0.000559\n",
      "16  33.00   25    20    5    0.038685   0.027322  0.347738  0.003951\n",
      "5   43.00   17    14    3    0.027079   0.016393  0.501888  0.005363\n",
      "25  38.00   23    19    4    0.036750   0.021858  0.519588  0.007738\n",
      "17  26.00   23    19    4    0.036750   0.021858  0.519588  0.007738\n",
      "18  30.00   24    20    4    0.038685   0.021858  0.570881  0.009606\n",
      "32  51.00    6     5    1    0.009671   0.005464  0.570881  0.002402\n",
      "21  34.00   33    28    5    0.054159   0.027322  0.684210  0.018362\n",
      "6   36.00   29    25    4    0.048356   0.021858  0.794025  0.021040\n",
      "4   39.00   37    32    5    0.061896   0.027322  0.817741  0.028272\n",
      "10  48.00   15    13    2    0.025145   0.010929  0.833245  0.011846\n",
      "15  45.00   16    15    1    0.029014   0.005464  1.669493  0.039315\n",
      "22  42.00   16    15    1    0.029014   0.005464  1.669493  0.039315\n",
      "IV score: 0.41\n",
      "\n",
      "\n",
      "WoE and IV for column: ed\n",
      "   Value  All  Good  Bad  Distr_Good  Distr_Bad       WoE        IV\n",
      "3      4   43    28   15    0.054159   0.081967 -0.414402  0.011524\n",
      "0      3   87    57   30    0.110251   0.163934 -0.396703  0.021296\n",
      "2      2  198   139   59    0.268859   0.322404 -0.181620  0.009725\n",
      "1      1  372   293   79    0.566731   0.431694  0.272168  0.036753\n",
      "IV score: 0.08\n",
      "\n",
      "\n",
      "WoE and IV for column: employ\n",
      "    Value  All  Good  Bad  Distr_Good  Distr_Bad       WoE        IV\n",
      "3    2.00   44    19   25    0.036750   0.136612 -1.312994  0.131118\n",
      "8    0.00   62    30   32    0.058027   0.174863 -1.103095  0.128882\n",
      "7    3.00   42    25   17    0.048356   0.092896 -0.652894  0.029080\n",
      "17   1.00   49    30   19    0.058027   0.103825 -0.581798  0.026645\n",
      "18  25.00    3     2    1    0.003868   0.005464 -0.345410  0.000551\n",
      "4    5.00   36    25   11    0.048356   0.060109 -0.217576  0.002557\n",
      "9    4.00   47    33   14    0.063830   0.076503 -0.181106  0.002295\n",
      "25  14.00   14    10    4    0.019342   0.021858 -0.122266  0.000308\n",
      "27  27.01    7     5    2    0.009671   0.010929 -0.122266  0.000154\n",
      "28  27.00    2     2    0    0.003868   0.000000  0.000000  0.000000\n",
      "26  21.00    8     8    0    0.015474   0.000000  0.000000  0.000000\n",
      "5   20.00    5     5    0    0.009671   0.000000  0.000000  0.000000\n",
      "24  26.00    1     1    0    0.001934   0.000000  0.000000  0.000000\n",
      "10  24.00    4     4    0    0.007737   0.000000  0.000000  0.000000\n",
      "12  22.00   13    13    0    0.025145   0.000000  0.000000  0.000000\n",
      "15  23.00    5     5    0    0.009671   0.000000  0.000000  0.000000\n",
      "14  13.00   27    20    7    0.038685   0.038251  0.011265  0.000005\n",
      "13   9.00   45    34   11    0.065764   0.060109  0.089909  0.000508\n",
      "11   6.00   46    36   10    0.069632   0.054645  0.242377  0.003633\n",
      "19   7.00   38    30    8    0.058027   0.043716  0.283199  0.004053\n",
      "1   10.00   30    25    5    0.048356   0.027322  0.570881  0.012008\n",
      "22  16.00   25    22    3    0.042553   0.016393  0.953873  0.024953\n",
      "21  18.00   17    15    2    0.029014   0.010929  0.976346  0.017657\n",
      "23  11.00   26    23    3    0.044487   0.016393  0.998325  0.028047\n",
      "6   12.00   30    27    3    0.052224   0.016393  1.158668  0.041516\n",
      "16   8.00   31    28    3    0.054159   0.016393  1.195035  0.045131\n",
      "20  19.00   12    11    1    0.021277   0.005464  1.359339  0.021494\n",
      "0   17.00   12    11    1    0.021277   0.005464  1.359339  0.021494\n",
      "2   15.00   19    18    1    0.034816   0.005464  1.851815  0.054354\n",
      "IV score: 0.60\n",
      "\n",
      "\n",
      "WoE and IV for column: address\n",
      "    Value  All  Good  Bad  Distr_Good  Distr_Bad       WoE        IV\n",
      "3    0.00   50    27   23    0.052224   0.125683 -0.878214  0.064512\n",
      "13   3.00   48    26   22    0.050290   0.120219 -0.871503  0.060943\n",
      "20  18.00    9     5    4    0.009671   0.021858 -0.815413  0.009937\n",
      "1    6.00   43    26   17    0.050290   0.092896 -0.613674  0.026146\n",
      "6   11.00   27    17   10    0.032882   0.054645 -0.507928  0.011054\n",
      "14   2.00   59    39   20    0.075435   0.109290 -0.370727  0.012551\n",
      "10  15.00   16    11    5    0.021277   0.027322 -0.250099  0.001512\n",
      "4    5.00   34    24   10    0.046422   0.054645 -0.163088  0.001341\n",
      "15  26.00    7     5    2    0.009671   0.010929 -0.122266  0.000154\n",
      "8   13.00   18    13    5    0.025145   0.027322 -0.083045  0.000181\n",
      "2   14.00   22    16    6    0.030948   0.032787 -0.057727  0.000106\n",
      "25  22.00    7     7    0    0.013540   0.000000  0.000000  0.000000\n",
      "22  25.00    7     7    0    0.013540   0.000000  0.000000  0.000000\n",
      "27  24.00    3     3    0    0.005803   0.000000  0.000000  0.000000\n",
      "16   8.00   40    30   10    0.058027   0.054645  0.060056  0.000203\n",
      "0   12.00   20    15    5    0.029014   0.027322  0.060056  0.000102\n",
      "7    4.00   49    37   12    0.071567   0.065574  0.087455  0.000524\n",
      "9    1.00   57    44   13    0.085106   0.071038  0.180684  0.002542\n",
      "18   7.00   33    28    5    0.054159   0.027322  0.684210  0.018362\n",
      "21  20.00    7     6    1    0.011605   0.005464  0.753203  0.004625\n",
      "26  26.01    7     6    1    0.011605   0.005464  0.753203  0.004625\n",
      "12  21.00    9     8    1    0.015474   0.005464  1.040885  0.010419\n",
      "19  23.00    9     8    1    0.015474   0.005464  1.040885  0.010419\n",
      "23  16.00   18    16    2    0.030948   0.010929  1.040885  0.020837\n",
      "17  10.00   32    29    3    0.056093   0.016393  1.230127  0.048835\n",
      "11  19.00   13    12    1    0.023211   0.005464  1.446350  0.025667\n",
      "5    9.00   39    36    3    0.069632   0.016393  1.446350  0.077002\n",
      "24  17.00   17    16    1    0.030948   0.005464  1.734032  0.044189\n",
      "IV score: 0.46\n",
      "\n",
      "\n",
      "WoE and IV for column: income\n",
      "    Value  All  Good  Bad  Distr_Good  Distr_Bad       WoE        IV\n",
      "71   70.0    4     1    3    0.001934   0.016393 -2.137169  0.030902\n",
      "32   50.0    6     2    4    0.003868   0.021858 -1.731704  0.031152\n",
      "35   15.0   14     5    9    0.009671   0.049180 -1.626343  0.064255\n",
      "60  102.0    2     1    1    0.001934   0.005464 -1.038557  0.003666\n",
      "96   86.0    2     1    1    0.001934   0.005464 -1.038557  0.003666\n",
      "..    ...  ...   ...  ...         ...        ...       ...       ...\n",
      "45   39.0   14    12    2    0.023211   0.010929  0.753203  0.009251\n",
      "62   56.0    7     6    1    0.011605   0.005464  0.753203  0.004625\n",
      "59   30.0   16    14    2    0.027079   0.010929  0.907353  0.014654\n",
      "22   32.0   17    15    2    0.029014   0.010929  0.976346  0.017657\n",
      "42   44.0   12    11    1    0.021277   0.005464  1.359339  0.021494\n",
      "\n",
      "[107 rows x 8 columns]\n",
      "IV score: 0.40\n",
      "\n",
      "\n",
      "WoE and IV for column: debtinc\n",
      "      Value  All  Good  Bad  Distr_Good  Distr_Bad       WoE        IV\n",
      "95   30.701    7     1    6    0.001934   0.032787 -2.830316  0.087323\n",
      "62   23.100    5     1    4    0.001934   0.021858 -2.424851  0.048312\n",
      "32   16.100    5     1    4    0.001934   0.021858 -2.424851  0.048312\n",
      "138  19.900    4     1    3    0.001934   0.016393 -2.137169  0.030902\n",
      "117  12.500    3     1    2    0.001934   0.010929 -1.731704  0.015576\n",
      "..      ...  ...   ...  ...         ...        ...       ...       ...\n",
      "51    5.000    7     6    1    0.011605   0.005464  0.753203  0.004625\n",
      "66    0.900    8     7    1    0.013540   0.005464  0.907353  0.007327\n",
      "48    3.700    8     7    1    0.013540   0.005464  0.907353  0.007327\n",
      "71    5.400    9     8    1    0.015474   0.005464  1.040885  0.010419\n",
      "23    6.700    9     8    1    0.015474   0.005464  1.040885  0.010419\n",
      "\n",
      "[221 rows x 8 columns]\n",
      "IV score: 0.59\n",
      "\n",
      "\n",
      "WoE and IV for column: creddebt\n"
     ]
    },
    {
     "name": "stdout",
     "output_type": "stream",
     "text": [
      "        Value  All  Good  Bad  Distr_Good  Distr_Bad       WoE        IV\n",
      "253  0.449820    2     1    1    0.001934   0.005464 -1.038557  0.003666\n",
      "451  0.276360    1     1    0    0.001934   0.000000  0.000000  0.000000\n",
      "452  0.488250    1     0    1    0.000000   0.005464  0.000000 -0.000000\n",
      "453  0.121576    1     1    0    0.001934   0.000000  0.000000  0.000000\n",
      "454  0.602040    1     1    0    0.001934   0.000000  0.000000  0.000000\n",
      "..        ...  ...   ...  ...         ...        ...       ...       ...\n",
      "230  1.606500    1     1    0    0.001934   0.000000  0.000000  0.000000\n",
      "231  0.563200    1     0    1    0.000000   0.005464  0.000000 -0.000000\n",
      "232  0.103488    1     1    0    0.001934   0.000000  0.000000  0.000000\n",
      "224  4.039200    1     0    1    0.000000   0.005464  0.000000 -0.000000\n",
      "682  2.994684    1     1    0    0.001934   0.000000  0.000000  0.000000\n",
      "\n",
      "[683 rows x 8 columns]\n",
      "IV score: 0.00\n",
      "\n",
      "\n",
      "WoE and IV for column: othdebt\n",
      "         Value  All  Good  Bad  Distr_Good  Distr_Bad       WoE        IV\n",
      "320  17.184744    7     2    5    0.003868   0.027322 -1.954847  0.045849\n",
      "103   7.823400    2     1    1    0.001934   0.005464 -1.038557  0.003666\n",
      "453   0.563640    1     1    0    0.001934   0.000000  0.000000  0.000000\n",
      "454   2.136750    1     0    1    0.000000   0.005464  0.000000 -0.000000\n",
      "455   0.606424    1     1    0    0.001934   0.000000  0.000000  0.000000\n",
      "..         ...  ...   ...  ...         ...        ...       ...       ...\n",
      "231   0.169128    1     1    0    0.001934   0.000000  0.000000  0.000000\n",
      "232   0.643500    1     1    0    0.001934   0.000000  0.000000  0.000000\n",
      "233   2.433900    1     1    0    0.001934   0.000000  0.000000  0.000000\n",
      "225   0.912800    1     1    0    0.001934   0.000000  0.000000  0.000000\n",
      "686   3.473316    1     1    0    0.001934   0.000000  0.000000  0.000000\n",
      "\n",
      "[687 rows x 8 columns]\n",
      "IV score: 0.05\n",
      "\n",
      "\n"
     ]
    }
   ],
   "source": [
    "for col in bankloans_existing.columns:\n",
    "    if col == 'default': continue\n",
    "    else:\n",
    "        print('WoE and IV for column: {}'.format(col))\n",
    "        df, iv = calculate_woe_iv(bankloans_existing, col, 'default')\n",
    "        print(df)\n",
    "        print('IV score: {:.2f}'.format(iv))\n",
    "        print('\\n')"
   ]
  },
  {
   "cell_type": "code",
   "execution_count": 15,
   "metadata": {},
   "outputs": [],
   "source": [
    "#From above step, you can find important variables: Age, employ, address, income, debtincome"
   ]
  },
  {
   "cell_type": "code",
   "execution_count": 25,
   "metadata": {},
   "outputs": [
    {
     "name": "stdout",
     "output_type": "stream",
     "text": [
      "Optimization terminated successfully.\n",
      "         Current function value: 0.569055\n",
      "         Iterations 6\n"
     ]
    }
   ],
   "source": [
    "model = smf.logit('default~income', data=bankloans_existing).fit()"
   ]
  },
  {
   "cell_type": "code",
   "execution_count": 26,
   "metadata": {},
   "outputs": [
    {
     "data": {
      "text/plain": [
       "0.20027269556394067"
      ]
     },
     "execution_count": 26,
     "metadata": {},
     "output_type": "execute_result"
    }
   ],
   "source": [
    "2*metrics.roc_auc_score(bankloans_existing.default, model.predict(bankloans_existing))-1"
   ]
  },
  {
   "cell_type": "code",
   "execution_count": 29,
   "metadata": {},
   "outputs": [
    {
     "name": "stdout",
     "output_type": "stream",
     "text": [
      "Optimization terminated successfully.\n",
      "         Current function value: 0.559856\n",
      "         Iterations 5\n",
      "Optimization terminated successfully.\n",
      "         Current function value: 0.564673\n",
      "         Iterations 5\n",
      "Optimization terminated successfully.\n",
      "         Current function value: 0.548956\n",
      "         Iterations 5\n",
      "Optimization terminated successfully.\n",
      "         Current function value: 0.501389\n",
      "         Iterations 6\n",
      "Optimization terminated successfully.\n",
      "         Current function value: 0.567774\n",
      "         Iterations 5\n",
      "Optimization terminated successfully.\n",
      "         Current function value: 0.527166\n",
      "         Iterations 6\n",
      "Optimization terminated successfully.\n",
      "         Current function value: 0.569055\n",
      "         Iterations 6\n",
      "Optimization terminated successfully.\n",
      "         Current function value: 0.565619\n",
      "         Iterations 5\n"
     ]
    }
   ],
   "source": [
    "gini_df = pd.DataFrame()\n",
    "for col in bankloans_existing.columns.difference(['default']):\n",
    "    model = smf.logit('default~'+str(col), data=bankloans_existing).fit()\n",
    "    gini = 2*metrics.roc_auc_score(bankloans_existing.default, model.predict(bankloans_existing))-1\n",
    "    temp = pd.DataFrame([col, gini]).T\n",
    "    gini_df = pd.concat([gini_df, temp], axis=0)"
   ]
  },
  {
   "cell_type": "code",
   "execution_count": 33,
   "metadata": {},
   "outputs": [],
   "source": [
    "gini_df.columns= ['Feature', 'SomerceD']\n",
    "gini_df.sort_values(by='SomerceD', ascending=False, inplace=True)"
   ]
  },
  {
   "cell_type": "code",
   "execution_count": 34,
   "metadata": {},
   "outputs": [],
   "source": [
    "gini_df.to_csv('gini_df.csv')"
   ]
  },
  {
   "cell_type": "code",
   "execution_count": 37,
   "metadata": {},
   "outputs": [
    {
     "data": {
      "text/plain": [
       "Index(['age', 'creddebt', 'debtinc', 'employ', 'othdebt'], dtype='object')"
      ]
     },
     "execution_count": 37,
     "metadata": {},
     "output_type": "execute_result"
    }
   ],
   "source": [
    "#RFE\n",
    "from sklearn.feature_selection import RFE\n",
    "from sklearn.ensemble import RandomForestClassifier\n",
    "X = bankloans_existing[bankloans_existing.columns.difference(['default'])]\n",
    "y = bankloans_existing[['default']]\n",
    "\n",
    "rfe = RFE(RandomForestClassifier(), 5)\n",
    "rfe = rfe.fit(X, y)\n",
    "\n",
    "X.columns[rfe.get_support()]"
   ]
  },
  {
   "cell_type": "code",
   "execution_count": 38,
   "metadata": {},
   "outputs": [
    {
     "data": {
      "text/plain": [
       "Index(['address', 'creddebt', 'debtinc', 'employ', 'othdebt'], dtype='object')"
      ]
     },
     "execution_count": 38,
     "metadata": {},
     "output_type": "execute_result"
    }
   ],
   "source": [
    "#SelectKbest\n",
    "from sklearn.feature_selection import SelectKBest, f_classif\n",
    "SKB = SelectKBest(f_classif, k=5).fit(X, y )\n",
    "\n",
    "X.columns[SKB.get_support()]"
   ]
  },
  {
   "cell_type": "code",
   "execution_count": 50,
   "metadata": {},
   "outputs": [],
   "source": [
    "Final_list = [\n",
    "#'age',\n",
    "'employ',\n",
    "'address',\n",
    "#'income',\n",
    "'debtinc',\n",
    "'creddebt',\n",
    "'othdebt'\n",
    "]"
   ]
  },
  {
   "cell_type": "code",
   "execution_count": 51,
   "metadata": {},
   "outputs": [],
   "source": [
    "X_new = X[Final_list]"
   ]
  },
  {
   "cell_type": "code",
   "execution_count": 52,
   "metadata": {},
   "outputs": [],
   "source": [
    "### VIF Calculation for variables\n",
    "vif = pd.DataFrame()\n",
    "vif[\"VIF_Factor\"] = [variance_inflation_factor(X_new.values, i) for i in range(X_new.shape[1])]\n",
    "vif[\"features\"] = X_new.columns"
   ]
  },
  {
   "cell_type": "code",
   "execution_count": 53,
   "metadata": {},
   "outputs": [
    {
     "data": {
      "text/html": [
       "<div>\n",
       "<style scoped>\n",
       "    .dataframe tbody tr th:only-of-type {\n",
       "        vertical-align: middle;\n",
       "    }\n",
       "\n",
       "    .dataframe tbody tr th {\n",
       "        vertical-align: top;\n",
       "    }\n",
       "\n",
       "    .dataframe thead th {\n",
       "        text-align: right;\n",
       "    }\n",
       "</style>\n",
       "<table border=\"1\" class=\"dataframe\">\n",
       "  <thead>\n",
       "    <tr style=\"text-align: right;\">\n",
       "      <th></th>\n",
       "      <th>VIF_Factor</th>\n",
       "      <th>features</th>\n",
       "    </tr>\n",
       "  </thead>\n",
       "  <tbody>\n",
       "    <tr>\n",
       "      <td>4</td>\n",
       "      <td>4.436528</td>\n",
       "      <td>othdebt</td>\n",
       "    </tr>\n",
       "    <tr>\n",
       "      <td>2</td>\n",
       "      <td>3.624147</td>\n",
       "      <td>debtinc</td>\n",
       "    </tr>\n",
       "    <tr>\n",
       "      <td>3</td>\n",
       "      <td>3.269440</td>\n",
       "      <td>creddebt</td>\n",
       "    </tr>\n",
       "    <tr>\n",
       "      <td>0</td>\n",
       "      <td>3.073768</td>\n",
       "      <td>employ</td>\n",
       "    </tr>\n",
       "    <tr>\n",
       "      <td>1</td>\n",
       "      <td>2.481654</td>\n",
       "      <td>address</td>\n",
       "    </tr>\n",
       "  </tbody>\n",
       "</table>\n",
       "</div>"
      ],
      "text/plain": [
       "   VIF_Factor  features\n",
       "4    4.436528   othdebt\n",
       "2    3.624147   debtinc\n",
       "3    3.269440  creddebt\n",
       "0    3.073768    employ\n",
       "1    2.481654   address"
      ]
     },
     "execution_count": 53,
     "metadata": {},
     "output_type": "execute_result"
    }
   ],
   "source": [
    "vif.sort_values(by='VIF_Factor',ascending=False)"
   ]
  },
  {
   "cell_type": "code",
   "execution_count": 54,
   "metadata": {},
   "outputs": [],
   "source": [
    "data_final = pd.concat([X_new, y], axis=1)"
   ]
  },
  {
   "cell_type": "code",
   "execution_count": 56,
   "metadata": {},
   "outputs": [],
   "source": [
    "train_test_split?"
   ]
  },
  {
   "cell_type": "code",
   "execution_count": 57,
   "metadata": {},
   "outputs": [],
   "source": [
    "#split the data into train & test\n",
    "train, test = train_test_split(data_final, test_size=0.3, random_state=123)"
   ]
  },
  {
   "cell_type": "code",
   "execution_count": 59,
   "metadata": {},
   "outputs": [
    {
     "data": {
      "text/plain": [
       "(490, 6)"
      ]
     },
     "execution_count": 59,
     "metadata": {},
     "output_type": "execute_result"
    }
   ],
   "source": [
    "train.shape"
   ]
  },
  {
   "cell_type": "code",
   "execution_count": 60,
   "metadata": {},
   "outputs": [
    {
     "data": {
      "text/plain": [
       "(210, 6)"
      ]
     },
     "execution_count": 60,
     "metadata": {},
     "output_type": "execute_result"
    }
   ],
   "source": [
    "test.shape"
   ]
  },
  {
   "cell_type": "code",
   "execution_count": 66,
   "metadata": {},
   "outputs": [
    {
     "data": {
      "text/plain": [
       "'default~address+creddebt+debtinc+employ+othdebt'"
      ]
     },
     "execution_count": 66,
     "metadata": {},
     "output_type": "execute_result"
    }
   ],
   "source": [
    "'default~'+'+'.join(train.columns.difference(['default']))"
   ]
  },
  {
   "cell_type": "code",
   "execution_count": 70,
   "metadata": {},
   "outputs": [],
   "source": [
    "formula = 'default~address+creddebt+debtinc+employ'"
   ]
  },
  {
   "cell_type": "code",
   "execution_count": 71,
   "metadata": {},
   "outputs": [
    {
     "name": "stdout",
     "output_type": "stream",
     "text": [
      "Optimization terminated successfully.\n",
      "         Current function value: 0.400953\n",
      "         Iterations 7\n"
     ]
    }
   ],
   "source": [
    "model = smf.logit(formula, data=train).fit()"
   ]
  },
  {
   "cell_type": "code",
   "execution_count": 72,
   "metadata": {},
   "outputs": [
    {
     "name": "stdout",
     "output_type": "stream",
     "text": [
      "                           Logit Regression Results                           \n",
      "==============================================================================\n",
      "Dep. Variable:                default   No. Observations:                  490\n",
      "Model:                          Logit   Df Residuals:                      485\n",
      "Method:                           MLE   Df Model:                            4\n",
      "Date:                Sun, 22 Dec 2019   Pseudo R-squ.:                  0.3118\n",
      "Time:                        10:53:31   Log-Likelihood:                -196.47\n",
      "converged:                       True   LL-Null:                       -285.50\n",
      "Covariance Type:            nonrobust   LLR p-value:                 1.944e-37\n",
      "==============================================================================\n",
      "                 coef    std err          z      P>|z|      [0.025      0.975]\n",
      "------------------------------------------------------------------------------\n",
      "Intercept     -0.8974      0.299     -3.000      0.003      -1.484      -0.311\n",
      "address       -0.0724      0.024     -2.995      0.003      -0.120      -0.025\n",
      "creddebt       0.6506      0.106      6.146      0.000       0.443       0.858\n",
      "debtinc        0.0870      0.021      4.063      0.000       0.045       0.129\n",
      "employ        -0.2461      0.033     -7.443      0.000      -0.311      -0.181\n",
      "==============================================================================\n"
     ]
    }
   ],
   "source": [
    "print(model.summary())"
   ]
  },
  {
   "cell_type": "markdown",
   "metadata": {},
   "source": [
    "### Mathematical realtionship between Y & X\n",
    "\n",
    "LE = -0.8974-0.0724*address+0.6506*creddebt+0.0870*debtinc-0.2461*employ\n",
    "\n",
    "P(default = 1) = exp(LE)/(1+exp(LE))"
   ]
  },
  {
   "cell_type": "code",
   "execution_count": 74,
   "metadata": {},
   "outputs": [],
   "source": [
    "#Metrics based on the probability - AUC, Gini\n",
    "train['prob'] = model.predict(train)\n",
    "test['prob'] = model.predict(test)"
   ]
  },
  {
   "cell_type": "code",
   "execution_count": 75,
   "metadata": {},
   "outputs": [
    {
     "data": {
      "text/html": [
       "<div>\n",
       "<style scoped>\n",
       "    .dataframe tbody tr th:only-of-type {\n",
       "        vertical-align: middle;\n",
       "    }\n",
       "\n",
       "    .dataframe tbody tr th {\n",
       "        vertical-align: top;\n",
       "    }\n",
       "\n",
       "    .dataframe thead th {\n",
       "        text-align: right;\n",
       "    }\n",
       "</style>\n",
       "<table border=\"1\" class=\"dataframe\">\n",
       "  <thead>\n",
       "    <tr style=\"text-align: right;\">\n",
       "      <th></th>\n",
       "      <th>employ</th>\n",
       "      <th>address</th>\n",
       "      <th>debtinc</th>\n",
       "      <th>creddebt</th>\n",
       "      <th>othdebt</th>\n",
       "      <th>default</th>\n",
       "      <th>prob</th>\n",
       "    </tr>\n",
       "  </thead>\n",
       "  <tbody>\n",
       "    <tr>\n",
       "      <td>404</td>\n",
       "      <td>18.0</td>\n",
       "      <td>10.0</td>\n",
       "      <td>15.400</td>\n",
       "      <td>2.099636</td>\n",
       "      <td>3.136364</td>\n",
       "      <td>0.0</td>\n",
       "      <td>0.034050</td>\n",
       "    </tr>\n",
       "    <tr>\n",
       "      <td>63</td>\n",
       "      <td>4.0</td>\n",
       "      <td>9.0</td>\n",
       "      <td>7.000</td>\n",
       "      <td>2.159850</td>\n",
       "      <td>1.690150</td>\n",
       "      <td>0.0</td>\n",
       "      <td>0.372982</td>\n",
       "    </tr>\n",
       "    <tr>\n",
       "      <td>34</td>\n",
       "      <td>8.0</td>\n",
       "      <td>1.0</td>\n",
       "      <td>2.900</td>\n",
       "      <td>0.077140</td>\n",
       "      <td>0.937860</td>\n",
       "      <td>0.0</td>\n",
       "      <td>0.066860</td>\n",
       "    </tr>\n",
       "    <tr>\n",
       "      <td>33</td>\n",
       "      <td>8.0</td>\n",
       "      <td>4.0</td>\n",
       "      <td>14.400</td>\n",
       "      <td>1.018656</td>\n",
       "      <td>2.869344</td>\n",
       "      <td>0.0</td>\n",
       "      <td>0.224398</td>\n",
       "    </tr>\n",
       "    <tr>\n",
       "      <td>583</td>\n",
       "      <td>16.0</td>\n",
       "      <td>14.0</td>\n",
       "      <td>30.701</td>\n",
       "      <td>7.320000</td>\n",
       "      <td>10.980000</td>\n",
       "      <td>1.0</td>\n",
       "      <td>0.829851</td>\n",
       "    </tr>\n",
       "  </tbody>\n",
       "</table>\n",
       "</div>"
      ],
      "text/plain": [
       "     employ  address  debtinc  creddebt    othdebt  default      prob\n",
       "404    18.0     10.0   15.400  2.099636   3.136364      0.0  0.034050\n",
       "63      4.0      9.0    7.000  2.159850   1.690150      0.0  0.372982\n",
       "34      8.0      1.0    2.900  0.077140   0.937860      0.0  0.066860\n",
       "33      8.0      4.0   14.400  1.018656   2.869344      0.0  0.224398\n",
       "583    16.0     14.0   30.701  7.320000  10.980000      1.0  0.829851"
      ]
     },
     "execution_count": 75,
     "metadata": {},
     "output_type": "execute_result"
    }
   ],
   "source": [
    "train.head()"
   ]
  },
  {
   "cell_type": "code",
   "execution_count": 80,
   "metadata": {},
   "outputs": [],
   "source": [
    "#Calculating AUC for train & Test"
   ]
  },
  {
   "cell_type": "code",
   "execution_count": 78,
   "metadata": {},
   "outputs": [
    {
     "data": {
      "text/plain": [
       "0.8562510580667005"
      ]
     },
     "execution_count": 78,
     "metadata": {},
     "output_type": "execute_result"
    }
   ],
   "source": [
    "train_auc = metrics.roc_auc_score(train.default, train.prob)\n",
    "train_auc"
   ]
  },
  {
   "cell_type": "code",
   "execution_count": 79,
   "metadata": {},
   "outputs": [
    {
     "data": {
      "text/plain": [
       "0.8403009002343076"
      ]
     },
     "execution_count": 79,
     "metadata": {},
     "output_type": "execute_result"
    }
   ],
   "source": [
    "test_auc = metrics.roc_auc_score(test.default, test.prob)\n",
    "test_auc"
   ]
  },
  {
   "cell_type": "code",
   "execution_count": 81,
   "metadata": {},
   "outputs": [],
   "source": [
    "#Calculating Gini (somerceD) for train & Test"
   ]
  },
  {
   "cell_type": "code",
   "execution_count": 76,
   "metadata": {},
   "outputs": [
    {
     "data": {
      "text/plain": [
       "0.7125021161334011"
      ]
     },
     "execution_count": 76,
     "metadata": {},
     "output_type": "execute_result"
    }
   ],
   "source": [
    "train_gini = 2*metrics.roc_auc_score(train.default, train.prob)-1\n",
    "train_gini"
   ]
  },
  {
   "cell_type": "code",
   "execution_count": 77,
   "metadata": {},
   "outputs": [
    {
     "data": {
      "text/plain": [
       "0.6806018004686152"
      ]
     },
     "execution_count": 77,
     "metadata": {},
     "output_type": "execute_result"
    }
   ],
   "source": [
    "test_gini = 2*metrics.roc_auc_score(test.default, test.prob)-1\n",
    "test_gini"
   ]
  },
  {
   "cell_type": "code",
   "execution_count": 83,
   "metadata": {},
   "outputs": [],
   "source": [
    "temp = train\n",
    "roc_df = pd.DataFrame()\n",
    "for cut_off in np.linspace(0,1):\n",
    "    temp['y_pred'] = np.where(train.prob>cut_off, 1, 0)\n",
    "    temp['TP'] = np.where(((train.default ==1) & (train.y_pred==1)), 1,0)\n",
    "    temp['TN'] = np.where(((train.default ==0) & (train.y_pred==0)), 1,0)\n",
    "    temp['FP'] = np.where(((train.default ==0) & (train.y_pred==1)), 1,0)\n",
    "    temp['FN'] = np.where(((train.default ==1) & (train.y_pred==0)), 1,0)\n",
    "    sensitivity = temp.TP.sum()/(temp.TP.sum()+temp.FN.sum())\n",
    "    specificity = temp.TN.sum()/(temp.TN.sum()+temp.FP.sum())\n",
    "    accuracy = (temp.TN.sum()+temp.TP.sum())/(temp.y_pred.count())\n",
    "    temp_df = pd.DataFrame([cut_off, sensitivity, specificity, accuracy]).T\n",
    "    temp_df.columns = ['cutoff', 'sensitivity', 'specificity', 'accuracy']\n",
    "    roc_df = pd.concat([roc_df, temp_df], axis=0)"
   ]
  },
  {
   "cell_type": "code",
   "execution_count": 85,
   "metadata": {},
   "outputs": [],
   "source": [
    "roc_df['total'] = roc_df.sensitivity + roc_df.specificity"
   ]
  },
  {
   "cell_type": "code",
   "execution_count": 87,
   "metadata": {},
   "outputs": [
    {
     "data": {
      "text/html": [
       "<div>\n",
       "<style scoped>\n",
       "    .dataframe tbody tr th:only-of-type {\n",
       "        vertical-align: middle;\n",
       "    }\n",
       "\n",
       "    .dataframe tbody tr th {\n",
       "        vertical-align: top;\n",
       "    }\n",
       "\n",
       "    .dataframe thead th {\n",
       "        text-align: right;\n",
       "    }\n",
       "</style>\n",
       "<table border=\"1\" class=\"dataframe\">\n",
       "  <thead>\n",
       "    <tr style=\"text-align: right;\">\n",
       "      <th></th>\n",
       "      <th>cutoff</th>\n",
       "      <th>sensitivity</th>\n",
       "      <th>specificity</th>\n",
       "      <th>accuracy</th>\n",
       "      <th>total</th>\n",
       "    </tr>\n",
       "  </thead>\n",
       "  <tbody>\n",
       "    <tr>\n",
       "      <td>0</td>\n",
       "      <td>0.265306</td>\n",
       "      <td>0.795455</td>\n",
       "      <td>0.756983</td>\n",
       "      <td>0.767347</td>\n",
       "      <td>1.552438</td>\n",
       "    </tr>\n",
       "  </tbody>\n",
       "</table>\n",
       "</div>"
      ],
      "text/plain": [
       "     cutoff  sensitivity  specificity  accuracy     total\n",
       "0  0.265306     0.795455     0.756983  0.767347  1.552438"
      ]
     },
     "execution_count": 87,
     "metadata": {},
     "output_type": "execute_result"
    }
   ],
   "source": [
    "roc_df.sort_values(by = 'total', ascending=False).head(1)"
   ]
  },
  {
   "cell_type": "code",
   "execution_count": 88,
   "metadata": {},
   "outputs": [
    {
     "data": {
      "text/html": [
       "<div>\n",
       "<style scoped>\n",
       "    .dataframe tbody tr th:only-of-type {\n",
       "        vertical-align: middle;\n",
       "    }\n",
       "\n",
       "    .dataframe tbody tr th {\n",
       "        vertical-align: top;\n",
       "    }\n",
       "\n",
       "    .dataframe thead th {\n",
       "        text-align: right;\n",
       "    }\n",
       "</style>\n",
       "<table border=\"1\" class=\"dataframe\">\n",
       "  <thead>\n",
       "    <tr style=\"text-align: right;\">\n",
       "      <th></th>\n",
       "      <th>cutoff</th>\n",
       "      <th>sensitivity</th>\n",
       "      <th>specificity</th>\n",
       "      <th>accuracy</th>\n",
       "      <th>total</th>\n",
       "    </tr>\n",
       "  </thead>\n",
       "  <tbody>\n",
       "    <tr>\n",
       "      <td>0</td>\n",
       "      <td>0.265306</td>\n",
       "      <td>0.795455</td>\n",
       "      <td>0.756983</td>\n",
       "      <td>0.767347</td>\n",
       "      <td>1.552438</td>\n",
       "    </tr>\n",
       "  </tbody>\n",
       "</table>\n",
       "</div>"
      ],
      "text/plain": [
       "     cutoff  sensitivity  specificity  accuracy     total\n",
       "0  0.265306     0.795455     0.756983  0.767347  1.552438"
      ]
     },
     "execution_count": 88,
     "metadata": {},
     "output_type": "execute_result"
    }
   ],
   "source": [
    "roc_df[roc_df.total == roc_df.total.max()]"
   ]
  },
  {
   "cell_type": "code",
   "execution_count": 89,
   "metadata": {},
   "outputs": [],
   "source": [
    "#From above step, the cut-off is: 0.265306\n",
    "train['default_pred'] = np.where(train.prob>0.265306, 1, 0)\n",
    "test['default_pred'] = np.where(test.prob>0.265306, 1, 0)"
   ]
  },
  {
   "cell_type": "code",
   "execution_count": 93,
   "metadata": {},
   "outputs": [
    {
     "data": {
      "text/plain": [
       "array([[271,  87],\n",
       "       [ 27, 105]], dtype=int64)"
      ]
     },
     "execution_count": 93,
     "metadata": {},
     "output_type": "execute_result"
    }
   ],
   "source": [
    "metrics.confusion_matrix(train.default, train.default_pred)"
   ]
  },
  {
   "cell_type": "code",
   "execution_count": 90,
   "metadata": {},
   "outputs": [
    {
     "name": "stdout",
     "output_type": "stream",
     "text": [
      "              precision    recall  f1-score   support\n",
      "\n",
      "         0.0       0.91      0.76      0.83       358\n",
      "         1.0       0.55      0.80      0.65       132\n",
      "\n",
      "    accuracy                           0.77       490\n",
      "   macro avg       0.73      0.78      0.74       490\n",
      "weighted avg       0.81      0.77      0.78       490\n",
      "\n"
     ]
    }
   ],
   "source": [
    "#Good ness of fit metrics based on categorical predicted output for train & test\n",
    "\n",
    "print(metrics.classification_report(train.default, train.default_pred))"
   ]
  },
  {
   "cell_type": "code",
   "execution_count": 92,
   "metadata": {},
   "outputs": [
    {
     "name": "stdout",
     "output_type": "stream",
     "text": [
      "              precision    recall  f1-score   support\n",
      "\n",
      "         0.0       0.91      0.77      0.83       159\n",
      "         1.0       0.51      0.76      0.61        51\n",
      "\n",
      "    accuracy                           0.77       210\n",
      "   macro avg       0.71      0.77      0.72       210\n",
      "weighted avg       0.81      0.77      0.78       210\n",
      "\n"
     ]
    }
   ],
   "source": [
    "print(metrics.classification_report(test.default, test.default_pred))"
   ]
  },
  {
   "cell_type": "code",
   "execution_count": 94,
   "metadata": {},
   "outputs": [],
   "source": [
    "#Decile Analysis\n",
    "train['Deciles']=pd.qcut(train['prob'],10, labels=False)\n",
    "test['Deciles']=pd.qcut(test['prob'],10, labels=False)"
   ]
  },
  {
   "cell_type": "code",
   "execution_count": 107,
   "metadata": {},
   "outputs": [],
   "source": [
    "train['goods'] = 1-train.default\n",
    "test['goods'] = 1-test.default"
   ]
  },
  {
   "cell_type": "code",
   "execution_count": 109,
   "metadata": {},
   "outputs": [],
   "source": [
    "decile_results_train = train.groupby(['Deciles']).agg(min_prob = ('prob', 'min'),\n",
    "                              max_prob = ('prob', 'max'),\n",
    "                              No_bads = ('default', 'sum'),\n",
    "                              No_goods = ('goods', 'sum'), \n",
    "                              total = ('default', 'count'))\n",
    "\n",
    "decile_results_test = test.groupby(['Deciles']).agg(min_prob = ('prob', 'min'),\n",
    "                              max_prob = ('prob', 'max'),\n",
    "                              No_bads = ('default', 'sum'),\n",
    "                              No_goods = ('goods', 'sum'), \n",
    "                              total = ('default', 'count'),)"
   ]
  },
  {
   "cell_type": "code",
   "execution_count": 110,
   "metadata": {},
   "outputs": [],
   "source": [
    "decile_results_train.to_csv('decile_results_train.csv')\n",
    "decile_results_test.to_csv('decile_results_test.csv')"
   ]
  },
  {
   "cell_type": "code",
   "execution_count": 112,
   "metadata": {},
   "outputs": [],
   "source": [
    "\n",
    "bankloans_new['prob']  = model.predict(bankloans_new)"
   ]
  },
  {
   "cell_type": "code",
   "execution_count": 113,
   "metadata": {},
   "outputs": [],
   "source": [
    "bankloans_new['default_predict'] = np.where(bankloans_new.prob>0.265306,1,0)"
   ]
  },
  {
   "cell_type": "code",
   "execution_count": 116,
   "metadata": {},
   "outputs": [
    {
     "data": {
      "text/plain": [
       "0    95\n",
       "1    55\n",
       "Name: default_predict, dtype: int64"
      ]
     },
     "execution_count": 116,
     "metadata": {},
     "output_type": "execute_result"
    }
   ],
   "source": [
    "bankloans_new.default_predict.value_counts()"
   ]
  },
  {
   "cell_type": "code",
   "execution_count": 117,
   "metadata": {},
   "outputs": [],
   "source": [
    "bankloans_new['creditscore'] = 1000-bankloans_new.prob*1000"
   ]
  },
  {
   "cell_type": "code",
   "execution_count": 118,
   "metadata": {},
   "outputs": [
    {
     "data": {
      "text/html": [
       "<div>\n",
       "<style scoped>\n",
       "    .dataframe tbody tr th:only-of-type {\n",
       "        vertical-align: middle;\n",
       "    }\n",
       "\n",
       "    .dataframe tbody tr th {\n",
       "        vertical-align: top;\n",
       "    }\n",
       "\n",
       "    .dataframe thead th {\n",
       "        text-align: right;\n",
       "    }\n",
       "</style>\n",
       "<table border=\"1\" class=\"dataframe\">\n",
       "  <thead>\n",
       "    <tr style=\"text-align: right;\">\n",
       "      <th></th>\n",
       "      <th>age</th>\n",
       "      <th>ed</th>\n",
       "      <th>employ</th>\n",
       "      <th>address</th>\n",
       "      <th>income</th>\n",
       "      <th>debtinc</th>\n",
       "      <th>creddebt</th>\n",
       "      <th>othdebt</th>\n",
       "      <th>default</th>\n",
       "      <th>prob</th>\n",
       "      <th>default_predict</th>\n",
       "      <th>creditscore</th>\n",
       "    </tr>\n",
       "  </thead>\n",
       "  <tbody>\n",
       "    <tr>\n",
       "      <td>700</td>\n",
       "      <td>36</td>\n",
       "      <td>1</td>\n",
       "      <td>16</td>\n",
       "      <td>13</td>\n",
       "      <td>32</td>\n",
       "      <td>10.9</td>\n",
       "      <td>0.544128</td>\n",
       "      <td>2.943872</td>\n",
       "      <td>NaN</td>\n",
       "      <td>0.011274</td>\n",
       "      <td>0</td>\n",
       "      <td>988.725731</td>\n",
       "    </tr>\n",
       "    <tr>\n",
       "      <td>701</td>\n",
       "      <td>50</td>\n",
       "      <td>1</td>\n",
       "      <td>6</td>\n",
       "      <td>27</td>\n",
       "      <td>21</td>\n",
       "      <td>12.9</td>\n",
       "      <td>1.316574</td>\n",
       "      <td>1.392426</td>\n",
       "      <td>NaN</td>\n",
       "      <td>0.087015</td>\n",
       "      <td>0</td>\n",
       "      <td>912.985451</td>\n",
       "    </tr>\n",
       "    <tr>\n",
       "      <td>702</td>\n",
       "      <td>40</td>\n",
       "      <td>1</td>\n",
       "      <td>9</td>\n",
       "      <td>9</td>\n",
       "      <td>33</td>\n",
       "      <td>17.0</td>\n",
       "      <td>4.880700</td>\n",
       "      <td>0.729300</td>\n",
       "      <td>NaN</td>\n",
       "      <td>0.708953</td>\n",
       "      <td>1</td>\n",
       "      <td>291.046934</td>\n",
       "    </tr>\n",
       "    <tr>\n",
       "      <td>703</td>\n",
       "      <td>31</td>\n",
       "      <td>1</td>\n",
       "      <td>5</td>\n",
       "      <td>7</td>\n",
       "      <td>23</td>\n",
       "      <td>2.0</td>\n",
       "      <td>0.046000</td>\n",
       "      <td>0.414000</td>\n",
       "      <td>NaN</td>\n",
       "      <td>0.080848</td>\n",
       "      <td>0</td>\n",
       "      <td>919.151555</td>\n",
       "    </tr>\n",
       "    <tr>\n",
       "      <td>704</td>\n",
       "      <td>29</td>\n",
       "      <td>1</td>\n",
       "      <td>4</td>\n",
       "      <td>0</td>\n",
       "      <td>24</td>\n",
       "      <td>7.8</td>\n",
       "      <td>0.866736</td>\n",
       "      <td>1.005264</td>\n",
       "      <td>NaN</td>\n",
       "      <td>0.345418</td>\n",
       "      <td>1</td>\n",
       "      <td>654.581963</td>\n",
       "    </tr>\n",
       "  </tbody>\n",
       "</table>\n",
       "</div>"
      ],
      "text/plain": [
       "     age  ed  employ  address  income  debtinc  creddebt   othdebt  default  \\\n",
       "700   36   1      16       13      32     10.9  0.544128  2.943872      NaN   \n",
       "701   50   1       6       27      21     12.9  1.316574  1.392426      NaN   \n",
       "702   40   1       9        9      33     17.0  4.880700  0.729300      NaN   \n",
       "703   31   1       5        7      23      2.0  0.046000  0.414000      NaN   \n",
       "704   29   1       4        0      24      7.8  0.866736  1.005264      NaN   \n",
       "\n",
       "         prob  default_predict  creditscore  \n",
       "700  0.011274                0   988.725731  \n",
       "701  0.087015                0   912.985451  \n",
       "702  0.708953                1   291.046934  \n",
       "703  0.080848                0   919.151555  \n",
       "704  0.345418                1   654.581963  "
      ]
     },
     "execution_count": 118,
     "metadata": {},
     "output_type": "execute_result"
    }
   ],
   "source": [
    "bankloans_new.head()"
   ]
  },
  {
   "cell_type": "code",
   "execution_count": null,
   "metadata": {},
   "outputs": [],
   "source": []
  }
 ],
 "metadata": {
  "kernelspec": {
   "display_name": "Python 3",
   "language": "python",
   "name": "python3"
  },
  "language_info": {
   "codemirror_mode": {
    "name": "ipython",
    "version": 3
   },
   "file_extension": ".py",
   "mimetype": "text/x-python",
   "name": "python",
   "nbconvert_exporter": "python",
   "pygments_lexer": "ipython3",
   "version": "3.8.8"
  }
 },
 "nbformat": 4,
 "nbformat_minor": 2
}
