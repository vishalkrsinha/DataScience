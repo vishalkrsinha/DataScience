{
 "cells": [
  {
   "cell_type": "code",
   "execution_count": 1,
   "metadata": {},
   "outputs": [],
   "source": [
    "# #4. An electronics firm is developing a new DVD player in response to customer requests. \n",
    "# Using a prototype, the marketing team has collected focus data for different age groups viz. \n",
    "# Under 25; 25-34; 35-44; 45-54; 55-64; 65 and above. Do you think that consumers of various ages rated the design differently?"
   ]
  },
  {
   "cell_type": "code",
   "execution_count": 2,
   "metadata": {},
   "outputs": [
    {
     "data": {
      "text/html": [
       "<div>\n",
       "<style scoped>\n",
       "    .dataframe tbody tr th:only-of-type {\n",
       "        vertical-align: middle;\n",
       "    }\n",
       "\n",
       "    .dataframe tbody tr th {\n",
       "        vertical-align: top;\n",
       "    }\n",
       "\n",
       "    .dataframe thead th {\n",
       "        text-align: right;\n",
       "    }\n",
       "</style>\n",
       "<table border=\"1\" class=\"dataframe\">\n",
       "  <thead>\n",
       "    <tr style=\"text-align: right;\">\n",
       "      <th></th>\n",
       "      <th>agegroup</th>\n",
       "      <th>dvdscore</th>\n",
       "    </tr>\n",
       "  </thead>\n",
       "  <tbody>\n",
       "    <tr>\n",
       "      <th>0</th>\n",
       "      <td>65 and over</td>\n",
       "      <td>38.454803</td>\n",
       "    </tr>\n",
       "    <tr>\n",
       "      <th>1</th>\n",
       "      <td>55-64</td>\n",
       "      <td>17.669677</td>\n",
       "    </tr>\n",
       "    <tr>\n",
       "      <th>2</th>\n",
       "      <td>65 and over</td>\n",
       "      <td>31.704307</td>\n",
       "    </tr>\n",
       "    <tr>\n",
       "      <th>3</th>\n",
       "      <td>65 and over</td>\n",
       "      <td>25.924460</td>\n",
       "    </tr>\n",
       "    <tr>\n",
       "      <th>4</th>\n",
       "      <td>Under 25</td>\n",
       "      <td>30.450007</td>\n",
       "    </tr>\n",
       "  </tbody>\n",
       "</table>\n",
       "</div>"
      ],
      "text/plain": [
       "      agegroup   dvdscore\n",
       "0  65 and over  38.454803\n",
       "1        55-64  17.669677\n",
       "2  65 and over  31.704307\n",
       "3  65 and over  25.924460\n",
       "4     Under 25  30.450007"
      ]
     },
     "execution_count": 2,
     "metadata": {},
     "output_type": "execute_result"
    }
   ],
   "source": [
    "import numpy as np\n",
    "import pandas as pd\n",
    "import scipy.stats as stats\n",
    "\n",
    "dvdDF = pd.read_csv(\"dvdplayer.csv\")\n",
    "dvdDF.head()"
   ]
  },
  {
   "cell_type": "code",
   "execution_count": 3,
   "metadata": {},
   "outputs": [],
   "source": [
    "##Step 1: Checking if sample truly represents the population or not::\n",
    "#Yes\n",
    "\n",
    "\n",
    "##Step 2: Defining Null & Alt Hypothesis::\n",
    "#Null hypothesis: There is no significance of consumers of various ages.\n",
    "#Alt hypothesis: There is a significance of consumers of various ages.\n",
    "\n",
    "\n",
    "##Step 3: Will decide what test to be done, based on the data::\n",
    "#Perform the ANOVA: A group/categorical variable is influencing a continuous variable."
   ]
  },
  {
   "cell_type": "code",
   "execution_count": 4,
   "metadata": {},
   "outputs": [],
   "source": [
    "##Step 4: Will calculate the test statistic – it will be the Program Output::\n",
    "\n",
    "SixtyFivePlus_promo = dvdDF.dvdscore.loc[dvdDF.agegroup == '65 and over']\n",
    "FiftyFiveToSixtyFour_promo = dvdDF.dvdscore.loc[dvdDF.agegroup == '55-64']\n",
    "FortyFiveToFiftyFour_promo = dvdDF.dvdscore.loc[dvdDF.agegroup == '45-54']\n",
    "ThirtyFiveToFortyFour_promo = dvdDF.dvdscore.loc[dvdDF.agegroup == '35-44']\n",
    "TwentyFiveToThirtyFour_promo = dvdDF.dvdscore.loc[dvdDF.agegroup == '25-34']\n",
    "Under25_promo =dvdDF.dvdscore.loc[dvdDF.agegroup == 'Under 25']"
   ]
  },
  {
   "cell_type": "code",
   "execution_count": 5,
   "metadata": {},
   "outputs": [
    {
     "name": "stdout",
     "output_type": "stream",
     "text": [
      "The average of dvdscore: 31.95076354936375\n",
      "The STD of dvdscore: 7.31999223969135\n",
      "p-value\n"
     ]
    }
   ],
   "source": [
    "anova = stats.f_oneway(Under25_promo,TwentyFiveToThirtyFour_promo,ThirtyFiveToFortyFour_promo,\n",
    "               FortyFiveToFiftyFour_promo,FiftyFiveToSixtyFour_promo,SixtyFivePlus_promo)\n",
    "\n",
    "print(\"The average of dvdscore: {}\".format(dvdDF.dvdscore.mean()))\n",
    "print(\"The STD of dvdscore: {}\".format(dvdDF.dvdscore.std()))\n",
    "print(\"p-value\".format(anova))"
   ]
  },
  {
   "cell_type": "code",
   "execution_count": 6,
   "metadata": {},
   "outputs": [
    {
     "data": {
      "text/plain": [
       "F_onewayResult(statistic=6.992526962676516, pvalue=3.087324905679639e-05)"
      ]
     },
     "execution_count": 6,
     "metadata": {},
     "output_type": "execute_result"
    }
   ],
   "source": [
    "anova"
   ]
  },
  {
   "cell_type": "code",
   "execution_count": 7,
   "metadata": {},
   "outputs": [
    {
     "name": "stdout",
     "output_type": "stream",
     "text": [
      "False\n",
      "Conclusion: Since the p-value supports the evidence of rejecting H0, will conclude that there is NO similarity among all age groups. There is a significant difference.\n"
     ]
    }
   ],
   "source": [
    "##Step 5: Final conclusion based on p-value::\n",
    "#Conclusion ::\n",
    "\n",
    "print(anova.pvalue > 0.05)\n",
    "print('Conclusion: Since the p-value supports the evidence of rejecting H0, will conclude that there is NO \\\n",
    "similarity among all age groups. There is a significant difference.')"
   ]
  },
  {
   "cell_type": "code",
   "execution_count": null,
   "metadata": {},
   "outputs": [],
   "source": []
  }
 ],
 "metadata": {
  "kernelspec": {
   "display_name": "Python 3",
   "language": "python",
   "name": "python3"
  },
  "language_info": {
   "codemirror_mode": {
    "name": "ipython",
    "version": 3
   },
   "file_extension": ".py",
   "mimetype": "text/x-python",
   "name": "python",
   "nbconvert_exporter": "python",
   "pygments_lexer": "ipython3",
   "version": "3.8.5"
  }
 },
 "nbformat": 4,
 "nbformat_minor": 4
}
