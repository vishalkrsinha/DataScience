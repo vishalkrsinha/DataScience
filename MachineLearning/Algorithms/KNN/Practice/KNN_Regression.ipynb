{
 "cells": [
  {
   "cell_type": "raw",
   "id": "9417ae8e",
   "metadata": {},
   "source": [
    "Source:: https://realpython.com/knn-python/"
   ]
  },
  {
   "cell_type": "markdown",
   "id": "96d4c9c5",
   "metadata": {},
   "source": [
    "# Problem Statement:: Use kNN to Predict the Age of Sea Slugs"
   ]
  },
  {
   "cell_type": "raw",
   "id": "0e2adb2c",
   "metadata": {},
   "source": [
    "To follow along with the coding part, you’ll look at an example dataset for the rest of this tutorial—the Abalone Dataset. \n",
    "This dataset contains age measurements on a large number of abalones.\n",
    "\n",
    "\n",
    "\n",
    "The age of an abalone can be found by cutting its shell and counting the number of rings on the shell. In the Abalone Dataset, you can find the age measurements of a large number of abalones along with a lot of other physical measurements.\n",
    "\n",
    "The goal of the project is to develop a model that can predict the age of an abalone based purely on the other physical measurements. This would allow researchers to estimate the abalone’s age without having to cut its shell and count the rings.\n",
    "\n",
    "You’ll be applying a kNN to find the closest prediction score possible."
   ]
  },
  {
   "cell_type": "code",
   "execution_count": 37,
   "id": "6405e765",
   "metadata": {},
   "outputs": [
    {
     "data": {
      "text/html": [
       "<div>\n",
       "<style scoped>\n",
       "    .dataframe tbody tr th:only-of-type {\n",
       "        vertical-align: middle;\n",
       "    }\n",
       "\n",
       "    .dataframe tbody tr th {\n",
       "        vertical-align: top;\n",
       "    }\n",
       "\n",
       "    .dataframe thead th {\n",
       "        text-align: right;\n",
       "    }\n",
       "</style>\n",
       "<table border=\"1\" class=\"dataframe\">\n",
       "  <thead>\n",
       "    <tr style=\"text-align: right;\">\n",
       "      <th></th>\n",
       "      <th>M</th>\n",
       "      <th>0.455</th>\n",
       "      <th>0.365</th>\n",
       "      <th>0.095</th>\n",
       "      <th>0.514</th>\n",
       "      <th>0.2245</th>\n",
       "      <th>0.101</th>\n",
       "      <th>0.15</th>\n",
       "      <th>15</th>\n",
       "    </tr>\n",
       "  </thead>\n",
       "  <tbody>\n",
       "    <tr>\n",
       "      <th>0</th>\n",
       "      <td>M</td>\n",
       "      <td>0.350</td>\n",
       "      <td>0.265</td>\n",
       "      <td>0.090</td>\n",
       "      <td>0.2255</td>\n",
       "      <td>0.0995</td>\n",
       "      <td>0.0485</td>\n",
       "      <td>0.070</td>\n",
       "      <td>7</td>\n",
       "    </tr>\n",
       "    <tr>\n",
       "      <th>1</th>\n",
       "      <td>F</td>\n",
       "      <td>0.530</td>\n",
       "      <td>0.420</td>\n",
       "      <td>0.135</td>\n",
       "      <td>0.6770</td>\n",
       "      <td>0.2565</td>\n",
       "      <td>0.1415</td>\n",
       "      <td>0.210</td>\n",
       "      <td>9</td>\n",
       "    </tr>\n",
       "    <tr>\n",
       "      <th>2</th>\n",
       "      <td>M</td>\n",
       "      <td>0.440</td>\n",
       "      <td>0.365</td>\n",
       "      <td>0.125</td>\n",
       "      <td>0.5160</td>\n",
       "      <td>0.2155</td>\n",
       "      <td>0.1140</td>\n",
       "      <td>0.155</td>\n",
       "      <td>10</td>\n",
       "    </tr>\n",
       "    <tr>\n",
       "      <th>3</th>\n",
       "      <td>I</td>\n",
       "      <td>0.330</td>\n",
       "      <td>0.255</td>\n",
       "      <td>0.080</td>\n",
       "      <td>0.2050</td>\n",
       "      <td>0.0895</td>\n",
       "      <td>0.0395</td>\n",
       "      <td>0.055</td>\n",
       "      <td>7</td>\n",
       "    </tr>\n",
       "    <tr>\n",
       "      <th>4</th>\n",
       "      <td>I</td>\n",
       "      <td>0.425</td>\n",
       "      <td>0.300</td>\n",
       "      <td>0.095</td>\n",
       "      <td>0.3515</td>\n",
       "      <td>0.1410</td>\n",
       "      <td>0.0775</td>\n",
       "      <td>0.120</td>\n",
       "      <td>8</td>\n",
       "    </tr>\n",
       "  </tbody>\n",
       "</table>\n",
       "</div>"
      ],
      "text/plain": [
       "   M  0.455  0.365  0.095   0.514  0.2245   0.101   0.15  15\n",
       "0  M  0.350  0.265  0.090  0.2255  0.0995  0.0485  0.070   7\n",
       "1  F  0.530  0.420  0.135  0.6770  0.2565  0.1415  0.210   9\n",
       "2  M  0.440  0.365  0.125  0.5160  0.2155  0.1140  0.155  10\n",
       "3  I  0.330  0.255  0.080  0.2050  0.0895  0.0395  0.055   7\n",
       "4  I  0.425  0.300  0.095  0.3515  0.1410  0.0775  0.120   8"
      ]
     },
     "execution_count": 37,
     "metadata": {},
     "output_type": "execute_result"
    }
   ],
   "source": [
    "import pandas as pd\n",
    "\n",
    "url = (\"https://archive.ics.uci.edu/ml/machine-learning-databases/abalone/abalone.data\")\n",
    "abalone = pd.read_csv(url)\n",
    "abalone.head()"
   ]
  },
  {
   "cell_type": "code",
   "execution_count": 38,
   "id": "c0b07f87",
   "metadata": {},
   "outputs": [
    {
     "name": "stdout",
     "output_type": "stream",
     "text": [
      "<class 'pandas.core.frame.DataFrame'>\n",
      "RangeIndex: 4176 entries, 0 to 4175\n",
      "Data columns (total 9 columns):\n",
      " #   Column  Non-Null Count  Dtype  \n",
      "---  ------  --------------  -----  \n",
      " 0   M       4176 non-null   object \n",
      " 1   0.455   4176 non-null   float64\n",
      " 2   0.365   4176 non-null   float64\n",
      " 3   0.095   4176 non-null   float64\n",
      " 4   0.514   4176 non-null   float64\n",
      " 5   0.2245  4176 non-null   float64\n",
      " 6   0.101   4176 non-null   float64\n",
      " 7   0.15    4176 non-null   float64\n",
      " 8   15      4176 non-null   int64  \n",
      "dtypes: float64(7), int64(1), object(1)\n",
      "memory usage: 293.8+ KB\n"
     ]
    }
   ],
   "source": [
    "abalone.info()"
   ]
  },
  {
   "cell_type": "code",
   "execution_count": 39,
   "id": "c17da694",
   "metadata": {},
   "outputs": [
    {
     "data": {
      "text/plain": [
       "Index(['M', '0.455', '0.365', '0.095', '0.514', '0.2245', '0.101', '0.15',\n",
       "       '15'],\n",
       "      dtype='object')"
      ]
     },
     "execution_count": 39,
     "metadata": {},
     "output_type": "execute_result"
    }
   ],
   "source": [
    "abalone.columns"
   ]
  },
  {
   "cell_type": "code",
   "execution_count": 40,
   "id": "dc81d2f8",
   "metadata": {},
   "outputs": [
    {
     "data": {
      "text/html": [
       "<div>\n",
       "<style scoped>\n",
       "    .dataframe tbody tr th:only-of-type {\n",
       "        vertical-align: middle;\n",
       "    }\n",
       "\n",
       "    .dataframe tbody tr th {\n",
       "        vertical-align: top;\n",
       "    }\n",
       "\n",
       "    .dataframe thead th {\n",
       "        text-align: right;\n",
       "    }\n",
       "</style>\n",
       "<table border=\"1\" class=\"dataframe\">\n",
       "  <thead>\n",
       "    <tr style=\"text-align: right;\">\n",
       "      <th></th>\n",
       "      <th>0.455</th>\n",
       "      <th>0.365</th>\n",
       "      <th>0.095</th>\n",
       "      <th>0.514</th>\n",
       "      <th>0.2245</th>\n",
       "      <th>0.101</th>\n",
       "      <th>0.15</th>\n",
       "      <th>15</th>\n",
       "    </tr>\n",
       "  </thead>\n",
       "  <tbody>\n",
       "    <tr>\n",
       "      <th>0</th>\n",
       "      <td>0.350</td>\n",
       "      <td>0.265</td>\n",
       "      <td>0.090</td>\n",
       "      <td>0.2255</td>\n",
       "      <td>0.0995</td>\n",
       "      <td>0.0485</td>\n",
       "      <td>0.070</td>\n",
       "      <td>7</td>\n",
       "    </tr>\n",
       "    <tr>\n",
       "      <th>1</th>\n",
       "      <td>0.530</td>\n",
       "      <td>0.420</td>\n",
       "      <td>0.135</td>\n",
       "      <td>0.6770</td>\n",
       "      <td>0.2565</td>\n",
       "      <td>0.1415</td>\n",
       "      <td>0.210</td>\n",
       "      <td>9</td>\n",
       "    </tr>\n",
       "    <tr>\n",
       "      <th>2</th>\n",
       "      <td>0.440</td>\n",
       "      <td>0.365</td>\n",
       "      <td>0.125</td>\n",
       "      <td>0.5160</td>\n",
       "      <td>0.2155</td>\n",
       "      <td>0.1140</td>\n",
       "      <td>0.155</td>\n",
       "      <td>10</td>\n",
       "    </tr>\n",
       "    <tr>\n",
       "      <th>3</th>\n",
       "      <td>0.330</td>\n",
       "      <td>0.255</td>\n",
       "      <td>0.080</td>\n",
       "      <td>0.2050</td>\n",
       "      <td>0.0895</td>\n",
       "      <td>0.0395</td>\n",
       "      <td>0.055</td>\n",
       "      <td>7</td>\n",
       "    </tr>\n",
       "    <tr>\n",
       "      <th>4</th>\n",
       "      <td>0.425</td>\n",
       "      <td>0.300</td>\n",
       "      <td>0.095</td>\n",
       "      <td>0.3515</td>\n",
       "      <td>0.1410</td>\n",
       "      <td>0.0775</td>\n",
       "      <td>0.120</td>\n",
       "      <td>8</td>\n",
       "    </tr>\n",
       "  </tbody>\n",
       "</table>\n",
       "</div>"
      ],
      "text/plain": [
       "   0.455  0.365  0.095   0.514  0.2245   0.101   0.15  15\n",
       "0  0.350  0.265  0.090  0.2255  0.0995  0.0485  0.070   7\n",
       "1  0.530  0.420  0.135  0.6770  0.2565  0.1415  0.210   9\n",
       "2  0.440  0.365  0.125  0.5160  0.2155  0.1140  0.155  10\n",
       "3  0.330  0.255  0.080  0.2050  0.0895  0.0395  0.055   7\n",
       "4  0.425  0.300  0.095  0.3515  0.1410  0.0775  0.120   8"
      ]
     },
     "execution_count": 40,
     "metadata": {},
     "output_type": "execute_result"
    }
   ],
   "source": [
    "#Since sex is not a purely physical measure, you should remove it from the dataset. \n",
    "\n",
    "abalone = abalone.drop(\"M\",axis=1)\n",
    "abalone.head()"
   ]
  },
  {
   "cell_type": "code",
   "execution_count": 41,
   "id": "f1f4026a",
   "metadata": {},
   "outputs": [
    {
     "data": {
      "image/png": "[encoded data removed]",
      "text/plain": [
       "<Figure size 432x288 with 1 Axes>"
      ]
     },
     "metadata": {
      "needs_background": "light"
     },
     "output_type": "display_data"
    }
   ],
   "source": [
    "# The target variable of this exercise is Rings, so you can start with that. A histogram will give you a quick and useful\n",
    "# overview of the age ranges that you can expect:\n",
    "\n",
    "\n",
    "    \n",
    "import matplotlib.pyplot as plt\n",
    "abalone[\"15\"].hist(bins=15)\n",
    "plt.show()\n",
    "\n",
    "# The histogram shows that most abalones in the dataset have between five and fifteen rings, but that it’s possible to get \n",
    "# up to twenty-five rings. The older abalones are underrepresented in this dataset. This seems intuitive, as age distributions \n",
    "# are generally skewed like this due to natural processes."
   ]
  },
  {
   "cell_type": "code",
   "execution_count": 42,
   "id": "fd64180c",
   "metadata": {},
   "outputs": [
    {
     "data": {
      "text/plain": [
       "0.455     0.557123\n",
       "0.365     0.575005\n",
       "0.095     0.558109\n",
       "0.514     0.540818\n",
       "0.2245    0.421256\n",
       "0.101     0.504274\n",
       "0.15      0.628031\n",
       "15        1.000000\n",
       "Name: 15, dtype: float64"
      ]
     },
     "execution_count": 42,
     "metadata": {},
     "output_type": "execute_result"
    }
   ],
   "source": [
    "# A strong correlation between an independent variable and your goal variable would be a good sign, as this would confirm \n",
    "# that physical measurements and age are related.\n",
    "\n",
    "\n",
    "# You can observe the complete correlation matrix in correlation_matrix. The most important correlations are the ones with\n",
    "# the target variable Rings(15). You can get those correlations like this:\n",
    "\n",
    "correlation_matrix = abalone.corr()\n",
    "correlation_matrix[\"15\"]\n",
    "\n",
    "# Now look at the correlation coefficients for Rings with the other variables. The closer they are to 1, the more correlation \n",
    "# there is.\n",
    "\n",
    "\n",
    "# >>> correlation_matrix = abalone.corr()\n",
    "# >>> correlation_matrix[\"Rings\"]\n",
    "# Length            0.556720\n",
    "# Diameter          0.574660\n",
    "# Height            0.557467\n",
    "# Whole weight      0.540390\n",
    "# Shucked weight    0.420884\n",
    "# Viscera weight    0.503819\n",
    "# Shell weight      0.627574\n",
    "# Rings             1.000000\n",
    "# Name: Rings, dtype: float64"
   ]
  },
  {
   "cell_type": "raw",
   "id": "d3e5b090",
   "metadata": {},
   "source": [
    "A Step-by-Step kNN From Scratch in Python: The algorithm has two main mathematical components that you’ll need to understand. \n",
    "    \n",
    "Plain English Walkthrough of the kNN Algorithm::\n",
    "The specificity of the k-Nearest Neighbors algorithm is that this formula is computed not at the moment of fitting but \n",
    "rather at the moment of prediction. This isn’t the case for most other models.\n",
    "\n"
   ]
  },
  {
   "cell_type": "code",
   "execution_count": 43,
   "id": "7f80de63",
   "metadata": {},
   "outputs": [
    {
     "data": {
      "text/plain": [
       "array([[0.35  , 0.265 , 0.09  , ..., 0.0995, 0.0485, 0.07  ],\n",
       "       [0.53  , 0.42  , 0.135 , ..., 0.2565, 0.1415, 0.21  ],\n",
       "       [0.44  , 0.365 , 0.125 , ..., 0.2155, 0.114 , 0.155 ],\n",
       "       ...,\n",
       "       [0.6   , 0.475 , 0.205 , ..., 0.5255, 0.2875, 0.308 ],\n",
       "       [0.625 , 0.485 , 0.15  , ..., 0.531 , 0.261 , 0.296 ],\n",
       "       [0.71  , 0.555 , 0.195 , ..., 0.9455, 0.3765, 0.495 ]])"
      ]
     },
     "metadata": {},
     "output_type": "display_data"
    },
    {
     "data": {
      "text/plain": [
       "array([ 7,  9, 10, ...,  9, 10, 12], dtype=int64)"
      ]
     },
     "metadata": {},
     "output_type": "display_data"
    }
   ],
   "source": [
    "# To find the nearest neighbors in NumPy, go back to the Abalone Dataset. As you’ve seen, you need to define distances on \n",
    "# the vectors of the independent variables, so you should first get your pandas DataFrame into a NumPy array using the .values\n",
    "# attribute:\n",
    "\n",
    "X = abalone.drop(\"15\", axis=1)\n",
    "X = X.values\n",
    "display(X)\n",
    "\n",
    "y = abalone[\"15\"]\n",
    "y = y.values\n",
    "display(y)\n",
    "\n",
    "\n",
    "# This code block generates two objects that now contain your data: X and y. X is the independent variables and y is the \n",
    "#     dependent variable of your model. Note that you use a capital letter for X but a lowercase letter for y. This is often \n",
    "#     done in machine learning code because mathematical notation generally uses a capital letter for matrices and a lowercase \n",
    "#     letter for vectors."
   ]
  },
  {
   "cell_type": "code",
   "execution_count": 44,
   "id": "1c53c3e7",
   "metadata": {},
   "outputs": [
    {
     "data": {
      "application/javascript": [
       "\n",
       "        if (window._pyforest_update_imports_cell) { window._pyforest_update_imports_cell('import numpy as np'); }\n",
       "    "
      ],
      "text/plain": [
       "<IPython.core.display.Javascript object>"
      ]
     },
     "metadata": {},
     "output_type": "display_data"
    }
   ],
   "source": [
    "# Now you can apply a kNN with k = 3 on a new abalone\n",
    "\n",
    "# You can create the NumPy array for this data point as follows:\n",
    "\n",
    "\n",
    "new_data_point = np.array([0.569552,0.446407,0.154437,1.016849,0.439051,0.222526,0.291208])\n"
   ]
  },
  {
   "cell_type": "code",
   "execution_count": 45,
   "id": "eac00893",
   "metadata": {},
   "outputs": [
    {
     "data": {
      "application/javascript": [
       "\n",
       "        if (window._pyforest_update_imports_cell) { window._pyforest_update_imports_cell('import numpy as np'); }\n",
       "    "
      ],
      "text/plain": [
       "<IPython.core.display.Javascript object>"
      ]
     },
     "metadata": {},
     "output_type": "display_data"
    },
    {
     "data": {
      "text/plain": [
       "array([0.9518455 , 0.40573594, 0.59618172, ..., 0.20397872, 0.14342627,\n",
       "       1.10583307])"
      ]
     },
     "execution_count": 45,
     "metadata": {},
     "output_type": "execute_result"
    }
   ],
   "source": [
    "# The next step is to compute the distances between this new data point and each of the data points in the Abalone Dataset \n",
    "# using the following code:\n",
    "\n",
    "distances = np.linalg.norm(X - new_data_point, axis=1)\n",
    "distances"
   ]
  },
  {
   "cell_type": "code",
   "execution_count": 46,
   "id": "bb403db3",
   "metadata": {},
   "outputs": [
    {
     "data": {
      "text/plain": [
       "array([4044, 1901, 1643], dtype=int64)"
      ]
     },
     "execution_count": 46,
     "metadata": {},
     "output_type": "execute_result"
    }
   ],
   "source": [
    "# You now have a vector of distances, and you need to find out which are the three closest neighbors. To do this, you need to \n",
    "# find the IDs of the minimum distances. You can use a method called .argsort() to sort the array from lowest to highest, and \n",
    "# you can take the first k elements to obtain the indices of the k nearest neighbors:\n",
    "\n",
    "k = 3\n",
    "nearest_neighbor_ids = distances.argsort()[:k]\n",
    "nearest_neighbor_ids\n",
    "\n",
    "# This tells you which three neighbors are closest to your new_data_point. In the next paragraph, you’ll see how to convert \n",
    "# those neighbors in an estimation."
   ]
  },
  {
   "cell_type": "code",
   "execution_count": 47,
   "id": "90f82a15",
   "metadata": {},
   "outputs": [
    {
     "data": {
      "text/plain": [
       "array([ 9, 11, 10], dtype=int64)"
      ]
     },
     "execution_count": 47,
     "metadata": {},
     "output_type": "execute_result"
    }
   ],
   "source": [
    "# Voting or Averaging of Multiple Neighbors:: Having identified the indices of the three nearest neighbors of your abalone of \n",
    "# unknown age, you now need to combine those neighbors into a prediction for your new data point.\n",
    "\n",
    "# As a first step, you need to find the ground truths for those three neighbors:\n",
    "\n",
    "nearest_neighbor_rings = y[nearest_neighbor_ids]\n",
    "nearest_neighbor_rings\n",
    "\n",
    "# Now that you have the values for those three neighbors, you’ll combine them into a prediction for your new data point. \n",
    "# Combining the neighbors into a prediction works differently for regression and classification."
   ]
  },
  {
   "cell_type": "code",
   "execution_count": 48,
   "id": "61c465e2",
   "metadata": {},
   "outputs": [
    {
     "data": {
      "text/plain": [
       "10.0"
      ]
     },
     "execution_count": 48,
     "metadata": {},
     "output_type": "execute_result"
    }
   ],
   "source": [
    "# Average for Regression:: In regression problems, the target variable is numeric. You combine multiple neighbors into one \n",
    "# prediction by taking the average of their values of the target variable. You can do this as follows:\n",
    "\n",
    "prediction = nearest_neighbor_rings.mean()\n",
    "prediction\n",
    "\n",
    "# You’ll get a value of 10 for prediction. This means that the 3-Nearest Neighbor prediction for your new data point is 10. \n",
    "# You could do the same for any number of new abalones that you want."
   ]
  },
  {
   "cell_type": "markdown",
   "id": "73df3084",
   "metadata": {},
   "source": [
    "# Fit kNN in Python Using scikit-learn"
   ]
  },
  {
   "cell_type": "code",
   "execution_count": 49,
   "id": "88d00be4",
   "metadata": {},
   "outputs": [],
   "source": [
    "# While coding an algorithm from scratch is great for learning purposes, it’s usually not very practical when working on a \n",
    "# machine learning task. In this section, you’ll explore the implementation of the kNN algorithm used in scikit-learn, one of \n",
    "# the most comprehensive machine learning packages in Python."
   ]
  },
  {
   "cell_type": "raw",
   "id": "db0c6001",
   "metadata": {},
   "source": [
    "Splitting Data Into Training and Test Sets for Model Evaluation"
   ]
  },
  {
   "cell_type": "code",
   "execution_count": 50,
   "id": "731b2c73",
   "metadata": {},
   "outputs": [
    {
     "data": {
      "text/plain": [
       "array([[0.48  , 0.37  , 0.12  , ..., 0.251 , 0.114 , 0.15  ],\n",
       "       [0.53  , 0.41  , 0.165 , ..., 0.24  , 0.169 , 0.24  ],\n",
       "       [0.5   , 0.39  , 0.13  , ..., 0.275 , 0.168 , 0.18  ],\n",
       "       ...,\n",
       "       [0.555 , 0.44  , 0.15  , ..., 0.4155, 0.146 , 0.23  ],\n",
       "       [0.595 , 0.48  , 0.2   , ..., 0.358 , 0.2035, 0.34  ],\n",
       "       [0.55  , 0.425 , 0.155 , ..., 0.412 , 0.187 , 0.2425]])"
      ]
     },
     "metadata": {},
     "output_type": "display_data"
    },
    {
     "data": {
      "text/plain": [
       "array([[0.56  , 0.43  , 0.125 , ..., 0.313 , 0.1715, 0.263 ],\n",
       "       [0.62  , 0.49  , 0.16  , ..., 0.446 , 0.246 , 0.305 ],\n",
       "       [0.5   , 0.375 , 0.14  , ..., 0.248 , 0.112 , 0.1585],\n",
       "       ...,\n",
       "       [0.58  , 0.45  , 0.155 , ..., 0.321 , 0.1975, 0.2445],\n",
       "       [0.58  , 0.45  , 0.14  , ..., 0.38  , 0.216 , 0.36  ],\n",
       "       [0.48  , 0.35  , 0.1   , ..., 0.2365, 0.1275, 0.126 ]])"
      ]
     },
     "metadata": {},
     "output_type": "display_data"
    },
    {
     "data": {
      "text/plain": [
       "array([ 8, 19, 11, ...,  8, 15, 10], dtype=int64)"
      ]
     },
     "metadata": {},
     "output_type": "display_data"
    },
    {
     "data": {
      "text/plain": [
       "array([13, 11,  7, 11,  8, 11, 17,  9, 10,  9,  8,  9, 22, 12,  7, 10, 14,\n",
       "       11,  9, 10,  8, 19,  9, 10,  8, 10,  8,  8,  7,  6, 12, 10,  9,  8,\n",
       "        7, 19, 14,  9,  7, 10, 13, 11, 11, 10,  8, 15, 10,  8, 13,  8, 10,\n",
       "        9, 10, 12,  9, 10,  6, 10,  8,  8, 11,  6, 11, 11, 15,  7, 10, 12,\n",
       "       12, 12, 19,  7,  9, 11,  8,  8,  8, 12, 11, 11,  7, 10,  8,  9, 11,\n",
       "       11,  8, 10,  8,  7, 15, 11, 10,  5,  9, 11,  9, 10,  9, 10,  9, 11,\n",
       "        8, 12,  9, 18,  9,  9, 10,  7, 11,  9,  7, 10,  9, 12,  6, 10, 10,\n",
       "        6,  8, 10,  9, 11,  9, 14,  6, 13,  8,  7,  7, 11,  6,  7,  9, 13,\n",
       "       12,  5,  7,  7, 12, 11,  7,  8, 10,  9, 18,  8,  9,  6, 15,  7,  9,\n",
       "       10, 10,  8, 11, 14, 11, 11,  7,  7, 15, 11,  9,  8, 10, 11, 13, 11,\n",
       "        8, 10, 17, 14, 17,  9, 14, 11,  7,  7,  8,  9, 10, 10,  5,  7, 10,\n",
       "        9, 11,  8, 10,  5, 12,  6,  7, 10, 16,  8, 14, 11, 12, 10,  9,  8,\n",
       "        9,  6, 12, 12, 12,  7, 11, 11,  8, 12, 10,  7, 10,  6, 13,  9, 10,\n",
       "        9, 10, 20,  9,  9,  5, 14, 12, 10, 12, 23,  8,  8,  9, 13,  8, 10,\n",
       "        9, 14, 10, 10,  9,  8, 12,  6, 16, 11,  8,  5,  5, 11, 17,  9,  7,\n",
       "        9,  8,  7, 15, 10,  9, 10,  5, 12,  7, 10,  9,  7, 11,  7, 10, 11,\n",
       "       12,  8, 10, 11, 10,  8, 11, 10,  8, 12,  9, 16, 10, 10,  9,  8, 12,\n",
       "        6,  4,  5,  5, 11,  9,  8, 10, 10,  6,  5,  9, 13,  7, 10, 13,  6,\n",
       "        9, 15, 10, 13, 16, 10, 14,  6, 13,  8, 11,  6, 17, 11, 11, 10,  7,\n",
       "       12,  9, 11,  7,  8, 13, 15, 10, 16, 11, 10,  8, 10, 11,  6,  9, 11,\n",
       "       13,  3, 18, 12,  7, 11, 11,  5, 12, 13,  4, 13, 13, 11,  8, 11, 17,\n",
       "        5, 10,  7,  8, 17, 12, 10, 10,  7,  7,  7,  7,  6,  9,  8, 12,  9,\n",
       "       10,  8,  5, 14,  5,  6, 10, 10, 12,  9, 15, 12,  6,  8,  5, 17, 14,\n",
       "        9, 11,  9,  6,  8, 10,  8, 18,  5, 10, 13,  6, 23,  8,  8,  5,  5,\n",
       "        9,  9,  9, 12,  9,  5, 11, 12, 10,  5, 10, 19, 16,  5, 13,  9,  9,\n",
       "       20,  8,  9,  9, 12,  9, 15,  7,  4,  6, 19,  9,  5, 10, 17,  8,  7,\n",
       "        9, 10,  6, 13, 10,  8, 12, 10, 10, 16, 11,  8,  7, 10,  8, 12, 11,\n",
       "        9, 10,  8,  9, 11,  9,  8,  8,  7, 21,  6, 11,  9, 18, 10, 10,  7,\n",
       "       10, 15, 10, 12, 11,  7,  9, 11,  7,  7,  6, 10,  7,  8,  8, 11, 10,\n",
       "       13, 11, 11,  8,  7,  6, 16, 13, 10, 10, 12,  8,  9, 11, 16, 11,  9,\n",
       "        9,  8,  6, 11,  8,  9,  9, 13, 10,  7,  7,  9,  8,  9,  7, 19, 12,\n",
       "       10, 12,  8, 13, 13,  9,  4,  9, 11, 15, 10, 13,  9, 18,  6, 10, 13,\n",
       "       22,  6,  5,  9, 19, 11,  9,  7, 11,  8,  7, 10,  9, 11, 14, 13, 10,\n",
       "        8, 13,  6,  7,  7, 10, 11,  8,  6,  8,  9,  6,  9, 17,  8,  8,  7,\n",
       "        8, 11,  7,  8, 13, 13, 14,  7,  5,  8, 10,  7, 10, 11,  6, 10,  9,\n",
       "        7,  7, 16, 11,  6, 13, 12,  8,  7, 11,  9, 11,  5,  7,  8,  8, 15,\n",
       "        9, 11,  9, 14,  5, 16, 12,  6, 10,  9, 10, 13,  8,  4, 10, 11,  8,\n",
       "        8, 11, 12,  6,  9, 15, 10,  9, 11, 11, 10,  9,  9,  8, 11,  6,  9,\n",
       "        7, 10,  7,  4,  7, 11, 10,  7, 17,  4,  5,  4, 12,  9,  9, 13, 16,\n",
       "       13,  9,  7,  9,  8,  9, 10, 12, 20,  7,  8, 13,  7,  8, 11,  7, 10,\n",
       "       11, 11, 15, 19, 18, 14, 10,  8,  9, 10,  3, 10, 12, 10,  9,  8, 22,\n",
       "       10, 12,  9,  9, 10, 11, 10,  8, 10, 11,  8,  8, 13,  9,  4, 10, 10,\n",
       "       11, 10,  7,  6, 11,  9, 10, 10, 11, 10,  6,  7, 10, 11, 20,  8,  8,\n",
       "       14,  7,  9,  7,  8,  7, 21,  6, 10,  7,  5, 16,  8,  8, 10,  6,  4,\n",
       "        9, 10, 10, 10, 11, 11,  8, 10,  6,  7,  8, 10, 10, 11, 11, 12,  9,\n",
       "       11,  8, 15, 13, 11, 13,  7,  8, 11, 12,  8,  6,  8,  8, 12, 13,  8,\n",
       "       10,  9, 18, 12, 10, 11,  9, 16,  6,  8,  8,  8, 11,  6, 10, 10,  9,\n",
       "       11, 11, 13,  8,  5,  7, 10,  8, 10,  6,  8, 10, 11, 11, 10,  9,  7,\n",
       "       10,  8,  7,  8, 15, 10,  9, 10,  5, 11,  9, 20,  8,  7, 11,  9,  9,\n",
       "        8, 14,  7], dtype=int64)"
      ]
     },
     "metadata": {},
     "output_type": "display_data"
    }
   ],
   "source": [
    "from sklearn.model_selection import train_test_split\n",
    "X_train, X_test, y_train, y_test = train_test_split(X, y, test_size=0.2, random_state=12345)\n",
    "\n",
    "display(X_train)\n",
    "display(X_test)\n",
    "display(y_train)\n",
    "display(y_test)\n",
    "\n",
    "# The test_size refers to the number of observations that you want to put in the training data and the test data. If you \n",
    "# specify a test_size of 0.2, your test_size will be 20 percent of the original data, therefore leaving the other 80 percent \n",
    "# as training data.\n",
    "\n",
    "# The random_state is a parameter that allows you to obtain the same results every time the code is run. train_test_split() \n",
    "# makes a random split in the data, which is problematic for reproducing the results. Therefore, it’s common to use \n",
    "# random_state. The choice of value in random_state is arbitrary.\n",
    "\n",
    "# In the above code, you separate the data into training and test data. This is needed for objective model evaluation. You \n",
    "# can now proceed to fit a kNN model on the training data using scikit-learn."
   ]
  },
  {
   "cell_type": "markdown",
   "id": "b27593ce",
   "metadata": {},
   "source": [
    "# Fitting a kNN Regression in scikit-learn to the Abalone Dataset"
   ]
  },
  {
   "cell_type": "code",
   "execution_count": 51,
   "id": "62accd92",
   "metadata": {},
   "outputs": [
    {
     "data": {
      "text/plain": [
       "KNeighborsRegressor(n_neighbors=3)"
      ]
     },
     "execution_count": 51,
     "metadata": {},
     "output_type": "execute_result"
    }
   ],
   "source": [
    "# To fit a model from scikit-learn, you start by creating a model of the correct class. At this point, you also need to choose \n",
    "# the values for your hyperparameters. For the kNN algorithm, you need to choose the value for k, which is called n_neighbors \n",
    "# in the scikit-learn implementation. Here’s how you can do this in Python:\n",
    "\n",
    "from sklearn.neighbors import KNeighborsRegressor\n",
    "knn_model = KNeighborsRegressor(n_neighbors=3)\n",
    "knn_model.fit(X_train, y_train)\n",
    "\n",
    "# You create an unfitted model with knn_model. This model will use the three nearest neighbors to predict the value of a future \n",
    "# data point. To get the data into the model, you can then fit the model on the training dataset:\n",
    "    \n",
    "# Using .fit(), you let the model learn from the data. At this point, knn_model contains everything that’s needed to make \n",
    "# predictions on new abalone data points. That’s all the code you need for fitting a kNN regression using Python!"
   ]
  },
  {
   "cell_type": "markdown",
   "id": "63efe712",
   "metadata": {},
   "source": [
    "# Using scikit-learn to Inspect Model Fit"
   ]
  },
  {
   "cell_type": "code",
   "execution_count": 52,
   "id": "a1ae8d7f",
   "metadata": {},
   "outputs": [
    {
     "data": {
      "text/plain": [
       "1.6776385361227941"
      ]
     },
     "execution_count": 52,
     "metadata": {},
     "output_type": "execute_result"
    }
   ],
   "source": [
    "# Fitting a model, however, isn’t enough. In this section, you’ll look at some functions that you can use to evaluate the fit.\n",
    "\n",
    "# There are many evaluation metrics available for regression, but you’ll use one of the most common ones, the root-mean-square \n",
    "# error (RMSE). \n",
    "\n",
    "\n",
    "# To start, you can evaluate the prediction error on the training data. This means that you use the training data for \n",
    "# prediction, so you know that the result should be relatively good. You can use the following code to obtain the RMSE:\n",
    "    \n",
    "from sklearn.metrics import mean_squared_error\n",
    "from math import sqrt\n",
    "\n",
    "train_preds = knn_model.predict(X_train)\n",
    "mse = mean_squared_error(y_train, train_preds)\n",
    "rmse = sqrt(mse)\n",
    "rmse\n",
    "\n",
    "# In this code, you compute the RMSE using the knn_model that you fitted in the previous code block. You compute the RMSE on \n",
    "# the training data for now. For a more realistic result, you should evaluate the performances on data that aren’t included in \n",
    "# the model. This is why you kept the test set separate for now. You can evaluate the predictive performances on the test set \n",
    "# with the same function as before:"
   ]
  },
  {
   "cell_type": "code",
   "execution_count": 53,
   "id": "31d2b267",
   "metadata": {},
   "outputs": [
    {
     "data": {
      "text/plain": [
       "2.3359236021240353"
      ]
     },
     "execution_count": 53,
     "metadata": {},
     "output_type": "execute_result"
    }
   ],
   "source": [
    "test_preds = knn_model.predict(X_test)\n",
    "mse = mean_squared_error(y_test, test_preds)\n",
    "rmse = sqrt(mse)\n",
    "rmse\n",
    "\n",
    "# In this code block, you evaluate the error on data that wasn’t yet known by the model. This more-realistic RMSE is slightly \n",
    "# higher than before. The RMSE measures the average error of the predicted age, so you can interpret this as having, on average,\n",
    "# an error of 1.65 years. Whether an improvement from 2.37 years to 1.65 years is good is case specific. At least you’re getting\n",
    "# closer to correctly estimating the age.\n",
    "\n",
    "# Until now, you’ve only used the scikit-learn kNN algorithm out of the box. You haven’t yet done any tuning of hyperparameters\n",
    "# and a random choice for k. You can observe a relatively large difference between the RMSE on the training data and the RMSE\n",
    "# on the test data. This means that the model suffers from overfitting on the training data: It does not generalize well.\n",
    "\n",
    "# This is nothing to worry about at this point. In the next part, you’ll see how to optimize the prediction error or test error\n",
    "# using various tuning methods."
   ]
  },
  {
   "cell_type": "markdown",
   "id": "4ec3612f",
   "metadata": {},
   "source": [
    "# Plotting the Fit of Your Model"
   ]
  },
  {
   "cell_type": "code",
   "execution_count": 54,
   "id": "9b7ffcfc",
   "metadata": {},
   "outputs": [
    {
     "data": {
      "image/png": "[encoded data removed]",
      "text/plain": [
       "<Figure size 432x288 with 2 Axes>"
      ]
     },
     "metadata": {
      "needs_background": "light"
     },
     "output_type": "display_data"
    }
   ],
   "source": [
    "# A last thing to look at before starting to improve the model is the actual fit of your model. To understand what the model \n",
    "# has learned, you can visualize how your predictions have been made using Matplotlib:\n",
    "\n",
    "import seaborn as sns\n",
    "cmap = sns.cubehelix_palette(as_cmap=True)\n",
    "f, ax = plt.subplots()\n",
    "\n",
    "points = ax.scatter(X_test[:, 0], X_test[:, 1], c=test_preds, s=50, cmap=cmap)\n",
    "f.colorbar(points)\n",
    "plt.show()\n",
    "\n",
    "\n",
    "# In this code block, you use Seaborn to create a scatter plot of the first and second columns of X_test by subsetting the \n",
    "# arrays X_test[:,0] and X_test[:,1]. Remember from before that the first two columns are Length and Diameter. They are \n",
    "# strongly correlated, as you’ve seen in the correlations table.\n",
    "\n",
    "# You use c to specify that the predicted values (test_preds) should be used as a colorbar. The argument s is used to specify \n",
    "# the size of the points in the scatter plot. You use cmap to specify the cubehelix_palette color map. To learn more about \n",
    "# plotting with Matplotlib, check out Python Plotting With Matplotlib.\n",
    "\n",
    "# With the above code, you’ll get the following graph:"
   ]
  },
  {
   "cell_type": "code",
   "execution_count": 55,
   "id": "cba6fb2f",
   "metadata": {},
   "outputs": [
    {
     "data": {
      "image/png": "[encoded data removed]",
      "text/plain": [
       "<Figure size 432x288 with 2 Axes>"
      ]
     },
     "metadata": {
      "needs_background": "light"
     },
     "output_type": "display_data"
    }
   ],
   "source": [
    "# On this graph, each point is an abalone from the test set, with its actual length and actual diameter on the X- and Y-axis, \n",
    "# respectively. The color of the point reflects the predicted age. You can see that the longer and larger an abalone is, the \n",
    "# higher its predicted age. This is logical, and it’s a positive sign. It means that your model is learning something that \n",
    "# seems correct.\n",
    "\n",
    "# To confirm whether this trend exists in actual abalone data, you can do the same for the actual values by simply replacing \n",
    "# the variable that is used for c:\n",
    "\n",
    "cmap = sns.cubehelix_palette(as_cmap=True)\n",
    "f, ax = plt.subplots()\n",
    "\n",
    "points = ax.scatter(X_test[:, 0], X_test[:, 1], c=y_test, s=50, cmap=cmap)\n",
    "f.colorbar(points)\n",
    "plt.show()"
   ]
  },
  {
   "cell_type": "code",
   "execution_count": 56,
   "id": "7cd2815f",
   "metadata": {},
   "outputs": [],
   "source": [
    "# This confirms that the trend your model is learning does indeed make sense.\n",
    "\n",
    "# You could extract a visualization for each combination of the seven independent variables. For this tutorial, that would be \n",
    "# too long, but don’t hesitate to try it out. The only thing to change is the columns that are specified in the scatter.\n",
    "\n",
    "# These visualizations are two-dimensional views of a seven-dimensional dataset. If you play around with them, it will give you\n",
    "# a great understanding of what the model is learning and, maybe, what it’s not learning or is learning wrong.\n",
    "\n"
   ]
  },
  {
   "cell_type": "markdown",
   "id": "d9cf050f",
   "metadata": {},
   "source": [
    "# Tune and Optimize kNN in Python Using scikit-learn"
   ]
  },
  {
   "cell_type": "raw",
   "id": "d3bdb4e1",
   "metadata": {},
   "source": [
    "Improving kNN Performances in scikit-learn Using GridSearchCV"
   ]
  },
  {
   "cell_type": "code",
   "execution_count": 57,
   "id": "ced96236",
   "metadata": {},
   "outputs": [
    {
     "data": {
      "text/plain": [
       "GridSearchCV(estimator=KNeighborsRegressor(),\n",
       "             param_grid={'n_neighbors': range(1, 50),\n",
       "                         'weights': ['uniform', 'distance']})"
      ]
     },
     "execution_count": 57,
     "metadata": {},
     "output_type": "execute_result"
    }
   ],
   "source": [
    "# To find the best value for k, you’re going to use a tool called GridSearchCV. This is a tool that is often used for tuning \n",
    "# hyperparameters of machine learning models. In your case, it will help by automatically finding the best value of k for your \n",
    "# dataset.\n",
    "\n",
    "# GridSearchCV is available in scikit-learn, and it has the benefit of being used in almost the exact same way as the \n",
    "# scikit-learn models:\n",
    "\n",
    "from sklearn.model_selection import GridSearchCV\n",
    "parameters = {\"n_neighbors\": range(1, 50)}\n",
    "gridsearch = GridSearchCV(KNeighborsRegressor(), parameters)\n",
    "gridsearch.fit(X_train, y_train)\n",
    "GridSearchCV(estimator=KNeighborsRegressor(),\n",
    "             param_grid={'n_neighbors': range(1, 50),\n",
    "                         'weights': ['uniform', 'distance']})\n",
    "\n",
    "# Here, you use GridSearchCV to fit the model. In short, GridSearchCV repeatedly fits kNN regressors on a part of the data \n",
    "# and tests the performances on the remaining part of the data. Doing this repeatedly will yield a reliable estimate of the \n",
    "# predictive performance of each of the values for k. In this example, you test the values from 1 to 50."
   ]
  },
  {
   "cell_type": "code",
   "execution_count": 58,
   "id": "39ac5cbf",
   "metadata": {},
   "outputs": [
    {
     "data": {
      "text/plain": [
       "{'n_neighbors': 25}"
      ]
     },
     "execution_count": 58,
     "metadata": {},
     "output_type": "execute_result"
    }
   ],
   "source": [
    "# In the end, it will retain the best performing value of k, which you can access with .best_params_:\n",
    "\n",
    "gridsearch.best_params_\n",
    "\n",
    "# In this code, you print the parameters that have the lowest error score. With .best_params_, you can see that choosing 25 \n",
    "# as value for k will yield the best predictive performance. "
   ]
  },
  {
   "cell_type": "code",
   "execution_count": 59,
   "id": "700aab80",
   "metadata": {},
   "outputs": [
    {
     "data": {
      "text/plain": [
       "2.0801503860881105"
      ]
     },
     "metadata": {},
     "output_type": "display_data"
    },
    {
     "data": {
      "text/plain": [
       "2.1270043179131193"
      ]
     },
     "metadata": {},
     "output_type": "display_data"
    }
   ],
   "source": [
    "# Now that you know what the best value of k is, you can see how it affects your train and test performances:\n",
    "\n",
    "train_preds_grid = gridsearch.predict(X_train)\n",
    "train_mse = mean_squared_error(y_train, train_preds_grid)\n",
    "train_rmse = sqrt(train_mse)\n",
    "display(train_rmse)\n",
    "\n",
    "\n",
    "test_preds_grid = gridsearch.predict(X_test)\n",
    "test_mse = mean_squared_error(y_test, test_preds_grid)\n",
    "test_rmse = sqrt(test_mse)\n",
    "display(test_rmse)\n",
    "\n",
    "# With this code, you fit the model on the training data and evaluate the test data. You can see that the training error is \n",
    "# worse than before, but the test error is better than before. This means that your model fits less closely to the training \n",
    "# data. Using GridSearchCV to find a value for k has reduced the problem of overfitting on the training data."
   ]
  },
  {
   "cell_type": "markdown",
   "id": "ed9eb095",
   "metadata": {},
   "source": [
    "# Adding Weighted Average of Neighbors Based on Distance"
   ]
  },
  {
   "cell_type": "code",
   "execution_count": 60,
   "id": "f59a61f6",
   "metadata": {},
   "outputs": [
    {
     "data": {
      "text/plain": [
       "2.1095818025698887"
      ]
     },
     "execution_count": 60,
     "metadata": {},
     "output_type": "execute_result"
    }
   ],
   "source": [
    "# Using GridSearchCV, you reduced the test RMSE from 2.37 to 2.17. In this section, you’ll see how to improve the performances \n",
    "# even more.\n",
    "\n",
    "# Below, you’ll test whether the performance of your model will be any better when predicting using a weighted average instead \n",
    "# of a regular average. This means that neighbors that are further away will less strongly influence the prediction.\n",
    "\n",
    "# You can do this by setting the weights hyperparameter to the value of \"distance\". However, setting this weighted average \n",
    "# could have an impact on the optimal value of k. Therefore, you’ll again use GridSearchCV to tell you which type of averaging \n",
    "# you should use:\n",
    "\n",
    "parameters = {\"n_neighbors\": range(1, 50),\"weights\": [\"uniform\", \"distance\"],}\n",
    "gridsearch = GridSearchCV(KNeighborsRegressor(), parameters)\n",
    "gridsearch.fit(X_train, y_train)\n",
    "GridSearchCV(estimator=KNeighborsRegressor(),\n",
    "             param_grid={'n_neighbors': range(1, 50),\n",
    "                         'weights': ['uniform', 'distance']})\n",
    "gridsearch.best_params_ #{'n_neighbors': 25, 'weights': 'distance'}\n",
    "test_preds_grid = gridsearch.predict(X_test)\n",
    "test_mse = mean_squared_error(y_test, test_preds_grid)\n",
    "test_rmse = sqrt(test_mse)\n",
    "test_rmse\n",
    "\n",
    "# Here, you test whether it makes sense to use a different weighing using your GridSearchCV. Applying a weighted average rather\n",
    "# than a regular average has reduced the prediction error from 2.17 to 2.1634. Although this isn’t a huge improvement, it’s \n",
    "# still better, which makes it worth it."
   ]
  },
  {
   "cell_type": "markdown",
   "id": "24880bc4",
   "metadata": {},
   "source": [
    "# Further Improving on kNN in scikit-learn With Bagging"
   ]
  },
  {
   "cell_type": "code",
   "execution_count": 61,
   "id": "28bf677d",
   "metadata": {},
   "outputs": [],
   "source": [
    "# As a third step for kNN tuning, you can use bagging. Bagging is an ensemble method, or a method that takes a relatively \n",
    "# straightforward machine learning model and fits a large number of those models with slight variations in each fit. Bagging \n",
    "# often uses decision trees, but kNN works perfectly as well.\n",
    "\n",
    "# Ensemble methods are often more performant than single models. One model can be wrong from time to time, but the average of a \n",
    "# hundred models should be wrong less often. The errors of different individual models are likely to average each other out, \n",
    "# and the resulting prediction will be less variable.\n",
    "\n",
    "# You can use scikit-learn to apply bagging to your kNN regression using the following steps. First, create the \n",
    "# KNeighborsRegressor with the best choices for k and weights that you got from GridSearchCV:\n",
    "\n",
    "best_k = gridsearch.best_params_[\"n_neighbors\"]\n",
    "best_weights = gridsearch.best_params_[\"weights\"]\n",
    "bagged_knn = KNeighborsRegressor(n_neighbors=best_k, weights=best_weights)"
   ]
  },
  {
   "cell_type": "code",
   "execution_count": 67,
   "id": "695ae003",
   "metadata": {},
   "outputs": [],
   "source": [
    "# Then import the BaggingRegressor class from scikit-learn and create a new instance with 100 estimators using the bagged_knn \n",
    "# model:\n",
    "\n",
    "from sklearn.ensemble import BaggingRegressor\n",
    "bagging_model = BaggingRegressor(bagged_knn, n_estimators=100).fit(X_test, y_test)"
   ]
  },
  {
   "cell_type": "code",
   "execution_count": 68,
   "id": "c259c656",
   "metadata": {},
   "outputs": [
    {
     "data": {
      "text/plain": [
       "0.8393023940489213"
      ]
     },
     "execution_count": 68,
     "metadata": {},
     "output_type": "execute_result"
    }
   ],
   "source": [
    "# Now you can make a prediction and calculate the RMSE to see if it improved:\n",
    "\n",
    "test_preds_grid = bagging_model.predict(X_test)\n",
    "test_mse = mean_squared_error(y_test, test_preds_grid)\n",
    "test_rmse = sqrt(test_mse)\n",
    "test_rmse\n",
    "\n",
    "# The prediction error on the bagged kNN is 2.1616, which is slightly smaller than the previous error that you obtained. \n",
    "# It does take a little more time to execute, but for this example, that’s not problematic."
   ]
  },
  {
   "cell_type": "code",
   "execution_count": 69,
   "id": "56c30d25",
   "metadata": {},
   "outputs": [],
   "source": [
    "# Comparison of the Four Models\n",
    "# In three incremental steps, you’ve pushed the predictive performance of the algorithm. The following table shows a recap \n",
    "# of the different models and their performances:\n",
    "\n",
    "# Model\tError\n",
    "# Arbitrary k\t2.37\n",
    "# GridSearchCV for k\t2.17\n",
    "# GridSearchCV for k and weights\t2.1634\n",
    "# Bagging and GridSearchCV\t0.8393023940489213\n",
    "# In this table, you see the four models from simplest to most complex. The order of complexity corresponds with the order \n",
    "# of the error metrics. The model with a random k performed the worst, and the model with the bagging and GridSearchCV \n",
    "# performed the best.\n",
    "\n",
    "# More improvement may be possible for abalone predictions. For instance, it would be possible to look for ways to wrangle \n",
    "# the data differently or to find other external data sources."
   ]
  },
  {
   "cell_type": "code",
   "execution_count": null,
   "id": "c212a8d0",
   "metadata": {},
   "outputs": [],
   "source": [
    "\n"
   ]
  }
 ],
 "metadata": {
  "kernelspec": {
   "display_name": "Python 3",
   "language": "python",
   "name": "python3"
  },
  "language_info": {
   "codemirror_mode": {
    "name": "ipython",
    "version": 3
   },
   "file_extension": ".py",
   "mimetype": "text/x-python",
   "name": "python",
   "nbconvert_exporter": "python",
   "pygments_lexer": "ipython3",
   "version": "3.8.10"
  }
 },
 "nbformat": 4,
 "nbformat_minor": 5
}
