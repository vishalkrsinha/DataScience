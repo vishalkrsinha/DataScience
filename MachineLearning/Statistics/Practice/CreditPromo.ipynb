{
 "cells": [
  {
   "cell_type": "code",
   "execution_count": 1,
   "metadata": {},
   "outputs": [],
   "source": [
    "##2. An analyst at a department store wants to evaluate a recent credit card promotion. To this end, \n",
    "# 500 cardholders were randomly selected. Half received an ad promoting a reduced interest rate on purchases \n",
    "# made over the next three months, and half received a standard seasonal ad. Is the promotion effective to increase sales?"
   ]
  },
  {
   "cell_type": "code",
   "execution_count": 4,
   "metadata": {},
   "outputs": [
    {
     "data": {
      "text/html": [
       "<div>\n",
       "<style scoped>\n",
       "    .dataframe tbody tr th:only-of-type {\n",
       "        vertical-align: middle;\n",
       "    }\n",
       "\n",
       "    .dataframe tbody tr th {\n",
       "        vertical-align: top;\n",
       "    }\n",
       "\n",
       "    .dataframe thead th {\n",
       "        text-align: right;\n",
       "    }\n",
       "</style>\n",
       "<table border=\"1\" class=\"dataframe\">\n",
       "  <thead>\n",
       "    <tr style=\"text-align: right;\">\n",
       "      <th></th>\n",
       "      <th>id</th>\n",
       "      <th>insert</th>\n",
       "      <th>dollars</th>\n",
       "    </tr>\n",
       "  </thead>\n",
       "  <tbody>\n",
       "    <tr>\n",
       "      <th>0</th>\n",
       "      <td>148</td>\n",
       "      <td>Standard</td>\n",
       "      <td>2232.771979</td>\n",
       "    </tr>\n",
       "    <tr>\n",
       "      <th>1</th>\n",
       "      <td>572</td>\n",
       "      <td>New Promotion</td>\n",
       "      <td>1403.807542</td>\n",
       "    </tr>\n",
       "    <tr>\n",
       "      <th>2</th>\n",
       "      <td>973</td>\n",
       "      <td>Standard</td>\n",
       "      <td>2327.092181</td>\n",
       "    </tr>\n",
       "    <tr>\n",
       "      <th>3</th>\n",
       "      <td>1096</td>\n",
       "      <td>Standard</td>\n",
       "      <td>1280.030541</td>\n",
       "    </tr>\n",
       "    <tr>\n",
       "      <th>4</th>\n",
       "      <td>1541</td>\n",
       "      <td>New Promotion</td>\n",
       "      <td>1513.563200</td>\n",
       "    </tr>\n",
       "  </tbody>\n",
       "</table>\n",
       "</div>"
      ],
      "text/plain": [
       "     id         insert      dollars\n",
       "0   148       Standard  2232.771979\n",
       "1   572  New Promotion  1403.807542\n",
       "2   973       Standard  2327.092181\n",
       "3  1096       Standard  1280.030541\n",
       "4  1541  New Promotion  1513.563200"
      ]
     },
     "execution_count": 4,
     "metadata": {},
     "output_type": "execute_result"
    }
   ],
   "source": [
    "import numpy as np\n",
    "import pandas as pd\n",
    "import scipy.stats as stats\n",
    "\n",
    "creditDF = pd.read_csv(\"creditpromo.csv\")\n",
    "creditDF.head()"
   ]
  },
  {
   "cell_type": "code",
   "execution_count": 6,
   "metadata": {},
   "outputs": [],
   "source": [
    "##Step 1: Checking if sample truly represents the population or not::\n",
    "#Yes\n",
    "\n",
    "\n",
    "##Step 2: Defining Null & Alt Hypothesis::\n",
    "#Null hypothesis: There is no difference in ad promotion.\n",
    "#Alt hypothesis: There has been a significant difference in ad promotion.\n",
    "\n",
    "\n",
    "##Step 3: Will decide what test to be done, based on the data::\n",
    "#The independent two-sample t-test is used to test whether population means are significantly different from each other.\n",
    "#Independent samples are randomly drawn using the means."
   ]
  },
  {
   "cell_type": "code",
   "execution_count": 8,
   "metadata": {},
   "outputs": [],
   "source": [
    "##Step 4: Will calculate the test statistic – it will be the Program Output::\n",
    "\n",
    "std_promo = creditDF[(creditDF['insert'] == 'Standard')]\n",
    "new_promo = creditDF[(creditDF['insert'] == 'New Promotion')]"
   ]
  },
  {
   "cell_type": "code",
   "execution_count": 11,
   "metadata": {},
   "outputs": [
    {
     "name": "stdout",
     "output_type": "stream",
     "text": [
      "The average spent for std_promo: id         69003.000000\n",
      "dollars     1566.389031\n",
      "dtype: float64\n",
      "\n",
      "The average spent for new_promo: id         64998.244000\n",
      "dollars     1637.499983\n",
      "dtype: float64\n"
     ]
    }
   ],
   "source": [
    "print(\"The average spent for std_promo: {}\".format(std_promo.mean()))\n",
    "print()\n",
    "print(\"The average spent for new_promo: {}\".format(new_promo.mean()))"
   ]
  },
  {
   "cell_type": "code",
   "execution_count": 13,
   "metadata": {},
   "outputs": [
    {
     "name": "stdout",
     "output_type": "stream",
     "text": [
      "Ttest_indResult(statistic=-2.2604227264650034, pvalue=0.02422634819164851)\n",
      "-2.2604227264650034\n",
      "0.02422634819164851\n"
     ]
    }
   ],
   "source": [
    "uneq_var = stats.ttest_ind(a = std_promo.dollars, b= new_promo.dollars, equal_var=False)  #Different variance\n",
    "print(uneq_var)\n",
    "print(uneq_var.statistic)\n",
    "print(uneq_var.pvalue)"
   ]
  },
  {
   "cell_type": "code",
   "execution_count": 14,
   "metadata": {},
   "outputs": [
    {
     "name": "stdout",
     "output_type": "stream",
     "text": [
      "Ttest_indResult(statistic=-2.2604227264650034, pvalue=0.024225996894147395)\n",
      "-2.2604227264650034\n",
      "0.024225996894147395\n"
     ]
    }
   ],
   "source": [
    "eq_var = stats.ttest_ind(a = std_promo.dollars, b= new_promo.dollars, equal_var=True)  #Equal variance\n",
    "\n",
    "print(eq_var)\n",
    "print(eq_var.statistic)\n",
    "print(eq_var.pvalue)"
   ]
  },
  {
   "cell_type": "code",
   "execution_count": 15,
   "metadata": {},
   "outputs": [
    {
     "name": "stdout",
     "output_type": "stream",
     "text": [
      "False\n",
      "Conclusion: Since the p value supports the evidence of rejecting H0, will conclude that std_promo != new_promo.     Yes, there is a significant effect of new_promo.\n"
     ]
    }
   ],
   "source": [
    "##Step 5: Final conclusion based on p-value::\n",
    "##Conclusion ::\n",
    "print(eq_var.pvalue > 0.05)\n",
    "print('Conclusion: Since the p value supports the evidence of rejecting H0, will conclude that std_promo != new_promo. \\\n",
    "    Yes, there is a significant effect of new_promo.')"
   ]
  },
  {
   "cell_type": "code",
   "execution_count": null,
   "metadata": {},
   "outputs": [],
   "source": []
  }
 ],
 "metadata": {
  "kernelspec": {
   "display_name": "Python 3",
   "language": "python",
   "name": "python3"
  },
  "language_info": {
   "codemirror_mode": {
    "name": "ipython",
    "version": 3
   },
   "file_extension": ".py",
   "mimetype": "text/x-python",
   "name": "python",
   "nbconvert_exporter": "python",
   "pygments_lexer": "ipython3",
   "version": "3.8.5"
  }
 },
 "nbformat": 4,
 "nbformat_minor": 4
}
