{
 "cells": [
  {
   "cell_type": "markdown",
   "metadata": {},
   "source": [
    "## DATA MANIPULATION USE CASE\n",
    "\n",
    "### TYPICAL DATA MANIPULATION STEPS(Operations on Data Frame)\n",
    "- Sub Setting Data or Filtering Data or Slicing Data\n",
    "    - Using [] brackets\n",
    "    - Using indexing or referring with column names/rows\n",
    "    - Using functions\n",
    "- Mutation of table (Adding/deleting columns) \n",
    "- Binning data (Binning numerical variables in to categorical variables using cut() and qcut() functions)\n",
    "- Dropping rows & columns\n",
    "- Renaming columns or rows\n",
    "- Sorting \n",
    "    - by data/values, index\n",
    "    - By one column or multiple columns\n",
    "    - Ascending or Descending\n",
    "- Type conversions\n",
    "- Setting index \n",
    "- Applying functions to all the variables in a data frame (broadcasting)\n",
    "- Handling missing values – detect, filter, replace\n",
    "- Handling duplicates\n",
    "- Handling outliers \n",
    "- Creating dummies from categorical data (using get_dummies())\n",
    "- Table manipulation (One table and multiple tables)-\n",
    "    - Aggregation – Group by processing\n",
    "    - Merge/ Join (left, right, outer, inner)\n",
    "    - Concatenate (appending) – Binding or stacking or union all\n",
    "    - Reshaping & Pivoting data – stack/unstack,  pivot table, summarizations\n",
    "    - Standardize the variables\n",
    "- Random Sampling (with replacement/with out replacement)\n",
    "- Handling Time Series Data\n",
    "- Handling text (string) data\n",
    "    - with functions\n",
    "    - with Regular expressions\n",
    "    "
   ]
  },
  {
   "cell_type": "markdown",
   "metadata": {},
   "source": [
    "## Data Importing"
   ]
  },
  {
   "cell_type": "code",
   "execution_count": 1,
   "metadata": {
    "collapsed": true
   },
   "outputs": [],
   "source": [
    "#import all necessary libraries\n",
    "import os\n",
    "import pandas as pd\n",
    "import numpy as np\n",
    "import matplotlib.pyplot as plt\n",
    "\n",
    "#install if seabon is not available using cmd prompt - conda install seaborn"
   ]
  },
  {
   "cell_type": "code",
   "execution_count": 2,
   "metadata": {},
   "outputs": [
    {
     "data": {
      "text/plain": [
       "'C:\\\\Users\\\\admin\\\\pandas'"
      ]
     },
     "execution_count": 2,
     "metadata": {},
     "output_type": "execute_result"
    }
   ],
   "source": [
    "import seaborn as sns \n",
    "os.getcwd()"
   ]
  },
  {
   "cell_type": "code",
   "execution_count": 3,
   "metadata": {
    "collapsed": true
   },
   "outputs": [],
   "source": [
    "os.chdir('C:\\\\Users\\\\admin\\\\pandas')"
   ]
  },
  {
   "cell_type": "code",
   "execution_count": 4,
   "metadata": {
    "collapsed": true
   },
   "outputs": [],
   "source": [
    "# Data importing (we will use data from Pandas Case Study)\n",
    "cust_data = pd.read_csv(\"DataSets/Cust_data.csv\")\n",
    "cust_demo = pd.read_csv(\"DataSets/Cust_demo.csv\")\n",
    "cust_new  = pd.read_csv(\"DataSets/cust_new.csv\") # XXXX\n",
    "stores = pd.read_csv(\"DataSets/stores.csv\")"
   ]
  },
  {
   "cell_type": "markdown",
   "metadata": {},
   "source": [
    "## Data Understanding"
   ]
  },
  {
   "cell_type": "code",
   "execution_count": null,
   "metadata": {
    "collapsed": true
   },
   "outputs": [],
   "source": [
    "# Data Understanding\n",
    "print cust_data.head(5)\n",
    "print cust_demo.head(5)\n",
    "print cust_new.head(5)\n"
   ]
  },
  {
   "cell_type": "code",
   "execution_count": 5,
   "metadata": {},
   "outputs": [
    {
     "data": {
      "text/plain": [
       "Index([u'ID', u'Location', u'Gender', u'age', u'Martial_Status',\n",
       "       u'NumberOfDependents', u'Own_House', u'No_Years_address'],\n",
       "      dtype='object')"
      ]
     },
     "execution_count": 5,
     "metadata": {},
     "output_type": "execute_result"
    }
   ],
   "source": [
    "cust_demo.columns"
   ]
  },
  {
   "cell_type": "code",
   "execution_count": 6,
   "metadata": {},
   "outputs": [
    {
     "name": "stdout",
     "output_type": "stream",
     "text": [
      "<class 'pandas.core.frame.DataFrame'>\n",
      "RangeIndex: 149956 entries, 0 to 149955\n",
      "Data columns (total 8 columns):\n",
      "ID                    149956 non-null int64\n",
      "Location              149956 non-null object\n",
      "Gender                149956 non-null int64\n",
      "age                   149956 non-null int64\n",
      "Martial_Status        149956 non-null object\n",
      "NumberOfDependents    146033 non-null float64\n",
      "Own_House             149956 non-null int64\n",
      "No_Years_address      149956 non-null int64\n",
      "dtypes: float64(1), int64(5), object(2)\n",
      "memory usage: 9.2+ MB\n"
     ]
    }
   ],
   "source": [
    "cust_demo.info()"
   ]
  },
  {
   "cell_type": "code",
   "execution_count": 7,
   "metadata": {},
   "outputs": [
    {
     "data": {
      "text/plain": [
       "(149956, 8)"
      ]
     },
     "execution_count": 7,
     "metadata": {},
     "output_type": "execute_result"
    }
   ],
   "source": [
    "cust_demo.shape"
   ]
  },
  {
   "cell_type": "code",
   "execution_count": 1,
   "metadata": {
    "collapsed": true
   },
   "outputs": [],
   "source": [
    "#import all necessary libraries\n",
    "import os\n",
    "import pandas as pd\n",
    "import numpy as np\n",
    "import matplotlib.pyplot as plt\n",
    "import seaborn as sns \n",
    "#install if seabon is not available using cmd prompt - conda install seaborn"
   ]
  },
  {
   "cell_type": "code",
   "execution_count": 8,
   "metadata": {},
   "outputs": [
    {
     "data": {
      "text/plain": [
       "1199648"
      ]
     },
     "execution_count": 8,
     "metadata": {},
     "output_type": "execute_result"
    }
   ],
   "source": [
    "cust_demo.size"
   ]
  },
  {
   "cell_type": "code",
   "execution_count": 9,
   "metadata": {},
   "outputs": [
    {
     "data": {
      "text/plain": [
       "ID                      int64\n",
       "Location               object\n",
       "Gender                  int64\n",
       "age                     int64\n",
       "Martial_Status         object\n",
       "NumberOfDependents    float64\n",
       "Own_House               int64\n",
       "No_Years_address        int64\n",
       "dtype: object"
      ]
     },
     "execution_count": 9,
     "metadata": {},
     "output_type": "execute_result"
    }
   ],
   "source": [
    "cust_demo.dtypes"
   ]
  },
  {
   "cell_type": "code",
   "execution_count": 10,
   "metadata": {},
   "outputs": [
    {
     "data": {
      "text/plain": [
       "float64    1\n",
       "int64      5\n",
       "object     2\n",
       "dtype: int64"
      ]
     },
     "execution_count": 10,
     "metadata": {},
     "output_type": "execute_result"
    }
   ],
   "source": [
    "cust_demo.get_dtype_counts()"
   ]
  },
  {
   "cell_type": "code",
   "execution_count": 11,
   "metadata": {},
   "outputs": [
    {
     "data": {
      "text/plain": [
       "ID                    149956\n",
       "Location              149956\n",
       "Gender                149956\n",
       "age                   149956\n",
       "Martial_Status        149956\n",
       "NumberOfDependents    146033\n",
       "Own_House             149956\n",
       "No_Years_address      149956\n",
       "dtype: int64"
      ]
     },
     "execution_count": 11,
     "metadata": {},
     "output_type": "execute_result"
    }
   ],
   "source": [
    "cust_demo.count() # no of non null values per column"
   ]
  },
  {
   "cell_type": "code",
   "execution_count": 12,
   "metadata": {},
   "outputs": [
    {
     "data": {
      "text/plain": [
       "Index                      72\n",
       "ID                    1199648\n",
       "Location              1199648\n",
       "Gender                1199648\n",
       "age                   1199648\n",
       "Martial_Status        1199648\n",
       "NumberOfDependents    1199648\n",
       "Own_House             1199648\n",
       "No_Years_address      1199648\n",
       "dtype: int64"
      ]
     },
     "execution_count": 12,
     "metadata": {},
     "output_type": "execute_result"
    }
   ],
   "source": [
    "cust_demo.memory_usage()"
   ]
  },
  {
   "cell_type": "code",
   "execution_count": 13,
   "metadata": {},
   "outputs": [
    {
     "data": {
      "text/plain": [
       "2"
      ]
     },
     "execution_count": 13,
     "metadata": {},
     "output_type": "execute_result"
    }
   ],
   "source": [
    "cust_demo.ndim"
   ]
  },
  {
   "cell_type": "code",
   "execution_count": 14,
   "metadata": {
    "collapsed": true
   },
   "outputs": [],
   "source": [
    "import numpy as np"
   ]
  },
  {
   "cell_type": "code",
   "execution_count": 15,
   "metadata": {
    "collapsed": true
   },
   "outputs": [
    {
     "data": {
      "text/html": [
       "<div>\n",
       "<style scoped>\n",
       "    .dataframe tbody tr th:only-of-type {\n",
       "        vertical-align: middle;\n",
       "    }\n",
       "\n",
       "    .dataframe tbody tr th {\n",
       "        vertical-align: top;\n",
       "    }\n",
       "\n",
       "    .dataframe thead th {\n",
       "        text-align: right;\n",
       "    }\n",
       "</style>\n",
       "<table border=\"1\" class=\"dataframe\">\n",
       "  <thead>\n",
       "    <tr style=\"text-align: right;\">\n",
       "      <th></th>\n",
       "      <th>ID</th>\n",
       "      <th>Gender</th>\n",
       "      <th>age</th>\n",
       "      <th>NumberOfDependents</th>\n",
       "      <th>Own_House</th>\n",
       "      <th>No_Years_address</th>\n",
       "    </tr>\n",
       "  </thead>\n",
       "  <tbody>\n",
       "    <tr>\n",
       "      <th>0</th>\n",
       "      <td>4532</td>\n",
       "      <td>0</td>\n",
       "      <td>39</td>\n",
       "      <td>1.0</td>\n",
       "      <td>1</td>\n",
       "      <td>3</td>\n",
       "    </tr>\n",
       "    <tr>\n",
       "      <th>1</th>\n",
       "      <td>148736</td>\n",
       "      <td>0</td>\n",
       "      <td>52</td>\n",
       "      <td>0.0</td>\n",
       "      <td>0</td>\n",
       "      <td>3</td>\n",
       "    </tr>\n",
       "    <tr>\n",
       "      <th>2</th>\n",
       "      <td>95965</td>\n",
       "      <td>0</td>\n",
       "      <td>62</td>\n",
       "      <td>0.0</td>\n",
       "      <td>0</td>\n",
       "      <td>2</td>\n",
       "    </tr>\n",
       "    <tr>\n",
       "      <th>3</th>\n",
       "      <td>61759</td>\n",
       "      <td>0</td>\n",
       "      <td>42</td>\n",
       "      <td>1.0</td>\n",
       "      <td>1</td>\n",
       "      <td>1</td>\n",
       "    </tr>\n",
       "    <tr>\n",
       "      <th>4</th>\n",
       "      <td>49806</td>\n",
       "      <td>0</td>\n",
       "      <td>41</td>\n",
       "      <td>1.0</td>\n",
       "      <td>0</td>\n",
       "      <td>3</td>\n",
       "    </tr>\n",
       "  </tbody>\n",
       "</table>\n",
       "</div>"
      ],
      "text/plain": [
       "       ID  Gender  age  NumberOfDependents  Own_House  No_Years_address\n",
       "0    4532       0   39                 1.0          1                 3\n",
       "1  148736       0   52                 0.0          0                 3\n",
       "2   95965       0   62                 0.0          0                 2\n",
       "3   61759       0   42                 1.0          1                 1\n",
       "4   49806       0   41                 1.0          0                 3"
      ]
     },
     "execution_count": 15,
     "metadata": {},
     "output_type": "execute_result"
    }
   ],
   "source": [
    "#Getting specific list of data types\n",
    "cust_demo.select_dtypes(include = ['category'] ).head(5)\n",
    "cust_demo.select_dtypes(include = ['number'] ).head(5)\n",
    "cust_demo.select_dtypes(include = ['floating'] ).head(5)\n",
    "cust_demo.select_dtypes(include = ['integer'] ).head(5)\n",
    "cust_demo.select_dtypes(include = ['object'] ).head(5)\n",
    "\n",
    "cust_demo.select_dtypes(exclude = ['object'] ).head(5)\n",
    "\n",
    "#cust_demo.select_dtypes(include=None, exclude=None)\n",
    "#Return a subset of a DataFrame including/excluding columns based on their ``dtype``.\n"
   ]
  },
  {
   "cell_type": "code",
   "execution_count": 16,
   "metadata": {},
   "outputs": [
    {
     "data": {
      "text/html": [
       "<div>\n",
       "<style scoped>\n",
       "    .dataframe tbody tr th:only-of-type {\n",
       "        vertical-align: middle;\n",
       "    }\n",
       "\n",
       "    .dataframe tbody tr th {\n",
       "        vertical-align: top;\n",
       "    }\n",
       "\n",
       "    .dataframe thead th {\n",
       "        text-align: right;\n",
       "    }\n",
       "</style>\n",
       "<table border=\"1\" class=\"dataframe\">\n",
       "  <thead>\n",
       "    <tr style=\"text-align: right;\">\n",
       "      <th></th>\n",
       "      <th>ID</th>\n",
       "      <th>Gender</th>\n",
       "      <th>age</th>\n",
       "      <th>NumberOfDependents</th>\n",
       "      <th>Own_House</th>\n",
       "      <th>No_Years_address</th>\n",
       "    </tr>\n",
       "  </thead>\n",
       "  <tbody>\n",
       "    <tr>\n",
       "      <th>count</th>\n",
       "      <td>149956.000000</td>\n",
       "      <td>149956.000000</td>\n",
       "      <td>149956.000000</td>\n",
       "      <td>146033.000000</td>\n",
       "      <td>149956.000000</td>\n",
       "      <td>149956.000000</td>\n",
       "    </tr>\n",
       "    <tr>\n",
       "      <th>mean</th>\n",
       "      <td>75001.373563</td>\n",
       "      <td>0.374977</td>\n",
       "      <td>52.296814</td>\n",
       "      <td>0.757219</td>\n",
       "      <td>0.399344</td>\n",
       "      <td>2.002481</td>\n",
       "    </tr>\n",
       "    <tr>\n",
       "      <th>std</th>\n",
       "      <td>43300.796939</td>\n",
       "      <td>0.484119</td>\n",
       "      <td>14.769803</td>\n",
       "      <td>1.115036</td>\n",
       "      <td>0.489765</td>\n",
       "      <td>0.816574</td>\n",
       "    </tr>\n",
       "    <tr>\n",
       "      <th>min</th>\n",
       "      <td>1.000000</td>\n",
       "      <td>0.000000</td>\n",
       "      <td>0.000000</td>\n",
       "      <td>0.000000</td>\n",
       "      <td>0.000000</td>\n",
       "      <td>1.000000</td>\n",
       "    </tr>\n",
       "    <tr>\n",
       "      <th>25%</th>\n",
       "      <td>37503.750000</td>\n",
       "      <td>0.000000</td>\n",
       "      <td>41.000000</td>\n",
       "      <td>0.000000</td>\n",
       "      <td>0.000000</td>\n",
       "      <td>1.000000</td>\n",
       "    </tr>\n",
       "    <tr>\n",
       "      <th>50%</th>\n",
       "      <td>75002.500000</td>\n",
       "      <td>0.000000</td>\n",
       "      <td>52.000000</td>\n",
       "      <td>0.000000</td>\n",
       "      <td>0.000000</td>\n",
       "      <td>2.000000</td>\n",
       "    </tr>\n",
       "    <tr>\n",
       "      <th>75%</th>\n",
       "      <td>112499.250000</td>\n",
       "      <td>1.000000</td>\n",
       "      <td>63.000000</td>\n",
       "      <td>1.000000</td>\n",
       "      <td>1.000000</td>\n",
       "      <td>3.000000</td>\n",
       "    </tr>\n",
       "    <tr>\n",
       "      <th>max</th>\n",
       "      <td>150000.000000</td>\n",
       "      <td>1.000000</td>\n",
       "      <td>109.000000</td>\n",
       "      <td>20.000000</td>\n",
       "      <td>1.000000</td>\n",
       "      <td>3.000000</td>\n",
       "    </tr>\n",
       "  </tbody>\n",
       "</table>\n",
       "</div>"
      ],
      "text/plain": [
       "                  ID         Gender            age  NumberOfDependents  \\\n",
       "count  149956.000000  149956.000000  149956.000000       146033.000000   \n",
       "mean    75001.373563       0.374977      52.296814            0.757219   \n",
       "std     43300.796939       0.484119      14.769803            1.115036   \n",
       "min         1.000000       0.000000       0.000000            0.000000   \n",
       "25%     37503.750000       0.000000      41.000000            0.000000   \n",
       "50%     75002.500000       0.000000      52.000000            0.000000   \n",
       "75%    112499.250000       1.000000      63.000000            1.000000   \n",
       "max    150000.000000       1.000000     109.000000           20.000000   \n",
       "\n",
       "           Own_House  No_Years_address  \n",
       "count  149956.000000     149956.000000  \n",
       "mean        0.399344          2.002481  \n",
       "std         0.489765          0.816574  \n",
       "min         0.000000          1.000000  \n",
       "25%         0.000000          1.000000  \n",
       "50%         0.000000          2.000000  \n",
       "75%         1.000000          3.000000  \n",
       "max         1.000000          3.000000  "
      ]
     },
     "execution_count": 16,
     "metadata": {},
     "output_type": "execute_result"
    }
   ],
   "source": [
    "cust_demo.describe()"
   ]
  },
  {
   "cell_type": "markdown",
   "metadata": {},
   "source": [
    "## Data Manipulation"
   ]
  },
  {
   "cell_type": "markdown",
   "metadata": {},
   "source": [
    "### Sub Setting Data"
   ]
  },
  {
   "cell_type": "code",
   "execution_count": 17,
   "metadata": {},
   "outputs": [
    {
     "data": {
      "text/plain": [
       "Index([u'ID', u'SeriousDlqin2yrs', u'RevolvingUtilization', u'No_of_30_59_DPD',\n",
       "       u'DebtRatio', u'MonthlyIncome', u'No_Of_OpenCreditLines',\n",
       "       u'No_of_90_DPD', u'No_of_RealEstateLoans', u'No_of_60_89_DPD'],\n",
       "      dtype='object')"
      ]
     },
     "execution_count": 17,
     "metadata": {},
     "output_type": "execute_result"
    }
   ],
   "source": [
    "cust_data.columns"
   ]
  },
  {
   "cell_type": "code",
   "execution_count": 18,
   "metadata": {},
   "outputs": [
    {
     "data": {
      "text/plain": [
       "0         11500.0\n",
       "1         14166.0\n",
       "2          6733.0\n",
       "3         13316.0\n",
       "4          2557.0\n",
       "5             NaN\n",
       "6          5000.0\n",
       "7          7000.0\n",
       "8         11833.0\n",
       "9             NaN\n",
       "10        20000.0\n",
       "11         6150.0\n",
       "12         6200.0\n",
       "13         5700.0\n",
       "14            NaN\n",
       "15         7500.0\n",
       "16         3900.0\n",
       "17         7726.0\n",
       "18            NaN\n",
       "19        10400.0\n",
       "20        26574.0\n",
       "21         1666.0\n",
       "22            NaN\n",
       "23         7126.0\n",
       "24         5000.0\n",
       "25        10000.0\n",
       "26            NaN\n",
       "27         5083.0\n",
       "28            NaN\n",
       "29         7002.0\n",
       "           ...   \n",
       "149872     1720.0\n",
       "149873        NaN\n",
       "149874     4816.0\n",
       "149875     1000.0\n",
       "149876        NaN\n",
       "149877        NaN\n",
       "149878     4583.0\n",
       "149879     4800.0\n",
       "149880        NaN\n",
       "149881    21083.0\n",
       "149882        NaN\n",
       "149883        NaN\n",
       "149884     5606.0\n",
       "149885     3333.0\n",
       "149886     9583.0\n",
       "149887     2950.0\n",
       "149888     8165.0\n",
       "149889     5328.0\n",
       "149890     2648.0\n",
       "149891     3600.0\n",
       "149892    10500.0\n",
       "149893        0.0\n",
       "149894        NaN\n",
       "149895    16666.0\n",
       "149896     3693.0\n",
       "149897     2650.0\n",
       "149898     1962.0\n",
       "149899    10016.0\n",
       "149900     1750.0\n",
       "149901    12400.0\n",
       "Name: MonthlyIncome, Length: 149902, dtype: float64"
      ]
     },
     "execution_count": 18,
     "metadata": {},
     "output_type": "execute_result"
    }
   ],
   "source": [
    "cust_data.MonthlyIncome"
   ]
  },
  {
   "cell_type": "raw",
   "metadata": {
    "collapsed": true
   },
   "source": [
    "# Series\n",
    "Ser1.iloc[]"
   ]
  },
  {
   "cell_type": "raw",
   "metadata": {
    "collapsed": true
   },
   "source": [
    "dataframe.loc[rows,columns] # .loc can take row ID\n",
    "# can pass row numbers to .loc if the row ix are numbers\n",
    "dataframe.iloc[row_ix,columns_ix]"
   ]
  },
  {
   "cell_type": "code",
   "execution_count": null,
   "metadata": {},
   "outputs": [],
   "source": [
    "#subsetting data\n",
    "cust_data[[\"MonthlyIncome\",\"ID\"]].head(5)"
   ]
  },
  {
   "cell_type": "code",
   "execution_count": null,
   "metadata": {},
   "outputs": [],
   "source": [
    "cust_data.head(3)"
   ]
  },
  {
   "cell_type": "code",
   "execution_count": null,
   "metadata": {
    "collapsed": true
   },
   "outputs": [],
   "source": [
    "cust_data.iloc[:,3:7:2] # 4th, 6th column. "
   ]
  },
  {
   "cell_type": "code",
   "execution_count": null,
   "metadata": {
    "collapsed": true
   },
   "outputs": [],
   "source": [
    "cust_data.iloc[0:100:10,:]"
   ]
  },
  {
   "cell_type": "code",
   "execution_count": null,
   "metadata": {
    "collapsed": true
   },
   "outputs": [],
   "source": [
    "cust_data.loc[:,'ID'].head(2)"
   ]
  },
  {
   "cell_type": "code",
   "execution_count": null,
   "metadata": {
    "collapsed": true
   },
   "outputs": [],
   "source": [
    "cust_data.loc[:10,'ID']"
   ]
  },
  {
   "cell_type": "code",
   "execution_count": null,
   "metadata": {
    "collapsed": true
   },
   "outputs": [],
   "source": [
    "cust_data.loc[1:10,['ID', 'DebtRatio']]"
   ]
  },
  {
   "cell_type": "markdown",
   "metadata": {},
   "source": [
    "### Creating New Variables"
   ]
  },
  {
   "cell_type": "code",
   "execution_count": null,
   "metadata": {
    "collapsed": true
   },
   "outputs": [],
   "source": [
    "cust_data[\"NewColumn\"] = \"\"\n",
    "# numpy - randn(), randint()\n",
    "# range()\n",
    "# numpy.arange()"
   ]
  },
  {
   "cell_type": "code",
   "execution_count": 1,
   "metadata": {},
   "outputs": [
    {
     "ename": "NameError",
     "evalue": "name 'cust_data' is not defined",
     "output_type": "error",
     "traceback": [
      "\u001b[0;31m---------------------------------------------------------------------------\u001b[0m",
      "\u001b[0;31mNameError\u001b[0m                                 Traceback (most recent call last)",
      "\u001b[0;32m<ipython-input-1-1d22fcf07d20>\u001b[0m in \u001b[0;36m<module>\u001b[0;34m()\u001b[0m\n\u001b[0;32m----> 1\u001b[0;31m \u001b[0mcust_data\u001b[0m\u001b[1;33m.\u001b[0m\u001b[0mNewColumn\u001b[0m\u001b[1;33m.\u001b[0m\u001b[0mhead\u001b[0m\u001b[1;33m(\u001b[0m\u001b[1;36m10\u001b[0m\u001b[1;33m)\u001b[0m\u001b[1;33m\u001b[0m\u001b[0m\n\u001b[0m",
      "\u001b[0;31mNameError\u001b[0m: name 'cust_data' is not defined"
     ]
    }
   ],
   "source": [
    "cust_data.NewColumn.head(10)"
   ]
  },
  {
   "cell_type": "raw",
   "metadata": {
    "collapsed": true
   },
   "source": [
    "stores[\"GrandTotalSales\"] = stores[\"TotalSales\"] * stores[\"Total_Customers\"]\n",
    "\n",
    "# NetProfit = TotalSales - OperatingCost\n"
   ]
  },
  {
   "cell_type": "code",
   "execution_count": null,
   "metadata": {
    "collapsed": true
   },
   "outputs": [],
   "source": [
    "# stores -> TotalSales, OperatingCost, Total_Customers, AcqCostperCust\n",
    "\n",
    "# GTSales = TotalSales * Total_Customers\n",
    "# TotalExpenses = OperatingCost + AcqCostPerCust\n",
    "# NetProfit = GTSales - TotalExpenses\n",
    "stores = pd.read_csv(\"DataSets/stores.csv\")\n",
    "\n",
    "stores = stores.assign(GTSales = stores.TotalSales * stores.Total_Customers,TotalExpenses = stores.OperatingCost + stores.AcqCostPercust)\n",
    "stores"
   ]
  },
  {
   "cell_type": "code",
   "execution_count": null,
   "metadata": {
    "collapsed": true
   },
   "outputs": [],
   "source": [
    "#Method-1\n",
    "#Creating new Columns variable No_of_30_Plus_DPD =  No_of_30_59_DPD + No_of_60_89_DPD + No_of_90_DPD\n",
    "cust_data['No_of_30_Plus_DPD'] = cust_data['No_of_30_59_DPD']+cust_data['No_of_60_89_DPD']+cust_data['No_of_90_DPD']\n",
    "print cust_data1.head(2)"
   ]
  },
  {
   "cell_type": "code",
   "execution_count": null,
   "metadata": {
    "collapsed": true
   },
   "outputs": [],
   "source": [
    "#Method-2\n",
    "# df.assign will give you new data frame with old and new variables. \n",
    "# You can create as many as variables\n",
    "cust_data1=cust_data.assign(No_of_30_Plus_DPD=cust_data.No_of_30_59_DPD+cust_data.No_of_60_89_DPD+cust_data.No_of_90_DPD,\n",
    "                           MonthlySavings=cust_data.MonthlyIncome*0.15)"
   ]
  },
  {
   "cell_type": "code",
   "execution_count": null,
   "metadata": {
    "collapsed": true
   },
   "outputs": [],
   "source": [
    "cust_data1.columns"
   ]
  },
  {
   "cell_type": "markdown",
   "metadata": {},
   "source": [
    "### Dropping Variables"
   ]
  },
  {
   "cell_type": "code",
   "execution_count": null,
   "metadata": {},
   "outputs": [],
   "source": [
    "#Creating new column monthly_savings = MonthlyIncome * 0.15\n",
    "cust_data['MonthlySavings1'] = cust_data['MonthlyIncome'] * 0.15\n",
    "cust_data.head(2)"
   ]
  },
  {
   "cell_type": "code",
   "execution_count": null,
   "metadata": {},
   "outputs": [],
   "source": [
    "cust_data = cust_data.drop(\"MonthlySavings1\",axis = 1).head(3)\n",
    "# or use inplace = True \n",
    "# cust_data.drop(\"MonthlySavings1\",axis = 1,inplace = True).head(3)"
   ]
  },
  {
   "cell_type": "code",
   "execution_count": null,
   "metadata": {
    "collapsed": true
   },
   "outputs": [],
   "source": [
    "#dropping columns\n",
    "cust_data1.drop('MonthlySavings1', axis=1).head(2) # it creates new data\n",
    "#cust_data.drop('monthly_savings', inplace=True, axis=1) # it modify the existing data\n",
    "cust_data.head(2)"
   ]
  },
  {
   "cell_type": "code",
   "execution_count": null,
   "metadata": {
    "collapsed": true
   },
   "outputs": [],
   "source": [
    "stores = pd.read_csv(\"DataSets/stores.csv\")\n",
    "stores"
   ]
  },
  {
   "cell_type": "code",
   "execution_count": null,
   "metadata": {},
   "outputs": [],
   "source": [
    "stores.columns"
   ]
  },
  {
   "cell_type": "code",
   "execution_count": null,
   "metadata": {
    "collapsed": true
   },
   "outputs": [],
   "source": [
    "stores.drop(\"GrandTotalSales\",axis = 1,inplace=True)\n",
    "# inplace =  True - make the changes and save it back to object"
   ]
  },
  {
   "cell_type": "markdown",
   "metadata": {},
   "source": [
    "## Binning data: Converting numeric variables into categorical variables\n",
    "The `pd.cut()` and `pd.qcut()` functions are used; they take as arguments the following;\n",
    "\n",
    "* `var`, the continuous variable to discretize\n",
    "* `bins`, specified as a number (equal sized bins will be computed based on min/max) or a list of bin edges\n",
    "* `right=True`, a boolean to include the edge or not\n",
    "* `labels=`, for naming the bins\n",
    "* `precision=`\n",
    "\n",
    ">  `pd.cut` -> same distributions as the underlying data <br>\n",
    ">  `pd.qcut` -> uniform distribtion"
   ]
  },
  {
   "cell_type": "code",
   "execution_count": null,
   "metadata": {
    "collapsed": true
   },
   "outputs": [],
   "source": [
    "stores[\"TotalSales\"].head(5)"
   ]
  },
  {
   "cell_type": "code",
   "execution_count": null,
   "metadata": {
    "collapsed": true
   },
   "outputs": [],
   "source": [
    "stores[\"SalesCat\"] = pd.cut(stores[\"TotalSales\"],4, labels = [\"C1\",\"C2\",\"C3\",\"C4\"])\n",
    "stores.head(2)\n",
    "stores[[\"SalesCat\",\"TotalSales\"]]"
   ]
  },
  {
   "cell_type": "code",
   "execution_count": null,
   "metadata": {
    "collapsed": true
   },
   "outputs": [],
   "source": [
    "cust_data1['MonthlyIncome'].head(10)"
   ]
  },
  {
   "cell_type": "code",
   "execution_count": null,
   "metadata": {
    "collapsed": true
   },
   "outputs": [],
   "source": [
    "pd.cut(cust_data1['MonthlyIncome'],3, labels = ['0-33', '33-66','66-100'])"
   ]
  },
  {
   "cell_type": "code",
   "execution_count": null,
   "metadata": {
    "collapsed": true
   },
   "outputs": [],
   "source": [
    "# Automatic Binning\n",
    "#pd.cut(cust_data['MonthlyIncome'], 5)[:10]\n",
    "\n",
    "# Specifying bins manually\n",
    "#pd.cut(cust_data['MonthlyIncome'], bins=range(-100000, 3000000, 100000))\n",
    "\n",
    "cust_data1['IncomeBuckets']=pd.cut(cust_data1['MonthlyIncome'], 3, labels=['0to33', '34to66', '67to99'])[:10]"
   ]
  },
  {
   "cell_type": "code",
   "execution_count": null,
   "metadata": {
    "collapsed": true
   },
   "outputs": [],
   "source": [
    "cust_data1.head(10)"
   ]
  },
  {
   "cell_type": "code",
   "execution_count": null,
   "metadata": {
    "collapsed": true
   },
   "outputs": [],
   "source": [
    "pd.cut(cust_data1['MonthlyIncome'], 3, labels=['one', 'two', 'three'], retbins=True)"
   ]
  },
  {
   "cell_type": "code",
   "execution_count": null,
   "metadata": {
    "collapsed": true
   },
   "outputs": [],
   "source": [
    "cust_data1['MonthlyIncome'].describe()"
   ]
  },
  {
   "cell_type": "code",
   "execution_count": null,
   "metadata": {
    "collapsed": true
   },
   "outputs": [],
   "source": [
    "cust_data1['IncomeBuckets']=pd.cut(cust_data1['MonthlyIncome'], range(0, 1000000, 10000))\n",
    "\n",
    "#0 - 10000\n",
    "#10000 - 20000\n",
    "#...\n",
    "#- 10000000"
   ]
  },
  {
   "cell_type": "code",
   "execution_count": null,
   "metadata": {
    "collapsed": true
   },
   "outputs": [],
   "source": [
    "cust_data1['IncomeBuckets'].value_counts()"
   ]
  },
  {
   "cell_type": "code",
   "execution_count": null,
   "metadata": {
    "collapsed": true
   },
   "outputs": [],
   "source": [
    "# Binning into quantiles\n",
    "cust_data1['Deciles']=pd.qcut(cust_data1['MonthlyIncome'], 10, labels=range(1,11,1))\n",
    "#pd.qcut(cust_data['MonthlyIncome'], 10).value_counts().plot.bar()"
   ]
  },
  {
   "cell_type": "code",
   "execution_count": null,
   "metadata": {
    "collapsed": true
   },
   "outputs": [],
   "source": [
    "# Data Types"
   ]
  },
  {
   "cell_type": "code",
   "execution_count": null,
   "metadata": {
    "collapsed": true
   },
   "outputs": [],
   "source": [
    "cust_data.dtypes"
   ]
  },
  {
   "cell_type": "code",
   "execution_count": null,
   "metadata": {},
   "outputs": [],
   "source": [
    "MI = cust_data.MonthlyIncome\n",
    "MI.dtypes\n",
    "cust_data.MonthlyIncome.dtype"
   ]
  },
  {
   "cell_type": "code",
   "execution_count": null,
   "metadata": {
    "collapsed": true
   },
   "outputs": [],
   "source": [
    "# Numbers :\n",
    "# int64,float64,long,int and float\n",
    "\n",
    "# Text :\n",
    "# object, str\n",
    "\n",
    "# Logical :\n",
    "# bool\n",
    "\n",
    "# Dates :\n",
    "# datetime64"
   ]
  },
  {
   "cell_type": "code",
   "execution_count": null,
   "metadata": {
    "collapsed": true
   },
   "outputs": [],
   "source": [
    "cust_data.MonthlyIncome.astype(str)"
   ]
  },
  {
   "cell_type": "code",
   "execution_count": null,
   "metadata": {
    "collapsed": true
   },
   "outputs": [],
   "source": [
    "\n",
    "#stores1.TotalSales.astype(str)\n",
    "\n",
    "cust_data.MonthlyIncome = cust_data.MonthlyIncome.astype(str)\n",
    "cust_data.dtypes\n",
    "\n",
    "\n",
    "# Strings - \"123\", \"abs123\"\n",
    "table.column.astype(float)\n",
    "\n",
    "# floats can never be converted to int\n",
    "\n",
    "stores.TotalSales.astype(str)"
   ]
  },
  {
   "cell_type": "markdown",
   "metadata": {},
   "source": [
    "### Renaming Columns (sngle or multiple)"
   ]
  },
  {
   "cell_type": "code",
   "execution_count": null,
   "metadata": {
    "collapsed": true
   },
   "outputs": [],
   "source": [
    "#renaming column \"RevolvingUtilization with Rev_Utilization\" and \"SeriousDlqin2yrs with SeriousDlq\"\n",
    "print cust_data1.columns\n",
    "cust_data1=cust_data1.rename(columns={'RevolvingUtilization':'Rev_Utilization', 'SeriousDlqin2yrs':'SeriousDlq'}).head(100)"
   ]
  },
  {
   "cell_type": "code",
   "execution_count": null,
   "metadata": {
    "collapsed": true
   },
   "outputs": [],
   "source": [
    "print cust_data1.columns"
   ]
  },
  {
   "cell_type": "markdown",
   "metadata": {},
   "source": [
    "### Sorting Data (single, multiple columns) in ascending and descending"
   ]
  },
  {
   "cell_type": "code",
   "execution_count": null,
   "metadata": {
    "collapsed": true
   },
   "outputs": [],
   "source": [
    "## Sorting the data\n",
    "cust_data.sort_values(by='MonthlyIncome', ascending=False).head(10)\n",
    "\n",
    "# ascending=False - get the sort in desc order"
   ]
  },
  {
   "cell_type": "code",
   "execution_count": null,
   "metadata": {
    "collapsed": true
   },
   "outputs": [],
   "source": [
    "Sort1 = stores.sort_values(by = \"TotalSales\")"
   ]
  },
  {
   "cell_type": "code",
   "execution_count": null,
   "metadata": {
    "collapsed": true
   },
   "outputs": [],
   "source": [
    "Sort2 = stores.sort_values(by = [\"Location\",\"TotalSales\"])"
   ]
  },
  {
   "cell_type": "code",
   "execution_count": null,
   "metadata": {
    "collapsed": true
   },
   "outputs": [],
   "source": [
    "# Location in asc and TotalSales in desc\n",
    "Sort3 = stores.sort_values(by = [\"Location\",\"TotalSales\"], ascending = [True,False])"
   ]
  },
  {
   "cell_type": "code",
   "execution_count": null,
   "metadata": {
    "collapsed": true
   },
   "outputs": [],
   "source": [
    "cust_demo.columns"
   ]
  },
  {
   "cell_type": "code",
   "execution_count": null,
   "metadata": {
    "collapsed": true
   },
   "outputs": [],
   "source": [
    "#Sorting Data with multiple columns\n",
    "cust_demo.sort_values(by=['Location', 'Gender'], ascending=[False, True]).head(50)\n",
    "#cust_demo.sort_values(by=['Location', 'Gender'], ascending= False).head(5)"
   ]
  },
  {
   "cell_type": "markdown",
   "metadata": {},
   "source": [
    "### Type Conversions(Convert Data types of columns)"
   ]
  },
  {
   "cell_type": "code",
   "execution_count": null,
   "metadata": {},
   "outputs": [],
   "source": [
    "#while importing\n",
    "#df = pd.DataFrame(a, dtype='float')\n",
    "#df[['col2','col3']] = df[['col2','col3']].apply(pd.to_numeric)\n",
    "#There is also pd.to_datetime and pd.to_timedelta for conversion to dates and timestamps.\n",
    "#df.convert_objects(convert_dates='coerce', convert_numeric=True)\n",
    "\n",
    "cust_data1.dtypes\n",
    "#cust_data1.convert_objects(convert_dates='coerce', convert_numeric=True)\n",
    "#cust_data1[['No_of_30_59_DPD', 'No_Of_OpenCreditLines']].apply(pd.to_numeric)\n",
    "\n",
    "cust_data1['No_of_30_59_DPD'] = cust_data1['No_of_30_59_DPD'].astype('str')"
   ]
  },
  {
   "cell_type": "code",
   "execution_count": null,
   "metadata": {
    "collapsed": true
   },
   "outputs": [],
   "source": [
    "cust_data1.dtypes"
   ]
  },
  {
   "cell_type": "code",
   "execution_count": null,
   "metadata": {
    "collapsed": true
   },
   "outputs": [],
   "source": [
    "cust_data1['Deciles']=cust_data1['Deciles'].astype('str')"
   ]
  },
  {
   "cell_type": "markdown",
   "metadata": {},
   "source": [
    "### Resetting Index\n",
    "It is used to create a DF with the data _conformed_ to a new index.\n",
    "\n",
    "If we subset a Series or DataFrame with an index object, \n",
    "\n",
    "the data is _rearranged_ to obey this new index and missing values are introduced wherever the data was not present\n"
   ]
  },
  {
   "cell_type": "code",
   "execution_count": null,
   "metadata": {
    "collapsed": true
   },
   "outputs": [],
   "source": [
    "cust_data1.info()"
   ]
  },
  {
   "cell_type": "code",
   "execution_count": null,
   "metadata": {
    "collapsed": true
   },
   "outputs": [],
   "source": [
    "cust_data1['ID']"
   ]
  },
  {
   "cell_type": "code",
   "execution_count": null,
   "metadata": {
    "collapsed": true
   },
   "outputs": [],
   "source": [
    "cust_data2=cust_data1.set_index(\"ID\")\n",
    "#cust_data1.set_index(\"ID\", inplace=True)"
   ]
  },
  {
   "cell_type": "code",
   "execution_count": null,
   "metadata": {
    "collapsed": true
   },
   "outputs": [],
   "source": [
    "cust_data2.info()"
   ]
  },
  {
   "cell_type": "code",
   "execution_count": null,
   "metadata": {
    "collapsed": true
   },
   "outputs": [],
   "source": [
    "cust_data2.reset_index(inplace=True) #create variable"
   ]
  },
  {
   "cell_type": "markdown",
   "metadata": {},
   "source": [
    "### Handling Duplicates\n",
    "* `df.duplicated()` Returns boolean Series denoting duplicate rows, optionally only considering certain columns\n",
    "* `df.drop_duplicates()` Returns DataFrame with duplicate rows removed, optionally only considering certain columns"
   ]
  },
  {
   "cell_type": "code",
   "execution_count": null,
   "metadata": {
    "collapsed": true
   },
   "outputs": [],
   "source": [
    "print cust_data.assign(Dups = cust_data.duplicated()).head(5)\n",
    "#cust_data['Dups']=cust_data.duplicated()\n",
    "# Creates a boolean series to indicate which rows have dups"
   ]
  },
  {
   "cell_type": "code",
   "execution_count": null,
   "metadata": {
    "collapsed": true
   },
   "outputs": [],
   "source": [
    "print cust_data[cust_data.duplicated()]\n",
    "# Retain the rows that are duplicates"
   ]
  },
  {
   "cell_type": "code",
   "execution_count": null,
   "metadata": {
    "collapsed": true
   },
   "outputs": [],
   "source": [
    "print cust_data[-cust_data.duplicated()].head(5)\n",
    "# ignore duplicates"
   ]
  },
  {
   "cell_type": "code",
   "execution_count": null,
   "metadata": {
    "collapsed": true
   },
   "outputs": [],
   "source": [
    "print cust_data.drop_duplicates().head(3)\n",
    "# retain the first occurrence of each row (drop dups)"
   ]
  },
  {
   "cell_type": "code",
   "execution_count": null,
   "metadata": {
    "collapsed": true
   },
   "outputs": [],
   "source": [
    "print cust_data.drop_duplicates(keep='last').head(3)\n",
    "# retain the last occurrence of each row (drop dups)\n",
    "\n",
    "print cust_data.drop_duplicates(keep=False).head(3)"
   ]
  },
  {
   "cell_type": "code",
   "execution_count": null,
   "metadata": {
    "collapsed": true
   },
   "outputs": [],
   "source": [
    "#To find the number of duplicated rows\n",
    "cust_demo.duplicated().value_counts()\n",
    "#cust_data.duplicated('ID').value_counts()"
   ]
  },
  {
   "cell_type": "code",
   "execution_count": null,
   "metadata": {
    "collapsed": true
   },
   "outputs": [],
   "source": [
    "cust_demo.columns"
   ]
  },
  {
   "cell_type": "code",
   "execution_count": null,
   "metadata": {
    "collapsed": true
   },
   "outputs": [],
   "source": [
    "cust_demo[cust_demo['ID'].duplicated()]"
   ]
  },
  {
   "cell_type": "markdown",
   "metadata": {},
   "source": [
    "### Handling Missing Data\n",
    "\n",
    "Pandas treats the numpy `NaN` and the Python `None` as missing values.\n",
    "\n",
    "--- These can be **detected** in a Series or DataFrame using **`obj.notnull()`**,  **`obj.isnull()`** which returns a boolean.\n",
    "\n",
    "--- **To filter out missing data** from a Series, or to remove rows (default action) or columns with missing data in a DataFrame, we use **`obj.dropna()`**\n",
    "\n",
    "--- Missing Value **imputation** is done using the **`obj.fillna()`** method."
   ]
  },
  {
   "cell_type": "markdown",
   "metadata": {},
   "source": [
    "---\n",
    "> ### Missing Data in Numeric Variables\n",
    "\n",
    "- Fill missing values with the \n",
    "    - Drop rows where data is missing (if you have LOTS of data >1 mn rows)\n",
    "    - Mean (if the distribution is symmetric)\n",
    "    - Median (if the distribution is skewed)\n",
    "    - Zeros (for data that indicates absence of a metric.)\n",
    "    - ffill & bfill (eg. for time series data)\n",
    "    - use a ML algorithm (KNN, Regression method) to predict the missing values using all other columns with non-missing data\n",
    "    \n",
    "> ### Missing Data in Object Variables\n",
    "\n",
    "- Fill missing values with \n",
    "    - the Mode\n",
    "    - a label that denotes missing values"
   ]
  },
  {
   "cell_type": "code",
   "execution_count": null,
   "metadata": {
    "collapsed": true
   },
   "outputs": [],
   "source": [
    "s12 = cust_data['MonthlyIncome']\n",
    "# Detect missing values\n",
    "#zip(s12, s12.isnull(), s12.notnull())"
   ]
  },
  {
   "cell_type": "code",
   "execution_count": null,
   "metadata": {
    "collapsed": true
   },
   "outputs": [],
   "source": [
    "sum(s12.isnull())\n",
    "len(s12)"
   ]
  },
  {
   "cell_type": "raw",
   "metadata": {},
   "source": [
    "x <- c(1,2,3,4,5,6)\n",
    "length(x)"
   ]
  },
  {
   "cell_type": "code",
   "execution_count": null,
   "metadata": {
    "collapsed": true
   },
   "outputs": [],
   "source": [
    "# Replace missing values with 0\n",
    "s12.fillna(0)\n",
    "\n",
    "# Fill with median\n",
    "s12.fillna(s12.median())\n",
    "\n",
    "# dropping the observations\n",
    "s12.dropna()"
   ]
  },
  {
   "cell_type": "markdown",
   "metadata": {},
   "source": [
    "### Handling Outliers\n",
    "- Treating Outliers: \n",
    ">clip_upper, clip_lower can be used to clip outliers at a threshold value. All values lower than the one supplied to clip_lower , or higher than the one supplied to clip_upper will be replaced by that value. <br>\n",
    "> This function is especially useful in treating outliers when used in conjunction with .quantile() <br>\n",
    "> ( Note: In data wrangling, we generally clip values at the 1st-99th Percentile (or the 5th-95th \tpercentile)) <br>\n",
    "- Replacing Values: \n",
    "> replace is an effective way to replace source values with target values by suppling a dictionary with the required substitutions"
   ]
  },
  {
   "cell_type": "code",
   "execution_count": null,
   "metadata": {
    "collapsed": true
   },
   "outputs": [],
   "source": [
    "cust_data.columns"
   ]
  },
  {
   "cell_type": "code",
   "execution_count": null,
   "metadata": {
    "collapsed": true
   },
   "outputs": [],
   "source": [
    "#Handling Outliers - Method1\n",
    "print cust_data['MonthlyIncome'].head(10)\n",
    "print cust_data['MonthlyIncome'].clip_upper(10000) \n",
    "print cust_data['MonthlyIncome'].clip_lower(0) \n",
    "\n",
    "#Handling Outliers-Method2\n",
    "print cust_data['MonthlyIncome'].quantile(0.95)\n",
    "print cust_data['MonthlyIncome'].quantile(0.05)\n",
    "print cust_data['MonthlyIncome'].head(10).clip_upper(cust_data['MonthlyIncome'].quantile(0.95)) \n",
    "print cust_data['MonthlyIncome'].head(10).clip_lower(cust_data['MonthlyIncome'].quantile(0.05)) "
   ]
  },
  {
   "cell_type": "markdown",
   "metadata": {},
   "source": [
    "### Handling Categorical variables for analysis - Create Dummies for a Categorical Variable\n",
    "Create a (n x k) matrix of binary variables from a categorical variable of length n with k levels.\n",
    "\n",
    "`pd.get_dummies(var)` does this."
   ]
  },
  {
   "cell_type": "code",
   "execution_count": null,
   "metadata": {
    "collapsed": true
   },
   "outputs": [],
   "source": [
    "cust_demo.head(10)"
   ]
  },
  {
   "cell_type": "code",
   "execution_count": null,
   "metadata": {
    "collapsed": true
   },
   "outputs": [],
   "source": [
    "pd.get_dummies(cust_demo['Martial_Status'], prefix=\"D\").head(10)"
   ]
  },
  {
   "cell_type": "markdown",
   "metadata": {},
   "source": [
    "## Steps for Creating Dummies\n",
    "\n",
    "1. Identify the categorical variables you want to create dummies from\n",
    "2. Create the dummies for n-1 categories for each \n",
    "3. Join the dummies in to the original table\n",
    "4. Drop the categorical variables in step 1."
   ]
  },
  {
   "cell_type": "code",
   "execution_count": null,
   "metadata": {
    "collapsed": true
   },
   "outputs": [],
   "source": [
    "df_G = pd.DataFrame({'key': list('bbacccb'),\n",
    "                 'val': np.random.randn(7) }).round(2)\n",
    "df_G\n",
    "\n",
    "#DataFrame({'key': df_G['key']}).assign(dummy_a = lambda x: x['key'] == 'a',\n",
    "#                                      dummy_b = lambda x: x['key'] == 'b',\n",
    "#                                      dummy_c = lambda x: x['key'] == 'c')\n",
    "\n",
    "# Create and merge dummies in the same DF\n",
    "print df_G,'\\n'\n",
    "print df_G.join(pd.get_dummies(df_G['key'], prefix='dummy')).drop('key', axis=1).drop('dummy_c', axis=1)"
   ]
  },
  {
   "cell_type": "markdown",
   "metadata": {},
   "source": [
    "### Special Case: Get Dummies from a Numeric\n",
    "\n",
    "- Numeric ---> Categorical [by Cutting]\n",
    "- Categorical ---> Binary [by Dummifying]"
   ]
  },
  {
   "cell_type": "code",
   "execution_count": null,
   "metadata": {
    "collapsed": true
   },
   "outputs": [],
   "source": [
    "# Create a categorical variable from a numeric and then compute dummies\n",
    "df_G.val = np.random.rand(7).round(1)\n",
    "df_G\n",
    "\n",
    "pd.get_dummies(pd.cut(df_G['val'], 3, labels=list('XYZ')), prefix='dummy')"
   ]
  },
  {
   "cell_type": "markdown",
   "metadata": {},
   "source": [
    "### Apply functions to each element/rows or columns of a DataFrame\n",
    "\n",
    "Using \n",
    "\n",
    "- **`s.map()`**, apply a func to each element of a Series\n",
    "- **`df.applymap()`** apply a func to each element of a DF\n",
    "- **`df.apply()`** apply a func to rows/columns of a DF"
   ]
  },
  {
   "cell_type": "markdown",
   "metadata": {},
   "source": [
    "> Lambda functions are also known as ANONYMOUS functions because they typically do not have a name.\n",
    "\n",
    "- The are used extensively in Python, and even more with the `map(), applymap() and apply()` methods"
   ]
  },
  {
   "cell_type": "code",
   "execution_count": null,
   "metadata": {
    "collapsed": true
   },
   "outputs": [],
   "source": [
    "data = {'name': ['Dinkar', 'Vikalp', 'Sumeet', 'Shubham', 'Ramesh'],\n",
    "        'year': [2012, 2012, 2013, 2014, 2014],\n",
    "        'reports': [4, 24, 31, 2, 3],\n",
    "        'coverage': [25, 94, 57, 62, 70]}\n",
    "df = pd.DataFrame(data)\n",
    "df = df.iloc[:,[1,0,2,3]]"
   ]
  },
  {
   "cell_type": "code",
   "execution_count": null,
   "metadata": {
    "collapsed": true
   },
   "outputs": [],
   "source": [
    "capitalizer = lambda x: x.upper()\n",
    "\n",
    "#def capitalizer(x):\n",
    "#    return x.upper"
   ]
  },
  {
   "cell_type": "code",
   "execution_count": null,
   "metadata": {
    "collapsed": true
   },
   "outputs": [],
   "source": [
    "df['name'].apply(capitalizer)"
   ]
  },
  {
   "cell_type": "code",
   "execution_count": null,
   "metadata": {
    "collapsed": true
   },
   "outputs": [],
   "source": [
    "def Cube(x):\n",
    "    return x ** 3\n",
    "\n",
    "df_n = df.iloc[:,1:]\n",
    "df_n.apply(Cube)"
   ]
  },
  {
   "cell_type": "code",
   "execution_count": null,
   "metadata": {
    "collapsed": true
   },
   "outputs": [],
   "source": [
    "df_n.applymap(Cube)"
   ]
  },
  {
   "cell_type": "code",
   "execution_count": null,
   "metadata": {
    "collapsed": true
   },
   "outputs": [],
   "source": []
  },
  {
   "cell_type": "code",
   "execution_count": null,
   "metadata": {
    "collapsed": true
   },
   "outputs": [],
   "source": [
    "# Create a dataframe to work with\n",
    "df = pd.DataFrame(np.random.randn(25).reshape(5,5), \n",
    "                index=list('abcde'), \n",
    "                columns=list('vwxyz')).round(2); \n",
    "df"
   ]
  },
  {
   "cell_type": "code",
   "execution_count": null,
   "metadata": {
    "collapsed": true
   },
   "outputs": [],
   "source": [
    "# Write a function that formats a number to 2 decimal places\n",
    "format8 = lambda x: '%.2f' %x\n",
    "\n",
    "# SAME AS\n",
    "# def format8(x):\n",
    "#     return '%.2f' %x\n",
    "\n",
    "\n",
    "# Apply this function to each element of the Series\n",
    "print df.applymap(format8)\n",
    "\n",
    "# Apply the function over columns\n",
    "# Get the RANGE of each column\n",
    "print df.apply(lambda x: x.max() - x.min())"
   ]
  },
  {
   "cell_type": "code",
   "execution_count": null,
   "metadata": {
    "collapsed": true
   },
   "outputs": [],
   "source": [
    "# Use a general function that returns multiple values\n",
    "def func8(x):\n",
    "    return pd.Series([x.min(), x.mean(), x.max()], \n",
    "                  index=['MIN.', 'MEAN.', 'MAX.'])\n",
    "\n",
    "df.apply(lambda x: func8(x))"
   ]
  },
  {
   "cell_type": "code",
   "execution_count": null,
   "metadata": {
    "collapsed": true
   },
   "outputs": [],
   "source": [
    "# Over Rows\n",
    "df.apply(func8, axis=1)"
   ]
  },
  {
   "cell_type": "code",
   "execution_count": null,
   "metadata": {
    "collapsed": true
   },
   "outputs": [],
   "source": [
    "# Use a general function that returns multiple values\n",
    "def var_summary(x):\n",
    "    return pd.Series([x.count(), x.isnull().sum(), x.sum(), x.mean(), x.median(),  x.std(), x.var(), x.min(), x.quantile(0.01), x.quantile(0.05),x.quantile(0.10),x.quantile(0.25),x.quantile(0.50),x.quantile(0.75), x.quantile(0.90),x.quantile(0.95), x.quantile(0.99),x.max()], \n",
    "                  index=['N', 'NMISS', 'SUM', 'MEAN','MEDIAN', 'STD', 'VAR', 'MIN', 'P1' , 'P5' ,'P10' ,'P25' ,'P50' ,'P75' ,'P90' ,'P95' ,'P99' ,'MAX'])\n",
    "\n",
    "df.apply(lambda x: var_summary(x)).T"
   ]
  },
  {
   "cell_type": "code",
   "execution_count": null,
   "metadata": {
    "collapsed": true
   },
   "outputs": [],
   "source": [
    "cust_data._get_numeric_data().apply(lambda x: var_summary(x)).T"
   ]
  },
  {
   "cell_type": "markdown",
   "metadata": {},
   "source": [
    "## Table Manipulations\n",
    "### Implementing Split-Apply-Combine: The _groupby_ method\n",
    "+ You may group along the rows or columns.\n",
    "+ Returns the groupby object that stores info on how to split the data\n",
    "+ To this object, we implement Aggregations (reduce size of data) or Transformations (no change in size) or Apply\n",
    "\n",
    "_Split - Apply - Combine_!\n",
    "\n",
    "In Data Analysis workflows, operations like `loading, cleaning and merging` are usually following by `summarizations` using some grouping variable(s). This includes _summary statistics_ over variables or groups within variables, within-group _transformations_ (like variable standardization), computing _pivot-tables_ and group analyses.\n",
    "\n",
    "* _Split:_\n",
    "    * A DataFrame can be split up by rows(`axis=0`)/columns(`axis=1`) into **groups**. \n",
    "    * We use `pd.groupby()` to create a groupby object\n",
    "* _Apply:_\n",
    "    * A function is applied to each group.\n",
    "* _Combine:_\n",
    "* The results of applying functions to groups are put together into an object \n",
    "    * data types of returned objects are handled gracefully by pandas\n",
    "\n",
    "<img src=\"http://i.imgur.com/yjNkiwL.png\">"
   ]
  },
  {
   "cell_type": "code",
   "execution_count": null,
   "metadata": {
    "collapsed": true
   },
   "outputs": [],
   "source": [
    "cust_data.columns"
   ]
  },
  {
   "cell_type": "code",
   "execution_count": null,
   "metadata": {
    "collapsed": true
   },
   "outputs": [],
   "source": [
    "## ANALOGY\n",
    "#SELECT x, avg(y) as avg_y\n",
    "#FROM Table_1 \n",
    "#GROUP BY x \n",
    "\n",
    "#df_1.groupby('x').mean()"
   ]
  },
  {
   "cell_type": "code",
   "execution_count": null,
   "metadata": {
    "collapsed": true
   },
   "outputs": [],
   "source": [
    "# Or you can created a generic groupby object and re-use it\n",
    "\n",
    "grouped = cust_data[['RevolvingUtilization','SeriousDlqin2yrs']].groupby('SeriousDlqin2yrs')\n",
    "print type(grouped)\n",
    "\n",
    "print grouped.max()\n",
    "print grouped.min()\n",
    "print grouped.mean()\n"
   ]
  },
  {
   "cell_type": "code",
   "execution_count": null,
   "metadata": {
    "collapsed": true
   },
   "outputs": [],
   "source": [
    "pd.DataFrame(pd.concat([grouped.max(), grouped.min(), grouped.mean(), grouped.std()], axis=1).values,\n",
    "          columns=['Max', 'Min', 'Mean', 'Stddev'])"
   ]
  },
  {
   "cell_type": "markdown",
   "metadata": {},
   "source": [
    "---\n",
    "# ** GroupBy objects **\n",
    "\n",
    "* `DataFrame.groupby(<key>)` will produce a groupby object\n",
    "* have a `.size()` method, which returns the count of elements in each group.\n",
    "* can be subsetted using column names (or arrays of column names) to select variables for aggregation\n",
    "* have optimized methods for general aggregation operations like - \n",
    "    * `count, sum`\n",
    "    * `mean, median, std, var`\n",
    "    * `first, last`\n",
    "    * `min, max`\n",
    "* methods like `.describe` apply to these objects\n",
    "\n",
    "** By far, the most important `GroupBy Object` methods are `.agg() .transform()`, and `.apply()` **"
   ]
  },
  {
   "cell_type": "code",
   "execution_count": null,
   "metadata": {
    "collapsed": true
   },
   "outputs": [],
   "source": [
    "df = pd.DataFrame({'k1': list('abcd' * 25),\n",
    "               'k2': list('xy' * 25 + 'yx' * 25),\n",
    "               'v1': np.random.rand(100),\n",
    "               'v2': np.random.rand(100)}).round(2)\n",
    "df[:15]"
   ]
  },
  {
   "cell_type": "code",
   "execution_count": null,
   "metadata": {
    "collapsed": true
   },
   "outputs": [],
   "source": [
    "print '\\n', df.groupby('k1').mean()\n",
    "print '\\n', df.groupby('k2').sum()"
   ]
  },
  {
   "cell_type": "code",
   "execution_count": null,
   "metadata": {
    "collapsed": true
   },
   "outputs": [],
   "source": [
    "# Group by two keys\n",
    "df.groupby(['k1', 'k2']).mean()"
   ]
  },
  {
   "cell_type": "code",
   "execution_count": null,
   "metadata": {
    "collapsed": true
   },
   "outputs": [],
   "source": [
    "grpd = df.groupby(['k1', 'k2'])"
   ]
  },
  {
   "cell_type": "code",
   "execution_count": null,
   "metadata": {
    "collapsed": true
   },
   "outputs": [],
   "source": [
    "type(grpd)"
   ]
  },
  {
   "cell_type": "code",
   "execution_count": null,
   "metadata": {
    "collapsed": true
   },
   "outputs": [],
   "source": [
    "print grpd['v1'].sum()\n",
    "print\n",
    "print grpd['v2'].median()"
   ]
  },
  {
   "cell_type": "code",
   "execution_count": null,
   "metadata": {
    "collapsed": true
   },
   "outputs": [],
   "source": [
    "obj = df.groupby(['k1'])"
   ]
  },
  {
   "cell_type": "code",
   "execution_count": null,
   "metadata": {
    "collapsed": true
   },
   "outputs": [],
   "source": [
    "obj.size()"
   ]
  },
  {
   "cell_type": "code",
   "execution_count": null,
   "metadata": {
    "collapsed": true
   },
   "outputs": [],
   "source": [
    "len(obj)\n",
    "# there are 4 groups"
   ]
  },
  {
   "cell_type": "code",
   "execution_count": null,
   "metadata": {
    "collapsed": true
   },
   "outputs": [],
   "source": [
    "obj.groups.keys()\n",
    "# names of the 4 groups"
   ]
  },
  {
   "cell_type": "code",
   "execution_count": null,
   "metadata": {
    "collapsed": true
   },
   "outputs": [],
   "source": [
    "obj.get_group('b')[:5]"
   ]
  },
  {
   "cell_type": "code",
   "execution_count": null,
   "metadata": {
    "collapsed": true
   },
   "outputs": [],
   "source": [
    "obj.get_group('c')[:5]"
   ]
  },
  {
   "cell_type": "code",
   "execution_count": null,
   "metadata": {
    "collapsed": true
   },
   "outputs": [],
   "source": [
    "print obj.mean()"
   ]
  },
  {
   "cell_type": "code",
   "execution_count": null,
   "metadata": {
    "collapsed": true
   },
   "outputs": [],
   "source": [
    "print df.groupby(df.k1).agg('mean').add_prefix('mu_')"
   ]
  },
  {
   "cell_type": "code",
   "execution_count": null,
   "metadata": {
    "collapsed": true
   },
   "outputs": [],
   "source": [
    "pd.concat([df.groupby(df.k1).agg('mean').add_prefix('mu_'),\n",
    "           df.groupby(df.k1).agg('std').add_prefix('sigma_')], axis=1)"
   ]
  },
  {
   "cell_type": "code",
   "execution_count": null,
   "metadata": {
    "collapsed": true
   },
   "outputs": [],
   "source": [
    "cust_demo.columns"
   ]
  },
  {
   "cell_type": "code",
   "execution_count": null,
   "metadata": {
    "collapsed": true
   },
   "outputs": [],
   "source": [
    "cust_demo[['Location', 'Gender','age']].groupby(['Location', 'Gender']).agg('mean').add_prefix('m_').head(3)"
   ]
  },
  {
   "cell_type": "code",
   "execution_count": null,
   "metadata": {
    "collapsed": true
   },
   "outputs": [],
   "source": [
    "cust_demo[['Location', 'Gender','age']].groupby(['Location', 'Gender']).agg(['mean', 'std']).add_prefix('m_').head(3)"
   ]
  },
  {
   "cell_type": "code",
   "execution_count": null,
   "metadata": {
    "collapsed": true
   },
   "outputs": [],
   "source": [
    "pd.concat([cust_demo[['Location', 'Gender','age']].groupby(['Location', 'Gender']).agg('mean').add_prefix('m_'),\n",
    "cust_demo[['Location', 'Gender','age']].groupby(['Location', 'Gender']).agg('std').add_prefix('s_')], axis=1).head(5)"
   ]
  },
  {
   "cell_type": "code",
   "execution_count": null,
   "metadata": {
    "collapsed": true
   },
   "outputs": [],
   "source": [
    "cust_data.columns"
   ]
  },
  {
   "cell_type": "markdown",
   "metadata": {},
   "source": [
    "---\n",
    "### The `.apply()` method\n",
    "\n",
    "takes as argument the following:\n",
    "* a general or user defined function\n",
    "* any other parameters that the function would take\n",
    "\n",
    "Syntax: `dataFrame.groupby('column').apply(udf, udf-par_1, udf_par_2 ...)`"
   ]
  },
  {
   "cell_type": "code",
   "execution_count": null,
   "metadata": {
    "collapsed": true
   },
   "outputs": [],
   "source": [
    "#Finding top 5 customers with income by each category in SeriousDlqin2yrs\n",
    "\n",
    "def topN(data, col, N):\n",
    "    \"\"\"\n",
    "    Takes a dataframe, and returns N rows for given column (sorted by this column desc)\n",
    "    \"\"\"\n",
    "    #return data.sort_values(by=col, ascending=False).loc[:, col].head(N)\n",
    "    return data.sort_values(by=col, ascending=False).head(N)"
   ]
  },
  {
   "cell_type": "code",
   "execution_count": null,
   "metadata": {
    "collapsed": true
   },
   "outputs": [],
   "source": [
    "cust_data.groupby('SeriousDlqin2yrs').apply(topN, col='MonthlyIncome', N=5)"
   ]
  },
  {
   "cell_type": "code",
   "execution_count": null,
   "metadata": {
    "collapsed": true
   },
   "outputs": [],
   "source": [
    "#Example 2: want to find the number of rows and columns\n",
    "\n",
    "def analyze(df):\n",
    "    \"\"\"\n",
    "    RETURNS THE NROWS AND NCOLS OF A DATAFRAME\n",
    "    \"\"\"\n",
    "    return pd.Series({\"nrow\": len(df), \"ncol\": len(df.columns)})"
   ]
  },
  {
   "cell_type": "code",
   "execution_count": null,
   "metadata": {
    "collapsed": true
   },
   "outputs": [],
   "source": [
    "# Rows and Cols per group\n",
    "print cust_data.groupby('SeriousDlqin2yrs').apply(analyze) \n",
    "print \n",
    "print cust_data.groupby('SeriousDlqin2yrs').apply(sum)"
   ]
  },
  {
   "cell_type": "code",
   "execution_count": null,
   "metadata": {},
   "outputs": [],
   "source": [
    "print cust_data.groupby('SeriousDlqin2yrs').size()"
   ]
  },
  {
   "cell_type": "code",
   "execution_count": null,
   "metadata": {
    "collapsed": true
   },
   "outputs": [],
   "source": []
  },
  {
   "cell_type": "markdown",
   "metadata": {},
   "source": [
    "## Reshaping your data  with  `stack, unstack and pivot_table`\n",
    "\n",
    "Usually, for convenience, data in relational DB is stored in the **long format**\n",
    "    * fewer columns, label duplication in keys\n",
    "\n",
    "For certain kinds of analysis, we might prefer to have the data in the **wide format **\n",
    "    * more columns, unique labels in keys\n",
    "    \n",
    "### $Reshaping$ using `stack()` and `unstack()`\n",
    "\n",
    "Hierarchical Indexing provides a convenient way to reshape data;\n",
    "    * `stack` pivots the columns into rows\n",
    "    * `unstack` pivots rows into columns"
   ]
  },
  {
   "cell_type": "markdown",
   "metadata": {},
   "source": [
    "### Long to Wide"
   ]
  },
  {
   "cell_type": "code",
   "execution_count": 12,
   "metadata": {},
   "outputs": [
    {
     "data": {
      "text/html": [
       "<div>\n",
       "<style scoped>\n",
       "    .dataframe tbody tr th:only-of-type {\n",
       "        vertical-align: middle;\n",
       "    }\n",
       "\n",
       "    .dataframe tbody tr th {\n",
       "        vertical-align: top;\n",
       "    }\n",
       "\n",
       "    .dataframe thead th {\n",
       "        text-align: right;\n",
       "    }\n",
       "</style>\n",
       "<table border=\"1\" class=\"dataframe\">\n",
       "  <thead>\n",
       "    <tr style=\"text-align: right;\">\n",
       "      <th></th>\n",
       "      <th></th>\n",
       "      <th>Marks</th>\n",
       "    </tr>\n",
       "    <tr>\n",
       "      <th>Student</th>\n",
       "      <th>Subject</th>\n",
       "      <th></th>\n",
       "    </tr>\n",
       "  </thead>\n",
       "  <tbody>\n",
       "    <tr>\n",
       "      <th rowspan=\"5\" valign=\"top\">x</th>\n",
       "      <th>a</th>\n",
       "      <td>4</td>\n",
       "    </tr>\n",
       "    <tr>\n",
       "      <th>b</th>\n",
       "      <td>26</td>\n",
       "    </tr>\n",
       "    <tr>\n",
       "      <th>c</th>\n",
       "      <td>71</td>\n",
       "    </tr>\n",
       "    <tr>\n",
       "      <th>d</th>\n",
       "      <td>38</td>\n",
       "    </tr>\n",
       "    <tr>\n",
       "      <th>e</th>\n",
       "      <td>23</td>\n",
       "    </tr>\n",
       "    <tr>\n",
       "      <th rowspan=\"5\" valign=\"top\">y</th>\n",
       "      <th>a</th>\n",
       "      <td>33</td>\n",
       "    </tr>\n",
       "    <tr>\n",
       "      <th>b</th>\n",
       "      <td>36</td>\n",
       "    </tr>\n",
       "    <tr>\n",
       "      <th>c</th>\n",
       "      <td>17</td>\n",
       "    </tr>\n",
       "    <tr>\n",
       "      <th>d</th>\n",
       "      <td>98</td>\n",
       "    </tr>\n",
       "    <tr>\n",
       "      <th>e</th>\n",
       "      <td>39</td>\n",
       "    </tr>\n",
       "  </tbody>\n",
       "</table>\n",
       "</div>"
      ],
      "text/plain": [
       "                 Marks\n",
       "Student Subject       \n",
       "x       a            4\n",
       "        b           26\n",
       "        c           71\n",
       "        d           38\n",
       "        e           23\n",
       "y       a           33\n",
       "        b           36\n",
       "        c           17\n",
       "        d           98\n",
       "        e           39"
      ]
     },
     "execution_count": 12,
     "metadata": {},
     "output_type": "execute_result"
    }
   ],
   "source": [
    "import pandas as pd\n",
    "import numpy as np\n",
    "df = pd.DataFrame({'Student': list('x' * 5) + list('y' * 5), \n",
    "                   'Subject': list('abcde' * 2),\n",
    "                   'Marks': np.random.randint(0, 100, 10)})\n",
    "df.set_index(['Student', 'Subject'], inplace=True)\n",
    "df"
   ]
  },
  {
   "cell_type": "code",
   "execution_count": 14,
   "metadata": {},
   "outputs": [
    {
     "data": {
      "text/html": [
       "<div>\n",
       "<style scoped>\n",
       "    .dataframe tbody tr th:only-of-type {\n",
       "        vertical-align: middle;\n",
       "    }\n",
       "\n",
       "    .dataframe tbody tr th {\n",
       "        vertical-align: top;\n",
       "    }\n",
       "\n",
       "    .dataframe thead tr th {\n",
       "        text-align: left;\n",
       "    }\n",
       "</style>\n",
       "<table border=\"1\" class=\"dataframe\">\n",
       "  <thead>\n",
       "    <tr>\n",
       "      <th></th>\n",
       "      <th>Student</th>\n",
       "      <th colspan=\"5\" halign=\"left\">Marks</th>\n",
       "    </tr>\n",
       "    <tr>\n",
       "      <th>Subject</th>\n",
       "      <th></th>\n",
       "      <th>a</th>\n",
       "      <th>b</th>\n",
       "      <th>c</th>\n",
       "      <th>d</th>\n",
       "      <th>e</th>\n",
       "    </tr>\n",
       "  </thead>\n",
       "  <tbody>\n",
       "    <tr>\n",
       "      <th>0</th>\n",
       "      <td>x</td>\n",
       "      <td>4</td>\n",
       "      <td>26</td>\n",
       "      <td>71</td>\n",
       "      <td>38</td>\n",
       "      <td>23</td>\n",
       "    </tr>\n",
       "    <tr>\n",
       "      <th>1</th>\n",
       "      <td>y</td>\n",
       "      <td>33</td>\n",
       "      <td>36</td>\n",
       "      <td>17</td>\n",
       "      <td>98</td>\n",
       "      <td>39</td>\n",
       "    </tr>\n",
       "  </tbody>\n",
       "</table>\n",
       "</div>"
      ],
      "text/plain": [
       "        Student Marks                \n",
       "Subject             a   b   c   d   e\n",
       "0             x     4  26  71  38  23\n",
       "1             y    33  36  17  98  39"
      ]
     },
     "execution_count": 14,
     "metadata": {},
     "output_type": "execute_result"
    }
   ],
   "source": [
    "df.unstack().reset_index()"
   ]
  },
  {
   "cell_type": "markdown",
   "metadata": {},
   "source": [
    "> To use stack/unstack, we need the values we want to shift from rows to columns or the other way around as the index"
   ]
  },
  {
   "cell_type": "markdown",
   "metadata": {},
   "source": [
    "## Wide to Long"
   ]
  },
  {
   "cell_type": "code",
   "execution_count": 16,
   "metadata": {},
   "outputs": [
    {
     "data": {
      "text/html": [
       "<div>\n",
       "<style scoped>\n",
       "    .dataframe tbody tr th:only-of-type {\n",
       "        vertical-align: middle;\n",
       "    }\n",
       "\n",
       "    .dataframe tbody tr th {\n",
       "        vertical-align: top;\n",
       "    }\n",
       "\n",
       "    .dataframe thead th {\n",
       "        text-align: right;\n",
       "    }\n",
       "</style>\n",
       "<table border=\"1\" class=\"dataframe\">\n",
       "  <thead>\n",
       "    <tr style=\"text-align: right;\">\n",
       "      <th></th>\n",
       "      <th>Mat</th>\n",
       "      <th>Phy</th>\n",
       "      <th>Che</th>\n",
       "      <th>Eco</th>\n",
       "      <th>Eng</th>\n",
       "    </tr>\n",
       "  </thead>\n",
       "  <tbody>\n",
       "    <tr>\n",
       "      <th>A</th>\n",
       "      <td>46</td>\n",
       "      <td>49</td>\n",
       "      <td>67</td>\n",
       "      <td>66</td>\n",
       "      <td>80</td>\n",
       "    </tr>\n",
       "    <tr>\n",
       "      <th>B</th>\n",
       "      <td>87</td>\n",
       "      <td>5</td>\n",
       "      <td>37</td>\n",
       "      <td>63</td>\n",
       "      <td>86</td>\n",
       "    </tr>\n",
       "    <tr>\n",
       "      <th>C</th>\n",
       "      <td>19</td>\n",
       "      <td>29</td>\n",
       "      <td>20</td>\n",
       "      <td>61</td>\n",
       "      <td>54</td>\n",
       "    </tr>\n",
       "    <tr>\n",
       "      <th>D</th>\n",
       "      <td>23</td>\n",
       "      <td>34</td>\n",
       "      <td>46</td>\n",
       "      <td>22</td>\n",
       "      <td>28</td>\n",
       "    </tr>\n",
       "    <tr>\n",
       "      <th>E</th>\n",
       "      <td>50</td>\n",
       "      <td>37</td>\n",
       "      <td>59</td>\n",
       "      <td>99</td>\n",
       "      <td>99</td>\n",
       "    </tr>\n",
       "  </tbody>\n",
       "</table>\n",
       "</div>"
      ],
      "text/plain": [
       "   Mat  Phy  Che  Eco  Eng\n",
       "A   46   49   67   66   80\n",
       "B   87    5   37   63   86\n",
       "C   19   29   20   61   54\n",
       "D   23   34   46   22   28\n",
       "E   50   37   59   99   99"
      ]
     },
     "execution_count": 16,
     "metadata": {},
     "output_type": "execute_result"
    }
   ],
   "source": [
    "df_wide = pd.DataFrame(np.random.randint(0, 100, 25).reshape(5, 5), \n",
    "                    index=list('ABCDE'), \n",
    "                    columns=[\"Mat\",\"Phy\",\"Che\",\"Eco\",\"Eng\"])\n",
    "\n",
    "df_wide"
   ]
  },
  {
   "cell_type": "code",
   "execution_count": 17,
   "metadata": {},
   "outputs": [],
   "source": [
    "df_long = df_wide.stack()"
   ]
  },
  {
   "cell_type": "code",
   "execution_count": 21,
   "metadata": {},
   "outputs": [
    {
     "data": {
      "text/html": [
       "<div>\n",
       "<style scoped>\n",
       "    .dataframe tbody tr th:only-of-type {\n",
       "        vertical-align: middle;\n",
       "    }\n",
       "\n",
       "    .dataframe tbody tr th {\n",
       "        vertical-align: top;\n",
       "    }\n",
       "\n",
       "    .dataframe thead th {\n",
       "        text-align: right;\n",
       "    }\n",
       "</style>\n",
       "<table border=\"1\" class=\"dataframe\">\n",
       "  <thead>\n",
       "    <tr style=\"text-align: right;\">\n",
       "      <th></th>\n",
       "      <th>Student</th>\n",
       "      <th>Subject</th>\n",
       "      <th>Marks</th>\n",
       "    </tr>\n",
       "  </thead>\n",
       "  <tbody>\n",
       "    <tr>\n",
       "      <th>0</th>\n",
       "      <td>A</td>\n",
       "      <td>Mat</td>\n",
       "      <td>46</td>\n",
       "    </tr>\n",
       "    <tr>\n",
       "      <th>1</th>\n",
       "      <td>A</td>\n",
       "      <td>Phy</td>\n",
       "      <td>49</td>\n",
       "    </tr>\n",
       "    <tr>\n",
       "      <th>2</th>\n",
       "      <td>A</td>\n",
       "      <td>Che</td>\n",
       "      <td>67</td>\n",
       "    </tr>\n",
       "    <tr>\n",
       "      <th>3</th>\n",
       "      <td>A</td>\n",
       "      <td>Eco</td>\n",
       "      <td>66</td>\n",
       "    </tr>\n",
       "    <tr>\n",
       "      <th>4</th>\n",
       "      <td>A</td>\n",
       "      <td>Eng</td>\n",
       "      <td>80</td>\n",
       "    </tr>\n",
       "    <tr>\n",
       "      <th>5</th>\n",
       "      <td>B</td>\n",
       "      <td>Mat</td>\n",
       "      <td>87</td>\n",
       "    </tr>\n",
       "    <tr>\n",
       "      <th>6</th>\n",
       "      <td>B</td>\n",
       "      <td>Phy</td>\n",
       "      <td>5</td>\n",
       "    </tr>\n",
       "    <tr>\n",
       "      <th>7</th>\n",
       "      <td>B</td>\n",
       "      <td>Che</td>\n",
       "      <td>37</td>\n",
       "    </tr>\n",
       "    <tr>\n",
       "      <th>8</th>\n",
       "      <td>B</td>\n",
       "      <td>Eco</td>\n",
       "      <td>63</td>\n",
       "    </tr>\n",
       "    <tr>\n",
       "      <th>9</th>\n",
       "      <td>B</td>\n",
       "      <td>Eng</td>\n",
       "      <td>86</td>\n",
       "    </tr>\n",
       "    <tr>\n",
       "      <th>10</th>\n",
       "      <td>C</td>\n",
       "      <td>Mat</td>\n",
       "      <td>19</td>\n",
       "    </tr>\n",
       "    <tr>\n",
       "      <th>11</th>\n",
       "      <td>C</td>\n",
       "      <td>Phy</td>\n",
       "      <td>29</td>\n",
       "    </tr>\n",
       "    <tr>\n",
       "      <th>12</th>\n",
       "      <td>C</td>\n",
       "      <td>Che</td>\n",
       "      <td>20</td>\n",
       "    </tr>\n",
       "    <tr>\n",
       "      <th>13</th>\n",
       "      <td>C</td>\n",
       "      <td>Eco</td>\n",
       "      <td>61</td>\n",
       "    </tr>\n",
       "    <tr>\n",
       "      <th>14</th>\n",
       "      <td>C</td>\n",
       "      <td>Eng</td>\n",
       "      <td>54</td>\n",
       "    </tr>\n",
       "    <tr>\n",
       "      <th>15</th>\n",
       "      <td>D</td>\n",
       "      <td>Mat</td>\n",
       "      <td>23</td>\n",
       "    </tr>\n",
       "    <tr>\n",
       "      <th>16</th>\n",
       "      <td>D</td>\n",
       "      <td>Phy</td>\n",
       "      <td>34</td>\n",
       "    </tr>\n",
       "    <tr>\n",
       "      <th>17</th>\n",
       "      <td>D</td>\n",
       "      <td>Che</td>\n",
       "      <td>46</td>\n",
       "    </tr>\n",
       "    <tr>\n",
       "      <th>18</th>\n",
       "      <td>D</td>\n",
       "      <td>Eco</td>\n",
       "      <td>22</td>\n",
       "    </tr>\n",
       "    <tr>\n",
       "      <th>19</th>\n",
       "      <td>D</td>\n",
       "      <td>Eng</td>\n",
       "      <td>28</td>\n",
       "    </tr>\n",
       "    <tr>\n",
       "      <th>20</th>\n",
       "      <td>E</td>\n",
       "      <td>Mat</td>\n",
       "      <td>50</td>\n",
       "    </tr>\n",
       "    <tr>\n",
       "      <th>21</th>\n",
       "      <td>E</td>\n",
       "      <td>Phy</td>\n",
       "      <td>37</td>\n",
       "    </tr>\n",
       "    <tr>\n",
       "      <th>22</th>\n",
       "      <td>E</td>\n",
       "      <td>Che</td>\n",
       "      <td>59</td>\n",
       "    </tr>\n",
       "    <tr>\n",
       "      <th>23</th>\n",
       "      <td>E</td>\n",
       "      <td>Eco</td>\n",
       "      <td>99</td>\n",
       "    </tr>\n",
       "    <tr>\n",
       "      <th>24</th>\n",
       "      <td>E</td>\n",
       "      <td>Eng</td>\n",
       "      <td>99</td>\n",
       "    </tr>\n",
       "  </tbody>\n",
       "</table>\n",
       "</div>"
      ],
      "text/plain": [
       "   Student Subject  Marks\n",
       "0        A     Mat     46\n",
       "1        A     Phy     49\n",
       "2        A     Che     67\n",
       "3        A     Eco     66\n",
       "4        A     Eng     80\n",
       "5        B     Mat     87\n",
       "6        B     Phy      5\n",
       "7        B     Che     37\n",
       "8        B     Eco     63\n",
       "9        B     Eng     86\n",
       "10       C     Mat     19\n",
       "11       C     Phy     29\n",
       "12       C     Che     20\n",
       "13       C     Eco     61\n",
       "14       C     Eng     54\n",
       "15       D     Mat     23\n",
       "16       D     Phy     34\n",
       "17       D     Che     46\n",
       "18       D     Eco     22\n",
       "19       D     Eng     28\n",
       "20       E     Mat     50\n",
       "21       E     Phy     37\n",
       "22       E     Che     59\n",
       "23       E     Eco     99\n",
       "24       E     Eng     99"
      ]
     },
     "execution_count": 21,
     "metadata": {},
     "output_type": "execute_result"
    }
   ],
   "source": [
    "df_long.reset_index().rename(columns = {\"level_0\":\"Student\",\"level_1\":\"Subject\",0:\"Marks\"})"
   ]
  },
  {
   "cell_type": "markdown",
   "metadata": {},
   "source": [
    "# Converting data from 'long' to 'wide' format using `.pivot()`\n",
    "\n",
    "The `df.pivot()` method takes the names of columns to be used as row (`index=`) and column indexes (`columns=`) and a column to fill in the data as (`values=`)"
   ]
  },
  {
   "cell_type": "code",
   "execution_count": null,
   "metadata": {},
   "outputs": [],
   "source": [
    "df = pd.DataFrame({'date': (list(pd.date_range('2000-01-03', '2000-01-05')) * 4),\n",
    "          'item': (list('ABCD'*3)),\n",
    "          'status': (np.random.randn(12))})\n",
    "print df"
   ]
  },
  {
   "cell_type": "code",
   "execution_count": null,
   "metadata": {},
   "outputs": [],
   "source": [
    "print df.set_index(['date', 'item'])\n",
    "# The data is in long-format"
   ]
  },
  {
   "cell_type": "code",
   "execution_count": null,
   "metadata": {},
   "outputs": [],
   "source": [
    "print df.set_index(['date', 'item']).unstack()\n",
    "# Unstacking long data into wide"
   ]
  },
  {
   "cell_type": "code",
   "execution_count": null,
   "metadata": {},
   "outputs": [],
   "source": [
    "# Same effect using Pivot\n",
    "\n",
    "print df.pivot(index='date', columns='item', values='status')"
   ]
  },
  {
   "cell_type": "code",
   "execution_count": null,
   "metadata": {},
   "outputs": [],
   "source": [
    "%timeit df.set_index(['date', 'item']).unstack()"
   ]
  },
  {
   "cell_type": "code",
   "execution_count": null,
   "metadata": {},
   "outputs": [],
   "source": [
    "%timeit df.pivot(index='date', columns='item', values='status')"
   ]
  },
  {
   "cell_type": "markdown",
   "metadata": {},
   "source": [
    "> Note: Pivot is just a convenient wrapper function that replaces the need to create a hierarchical index using `set_index` and reshaping with `stack`"
   ]
  },
  {
   "cell_type": "code",
   "execution_count": null,
   "metadata": {},
   "outputs": [],
   "source": [
    "print pd.pivot_table(data=df,\n",
    "                     index='date', \n",
    "                     columns='item', \n",
    "                     values='status', \n",
    "                     aggfunc=np.sum)"
   ]
  },
  {
   "cell_type": "code",
   "execution_count": null,
   "metadata": {},
   "outputs": [],
   "source": [
    "print pd.pivot_table(data=df,\n",
    "                     index='date', \n",
    "                     columns='item', \n",
    "                     values='status', \n",
    "                     aggfunc='sum')"
   ]
  },
  {
   "cell_type": "code",
   "execution_count": null,
   "metadata": {},
   "outputs": [],
   "source": [
    "print pd.pivot_table(data=df,\n",
    "                     index='date', \n",
    "                     columns='item', \n",
    "                     values='status', \n",
    "                     aggfunc='mean')"
   ]
  },
  {
   "cell_type": "code",
   "execution_count": null,
   "metadata": {},
   "outputs": [],
   "source": [
    "print pd.pivot_table(data=cust_demo, index='Location', columns='Gender', values='age',aggfunc='mean' )"
   ]
  },
  {
   "cell_type": "code",
   "execution_count": null,
   "metadata": {
    "collapsed": true
   },
   "outputs": [],
   "source": [
    "pt=pd.pivot_table(data=cust_demo, index=['Location','Martial_Status'], columns=['Gender', 'Own_House'], values='age',aggfunc='mean' )"
   ]
  },
  {
   "cell_type": "code",
   "execution_count": null,
   "metadata": {
    "collapsed": true
   },
   "outputs": [],
   "source": [
    "pt.to_csv('C:\\\\Users\\\\ChandraMouli\\\\Desktop\\\\summary.csv')"
   ]
  },
  {
   "cell_type": "code",
   "execution_count": null,
   "metadata": {},
   "outputs": [],
   "source": [
    "print pd.pivot_table(data=cust_data, index='SeriousDlqin2yrs', values='No_of_RealEstateLoans',aggfunc='mean' )"
   ]
  },
  {
   "cell_type": "markdown",
   "metadata": {},
   "source": [
    "# MERGING - JOINING\n",
    "\n",
    "\n",
    "<img src=\"https://adiyatmubarak.files.wordpress.com/2016/01/sql.jpg\">\n",
    "\n",
    "<br>\n",
    "`pandas.merge()` is similar to the _SQL join_ operations; it links rows of tables using one or more _keys_\n",
    "\n",
    "---\n",
    "Syntax:\n",
    "\n",
    "`merge(df1, df2, \n",
    "       how='left', on='key', left_on=None, right_on=None, \n",
    "       left_index=False, right_index=False, \n",
    "       sort=True, copy=True,\n",
    "       suffixes=('_l', '_r'))`\n",
    "\n",
    "---\n",
    "\n",
    "The syntax includes specifications of the following arguments\n",
    "\n",
    "* **Which column to merge on;** \n",
    "    * the `on='key'` if the same key is in the two DFs, \n",
    "    * or `left_on='lkey', right_on='rkey'` if the keys have different names in the DFs \n",
    "    * Note: To merge on multiple keys, pass a list of column names\n",
    " \n",
    " \n",
    "* **The nature of the join;** \n",
    "    * the `how=` option, with `left`, `right`, `outer`\n",
    "    * By default, the merge is an `inner` join\n",
    "    \n",
    " \n",
    "* Tuple of string values to append to **overlapping column names** to identify them in the merged dataset\n",
    "    * the `suffixes=` option\n",
    "    * defaults to `('_x', '_y')`\n",
    "    \n",
    " \n",
    "* If you wish **to merge on the DF index**, pass `left_index=True` or `right_index=True` or both.\n",
    "\n",
    "\n",
    "* Sort the result DataFrame by the join keys in lexicographical order or not;\n",
    "    * `sort=` option; Defaults to True, setting to False will improve performance substantially in many cases\n",
    "    \n",
    "    \n",
    "    \n",
    "> _Note:_ For the **official Documentation** refer http://pandas.pydata.org/pandas-docs/dev/merging.html"
   ]
  },
  {
   "cell_type": "code",
   "execution_count": null,
   "metadata": {},
   "outputs": [],
   "source": [
    "# Let's define a few toy datasets to use as examples\n",
    "\n",
    "df0 = pd.DataFrame({'key': ['a', 'b', 'c', 'd', 'e'], 'data0': np.random.randint(0, 100, 5)})\n",
    "df1 = pd.DataFrame({'key': ['b', 'b', 'a', 'c', 'a', 'a', 'b'], 'data1': np.random.randint(0, 100, 7)})\n",
    "df2 = pd.DataFrame({'key': ['a', 'b', 'd', 'f', 'g'], 'data2': np.random.randint(0, 100, 5)})\n",
    "df3 = pd.DataFrame({'lkey': ['b', 'b', 'a', 'c', 'a', 'a', 'b'], 'data3': np.random.randint(0, 100, 7)})\n",
    "df4 = pd.DataFrame({'rkey': ['a', 'b', 'd'], 'data4': np.random.randint(0, 100, 3)})\n",
    "\n",
    "print 'df0\\n', df0, '\\ndf1\\n', df1, '\\ndf2\\n', df2, '\\ndf3\\n', df3, '\\ndf4\\n', df4"
   ]
  },
  {
   "cell_type": "code",
   "execution_count": null,
   "metadata": {},
   "outputs": [],
   "source": [
    "# Inner Join (Default)\n",
    "\n",
    "print pd.merge(df0, df2)\n",
    "# or\n",
    "print pd.merge(df0, df2, how='inner', on='key')\n",
    "\n",
    "# We see that its an inner join by default (output key is the intersection of input keys)\n",
    "# Merge happens on the column 'key' which is common to both datasets;\n",
    "    # We could've written pd.merge(df1, df2, on='key', how='inner') to the same effect"
   ]
  },
  {
   "cell_type": "code",
   "execution_count": null,
   "metadata": {},
   "outputs": [],
   "source": [
    "# Outer Join\n",
    "print pd.merge(df0, df2, how='outer')\n",
    "\n",
    "# The output table has a UNION of the keys"
   ]
  },
  {
   "cell_type": "code",
   "execution_count": null,
   "metadata": {
    "collapsed": true
   },
   "outputs": [],
   "source": [
    "# Left Join\n",
    "print pd.merge(df0, df2, how='left')\n",
    "\n",
    "# The output table has all the key values from the left table, and matching ones from the right"
   ]
  },
  {
   "cell_type": "code",
   "execution_count": null,
   "metadata": {
    "collapsed": true
   },
   "outputs": [],
   "source": [
    "# Right Join\n",
    "print pd.merge(df0, df2, how='right')\n",
    "\n",
    "# The output table has all the key values from the right table, and matching ones from the left"
   ]
  },
  {
   "cell_type": "code",
   "execution_count": null,
   "metadata": {},
   "outputs": [],
   "source": [
    "# Check the common columns are exist or not\n",
    "print df1.columns.tolist()\n",
    "print df4.columns.tolist()\n",
    "\n",
    "print np.intersect1d(df1.columns.tolist(), df4.columns.tolist())\n",
    "\n",
    "#pd.merge(df1, df4) \n",
    "# would yield an error because there are no matching column names to merge on \n",
    "# If there are no common keys, `pd.merge` will throw a `MergeError"
   ]
  },
  {
   "cell_type": "code",
   "execution_count": null,
   "metadata": {},
   "outputs": [],
   "source": [
    "# 2. Specifying which columns to merge on (if keys have different names in datasets)\n",
    "\n",
    "pd.merge(df1, df4, left_on='key', right_on='rkey')\n",
    "# still an inner join!"
   ]
  },
  {
   "cell_type": "code",
   "execution_count": null,
   "metadata": {},
   "outputs": [],
   "source": [
    "#pd.merge(cust_data, cust_demo, how='left', on='ID').head(3)\n",
    "pd.merge(cust_data, cust_demo, how='left', left_on='ID', right_on='ID').head(3)"
   ]
  },
  {
   "cell_type": "markdown",
   "metadata": {},
   "source": [
    "## The `.join()` method\n",
    "\n",
    ".join is a convenient **DataFrame method** for combining many DataFrames objects with the same or similar indexes but non-overlapping columns into a single result DataFrame.\n",
    "\n",
    "By default, the `join` method performs a _left join_ on the join keys.\n",
    "\n",
    "For simple **index-on-index merges** we can pass a list of DataFrames to `join.`"
   ]
  },
  {
   "cell_type": "code",
   "execution_count": null,
   "metadata": {},
   "outputs": [],
   "source": [
    "df = pd.DataFrame(np.random.randint(0, 50, 32).reshape(8, 4), columns=list('WXYZ'), index=list('abcdefgh'))\n",
    "\n",
    "df1 = df.ix[2:, ['W', 'X']]\n",
    "df2 = df.ix[:5, ['Y', 'Z']]\n",
    "\n",
    "print df, '\\n\\n', df1, '\\n\\n', df2"
   ]
  },
  {
   "cell_type": "code",
   "execution_count": null,
   "metadata": {},
   "outputs": [],
   "source": [
    "# Default actions is a left join on the indexes\n",
    "df1.join(df2)"
   ]
  },
  {
   "cell_type": "code",
   "execution_count": null,
   "metadata": {},
   "outputs": [],
   "source": [
    "pd.merge(df1, df2, how='left', \n",
    "         right_index=True, left_index=True)"
   ]
  },
  {
   "cell_type": "code",
   "execution_count": null,
   "metadata": {},
   "outputs": [],
   "source": [
    "# Create a couple more DFs with the same index\n",
    "df3 = df.ix[0:3, ['X', 'Z']]\n",
    "df3.columns = ['P', 'Q']\n",
    "\n",
    "df4 = df.ix[4:6, ['W']]\n",
    "df4.columns = ['R']\n",
    "\n",
    "print df3, \"\\n\\n\", df4"
   ]
  },
  {
   "cell_type": "code",
   "execution_count": null,
   "metadata": {},
   "outputs": [],
   "source": [
    "# Merging multiple DFs with the same index by passing a list of names to .join\n",
    "df1.join([df2, df3, df4]).fillna('')"
   ]
  },
  {
   "cell_type": "code",
   "execution_count": null,
   "metadata": {},
   "outputs": [],
   "source": [
    "df2.join([df1, df3, df4], how='outer').fillna('')"
   ]
  },
  {
   "cell_type": "markdown",
   "metadata": {},
   "source": [
    "# Concatenating DataFrames \n",
    "## - (aka binding, stacking, union all)\n",
    "\n",
    "### a. Series objects with small index overlap\n",
    "    * concat with axis=0 (default) will append the Series (~rbind)\n",
    "    * concat with axis=1 will merge the Series to produce a DF (~outer join)"
   ]
  },
  {
   "cell_type": "code",
   "execution_count": 4,
   "metadata": {},
   "outputs": [],
   "source": [
    "import pandas as pd\n",
    "import numpy as np"
   ]
  },
  {
   "cell_type": "code",
   "execution_count": 5,
   "metadata": {},
   "outputs": [
    {
     "name": "stdout",
     "output_type": "stream",
     "text": [
      "a   -1.20\n",
      "b   -0.95\n",
      "c   -0.11\n",
      "Name: S1, dtype: float64 \n",
      "\n",
      " S2:\n",
      " c   -0.10\n",
      "d   -1.57\n",
      "e    0.42\n",
      "f    2.15\n",
      "g    0.00\n",
      "Name: S2, dtype: float64 \n",
      "\n",
      " S3:\n",
      " f   -0.17\n",
      "g    0.57\n",
      "h   -1.06\n",
      "i    0.35\n",
      "Name: S3, dtype: float64\n"
     ]
    }
   ],
   "source": [
    "# Create toy Series with non-overlapping indices\n",
    "s1 = pd.Series(np.random.randn(3).round(2), index=list('abc'), name='S1')\n",
    "s2 = pd.Series(np.random.randn(5).round(2), index=list('cdefg'), name='S2')\n",
    "s3 = pd.Series(np.random.randn(4).round(2), index=list('fghi'), name='S3')\n",
    "\n",
    "print(s1, '\\n\\n S2:\\n', s2, '\\n\\n S3:\\n', s3)"
   ]
  },
  {
   "cell_type": "code",
   "execution_count": null,
   "metadata": {
    "collapsed": true
   },
   "outputs": [],
   "source": [
    "# Default action is to append the data\n",
    "pd.concat([s1, s2, s3], axis=0)"
   ]
  },
  {
   "cell_type": "code",
   "execution_count": null,
   "metadata": {
    "collapsed": true
   },
   "outputs": [],
   "source": [
    "# concat with axis=1 (non-overlapping index)\n",
    "print pd.concat([s1, s2, s3], axis=1)"
   ]
  },
  {
   "cell_type": "code",
   "execution_count": null,
   "metadata": {
    "collapsed": true
   },
   "outputs": [],
   "source": [
    "# Passing keys= creates a hierarchical index when appending (axis=0)\n",
    "\n",
    "pd.concat([s1, s2, s3], axis=0, keys=['one', 'two', 'thr'])"
   ]
  },
  {
   "cell_type": "code",
   "execution_count": null,
   "metadata": {
    "collapsed": true
   },
   "outputs": [],
   "source": [
    "# Passing keys= gives names to columns when using axis=1\n",
    "\n",
    "print pd.concat([s1, s2, s3], axis=1, keys=['S1', 'S2', 'S3'])"
   ]
  },
  {
   "cell_type": "markdown",
   "metadata": {},
   "source": [
    "### b. Series objects with overlapping index\n",
    "\n",
    "* If there is an overlap on indexes, we can specify **`join=`** to intersect the data\n",
    "    * Note that the `join=` option takes only `'inner'` and `'outer'`"
   ]
  },
  {
   "cell_type": "code",
   "execution_count": null,
   "metadata": {
    "collapsed": true
   },
   "outputs": [],
   "source": [
    "s4 =pd.Series(np.random.randn(5), index=list('abcde'), name='S4')\n",
    "print s4"
   ]
  },
  {
   "cell_type": "code",
   "execution_count": null,
   "metadata": {},
   "outputs": [],
   "source": [
    "# concat with overlapping index (default join type is outer)\n",
    "print pd.concat([s1, s4], axis=1)"
   ]
  },
  {
   "cell_type": "code",
   "execution_count": null,
   "metadata": {},
   "outputs": [],
   "source": [
    "# if we specify a join type, this will be equivalent to a merge\n",
    "print pd.concat([s1, s4], axis=1, join='inner')"
   ]
  },
  {
   "cell_type": "code",
   "execution_count": null,
   "metadata": {},
   "outputs": [],
   "source": [
    "cust_demo.head(3)"
   ]
  },
  {
   "cell_type": "code",
   "execution_count": null,
   "metadata": {},
   "outputs": [],
   "source": [
    "cust_new.head(3)"
   ]
  },
  {
   "cell_type": "code",
   "execution_count": null,
   "metadata": {},
   "outputs": [],
   "source": [
    "# if we specify a join type, this will be equivalent to a merge\n",
    "#pd.concat([cust_demo.head(3),cust_new.head(3)])\n",
    "pd.concat([cust_demo.head(3),cust_new.head(3)]).fillna('')"
   ]
  },
  {
   "cell_type": "markdown",
   "metadata": {},
   "source": [
    "## Dealing with String Data\n",
    "\n",
    "These include methods applied to string objects that \n",
    "* split a string by given delimiter - `.split()`\n",
    "* trim whitespace - `.strip()`\n",
    "* concatenate strings - `.join()`\n",
    "* detect substrings - `.find()` and `.index()`\n",
    "* count occurrences - `.count()`\n",
    "* find and replace - `.replace()`\n"
   ]
  },
  {
   "cell_type": "code",
   "execution_count": null,
   "metadata": {
    "collapsed": true
   },
   "outputs": [],
   "source": [
    "s = 'ready, set ,   go '"
   ]
  },
  {
   "cell_type": "code",
   "execution_count": null,
   "metadata": {},
   "outputs": [],
   "source": [
    "s.split(',')"
   ]
  },
  {
   "cell_type": "code",
   "execution_count": null,
   "metadata": {},
   "outputs": [],
   "source": [
    "s.split(' ')"
   ]
  },
  {
   "cell_type": "code",
   "execution_count": null,
   "metadata": {},
   "outputs": [],
   "source": [
    "'_'.join(s.split(','))"
   ]
  },
  {
   "cell_type": "code",
   "execution_count": null,
   "metadata": {},
   "outputs": [],
   "source": [
    "# String Splitting\n",
    "'_'.join([x.strip() for x in s.split(',')])"
   ]
  },
  {
   "cell_type": "code",
   "execution_count": null,
   "metadata": {},
   "outputs": [],
   "source": [
    "# Trimming whitespace\n",
    "pieces = [x.strip() for x in s.split(',')]\n",
    "pieces\n",
    "# Also see rstrip, lstrip"
   ]
  },
  {
   "cell_type": "code",
   "execution_count": null,
   "metadata": {},
   "outputs": [],
   "source": [
    "'_#_'.join(list('abcde'))"
   ]
  },
  {
   "cell_type": "code",
   "execution_count": null,
   "metadata": {
    "collapsed": true
   },
   "outputs": [],
   "source": [
    "# Concatenating Strings\n",
    "print '::'.join(pieces)\n",
    "print '--'.join(pieces)\n",
    "print ' '.join(pieces)"
   ]
  },
  {
   "cell_type": "code",
   "execution_count": null,
   "metadata": {
    "collapsed": true
   },
   "outputs": [],
   "source": [
    "# Does a Substring belong to a string\n",
    "print 'steady' in s\n",
    "print 'set' in s"
   ]
  },
  {
   "cell_type": "code",
   "execution_count": null,
   "metadata": {
    "collapsed": true
   },
   "outputs": [],
   "source": [
    "# Locate a substring\n",
    "s.index('go')"
   ]
  },
  {
   "cell_type": "code",
   "execution_count": null,
   "metadata": {
    "collapsed": true
   },
   "outputs": [],
   "source": [
    "s[15:17]"
   ]
  },
  {
   "cell_type": "code",
   "execution_count": null,
   "metadata": {
    "collapsed": true
   },
   "outputs": [],
   "source": [
    "#find vs index\n",
    "sentence = 'the sun rises in the east'\n",
    "sentence.find('east')"
   ]
  },
  {
   "cell_type": "code",
   "execution_count": null,
   "metadata": {
    "collapsed": true
   },
   "outputs": [],
   "source": [
    "sentence.index('east')"
   ]
  },
  {
   "cell_type": "code",
   "execution_count": null,
   "metadata": {
    "collapsed": true
   },
   "outputs": [],
   "source": [
    "print sentence.find('west')\n",
    "#print sentence.index('west') #it will throw an error"
   ]
  },
  {
   "cell_type": "code",
   "execution_count": null,
   "metadata": {
    "collapsed": true
   },
   "outputs": [],
   "source": [
    "# Locate a substring\n",
    "s.find(',')"
   ]
  },
  {
   "cell_type": "code",
   "execution_count": null,
   "metadata": {
    "collapsed": true
   },
   "outputs": [],
   "source": [
    "# Count occurrences\n",
    "s.count(',')"
   ]
  },
  {
   "cell_type": "code",
   "execution_count": null,
   "metadata": {
    "collapsed": true
   },
   "outputs": [],
   "source": [
    "sentence.endswith('east')"
   ]
  },
  {
   "cell_type": "code",
   "execution_count": null,
   "metadata": {
    "collapsed": true
   },
   "outputs": [],
   "source": [
    "s2 = 'the quick brown fox jumps over the lazy dog'\n",
    "s2.find('fox')\n",
    "\n",
    "print 'lazy' in s2\n",
    "\n",
    "print s2.endswith('dog')"
   ]
  },
  {
   "cell_type": "code",
   "execution_count": null,
   "metadata": {
    "collapsed": true
   },
   "outputs": [],
   "source": [
    "s.startswith('ready')\n",
    "# similarly .endswith()"
   ]
  },
  {
   "cell_type": "code",
   "execution_count": null,
   "metadata": {
    "collapsed": true
   },
   "outputs": [],
   "source": [
    "cust_demo.columns"
   ]
  },
  {
   "cell_type": "code",
   "execution_count": null,
   "metadata": {
    "collapsed": true
   },
   "outputs": [],
   "source": [
    "cust_demo.Location.head(5)"
   ]
  },
  {
   "cell_type": "code",
   "execution_count": null,
   "metadata": {
    "collapsed": true
   },
   "outputs": [],
   "source": [
    "cust_demo[['city', 'state']]=cust_demo['Location'].str.split(',', expand=True)"
   ]
  },
  {
   "cell_type": "code",
   "execution_count": null,
   "metadata": {
    "collapsed": true
   },
   "outputs": [],
   "source": [
    "cust_demo.head(3)"
   ]
  },
  {
   "cell_type": "markdown",
   "metadata": {},
   "source": [
    "## Regular Expressions\n",
    "\n",
    "A Regex is a sequence of characters that define a search pattern used in find-and-replace actions.\n",
    "\n",
    "Example: The regex\n",
    "* `\\s+` describes one or more whitespaces\n",
    "* `(?<=\\.) {2,}(?=[A-Z])` matches at least two spaces occurring after period (.) and before an upper case letter\n",
    "\n",
    "Note:\n",
    "* Before a regex is applied to a string, it must be _compiled_ to create a reusable regex object.\n",
    "* The object's methods can then be called on a string.\n",
    "* These include: \n",
    "    * **`split`**, \n",
    "    * **`findall`** (returns all matches), \n",
    "    * **`match`** (checks only the beginning of the string), \n",
    "    * **`search`** (returns the first occurrence)\n",
    "    * **`sub`** (returns a new string with occurrences of the pattern replaced with the supplied string)\n",
    "\n",
    "Syntax:\n",
    "1. `import re`\n",
    "2. `r_obj = re.compile('my-regex')`\n",
    "3. `r_obj.method(my-text)`"
   ]
  },
  {
   "cell_type": "code",
   "execution_count": null,
   "metadata": {
    "collapsed": true
   },
   "outputs": [],
   "source": [
    "import re\n",
    "import pandas as pd"
   ]
  },
  {
   "cell_type": "code",
   "execution_count": null,
   "metadata": {
    "collapsed": true
   },
   "outputs": [],
   "source": [
    "# Create a dataframe with a single column of strings\n",
    "data = {'raw': ['Arizona 1 2014-12-23       3242.0',\n",
    "                'Iowa 1 2010-02-23       3453.7',\n",
    "                'Oregon 0 2014-06-20       2123.0',\n",
    "                'Maryland 0 2014-03-14       1123.6',\n",
    "                'Florida 1 2013-01-15       2134.0',\n",
    "                'Georgia 0 2012-07-14       2345.6']}\n",
    "df = pd.DataFrame(data, columns = ['raw'])\n",
    "df"
   ]
  },
  {
   "cell_type": "code",
   "execution_count": null,
   "metadata": {
    "collapsed": true
   },
   "outputs": [],
   "source": [
    "# Which rows of df['raw'] contain 'xxxx-xx-xx'?\n",
    "df['raw'].str.contains('....-..-..', regex=True)"
   ]
  },
  {
   "cell_type": "code",
   "execution_count": null,
   "metadata": {
    "collapsed": true
   },
   "outputs": [],
   "source": [
    "# In the column 'raw', extract single digit in the strings\n",
    "df['female'] = df['raw'].str.extract('(\\d)', expand=True)\n",
    "df['female']"
   ]
  },
  {
   "cell_type": "code",
   "execution_count": null,
   "metadata": {
    "collapsed": true
   },
   "outputs": [],
   "source": [
    "# In the column 'raw', extract xxxx-xx-xx in the strings\n",
    "df['date'] = df['raw'].str.extract('(....-..-..)', expand=True)\n",
    "df['date']"
   ]
  },
  {
   "cell_type": "code",
   "execution_count": null,
   "metadata": {
    "collapsed": true
   },
   "outputs": [],
   "source": [
    "# In the column 'raw', extract ####.## in the strings\n",
    "df['score'] = df['raw'].str.extract('(\\d\\d\\d\\d\\.\\d)', expand=True)\n",
    "df['score']"
   ]
  },
  {
   "cell_type": "code",
   "execution_count": null,
   "metadata": {
    "collapsed": true
   },
   "outputs": [],
   "source": [
    "# In the column 'raw', extract the word in the strings\n",
    "df['state'] = df['raw'].str.extract('([A-Z]\\w{0,})', expand=True)\n",
    "df['state']"
   ]
  },
  {
   "cell_type": "code",
   "execution_count": null,
   "metadata": {
    "collapsed": true
   },
   "outputs": [],
   "source": [
    "df"
   ]
  },
  {
   "cell_type": "markdown",
   "metadata": {},
   "source": [
    "## HANDLING TIME SERIES DATA"
   ]
  },
  {
   "cell_type": "code",
   "execution_count": null,
   "metadata": {},
   "outputs": [],
   "source": [
    "pd.datetime.now()"
   ]
  },
  {
   "cell_type": "code",
   "execution_count": null,
   "metadata": {
    "collapsed": true
   },
   "outputs": [],
   "source": [
    "# Create a date value\n",
    "# Syntax: pd.datetime(year, month, day, hour, mins)\n",
    "dt_1 = pd.datetime(2016, 1, 1)"
   ]
  },
  {
   "cell_type": "code",
   "execution_count": null,
   "metadata": {},
   "outputs": [],
   "source": [
    "# Create a date range\n",
    "# Syntax: pd.date_range(start, stop, freq=)\n",
    "pd.date_range(pd.datetime(2016, 1, 1), pd.datetime(2016, 7, 1), freq=\"W\")"
   ]
  },
  {
   "cell_type": "code",
   "execution_count": null,
   "metadata": {},
   "outputs": [],
   "source": [
    "dates = pd.date_range('1950-01', '2013-03', freq='M'); dates"
   ]
  },
  {
   "cell_type": "code",
   "execution_count": null,
   "metadata": {
    "collapsed": true
   },
   "outputs": [],
   "source": [
    "ts = pd.DataFrame(np.random.randn(758, 4), columns=list('ABCD'), index=dates)"
   ]
  },
  {
   "cell_type": "code",
   "execution_count": null,
   "metadata": {
    "collapsed": true
   },
   "outputs": [],
   "source": [
    "#sub setting time series\n",
    "# Between June 1951 to Jan 1952\n",
    "ts[pd.datetime(1951, 6, 1):pd.datetime(1952, 1, 1)]"
   ]
  },
  {
   "cell_type": "code",
   "execution_count": null,
   "metadata": {
    "collapsed": true
   },
   "outputs": [],
   "source": [
    "ts['year'] = ts.index.year"
   ]
  },
  {
   "cell_type": "code",
   "execution_count": null,
   "metadata": {
    "collapsed": true
   },
   "outputs": [],
   "source": [
    "ts.head()"
   ]
  },
  {
   "cell_type": "code",
   "execution_count": null,
   "metadata": {
    "collapsed": true
   },
   "outputs": [],
   "source": [
    "# Aggregating data by year\n",
    "print ts.groupby('year').sum().tail(5)"
   ]
  },
  {
   "cell_type": "raw",
   "metadata": {},
   "source": [
    "Time/Date Components\n",
    "\n",
    "There are several time/date properties that one can access from Timestamp or a collection of timestamps like a DateTimeIndex.\n",
    "\n",
    "Property\t            Description\n",
    "--------                ------------\n",
    "year\t             \tThe year of the datetime\n",
    "month\t             \tThe month of the datetime\n",
    "day\t             \t    The days of the datetime\n",
    "hour\t             \tThe hour of the datetime\n",
    "minute\t             \tThe minutes of the datetime\n",
    "second\t             \tThe seconds of the datetime\n",
    "microsecond\t            The microseconds of the datetime\n",
    "nanosecond\t\t        The nanoseconds of the datetime\n",
    "date\t\t            Returns datetime.date (does not contain timezone information)\n",
    "time\t\t            Returns datetime.time (does not contain timezone information)\n",
    "dayofyear\t            The ordinal day of year\n",
    "weekofyear\t\t        The week ordinal of the year\n",
    "week\t\t            The week ordinal of the year\n",
    "dayofweek\t            The numer of the day of the week with Monday=0, Sunday=6\n",
    "weekday\t             \tThe number of the day of the week with Monday=0, Sunday=6\n",
    "weekday_name\t\t    The name of the day in a week (ex: Friday)\n",
    "quarter\t                Quarter of the date: Jan=Mar = 1, Apr-Jun = 2, etc.\n",
    "days_in_month\t\t    The number of days in the month of the datetime\n",
    "is_month_start\t\t    Logical indicating if first day of month (defined by frequency)\n",
    "is_month_end\t\t    Logical indicating if last day of month (defined by frequency)\n",
    "is_quarter_start\t    Logical indicating if first day of quarter (defined by frequency)\n",
    "is_quarter_end\t\t    Logical indicating if last day of quarter (defined by frequency)\n",
    "is_year_start\t\t    Logical indicating if first day of year (defined by frequency)\n",
    "is_year_end\t\t        Logical indicating if last day of year (defined by frequency)\n",
    "is_leap_year\t\t    Logical indicating if the date belongs to a leap year\n",
    "\n",
    "Furthermore, if you have a Series with datetimelike values, then you can access these properties via the .dt accessor, see the docs"
   ]
  },
  {
   "cell_type": "markdown",
   "metadata": {},
   "source": [
    "## Random Sampling\n",
    "\n",
    "We can use the `np.random.permutation` function (passing nrows as an argument) for randomly reordering a Series.\n",
    "\n",
    "To select a random sample, create an index and subset the DF using it.\n",
    "* **Without replacement**: slice off the first _k_ rows; where _k_ is the size of the subset you desire\n",
    "* **With replacement**: use `np.random.randint(start, stop, size=)` to draw integers at random"
   ]
  },
  {
   "cell_type": "markdown",
   "metadata": {},
   "source": [
    "## Sampling using .sample() method"
   ]
  },
  {
   "cell_type": "code",
   "execution_count": null,
   "metadata": {
    "collapsed": true
   },
   "outputs": [],
   "source": [
    "# WIthout replacement\n",
    "cust_demo.sample(n=700, replace=False).duplicated().value_counts()"
   ]
  },
  {
   "cell_type": "code",
   "execution_count": null,
   "metadata": {
    "collapsed": true
   },
   "outputs": [],
   "source": [
    "# WIth replacement\n",
    "df.sample(frac=0.7, replace=True).duplicated().value_counts()"
   ]
  },
  {
   "cell_type": "markdown",
   "metadata": {},
   "source": [
    "## Data visualization in Python (Plotting & Visualization)\n",
    "\n",
    "### Python DataViz Libraries\n",
    "\n",
    "- [Matplotlib](http://matplotlib.org/gallery.html)\n",
    "- [Seaborn](https://stanford.edu/~mwaskom/software/seaborn/index.html)\n",
    "- [GGPLOT](http://ggplot.yhathq.com/)\n",
    "- [Altair](https://github.com/ellisonbg/altair)\n",
    "- [Plotly](https://plot.ly/python/)"
   ]
  },
  {
   "cell_type": "markdown",
   "metadata": {},
   "source": [
    "### 1. matplotlib basics\n",
    "\n",
    "\n",
    "* Run **`import matplotlib.pyplot as plt`**\n",
    "* Create a figure object using **`plt.figure`**\n",
    "* Add subplots to it using **`add_subplot`**\n",
    "    * This creates **AxesSubplot** objects on which you can place plots\n",
    "* Use a plotting command like **`plt.plot`** and matplotlib will place your plot on this canvas\n",
    "\n",
    "\n",
    "### 1.1 Figure, Subplots, AxisSubplot objects and your plot\n",
    "\n",
    "#### Create a 2x2 figure and add three plots to it\n"
   ]
  },
  {
   "cell_type": "code",
   "execution_count": 4,
   "metadata": {
    "collapsed": true
   },
   "outputs": [],
   "source": [
    "## add necessary libraries\n",
    "import matplotlib.pyplot as plt\n",
    "#%pylab inline\n",
    "import matplotlib\n",
    "\n",
    "%matplotlib inline\n",
    "# plt.show() is no longer required\n",
    "#Populating the interactive namespace from numpy and matplotlib\n",
    "import numpy as np"
   ]
  },
  {
   "cell_type": "code",
   "execution_count": null,
   "metadata": {
    "collapsed": true
   },
   "outputs": [],
   "source": []
  },
  {
   "cell_type": "code",
   "execution_count": 9,
   "metadata": {},
   "outputs": [
    {
     "name": "stdout",
     "output_type": "stream",
     "text": [
      "<class 'matplotlib.figure.Figure'>\n"
     ]
    },
    {
     "data": {
      "text/plain": [
       "<matplotlib.figure.Figure at 0xb0e47b8>"
      ]
     },
     "metadata": {},
     "output_type": "display_data"
    }
   ],
   "source": [
    "# Create an empty figure\n",
    "fig = plt.figure(figsize=(12, 8))\n",
    "print type(fig)"
   ]
  },
  {
   "cell_type": "code",
   "execution_count": 13,
   "metadata": {
    "collapsed": true
   },
   "outputs": [],
   "source": [
    "plt.figure?"
   ]
  },
  {
   "cell_type": "code",
   "execution_count": 10,
   "metadata": {
    "collapsed": true
   },
   "outputs": [],
   "source": [
    "# Run plt.figure? to check out figure options like size, dpi, color\n",
    "\n",
    "axsp1 = fig.add_subplot(2, 2, 1)\n",
    "# There will be 2 x 2 subplots on the figure and ax1 will put your figure on subplot 1\n",
    "\n",
    "axsp2 = fig.add_subplot(2, 2, 2)\n",
    "axsp3 = fig.add_subplot(2, 2, 3)\n",
    "axsp4 = fig.add_subplot(2, 2, 4)\n",
    "# Now, we have three AxesSubplot objects on our figure. "
   ]
  },
  {
   "cell_type": "code",
   "execution_count": 11,
   "metadata": {},
   "outputs": [
    {
     "data": {
      "text/plain": [
       "<matplotlib.collections.PathCollection at 0xb3299b0>"
      ]
     },
     "execution_count": 11,
     "metadata": {},
     "output_type": "execute_result"
    }
   ],
   "source": [
    "# First plot: timeseries\n",
    "axsp1.plot(np.random.randn(40).cumsum(), 'r--')\n",
    "\n",
    "# Second plot: histogram\n",
    "axsp2.hist(np.random.randn(400), bins=10, color='b', alpha=0.3)\n",
    "\n",
    "# Third plot: scatterplot\n",
    "axsp3.scatter(np.arange(30), 4 * np.arange(30) + 6 * np.random.randn(30))\n",
    "# Note: if you make changes to the AxisSubplot object, you'll have to re-run the commands above"
   ]
  },
  {
   "cell_type": "code",
   "execution_count": 12,
   "metadata": {},
   "outputs": [
    {
     "data": {
      "image/png": "[encoded data removed]",
      "text/plain": [
       "<matplotlib.figure.Figure at 0xb0e47b8>"
      ]
     },
     "execution_count": 12,
     "metadata": {},
     "output_type": "execute_result"
    }
   ],
   "source": [
    "fig"
   ]
  },
  {
   "cell_type": "markdown",
   "metadata": {},
   "source": [
    "### Shorthand to achieve the same effect\n",
    "\n",
    "* Create a grid figure using **`plt.subplots`**\n",
    "    * Syntax: `fig, axes = plt.subplots(rows, cols, figsize = (width, height), sharex=False, sharey=False)`\n",
    "    \n",
    "* It returns an array of **AxisSubplot** objects \n",
    "* Reference them using basic indexing (Saves typing!)\n",
    "\n",
    "`plt.subplots` has some interesting options such as `sharex/sharey` which are useful when comparing data on the same scale\n",
    "\n",
    "Run `plt.subplots?` for more."
   ]
  },
  {
   "cell_type": "code",
   "execution_count": null,
   "metadata": {
    "collapsed": true
   },
   "outputs": [],
   "source": [
    "fig, axes = plt.subplots(2, 2, figsize = (12, 6), sharex=True)\n",
    "# returns an array"
   ]
  },
  {
   "cell_type": "code",
   "execution_count": null,
   "metadata": {
    "collapsed": true
   },
   "outputs": [],
   "source": [
    "axes[0, 0].plot(np.random.randn(50).cumsum(), 'r--')\n",
    "axes[1, 1].scatter(np.arange(30), np.log10(np.arange(30)))\n",
    "fig"
   ]
  },
  {
   "cell_type": "markdown",
   "metadata": {},
   "source": [
    ">NOTE: subplots.adjust is a Figure method that can be used to adjust figure parameters like spacing between subplots"
   ]
  },
  {
   "cell_type": "code",
   "execution_count": null,
   "metadata": {
    "collapsed": true
   },
   "outputs": [],
   "source": [
    "fig1, axes1 = plt.subplots(2, 2, figsize=(12, 4), sharex=True, sharey=True)\n",
    "\n",
    "for i in range(2):\n",
    "    for j in range(2):\n",
    "        axes1[i, j].hist(np.random.randn(500), bins=15, alpha=0.4, color='c')\n",
    "\n",
    "plt.subplots_adjust(wspace=0.1, hspace=0.1)\n",
    "# comment out the plt.subplots line and re-run. See what happens"
   ]
  },
  {
   "cell_type": "markdown",
   "metadata": {},
   "source": [
    "### Plot Formatting\n",
    "\n",
    "#### a. Color, Linestyle and Markers\n",
    "\n",
    "The `plot` function takes `x, y` and optionally an abbreviation to specify `marker, color, and style`\n",
    "\n",
    "Example: Abbreviations work as `color-marker-style`, so `'g--'` means color = 'green' and linestyle = '--'"
   ]
  },
  {
   "cell_type": "code",
   "execution_count": null,
   "metadata": {
    "collapsed": true
   },
   "outputs": [],
   "source": [
    "plt.figure(figsize=(15, 5));\n",
    "plt.plot(np.sin(np.arange(50)), 'c-*');"
   ]
  },
  {
   "cell_type": "markdown",
   "metadata": {},
   "source": [
    "### b. Ticks, Labels, Legends"
   ]
  },
  {
   "cell_type": "code",
   "execution_count": null,
   "metadata": {
    "collapsed": true
   },
   "outputs": [],
   "source": [
    "f = plt.figure(figsize=(12, 5))\n",
    "ax1 = f.add_subplot(1, 1, 1)\n",
    "ax1.plot(4 + 2 * np.sin(np.arange(50)), 'g--', label='4 + 6*sin(x)')"
   ]
  },
  {
   "cell_type": "code",
   "execution_count": null,
   "metadata": {
    "collapsed": true
   },
   "outputs": [],
   "source": [
    "# Ticks\n",
    "ax1.set_xticks([5, 15, 25, 35, 45])\n",
    "\n",
    "# Chart title\n",
    "ax1.set_title('This is a placeholder Plot Title')\n",
    "\n",
    "# Axis Label\n",
    "ax1.set_xlabel('Values of X')\n",
    "ax1.set_ylabel('Values of Y')\n",
    "\n",
    "f"
   ]
  },
  {
   "cell_type": "code",
   "execution_count": null,
   "metadata": {
    "collapsed": true
   },
   "outputs": [],
   "source": [
    "# Saving plots to file\n",
    "\n",
    "# Add more plots\n",
    "ax1.plot(np.log(np.arange(50)), 'r', label='log(x)')\n",
    "ax1.plot(np.sqrt(np.arange(50)), 'b*--', label='sqrt(x)')\n",
    "# Add a legend\n",
    "ax1.legend(loc='best')\n",
    "\n",
    "plt.savefig('threePlots.png')"
   ]
  },
  {
   "cell_type": "markdown",
   "metadata": {},
   "source": [
    "# Plotting in `pandas`\n",
    "\n",
    "* There are high level plotting methods that take advantage of the fact that data are organized in DataFrames (have index, colnames)\n",
    "* Both `Series` and `DataFrame` objects have a `pandas.plot` method for making different plot types\n",
    "* Other parameters that can be passed to `pandas.plot` are:\n",
    "    * `xticks, xlim, yticks, ylim`\n",
    "    * `label`\n",
    "    * `style` (as an abbreviation,) and `alpha`\n",
    "    * `grid=True`\n",
    "    * `rot` (rotate tick labels by and angle 0-360)\n",
    "    * `use_index` (use index for tick labels)\n",
    "\n",
    "### One variable (plotting a Series)"
   ]
  },
  {
   "cell_type": "raw",
   "metadata": {},
   "source": [
    "s = pd.Series(np.random.randn(100)).cumsum()\n",
    "s.plot(figsize=(13, 4));"
   ]
  },
  {
   "cell_type": "code",
   "execution_count": null,
   "metadata": {
    "collapsed": true
   },
   "outputs": [],
   "source": [
    "# Chart with options\n",
    "s.plot(kind='line',\n",
    "       grid=True, \n",
    "       legend=True,\n",
    "       label='timeseries',\n",
    "       title='Random Normal Numbers - Cumulative Series',\n",
    "       xlim=(0, 100), \n",
    "       ylim=(-10, 12),\n",
    "       xticks=np.arange(0, 100, 10), \n",
    "       yticks=np.arange(-10, 12, 2),\n",
    "       style='go-', \n",
    "       alpha=0.2,\n",
    "       figsize=(15, 4)\n",
    "      )"
   ]
  },
  {
   "cell_type": "code",
   "execution_count": null,
   "metadata": {
    "collapsed": true
   },
   "outputs": [],
   "source": [
    "# One Variable as a Histogram\n",
    "pd.Series(np.random.randn(10000)).plot(kind='hist', \n",
    "                                    bins=50, \n",
    "                                    color='k', \n",
    "                                    alpha=0.3, \n",
    "                                    title='A histogram');"
   ]
  },
  {
   "cell_type": "code",
   "execution_count": null,
   "metadata": {
    "collapsed": true
   },
   "outputs": [],
   "source": [
    "# One Variable as a Histogram\n",
    "pd.Series(np.random.randn(10000)).plot.hist(bins=50, \n",
    "                                         color='r', \n",
    "                                         alpha=0.3, \n",
    "                                         title='Another histogram');"
   ]
  },
  {
   "cell_type": "code",
   "execution_count": null,
   "metadata": {
    "collapsed": true
   },
   "outputs": [],
   "source": [
    "(pd.Series(pd.cut(np.random.randint(1, 100, 1000), 5, labels=list('abcde')))\n",
    " .value_counts()\n",
    " .plot.bar(title='A Bar Chart',\n",
    "          ylim=(0, 400),\n",
    "          alpha=0.6))"
   ]
  },
  {
   "cell_type": "code",
   "execution_count": null,
   "metadata": {
    "collapsed": true
   },
   "outputs": [],
   "source": [
    "s2 = pd.Series(np.random.beta(2, 5, 1000))\n",
    "s3 = pd.Series(np.random.beta(0.2, 0.5, 1000))\n",
    "s2.plot.box()"
   ]
  },
  {
   "cell_type": "code",
   "execution_count": null,
   "metadata": {
    "collapsed": true
   },
   "outputs": [],
   "source": [
    "s3.hist(bins=30)"
   ]
  },
  {
   "cell_type": "markdown",
   "metadata": {},
   "source": [
    "###  Multiple Variables (plotting a DataFrame)\n",
    "\n",
    "We can choose between plotting\n",
    "* All Variables on one plot\n",
    "* Each variable on a separate plot\n",
    "\n",
    "In addition to the parameters above, `DataFrame.plot` also takes\n",
    "* `subplots=False` (default is to plot all on the same figure)\n",
    "* `sharex=False, sharey=False`\n",
    "* `figsize`\n",
    "* `title, legend`\n",
    "* `sort_columns`\n",
    "\n",
    "### a. Variables on the same plot"
   ]
  },
  {
   "cell_type": "code",
   "execution_count": 14,
   "metadata": {},
   "outputs": [],
   "source": [
    "import pandas as pd"
   ]
  },
  {
   "cell_type": "code",
   "execution_count": 15,
   "metadata": {},
   "outputs": [
    {
     "name": "stdout",
     "output_type": "stream",
     "text": [
      "(5000, 5)\n"
     ]
    },
    {
     "data": {
      "text/html": [
       "<div>\n",
       "<style scoped>\n",
       "    .dataframe tbody tr th:only-of-type {\n",
       "        vertical-align: middle;\n",
       "    }\n",
       "\n",
       "    .dataframe tbody tr th {\n",
       "        vertical-align: top;\n",
       "    }\n",
       "\n",
       "    .dataframe thead th {\n",
       "        text-align: right;\n",
       "    }\n",
       "</style>\n",
       "<table border=\"1\" class=\"dataframe\">\n",
       "  <thead>\n",
       "    <tr style=\"text-align: right;\">\n",
       "      <th></th>\n",
       "      <th>P</th>\n",
       "      <th>Q</th>\n",
       "      <th>R</th>\n",
       "      <th>S</th>\n",
       "      <th>T</th>\n",
       "    </tr>\n",
       "  </thead>\n",
       "  <tbody>\n",
       "    <tr>\n",
       "      <th>0</th>\n",
       "      <td>1.851542</td>\n",
       "      <td>-0.663651</td>\n",
       "      <td>-0.649897</td>\n",
       "      <td>-1.116305</td>\n",
       "      <td>-0.092435</td>\n",
       "    </tr>\n",
       "    <tr>\n",
       "      <th>1</th>\n",
       "      <td>0.918017</td>\n",
       "      <td>2.728773</td>\n",
       "      <td>0.159965</td>\n",
       "      <td>1.078638</td>\n",
       "      <td>-0.651549</td>\n",
       "    </tr>\n",
       "    <tr>\n",
       "      <th>2</th>\n",
       "      <td>-0.949555</td>\n",
       "      <td>0.231101</td>\n",
       "      <td>-0.139298</td>\n",
       "      <td>-1.253441</td>\n",
       "      <td>-0.030462</td>\n",
       "    </tr>\n",
       "    <tr>\n",
       "      <th>3</th>\n",
       "      <td>-0.988698</td>\n",
       "      <td>1.254630</td>\n",
       "      <td>-0.715438</td>\n",
       "      <td>0.180899</td>\n",
       "      <td>-1.146491</td>\n",
       "    </tr>\n",
       "    <tr>\n",
       "      <th>4</th>\n",
       "      <td>2.264080</td>\n",
       "      <td>1.374660</td>\n",
       "      <td>0.098190</td>\n",
       "      <td>0.840588</td>\n",
       "      <td>1.653798</td>\n",
       "    </tr>\n",
       "  </tbody>\n",
       "</table>\n",
       "</div>"
      ],
      "text/plain": [
       "          P         Q         R         S         T\n",
       "0  1.851542 -0.663651 -0.649897 -1.116305 -0.092435\n",
       "1  0.918017  2.728773  0.159965  1.078638 -0.651549\n",
       "2 -0.949555  0.231101 -0.139298 -1.253441 -0.030462\n",
       "3 -0.988698  1.254630 -0.715438  0.180899 -1.146491\n",
       "4  2.264080  1.374660  0.098190  0.840588  1.653798"
      ]
     },
     "execution_count": 15,
     "metadata": {},
     "output_type": "execute_result"
    }
   ],
   "source": [
    "df = pd.DataFrame(np.random.randn(5000, 5), columns=list('PQRST')); \n",
    "print df.shape\n",
    "df[:5]"
   ]
  },
  {
   "cell_type": "code",
   "execution_count": 18,
   "metadata": {},
   "outputs": [
    {
     "data": {
      "text/plain": [
       "<matplotlib.axes._subplots.AxesSubplot at 0xcaa13c8>"
      ]
     },
     "execution_count": 18,
     "metadata": {},
     "output_type": "execute_result"
    },
    {
     "data": {
      "image/png": "[encoded data removed]",
      "text/plain": [
       "<matplotlib.figure.Figure at 0xb4d7860>"
      ]
     },
     "metadata": {},
     "output_type": "display_data"
    }
   ],
   "source": [
    "# Default plot\n",
    "df.cumsum().plot(figsize=(14, 6))"
   ]
  },
  {
   "cell_type": "code",
   "execution_count": null,
   "metadata": {
    "collapsed": true
   },
   "outputs": [],
   "source": [
    "df2 = stores"
   ]
  },
  {
   "cell_type": "code",
   "execution_count": null,
   "metadata": {
    "collapsed": true
   },
   "outputs": [],
   "source": [
    "#b. Each variable on its own plot\n",
    "df.cumsum().plot(figsize=(12, 16), subplots=True)"
   ]
  },
  {
   "cell_type": "code",
   "execution_count": null,
   "metadata": {
    "collapsed": true
   },
   "outputs": [],
   "source": [
    "# Let's make some radical changes\n",
    "df.cumsum().plot(kind='line',\n",
    "                 figsize=(12, 16),\n",
    "                 title='Each variable is now on its own plot, but the axes are shared',\n",
    "                 subplots=True, \n",
    "                 sharex=True,\n",
    "                 sharey=True\n",
    "                );"
   ]
  },
  {
   "cell_type": "markdown",
   "metadata": {},
   "source": [
    "### Barplots\n",
    "\n",
    "This is as simple as passing `kind=bar` or `kind=barh` (for horiz bars) to `pd.plot`\n",
    "\n",
    "#### One Variable (simple barplot)"
   ]
  },
  {
   "cell_type": "code",
   "execution_count": null,
   "metadata": {
    "collapsed": true
   },
   "outputs": [],
   "source": [
    "fig, axes = plt.subplots(3, 1, figsize=(8, 8))\n",
    "s = pd.Series(np.random.rand(10), index=list('abcdefghij'))\n",
    "\n",
    "s.plot(kind='bar', \n",
    "       ax=axes[1], \n",
    "       color='k', \n",
    "       alpha=0.6)\n",
    "\n",
    "s.plot(kind='barh', \n",
    "       ax=axes[0], \n",
    "       color='k')\n",
    "\n",
    "s.plot(ax=axes[2], color='g');"
   ]
  },
  {
   "cell_type": "code",
   "execution_count": null,
   "metadata": {
    "collapsed": true
   },
   "outputs": [],
   "source": [
    "df = pd.DataFrame(np.random.rand(5,5), index=list('ABCDE'), columns=list('PQRST'))\n",
    "print df"
   ]
  },
  {
   "cell_type": "code",
   "execution_count": null,
   "metadata": {
    "collapsed": true
   },
   "outputs": [],
   "source": [
    "df.plot(kind='bar', stacked=True, figsize=(12, 5))\n",
    "plt.savefig('stackedBarcharts.jpeg')"
   ]
  },
  {
   "cell_type": "markdown",
   "metadata": {},
   "source": [
    ">Note: Functions value_counts() and pd.crosstab() prove helpful to prepare data for stacked bar charts"
   ]
  },
  {
   "cell_type": "markdown",
   "metadata": {},
   "source": [
    "### d. Histograms & Density Plots\n",
    "\n",
    "* _Histograms_: Pass `kind='hist'` to `pd.plot()` or use the method `pd.hist()`\n",
    "* _Density Plots_: Use `kind='kde'`"
   ]
  },
  {
   "cell_type": "code",
   "execution_count": null,
   "metadata": {
    "collapsed": true
   },
   "outputs": [],
   "source": [
    "#Using the .hist() method\n",
    "pd.Series(np.random.randn(1000)).hist(bins=20, alpha=0.4);"
   ]
  },
  {
   "cell_type": "code",
   "execution_count": null,
   "metadata": {
    "collapsed": true
   },
   "outputs": [],
   "source": [
    "#Using the .plot() method\n",
    "pd.Series(np.random.randn(1000)).plot(kind='hist', bins=20, color='Y');"
   ]
  },
  {
   "cell_type": "code",
   "execution_count": null,
   "metadata": {
    "collapsed": true
   },
   "outputs": [],
   "source": [
    "s = pd.Series(np.random.randn(10000))\n",
    "s.plot(kind='kde', color='b') "
   ]
  },
  {
   "cell_type": "code",
   "execution_count": null,
   "metadata": {
    "collapsed": true
   },
   "outputs": [],
   "source": [
    "# A bimodal distribution \n",
    "s1 = np.random.normal(0, 1, 2000)\n",
    "s2 = np.random.normal(9, 2, 2000)\n",
    "\n",
    "v = pd.Series(np.concatenate([s1, s2]))\n",
    "\n",
    "v.hist(bins=100, alpha=0.4, color='B', normed=True)\n",
    "v.plot(kind='kde', style='k--')"
   ]
  },
  {
   "cell_type": "markdown",
   "metadata": {},
   "source": [
    "## Scatter Plots\n",
    "\n",
    "- `.plot(kind='scatter')`\n",
    "- `.scatter()`"
   ]
  },
  {
   "cell_type": "code",
   "execution_count": null,
   "metadata": {
    "collapsed": true
   },
   "outputs": [],
   "source": [
    "df = pd.DataFrame({'A': np.arange(50),\n",
    "               'B': np.arange(50) + np.random.randn(50),\n",
    "               'C': np.sqrt(np.arange(50)) + np.sin(np.arange(50)) })\n",
    "print df[:10]"
   ]
  },
  {
   "cell_type": "code",
   "execution_count": null,
   "metadata": {
    "collapsed": true
   },
   "outputs": [],
   "source": [
    "# Two variable Scatterplot\n",
    "plt.scatter(df['B'], df['C'])\n",
    "plt.title('Scatterplot of X and Y')"
   ]
  },
  {
   "cell_type": "code",
   "execution_count": null,
   "metadata": {
    "collapsed": true
   },
   "outputs": [],
   "source": [
    "df.plot(kind='scatter', x='B', y='C', title = 'Scatterplot')"
   ]
  },
  {
   "cell_type": "code",
   "execution_count": null,
   "metadata": {
    "collapsed": true
   },
   "outputs": [],
   "source": [
    "df.plot.scatter(x='B', y='C', title = 'Scatterplot', color='r')"
   ]
  },
  {
   "cell_type": "markdown",
   "metadata": {},
   "source": [
    "## Scatterplot Matrix\n",
    "\n",
    "A MOST important visual that allows you to see, for numeric variables:\n",
    "\n",
    "- The distribution of each (histograms or kde along the diagonal)\n",
    "- The relationships between variables (as pairwise scatterplots)"
   ]
  },
  {
   "cell_type": "code",
   "execution_count": null,
   "metadata": {
    "collapsed": true
   },
   "outputs": [],
   "source": [
    "pd.scatter_matrix(df, color='k', alpha=0.5, figsize=(12, 6))\n",
    "tight_layout()"
   ]
  },
  {
   "cell_type": "code",
   "execution_count": null,
   "metadata": {
    "collapsed": true
   },
   "outputs": [],
   "source": [
    "pd.scatter_matrix(df, diagonal='kde', color='k', alpha=0.5, figsize=(12, 6))\n",
    "tight_layout()"
   ]
  },
  {
   "cell_type": "code",
   "execution_count": null,
   "metadata": {
    "collapsed": true
   },
   "outputs": [],
   "source": [
    "pd.scatter_matrix(df);"
   ]
  },
  {
   "cell_type": "code",
   "execution_count": null,
   "metadata": {
    "collapsed": true
   },
   "outputs": [],
   "source": [
    "#Time Series Plots\n",
    "dates = pd.date_range('1950-01', '2013-03', freq='M')\n",
    "ts =pd.DataFrame(np.random.randn(758, 4), columns=list('ABCD'), index=dates)\n",
    "ts['year'] = ts.index.year\n",
    "# Visualize Trends over time\n",
    "ts.drop('year', axis=1).cumsum().plot(figsize=(10, 6))"
   ]
  },
  {
   "cell_type": "code",
   "execution_count": null,
   "metadata": {
    "collapsed": true
   },
   "outputs": [],
   "source": [
    "cust_demo.age.hist(bins=50, color='R')"
   ]
  },
  {
   "cell_type": "code",
   "execution_count": null,
   "metadata": {
    "collapsed": true
   },
   "outputs": [],
   "source": [
    "cust_demo.age.plot(kind='hist', bins=50, color='R');"
   ]
  },
  {
   "cell_type": "code",
   "execution_count": null,
   "metadata": {
    "collapsed": true
   },
   "outputs": [],
   "source": [
    "cust_demo.age.plot.box()"
   ]
  },
  {
   "cell_type": "code",
   "execution_count": null,
   "metadata": {
    "collapsed": true
   },
   "outputs": [],
   "source": [
    "cust_demo.Martial_Status.value_counts().plot(kind='bar', color='R', alpha=0.5)"
   ]
  },
  {
   "cell_type": "code",
   "execution_count": null,
   "metadata": {
    "collapsed": true
   },
   "outputs": [],
   "source": [
    "cust_demo.Location.value_counts().plot(kind='barh', color='R', alpha=0.5)"
   ]
  },
  {
   "cell_type": "code",
   "execution_count": null,
   "metadata": {
    "collapsed": true
   },
   "outputs": [],
   "source": [
    "pd.crosstab(cust_demo.Martial_Status,cust_demo.Own_House).plot(kind='bar', color=['R','G'],alpha=0.5, stacked=True)"
   ]
  },
  {
   "cell_type": "code",
   "execution_count": null,
   "metadata": {
    "collapsed": true
   },
   "outputs": [],
   "source": [
    "cust_data.plot(kind='scatter', x='RevolvingUtilization', y='MonthlyIncome', title = 'Scatterplot', color='R')"
   ]
  },
  {
   "cell_type": "code",
   "execution_count": null,
   "metadata": {
    "collapsed": true
   },
   "outputs": [],
   "source": [
    "#pd.scatter_matrix(cust_data._get_numeric_data())\n",
    "#pd.scatter_matrix(cust_demo.select_dtypes(include = ['number']))\n",
    "pd.scatter_matrix(cust_demo.select_dtypes(include = ['number']), color='k', alpha=0.5, figsize=(12, 6))\n",
    "tight_layout()"
   ]
  },
  {
   "cell_type": "code",
   "execution_count": null,
   "metadata": {
    "collapsed": true
   },
   "outputs": [],
   "source": []
  }
 ],
 "metadata": {
  "kernelspec": {
   "display_name": "Python 3",
   "language": "python",
   "name": "python3"
  },
  "language_info": {
   "codemirror_mode": {
    "name": "ipython",
    "version": 3
   },
   "file_extension": ".py",
   "mimetype": "text/x-python",
   "name": "python",
   "nbconvert_exporter": "python",
   "pygments_lexer": "ipython3",
   "version": "3.8.1"
  }
 },
 "nbformat": 4,
 "nbformat_minor": 1
}
