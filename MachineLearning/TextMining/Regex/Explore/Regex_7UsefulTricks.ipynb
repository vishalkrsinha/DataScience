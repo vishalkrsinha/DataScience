{
 "cells": [
  {
   "cell_type": "markdown",
   "id": "44ce1437",
   "metadata": {},
   "source": [
    "Source:: https://towardsdatascience.com/7-useful-tricks-for-python-regex-you-should-know-ec20381e22f2?utm_source=pocket_mylist"
   ]
  },
  {
   "cell_type": "code",
   "execution_count": null,
   "id": "1bb7613b",
   "metadata": {},
   "outputs": [],
   "source": [
    "import re"
   ]
  },
  {
   "cell_type": "markdown",
   "id": "9990cb94",
   "metadata": {},
   "source": [
    "# 1. Always use “r-string”"
   ]
  },
  {
   "cell_type": "code",
   "execution_count": 3,
   "id": "d61d3881",
   "metadata": {},
   "outputs": [
    {
     "name": "stdout",
     "output_type": "stream",
     "text": [
      "I'm Chris\n"
     ]
    }
   ],
   "source": [
    "s = 'I\\'m Chris'\n",
    "print(s)"
   ]
  },
  {
   "cell_type": "code",
   "execution_count": 4,
   "id": "1f3752b8",
   "metadata": {},
   "outputs": [
    {
     "name": "stdout",
     "output_type": "stream",
     "text": [
      "I\\'m Chris\n"
     ]
    }
   ],
   "source": [
    "s = r'I\\'m Chris'\n",
    "print(s)"
   ]
  },
  {
   "cell_type": "code",
   "execution_count": 7,
   "id": "a2791674",
   "metadata": {},
   "outputs": [
    {
     "name": "stdout",
     "output_type": "stream",
     "text": [
      "Without raw string...\n",
      "a\n",
      "b\n",
      "\n",
      "With raw string...\n",
      "a\\nb\n"
     ]
    }
   ],
   "source": [
    "print('Without raw string...')\n",
    "print('a\\nb')\n",
    "\n",
    "print('\\nWith raw string...')\n",
    "print(r'a\\nb')"
   ]
  },
  {
   "cell_type": "code",
   "execution_count": 18,
   "id": "80ed8e19",
   "metadata": {},
   "outputs": [
    {
     "name": "stdout",
     "output_type": "stream",
     "text": [
      "Without raw string...\n",
      "None\n",
      "\n",
      "With raw string...\n",
      "<re.Match object; span=(0, 7), match='abc abc'>\n",
      "\n",
      "With raw string...\n",
      "<re.Match object; span=(0, 4), match='abc '>\n",
      "\n",
      "With raw string...\n",
      "<re.Match object; span=(0, 7), match='abc abc'>\n"
     ]
    }
   ],
   "source": [
    "#Searching for a pattern that several letters repeated after a few whitespaces...\n",
    "\n",
    "print('Without raw string...')\n",
    "print(re.search('(\\w+)\\s+\\1','abc abc'))\n",
    "\n",
    "print('\\nWith raw string...')\n",
    "print(re.search(r'(\\w+)\\s+\\1','abc abc'))\n",
    "\n",
    "print('\\nWith raw string...')\n",
    "print(re.search(r'(\\w+)\\s+','abc abc abc'))\n",
    "\n",
    "print('\\nWith raw string...')\n",
    "print(re.search(r'(\\w+)\\s+\\1','abc abc abc'))"
   ]
  },
  {
   "cell_type": "code",
   "execution_count": null,
   "id": "b049a6b2",
   "metadata": {},
   "outputs": [],
   "source": []
  },
  {
   "cell_type": "markdown",
   "id": "d5632309",
   "metadata": {},
   "source": [
    "# 2. Use re.IGNORECASE Flag When Necessary"
   ]
  },
  {
   "cell_type": "code",
   "execution_count": 21,
   "id": "61419a73",
   "metadata": {},
   "outputs": [
    {
     "name": "stdout",
     "output_type": "stream",
     "text": [
      "With both Upper & Lower cases...\n",
      "<re.Match object; span=(0, 7), match='AbCdEfG'>\n",
      "\n",
      "Without Upper case...\n",
      "<re.Match object; span=(1, 2), match='b'>\n",
      "\n",
      "With Ignore case...\n",
      "<re.Match object; span=(0, 7), match='AbCdEfG'>\n"
     ]
    }
   ],
   "source": [
    "print('With both Upper & Lower cases...')\n",
    "print(re.search(r'[a-zA-Z]+', 'AbCdEfG'))\n",
    "\n",
    "print('\\nWithout Upper case...')\n",
    "print(re.search(r'[a-z]+', 'AbCdEfG'))\n",
    "\n",
    "print('\\nWith Ignore case...')\n",
    "print(re.search(r'[a-z]+', 'AbCdEfG',re.I))"
   ]
  },
  {
   "cell_type": "markdown",
   "id": "f864a932",
   "metadata": {},
   "source": [
    "# 3. Use re.VERBOSE Flag to Improve the Readability"
   ]
  },
  {
   "cell_type": "code",
   "execution_count": 25,
   "id": "36b8ef7d",
   "metadata": {},
   "outputs": [
    {
     "name": "stdout",
     "output_type": "stream",
     "text": [
      "<re.Match object; span=(0, 9), match='abc   abc'>\n",
      "<re.Match object; span=(0, 9), match='abc   abc'>\n"
     ]
    }
   ],
   "source": [
    "#re.VERBOSE is a must to write in such details for future developers to understand it better...\n",
    "print(re.search(r'''\n",
    "    (\\w+)   # Group 1: Match one or more letters, numbers or underscore\n",
    "    \\s+     # Match one or more whitespaces\n",
    "    \\1      # Match the Group 1 whatever it is\n",
    "''', 'abc   abc', re.VERBOSE))\n",
    "\n",
    "print(re.search(r'''\n",
    "    (\\w+)   # Group 1: Match one or more letters, numbers or underscore\n",
    "    \\s+     # Match one or more whitespaces\n",
    "    \\1      # Match the Group 1 whatever it is\n",
    "''', 'abc   abc', re.X))"
   ]
  },
  {
   "cell_type": "code",
   "execution_count": null,
   "id": "9716abb3",
   "metadata": {},
   "outputs": [],
   "source": []
  },
  {
   "cell_type": "markdown",
   "id": "ab915619",
   "metadata": {},
   "source": [
    "# 4. Customise Substitution Behaviour of re.sub()"
   ]
  },
  {
   "cell_type": "code",
   "execution_count": 29,
   "id": "d5d38533",
   "metadata": {},
   "outputs": [
    {
     "name": "stdout",
     "output_type": "stream",
     "text": [
      "User's mobile number is **********\n",
      "User's mobile number is *\n"
     ]
    }
   ],
   "source": [
    "#re.sub() in Python regex - tries to find a pattern (pattern) in a string (string) and replace it with the provided \n",
    "##replacement string (repl)\n",
    "\n",
    "print(re.sub(r'\\d','*','User\\'s mobile number is 1234567890')) #This code will hide any mobile numbers in a string.\n",
    "\n",
    "print(re.sub(r'\\d+','*','User\\'s mobile number is 1234567890')) #Small change can alter the complete result"
   ]
  },
  {
   "cell_type": "code",
   "execution_count": 35,
   "id": "dd12c942",
   "metadata": {},
   "outputs": [
    {
     "name": "stdout",
     "output_type": "stream",
     "text": [
      "User's mobile number is *******890\n",
      "User's mobile number is *******890\n"
     ]
    }
   ],
   "source": [
    "#hide the user’s phone number, but to reveal the last 3 digits to make sure that the user has a clue what’s that number. \n",
    "def hide_reverse_3(s):\n",
    "    return '*' * (len(s[0])-3) + s[0][-3:]\n",
    "\n",
    "print(re.sub(r'\\d+',hide_reverse_3,'User\\'s mobile number is 1234567890'))\n",
    "\n",
    "\n",
    "#Using lambda Function achieving the above..\n",
    "print(re.sub(r'\\d+', lambda s: '*' * (len(s[0])-3) + s[0][-3:], 'User\\'s mobile number is 1234567890'))\n",
    "\n"
   ]
  },
  {
   "cell_type": "code",
   "execution_count": null,
   "id": "45ecc804",
   "metadata": {},
   "outputs": [],
   "source": []
  },
  {
   "cell_type": "markdown",
   "id": "d2049531",
   "metadata": {},
   "source": [
    "# 5. Use re.compile() to Enable Reusability"
   ]
  },
  {
   "cell_type": "code",
   "execution_count": 36,
   "id": "c7eb3b7b",
   "metadata": {},
   "outputs": [
    {
     "name": "stdout",
     "output_type": "stream",
     "text": [
      "<re.Match object; span=(0, 3), match='abc'>\n",
      "<re.Match object; span=(0, 3), match='abc'>\n",
      "['abc', 'abc']\n"
     ]
    }
   ],
   "source": [
    "#After defining the pattern with re.compile(), we can use it as many times as needed.\n",
    "pattern = re.compile('abc')\n",
    "\n",
    "print(pattern.search('abc abc'))\n",
    "\n",
    "print(pattern.match('abcdef'))\n",
    "\n",
    "print(pattern.findall('abc def abc'))"
   ]
  },
  {
   "cell_type": "code",
   "execution_count": null,
   "id": "f795f2bc",
   "metadata": {},
   "outputs": [],
   "source": []
  },
  {
   "cell_type": "markdown",
   "id": "6e00b684",
   "metadata": {},
   "source": [
    "# 6. Use Regex to Generate a Dictionary"
   ]
  },
  {
   "cell_type": "code",
   "execution_count": 38,
   "id": "2b8ad730",
   "metadata": {},
   "outputs": [
    {
     "data": {
      "text/plain": [
       "{'first_name': 'Vishal', 'last_name': 'Kumar', 'preference': 'Python'}"
      ]
     },
     "execution_count": 38,
     "metadata": {},
     "output_type": "execute_result"
    }
   ],
   "source": [
    "#We have to follow the pattern (?P<Y>...) where Y is the key name, ... is the defined regex pattern.\n",
    "\n",
    "re.match(\n",
    "    r\"My name is (?P<first_name>\\w+) (?P<last_name>\\w+) and I love (?P<preference>\\w+).\", \n",
    "    \"My name is Vishal Kumar and I love Python.\"\n",
    ").groupdict()"
   ]
  },
  {
   "cell_type": "code",
   "execution_count": null,
   "id": "7830e58a",
   "metadata": {},
   "outputs": [],
   "source": []
  },
  {
   "cell_type": "markdown",
   "id": "c866adc8",
   "metadata": {},
   "source": [
    "# 7. Use Regex Groups to Catch Repeat Patterns"
   ]
  },
  {
   "cell_type": "code",
   "execution_count": 45,
   "id": "2b72f5f3",
   "metadata": {},
   "outputs": [
    {
     "data": {
      "text/plain": [
       "'c'"
      ]
     },
     "execution_count": 45,
     "metadata": {},
     "output_type": "execute_result"
    }
   ],
   "source": [
    "#We use the compiled regex pattern and try to match the string. Then, get the first element of the matched groups. \n",
    "##It will be the first letter that has been found repeated in the string.\n",
    "\n",
    "pair = re.compile(r'''\n",
    "    .*    # Match any number of any characters\n",
    "    (.)   # Match 1 character, whatever it is (except new-line), this will be the \"group 1\"\n",
    "    .*    # Match any number of any characters\n",
    "    \\1    # Match the group 1\n",
    "''', re.VERBOSE)\n",
    "\n",
    "pair.match('abcdefgc').groups()[0]"
   ]
  },
  {
   "cell_type": "code",
   "execution_count": null,
   "id": "1ddbfe0d",
   "metadata": {},
   "outputs": [],
   "source": []
  }
 ],
 "metadata": {
  "kernelspec": {
   "display_name": "Python 3",
   "language": "python",
   "name": "python3"
  },
  "language_info": {
   "codemirror_mode": {
    "name": "ipython",
    "version": 3
   },
   "file_extension": ".py",
   "mimetype": "text/x-python",
   "name": "python",
   "nbconvert_exporter": "python",
   "pygments_lexer": "ipython3",
   "version": "3.8.10"
  }
 },
 "nbformat": 4,
 "nbformat_minor": 5
}
