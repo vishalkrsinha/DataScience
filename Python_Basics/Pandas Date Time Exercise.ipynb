{
 "cells": [
  {
   "cell_type": "markdown",
   "metadata": {},
   "source": [
    "#### 1. Write a Python script to display the\n",
    "#### a. Current date and time\n",
    "#### b. Current year\n",
    "#### c. Month of year\n",
    "#### d. Week number of the year\n",
    "#### e. Weekday of the week\n",
    "#### f. Day of year\n",
    "#### g. Day of the month\n",
    "#### h. Day of week"
   ]
  },
  {
   "cell_type": "code",
   "execution_count": 1,
   "metadata": {},
   "outputs": [
    {
     "name": "stdout",
     "output_type": "stream",
     "text": [
      "Current Date N Time: 2020-05-21 22:29:11.137929\n",
      "Current Year: 2020\n",
      "Current Month: May\n",
      "Current Week Number: 21\n",
      "Current Week Day: 4\n",
      "Current Day of the Year: 142\n",
      "Current Day of the Month: 21\n",
      "Current Day of the Week: Thursday\n"
     ]
    }
   ],
   "source": [
    "import datetime\n",
    "import calendar\n",
    "\n",
    "class Test:\n",
    "    dt = datetime.datetime.now()\n",
    "        \n",
    "    def getCurrentDateNTime(self):\n",
    "        return self.dt\n",
    "    \n",
    "    def getCurrentYear(self):\n",
    "        return self.dt.year\n",
    "    \n",
    "    def getCurrentMonth(self):\n",
    "        return self.dt.strftime(\"%B\") #https://docs.python.org/3/library/datetime.html#strftime-strptime-behavior        \n",
    "\n",
    "    def getCurrentWeekNumber(self):\n",
    "        year, week, day = self.dt.isocalendar() #https://www.tutorialspoint.com/How-can-I-get-the-current-week-using-Python\n",
    "        return week\n",
    "\n",
    "    def getCurrentWeekDay(self):\n",
    "        year, week, day = self.dt.isocalendar() #https://www.tutorialspoint.com/How-can-I-get-the-current-week-using-Python\n",
    "        return day\n",
    "    \n",
    "    def getCurrentDayOfYear(self):\n",
    "        return self.dt.timetuple().tm_yday  #https://stackoverflow.com/questions/620305/convert-year-month-day-to-day-of-year-in-python  \n",
    "\n",
    "    def getDayOfMonth(self):\n",
    "        return self.dt.day\n",
    "    \n",
    "    def getDayOfWeek(self):\n",
    "        return calendar.day_name[self.dt.weekday()]\n",
    "    \n",
    "obj = Test()\n",
    "print(\"Current Date N Time:\", obj.getCurrentDateNTime())\n",
    "print(\"Current Year:\", obj.getCurrentYear())\n",
    "print(\"Current Month:\", obj.getCurrentMonth())\n",
    "print(\"Current Week Number:\", obj.getCurrentWeekNumber())\n",
    "print(\"Current Week Day:\", obj.getCurrentWeekDay())\n",
    "print(\"Current Day of the Year:\", obj.getCurrentDayOfYear())\n",
    "print(\"Current Day of the Month:\", obj.getDayOfMonth())\n",
    "print(\"Current Day of the Week:\", obj.getDayOfWeek())"
   ]
  },
  {
   "cell_type": "markdown",
   "metadata": {},
   "source": [
    "#### 2. Write a Python program to convert a string to datetime.\n",
    "Sample String : Jan 1 2014 2:43PM \n",
    "\n",
    "Expected Output : 2014-07-01 14:43:00"
   ]
  },
  {
   "cell_type": "code",
   "execution_count": 11,
   "metadata": {},
   "outputs": [
    {
     "name": "stdout",
     "output_type": "stream",
     "text": [
      "2014-07-01 14:43:00\n"
     ]
    }
   ],
   "source": [
    "from datetime import datetime\n",
    "\n",
    "class Test:\n",
    "    def convertStringTodate(self,dateString):\n",
    "        return datetime.strptime(dateString,'%b %d %Y %I:%M%p')\n",
    "    \n",
    "obj = Test()\n",
    "print(obj.convertStringTodate('Jul 1 2014 2:43PM'))"
   ]
  },
  {
   "cell_type": "code",
   "execution_count": null,
   "metadata": {},
   "outputs": [],
   "source": []
  },
  {
   "cell_type": "markdown",
   "metadata": {},
   "source": [
    "#### 3. Write a Python program to subtract five days from current date.\n",
    "\n",
    "Current Date : 2015-06-22\n",
    "\n",
    "5 days before Current Date : 2015-06-17"
   ]
  },
  {
   "cell_type": "code",
   "execution_count": 3,
   "metadata": {},
   "outputs": [
    {
     "name": "stdout",
     "output_type": "stream",
     "text": [
      "2020-06-05 00:14:06.267353\n"
     ]
    }
   ],
   "source": [
    "from datetime import datetime, timedelta\n",
    "import pandas as pd\n",
    "\n",
    "class Test:\n",
    "    def subtractDays(self,daysToSubtract):\n",
    "        #return datetime.today() - timedelta(days = daysToSubtract) #timeDelta library as well as pandas.DateOffset both works\n",
    "        return datetime.today() - pd.DateOffset(days = daysToSubtract)\n",
    "    \n",
    "obj = Test()\n",
    "print(obj.subtractDays(5))"
   ]
  },
  {
   "cell_type": "code",
   "execution_count": null,
   "metadata": {},
   "outputs": [],
   "source": []
  },
  {
   "cell_type": "markdown",
   "metadata": {},
   "source": [
    "#### 4. Write a Python program to convert unix timestamp string to readable date.\n",
    "\n",
    "Sample Unix timestamp string : 1284105682\n",
    "    \n",
    "Expected Output : 2010-09-10 13:31:22"
   ]
  },
  {
   "cell_type": "code",
   "execution_count": 13,
   "metadata": {},
   "outputs": [
    {
     "name": "stdout",
     "output_type": "stream",
     "text": [
      "2010-09-10 08:01:22\n"
     ]
    }
   ],
   "source": [
    "from datetime import datetime\n",
    "\n",
    "class Test:\n",
    "    def convertUnixTime(self,daysToSubtract):\n",
    "        return datetime.utcfromtimestamp(int(daysToSubtract)).strftime('%Y-%m-%d %H:%M:%S')\n",
    "    \n",
    "obj = Test()\n",
    "print(obj.convertUnixTime(\"1284105682\"))"
   ]
  },
  {
   "cell_type": "code",
   "execution_count": null,
   "metadata": {},
   "outputs": [],
   "source": []
  },
  {
   "cell_type": "markdown",
   "metadata": {},
   "source": [
    "#### 5. Convert the below Series to pandas datetime : \n",
    "\n",
    "DoB = pd.Series([\"07Sep59\",\"01Jan55\",\"15Dec47\",\"11Jul42\"])\n",
    "\n",
    "Make sure that the year is 19XX not 20XX"
   ]
  },
  {
   "cell_type": "code",
   "execution_count": 4,
   "metadata": {},
   "outputs": [
    {
     "name": "stderr",
     "output_type": "stream",
     "text": [
      "<ipython-input-4-f49df66008a9>:7: FutureWarning: Comparing Series of datetimes with 'datetime.date'.  Currently, the\n",
      "'datetime.date' is coerced to a datetime. In the future pandas will\n",
      "not coerce, and a TypeError will be raised. To retain the current\n",
      "behavior, convert the 'datetime.date' to a datetime with\n",
      "'pd.Timestamp'.\n",
      "  future = dt > date(year=2000, month = 1, day = 1)\n"
     ]
    },
    {
     "name": "stdout",
     "output_type": "stream",
     "text": [
      "0   1959-09-07\n",
      "1   1955-01-01\n",
      "2   1947-12-15\n",
      "3   1942-07-11\n",
      "dtype: datetime64[ns]\n"
     ]
    }
   ],
   "source": [
    "from datetime import timedelta, date\n",
    "import pandas as pd\n",
    "\n",
    "class Test:\n",
    "    def convertSeriesToPandasDateTime(self,series):\n",
    "        dt = pd.to_datetime(series)\n",
    "        future = dt > date(year=2000, month = 1, day = 1)\n",
    "        return dt - timedelta(days=365.25*100) #pd.DateOffset() can also be used here in place of timedelta\n",
    "    \n",
    "obj = Test()\n",
    "print(obj.convertSeriesToPandasDateTime(pd.Series([\"07Sep59\",\"01Jan55\",\"15Dec47\",\"11Jul42\"])))"
   ]
  },
  {
   "cell_type": "code",
   "execution_count": null,
   "metadata": {},
   "outputs": [],
   "source": []
  },
  {
   "cell_type": "markdown",
   "metadata": {},
   "source": [
    "#### 6. Write a Python program to get days between two dates. "
   ]
  },
  {
   "cell_type": "code",
   "execution_count": 24,
   "metadata": {},
   "outputs": [
    {
     "name": "stdout",
     "output_type": "stream",
     "text": [
      "3108\n"
     ]
    }
   ],
   "source": [
    "from datetime import date\n",
    "\n",
    "class Test:\n",
    "    def daysBetween(self,date1,date2):\n",
    "        return (date1 - date2).days\n",
    "    \n",
    "obj = Test()\n",
    "print(obj.daysBetween(datetime.date(datetime.today()),date(2011,11,17)))"
   ]
  },
  {
   "cell_type": "code",
   "execution_count": null,
   "metadata": {},
   "outputs": [],
   "source": []
  },
  {
   "cell_type": "markdown",
   "metadata": {},
   "source": [
    "#### 7. Convert the below date to datetime and then change its display format using the .dt module\n",
    "\n",
    "Date = \"15Dec1989\"\n",
    "\n",
    "Result : \"Friday, 15 Dec 98\""
   ]
  },
  {
   "cell_type": "code",
   "execution_count": 5,
   "metadata": {},
   "outputs": [
    {
     "name": "stdout",
     "output_type": "stream",
     "text": [
      "Friday, 15 Dec 89\n"
     ]
    }
   ],
   "source": [
    "from datetime import timedelta, datetime\n",
    "import pandas as pd\n",
    "\n",
    "class Test:\n",
    "    def convertdateToDtModule(self,stringDate):        \n",
    "        return pd.to_datetime(stringDate).strftime('%A, %d %b %y')\n",
    "    \n",
    "obj = Test()\n",
    "print(obj.convertdateToDtModule(\"15Dec1989\"))"
   ]
  },
  {
   "cell_type": "code",
   "execution_count": null,
   "metadata": {},
   "outputs": [],
   "source": []
  }
 ],
 "metadata": {
  "kernelspec": {
   "display_name": "Python 3",
   "language": "python",
   "name": "python3"
  },
  "language_info": {
   "codemirror_mode": {
    "name": "ipython",
    "version": 3
   },
   "file_extension": ".py",
   "mimetype": "text/x-python",
   "name": "python",
   "nbconvert_exporter": "python",
   "pygments_lexer": "ipython3",
   "version": "3.8.1"
  }
 },
 "nbformat": 4,
 "nbformat_minor": 2
}
