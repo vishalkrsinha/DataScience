# =============================================================================
# Sending Emails
# =============================================================================
import smtplib
conn = smtplib.SMTP('smtp.gmail.com',587) #587 is the port no. for gmail
type(conn)
conn
conn.ehlo()#250: Response code (250 is okay, we are connected)
conn.starttls() #starttls() begins encryption
#https://www.google.com/settings/security/lesssecureapps: Turn ON
conn.login('vk4cse@gmail.com','abdacadabda') #We can have app specific password. Different passwords for mobile,laptop, computer, tab etc. https://support.google.com/accounts/answer/185833?hl=en
conn.sendmail('vk4cse@gmail.com','vk4cse@gmail.com','Subject: AI-link\n\nhttps://www.analyticsindiamag.com/the-gaming-industry-is-revolutionising-artificial-intelligence-one-win-at-a-time/?utm_medium=onesignal&utm_source=onesignal')
conn.quit()


# =============================================================================
# Checking your Email Inbox
# =============================================================================
#IMAP: Internet Message Access Protocol - To access your mails
#Install imapclient using command: pip install imapclient
import imapclient
conn = imapclient.IMAPClient('imap.gmail.com',ssl=True) #ssl = True means yes for encryption.
conn.login('vk4cse@gmail.com','SinhaSadan1!')
conn.select_folder('INBOX',readonly=True)
UIDs = conn.search(['SINCE', '01-Sep-2018']) #Documentation: https://imapclient.readthedocs.io/en/master/#imapclient.IMAPClient.search
rawMessage = conn.fetch([120390],['BODY[]','FLAGS'])

#Install pyzmail using command: pip install pyzmail36
import pyzmail #Documentation: magiksys.net/pyzmail
message = pyzmail.PyzMessage.factory(rawMessage[120390][b'BODY[]'])
message.get_subject()
message.get_addresses('from')
message.get_addresses('to')
message.get_addresses('bcc')
message.text_part
message.html_part

message.html_part == None

message.text_part.get_payload().decode('UTF-8')
message.text_part.charset
message.html_part.charset
message.html_part.get_payload().decode('UTF-8')

conn.list_folders()

conn.select_folder('INBOX',readonly=False)
UIDs = conn.search(['ON', '01-Sep-2018'])

conn.delete_messages(120432)
conn.delete_messages(UIDs)
