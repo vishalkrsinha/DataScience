{
 "cells": [
  {
   "cell_type": "markdown",
   "metadata": {},
   "source": [
    "# Pre-modeling +"
   ]
  },
  {
   "cell_type": "markdown",
   "metadata": {},
   "source": [
    "--Variable Level\tVariable naming convention - Does variables required renaming?\n",
    "\n",
    "\tData types -Any mismatch in data types?\t\t\t\t\t\t\t\n",
    "\tDoes data have any special characters?\t\t\t\t\t\t\t\n",
    "\t\t#NA, Nan, #Error, #Division, -inf, inf, 999999, etc.\t\t\t\t\t\t\n",
    "\tDoes data have any missing values?\t\t\t\t\t\t\t\n",
    "\t\tEncoded missings with 0, 999999, unknown, not avaialable, NA etc\t\t\t\t\t\t\n",
    "\tDoes data any outliers\t\t\t\t\t\t\t\n",
    "\t\tReasons for outliers\t\t\t\t\t\t\n",
    "\tCategorical variables - Ordinal vs. nominal\t\t\t\t\t\t\t\n",
    "\t\tConverting categorical variables into numerical variables (encoding)\t\t\t\t\t\t\n",
    "\t\t\tOrdinal \tLabel/One-Hot encoding (dummy variables)\t\t\t\t\n",
    "\t\t\tNomianl\tOne-hot encoding\t\t\t\t\n",
    "\tDoes data having any date variables?\t\t\t\t\t\t\t\n",
    "\t\tDerived variables out of Date variables\t\t\t\t\t\t\n",
    "\tString variables - Extract variables out of string which can make sense\t\t\t\t\t\t\t\n",
    "\tDoes data have any duplicates?\t\t\t\t\t\t\t\n",
    "\t\tKey level (one variable or combination of variable)\t\t\t\t\t\t\n",
    "\t\tRecord level\t\t\t\t\t\t\n",
    "\tDerived variables - Definition\t\t\t\t\t\t\t\n",
    "\tExploratory analysis\t\t\t\t\t\t\t\n",
    "\t\tUnivariate\t\tDistribution, variation etc\t\t\t\t\n",
    "\t\tBivariate\t\tRelationships\t\t\t\t\n",
    "\tDoes variable having variance?\t\t\t\t\t\t\t\n",
    "\t\tNear zero variance variable (CV<0.05)\t"
   ]
  },
  {
   "cell_type": "markdown",
   "metadata": {},
   "source": [
    "--Import Packages"
   ]
  },
  {
   "cell_type": "code",
   "execution_count": 9,
   "metadata": {},
   "outputs": [
    {
     "name": "stdout",
     "output_type": "stream",
     "text": [
      "Populating the interactive namespace from numpy and matplotlib\n"
     ]
    }
   ],
   "source": [
    "#Packages(s) for Operating Systems::\n",
    "import os\n",
    "\n",
    "\n",
    "#Packages(s) for Data Importing & Manipulations::\n",
    "import numpy as np\n",
    "import pandas as pd\n",
    "import datetime as dt\n",
    "import pandas_profiling as pp\n",
    "import re\n",
    "\n",
    "\n",
    "#Packages(s) for Basic Statistic Analysis::\n",
    "import scipy.stats as stats\n",
    "import matplotlib.pyplot as plt\n",
    "%pylab inline\n",
    "import seaborn as sns\n",
    "\n",
    "\n",
    "#Packages(s) for Model Building Part::\n",
    "from sklearn.model_selection import train_test_split\n",
    "import sklearn.metrics as metrics\n",
    "import sklearn.preprocessing as preprocess\n",
    "import sklearn.feature_selection as feature_selection\n",
    "\n",
    "\n",
    "#Packages(s) for building models::\n",
    "#!pip install statsmodels\n",
    "import statsmodels as st\n",
    "import statsmodels.formula.api as smp\n",
    "from sklearn.linear_model import LinearRegression"
   ]
  },
  {
   "cell_type": "markdown",
   "metadata": {},
   "source": [
    "-- Importing Data"
   ]
  },
  {
   "cell_type": "code",
   "execution_count": 10,
   "metadata": {},
   "outputs": [
    {
     "data": {
      "text/html": [
       "<div>\n",
       "<style scoped>\n",
       "    .dataframe tbody tr th:only-of-type {\n",
       "        vertical-align: middle;\n",
       "    }\n",
       "\n",
       "    .dataframe tbody tr th {\n",
       "        vertical-align: top;\n",
       "    }\n",
       "\n",
       "    .dataframe thead th {\n",
       "        text-align: right;\n",
       "    }\n",
       "</style>\n",
       "<table border=\"1\" class=\"dataframe\">\n",
       "  <thead>\n",
       "    <tr style=\"text-align: right;\">\n",
       "      <th></th>\n",
       "      <th>Home</th>\n",
       "      <th>Price</th>\n",
       "      <th>SqFt</th>\n",
       "      <th>Bedrooms</th>\n",
       "      <th>Bathrooms</th>\n",
       "      <th>Offers</th>\n",
       "      <th>Brick</th>\n",
       "      <th>Neighborhood</th>\n",
       "    </tr>\n",
       "  </thead>\n",
       "  <tbody>\n",
       "    <tr>\n",
       "      <th>0</th>\n",
       "      <td>1</td>\n",
       "      <td>114300</td>\n",
       "      <td>1790</td>\n",
       "      <td>2</td>\n",
       "      <td>2</td>\n",
       "      <td>2</td>\n",
       "      <td>No</td>\n",
       "      <td>East</td>\n",
       "    </tr>\n",
       "    <tr>\n",
       "      <th>1</th>\n",
       "      <td>2</td>\n",
       "      <td>114200</td>\n",
       "      <td>2030</td>\n",
       "      <td>4</td>\n",
       "      <td>2</td>\n",
       "      <td>3</td>\n",
       "      <td>No</td>\n",
       "      <td>East</td>\n",
       "    </tr>\n",
       "    <tr>\n",
       "      <th>2</th>\n",
       "      <td>3</td>\n",
       "      <td>114800</td>\n",
       "      <td>1740</td>\n",
       "      <td>3</td>\n",
       "      <td>2</td>\n",
       "      <td>1</td>\n",
       "      <td>No</td>\n",
       "      <td>East</td>\n",
       "    </tr>\n",
       "    <tr>\n",
       "      <th>3</th>\n",
       "      <td>4</td>\n",
       "      <td>94700</td>\n",
       "      <td>1980</td>\n",
       "      <td>3</td>\n",
       "      <td>2</td>\n",
       "      <td>3</td>\n",
       "      <td>No</td>\n",
       "      <td>East</td>\n",
       "    </tr>\n",
       "    <tr>\n",
       "      <th>4</th>\n",
       "      <td>5</td>\n",
       "      <td>119800</td>\n",
       "      <td>2130</td>\n",
       "      <td>3</td>\n",
       "      <td>3</td>\n",
       "      <td>3</td>\n",
       "      <td>No</td>\n",
       "      <td>East</td>\n",
       "    </tr>\n",
       "  </tbody>\n",
       "</table>\n",
       "</div>"
      ],
      "text/plain": [
       "   Home   Price  SqFt  Bedrooms  Bathrooms  Offers Brick Neighborhood\n",
       "0     1  114300  1790         2          2       2    No         East\n",
       "1     2  114200  2030         4          2       3    No         East\n",
       "2     3  114800  1740         3          2       1    No         East\n",
       "3     4   94700  1980         3          2       3    No         East\n",
       "4     5  119800  2130         3          3       3    No         East"
      ]
     },
     "execution_count": 10,
     "metadata": {},
     "output_type": "execute_result"
    }
   ],
   "source": [
    "housingPrice = pd.read_csv(r'E:\\AI\\ALabs\\Python - ML\\Assignments-ML\\2. Predicting House Prices\\House_Prices.csv')\n",
    "housingPrice.head()"
   ]
  },
  {
   "cell_type": "markdown",
   "metadata": {},
   "source": [
    "-- High level observation of imported data"
   ]
  },
  {
   "cell_type": "code",
   "execution_count": 11,
   "metadata": {},
   "outputs": [
    {
     "name": "stdout",
     "output_type": "stream",
     "text": [
      "<class 'pandas.core.frame.DataFrame'>\n",
      "RangeIndex: 128 entries, 0 to 127\n",
      "Data columns (total 8 columns):\n",
      " #   Column        Non-Null Count  Dtype \n",
      "---  ------        --------------  ----- \n",
      " 0   Home          128 non-null    int64 \n",
      " 1   Price         128 non-null    int64 \n",
      " 2   SqFt          128 non-null    int64 \n",
      " 3   Bedrooms      128 non-null    int64 \n",
      " 4   Bathrooms     128 non-null    int64 \n",
      " 5   Offers        128 non-null    int64 \n",
      " 6   Brick         128 non-null    object\n",
      " 7   Neighborhood  128 non-null    object\n",
      "dtypes: int64(6), object(2)\n",
      "memory usage: 8.1+ KB\n"
     ]
    }
   ],
   "source": [
    "housingPrice.info()\n",
    "#Initial observations::\n",
    "    #Here no variables have missing values.\n",
    "    #Some of the variables are continuous (e.g., Home, Price etc.) and some of them are categorical (e.g., Brick, Neighborhood)    "
   ]
  },
  {
   "cell_type": "markdown",
   "metadata": {},
   "source": [
    "-- List of columns"
   ]
  },
  {
   "cell_type": "code",
   "execution_count": 12,
   "metadata": {},
   "outputs": [
    {
     "data": {
      "text/plain": [
       "Index(['Home', 'Price', 'SqFt', 'Bedrooms', 'Bathrooms', 'Offers', 'Brick',\n",
       "       'Neighborhood'],\n",
       "      dtype='object')"
      ]
     },
     "execution_count": 12,
     "metadata": {},
     "output_type": "execute_result"
    }
   ],
   "source": [
    "housingPrice.columns"
   ]
  },
  {
   "cell_type": "markdown",
   "metadata": {},
   "source": [
    "-- Pandas_profiling"
   ]
  },
  {
   "cell_type": "code",
   "execution_count": 13,
   "metadata": {},
   "outputs": [
    {
     "data": {
      "application/vnd.jupyter.widget-view+json": {
       "model_id": "862a2110396b46ecb477b8bab586e351",
       "version_major": 2,
       "version_minor": 0
      },
      "text/plain": [
       "HBox(children=(HTML(value='Summarize dataset'), FloatProgress(value=0.0, max=22.0), HTML(value='')))"
      ]
     },
     "metadata": {},
     "output_type": "display_data"
    },
    {
     "name": "stdout",
     "output_type": "stream",
     "text": [
      "\n"
     ]
    },
    {
     "data": {
      "application/vnd.jupyter.widget-view+json": {
       "model_id": "b8c861361ace44cebc5eff243d357f7a",
       "version_major": 2,
       "version_minor": 0
      },
      "text/plain": [
       "HBox(children=(HTML(value='Generate report structure'), FloatProgress(value=0.0, max=1.0), HTML(value='')))"
      ]
     },
     "metadata": {},
     "output_type": "display_data"
    },
    {
     "name": "stdout",
     "output_type": "stream",
     "text": [
      "\n"
     ]
    },
    {
     "data": {
      "application/vnd.jupyter.widget-view+json": {
       "model_id": "d46714decbe3485cb99c06842b5eea38",
       "version_major": 2,
       "version_minor": 0
      },
      "text/plain": [
       "HBox(children=(HTML(value='Render HTML'), FloatProgress(value=0.0, max=1.0), HTML(value='')))"
      ]
     },
     "metadata": {},
     "output_type": "display_data"
    },
    {
     "name": "stdout",
     "output_type": "stream",
     "text": [
      "\n"
     ]
    },
    {
     "data": {
      "application/vnd.jupyter.widget-view+json": {
       "model_id": "2fc05873945a43448946063063252f9e",
       "version_major": 2,
       "version_minor": 0
      },
      "text/plain": [
       "HBox(children=(HTML(value='Export report to file'), FloatProgress(value=0.0, max=1.0), HTML(value='')))"
      ]
     },
     "metadata": {},
     "output_type": "display_data"
    },
    {
     "name": "stdout",
     "output_type": "stream",
     "text": [
      "\n"
     ]
    }
   ],
   "source": [
    "profile_report = pp.ProfileReport(housingPrice)\n",
    "profile_report.to_file(r'E:\\AI\\ALabs\\Python - ML\\Assignments-ML\\2. Predicting House Prices\\HousePricing_ProfileReport.html')"
   ]
  },
  {
   "cell_type": "markdown",
   "metadata": {},
   "source": [
    "-- Preprocessing - droping unwanted columns\n"
   ]
  },
  {
   "cell_type": "code",
   "execution_count": 14,
   "metadata": {},
   "outputs": [
    {
     "data": {
      "text/plain": [
       "Index(['Price', 'SqFt', 'Bedrooms', 'Bathrooms', 'Offers', 'Brick',\n",
       "       'Neighborhood'],\n",
       "      dtype='object')"
      ]
     },
     "execution_count": 14,
     "metadata": {},
     "output_type": "execute_result"
    }
   ],
   "source": [
    "housingPrice.drop(['Home'], axis = 1, inplace = True)\n",
    "housingPrice.columns"
   ]
  },
  {
   "cell_type": "markdown",
   "metadata": {},
   "source": [
    "-- Preprocessing - Separating Categorical & Numerical variables"
   ]
  },
  {
   "cell_type": "code",
   "execution_count": 15,
   "metadata": {},
   "outputs": [
    {
     "data": {
      "text/html": [
       "<div>\n",
       "<style scoped>\n",
       "    .dataframe tbody tr th:only-of-type {\n",
       "        vertical-align: middle;\n",
       "    }\n",
       "\n",
       "    .dataframe tbody tr th {\n",
       "        vertical-align: top;\n",
       "    }\n",
       "\n",
       "    .dataframe thead th {\n",
       "        text-align: right;\n",
       "    }\n",
       "</style>\n",
       "<table border=\"1\" class=\"dataframe\">\n",
       "  <thead>\n",
       "    <tr style=\"text-align: right;\">\n",
       "      <th></th>\n",
       "      <th>Brick</th>\n",
       "      <th>Neighborhood</th>\n",
       "    </tr>\n",
       "  </thead>\n",
       "  <tbody>\n",
       "    <tr>\n",
       "      <th>0</th>\n",
       "      <td>No</td>\n",
       "      <td>East</td>\n",
       "    </tr>\n",
       "    <tr>\n",
       "      <th>1</th>\n",
       "      <td>No</td>\n",
       "      <td>East</td>\n",
       "    </tr>\n",
       "    <tr>\n",
       "      <th>2</th>\n",
       "      <td>No</td>\n",
       "      <td>East</td>\n",
       "    </tr>\n",
       "    <tr>\n",
       "      <th>3</th>\n",
       "      <td>No</td>\n",
       "      <td>East</td>\n",
       "    </tr>\n",
       "    <tr>\n",
       "      <th>4</th>\n",
       "      <td>No</td>\n",
       "      <td>East</td>\n",
       "    </tr>\n",
       "  </tbody>\n",
       "</table>\n",
       "</div>"
      ],
      "text/plain": [
       "  Brick Neighborhood\n",
       "0    No         East\n",
       "1    No         East\n",
       "2    No         East\n",
       "3    No         East\n",
       "4    No         East"
      ]
     },
     "metadata": {},
     "output_type": "display_data"
    },
    {
     "data": {
      "text/html": [
       "<div>\n",
       "<style scoped>\n",
       "    .dataframe tbody tr th:only-of-type {\n",
       "        vertical-align: middle;\n",
       "    }\n",
       "\n",
       "    .dataframe tbody tr th {\n",
       "        vertical-align: top;\n",
       "    }\n",
       "\n",
       "    .dataframe thead th {\n",
       "        text-align: right;\n",
       "    }\n",
       "</style>\n",
       "<table border=\"1\" class=\"dataframe\">\n",
       "  <thead>\n",
       "    <tr style=\"text-align: right;\">\n",
       "      <th></th>\n",
       "      <th>Price</th>\n",
       "      <th>SqFt</th>\n",
       "      <th>Bedrooms</th>\n",
       "      <th>Bathrooms</th>\n",
       "      <th>Offers</th>\n",
       "    </tr>\n",
       "  </thead>\n",
       "  <tbody>\n",
       "    <tr>\n",
       "      <th>0</th>\n",
       "      <td>114300</td>\n",
       "      <td>1790</td>\n",
       "      <td>2</td>\n",
       "      <td>2</td>\n",
       "      <td>2</td>\n",
       "    </tr>\n",
       "    <tr>\n",
       "      <th>1</th>\n",
       "      <td>114200</td>\n",
       "      <td>2030</td>\n",
       "      <td>4</td>\n",
       "      <td>2</td>\n",
       "      <td>3</td>\n",
       "    </tr>\n",
       "    <tr>\n",
       "      <th>2</th>\n",
       "      <td>114800</td>\n",
       "      <td>1740</td>\n",
       "      <td>3</td>\n",
       "      <td>2</td>\n",
       "      <td>1</td>\n",
       "    </tr>\n",
       "    <tr>\n",
       "      <th>3</th>\n",
       "      <td>94700</td>\n",
       "      <td>1980</td>\n",
       "      <td>3</td>\n",
       "      <td>2</td>\n",
       "      <td>3</td>\n",
       "    </tr>\n",
       "    <tr>\n",
       "      <th>4</th>\n",
       "      <td>119800</td>\n",
       "      <td>2130</td>\n",
       "      <td>3</td>\n",
       "      <td>3</td>\n",
       "      <td>3</td>\n",
       "    </tr>\n",
       "  </tbody>\n",
       "</table>\n",
       "</div>"
      ],
      "text/plain": [
       "    Price  SqFt  Bedrooms  Bathrooms  Offers\n",
       "0  114300  1790         2          2       2\n",
       "1  114200  2030         4          2       3\n",
       "2  114800  1740         3          2       1\n",
       "3   94700  1980         3          2       3\n",
       "4  119800  2130         3          3       3"
      ]
     },
     "metadata": {},
     "output_type": "display_data"
    }
   ],
   "source": [
    "##Categorical Variables\n",
    "cat_vars = ['Brick','Neighborhood']\n",
    "\n",
    "##Numerical Variables\n",
    "num_vars = ['Price', 'SqFt', 'Bedrooms', 'Bathrooms', 'Offers']\n",
    "\n",
    "data_cat = housingPrice[cat_vars]\n",
    "data_num = housingPrice[num_vars]\n",
    "\n",
    "display(data_cat.head())\n",
    "display(data_num.head())"
   ]
  },
  {
   "cell_type": "markdown",
   "metadata": {},
   "source": [
    "-- Preprocessing - Handling Outliers"
   ]
  },
  {
   "cell_type": "code",
   "execution_count": 16,
   "metadata": {},
   "outputs": [
    {
     "data": {
      "text/html": [
       "<div>\n",
       "<style scoped>\n",
       "    .dataframe tbody tr th:only-of-type {\n",
       "        vertical-align: middle;\n",
       "    }\n",
       "\n",
       "    .dataframe tbody tr th {\n",
       "        vertical-align: top;\n",
       "    }\n",
       "\n",
       "    .dataframe thead th {\n",
       "        text-align: right;\n",
       "    }\n",
       "</style>\n",
       "<table border=\"1\" class=\"dataframe\">\n",
       "  <thead>\n",
       "    <tr style=\"text-align: right;\">\n",
       "      <th></th>\n",
       "      <th>Price</th>\n",
       "      <th>SqFt</th>\n",
       "      <th>Bedrooms</th>\n",
       "      <th>Bathrooms</th>\n",
       "      <th>Offers</th>\n",
       "    </tr>\n",
       "  </thead>\n",
       "  <tbody>\n",
       "    <tr>\n",
       "      <th>0</th>\n",
       "      <td>114300</td>\n",
       "      <td>1790.0</td>\n",
       "      <td>2.0</td>\n",
       "      <td>2</td>\n",
       "      <td>2</td>\n",
       "    </tr>\n",
       "    <tr>\n",
       "      <th>1</th>\n",
       "      <td>114200</td>\n",
       "      <td>2030.0</td>\n",
       "      <td>4.0</td>\n",
       "      <td>2</td>\n",
       "      <td>3</td>\n",
       "    </tr>\n",
       "    <tr>\n",
       "      <th>2</th>\n",
       "      <td>114800</td>\n",
       "      <td>1740.0</td>\n",
       "      <td>3.0</td>\n",
       "      <td>2</td>\n",
       "      <td>1</td>\n",
       "    </tr>\n",
       "    <tr>\n",
       "      <th>3</th>\n",
       "      <td>94700</td>\n",
       "      <td>1980.0</td>\n",
       "      <td>3.0</td>\n",
       "      <td>2</td>\n",
       "      <td>3</td>\n",
       "    </tr>\n",
       "    <tr>\n",
       "      <th>4</th>\n",
       "      <td>119800</td>\n",
       "      <td>2130.0</td>\n",
       "      <td>3.0</td>\n",
       "      <td>3</td>\n",
       "      <td>3</td>\n",
       "    </tr>\n",
       "  </tbody>\n",
       "</table>\n",
       "</div>"
      ],
      "text/plain": [
       "    Price    SqFt  Bedrooms  Bathrooms  Offers\n",
       "0  114300  1790.0       2.0          2       2\n",
       "1  114200  2030.0       4.0          2       3\n",
       "2  114800  1740.0       3.0          2       1\n",
       "3   94700  1980.0       3.0          2       3\n",
       "4  119800  2130.0       3.0          3       3"
      ]
     },
     "execution_count": 16,
     "metadata": {},
     "output_type": "execute_result"
    }
   ],
   "source": [
    "def outlier_capping(x):\n",
    "    x = x.clip(upper = x.quantile(0.99))\n",
    "    x = x.clip(lower = x.quantile(0.01))\n",
    "    return x\n",
    "\n",
    "data_num = data_num.apply(outlier_capping)\n",
    "data_num.head()"
   ]
  },
  {
   "cell_type": "markdown",
   "metadata": {},
   "source": [
    "-- Pre-processing -  Handle Missings in Continuous features"
   ]
  },
  {
   "cell_type": "code",
   "execution_count": 17,
   "metadata": {},
   "outputs": [
    {
     "data": {
      "text/html": [
       "<div>\n",
       "<style scoped>\n",
       "    .dataframe tbody tr th:only-of-type {\n",
       "        vertical-align: middle;\n",
       "    }\n",
       "\n",
       "    .dataframe tbody tr th {\n",
       "        vertical-align: top;\n",
       "    }\n",
       "\n",
       "    .dataframe thead th {\n",
       "        text-align: right;\n",
       "    }\n",
       "</style>\n",
       "<table border=\"1\" class=\"dataframe\">\n",
       "  <thead>\n",
       "    <tr style=\"text-align: right;\">\n",
       "      <th></th>\n",
       "      <th>Price</th>\n",
       "      <th>SqFt</th>\n",
       "      <th>Bedrooms</th>\n",
       "      <th>Bathrooms</th>\n",
       "      <th>Offers</th>\n",
       "    </tr>\n",
       "  </thead>\n",
       "  <tbody>\n",
       "    <tr>\n",
       "      <th>0</th>\n",
       "      <td>114300</td>\n",
       "      <td>1790.0</td>\n",
       "      <td>2.0</td>\n",
       "      <td>2</td>\n",
       "      <td>2</td>\n",
       "    </tr>\n",
       "    <tr>\n",
       "      <th>1</th>\n",
       "      <td>114200</td>\n",
       "      <td>2030.0</td>\n",
       "      <td>4.0</td>\n",
       "      <td>2</td>\n",
       "      <td>3</td>\n",
       "    </tr>\n",
       "    <tr>\n",
       "      <th>2</th>\n",
       "      <td>114800</td>\n",
       "      <td>1740.0</td>\n",
       "      <td>3.0</td>\n",
       "      <td>2</td>\n",
       "      <td>1</td>\n",
       "    </tr>\n",
       "    <tr>\n",
       "      <th>3</th>\n",
       "      <td>94700</td>\n",
       "      <td>1980.0</td>\n",
       "      <td>3.0</td>\n",
       "      <td>2</td>\n",
       "      <td>3</td>\n",
       "    </tr>\n",
       "    <tr>\n",
       "      <th>4</th>\n",
       "      <td>119800</td>\n",
       "      <td>2130.0</td>\n",
       "      <td>3.0</td>\n",
       "      <td>3</td>\n",
       "      <td>3</td>\n",
       "    </tr>\n",
       "  </tbody>\n",
       "</table>\n",
       "</div>"
      ],
      "text/plain": [
       "    Price    SqFt  Bedrooms  Bathrooms  Offers\n",
       "0  114300  1790.0       2.0          2       2\n",
       "1  114200  2030.0       4.0          2       3\n",
       "2  114800  1740.0       3.0          2       1\n",
       "3   94700  1980.0       3.0          2       3\n",
       "4  119800  2130.0       3.0          3       3"
      ]
     },
     "execution_count": 17,
     "metadata": {},
     "output_type": "execute_result"
    }
   ],
   "source": [
    "def Cont_Missing_Imputation(x):\n",
    "    x = x.fillna(x.median())\n",
    "    return x\n",
    "\n",
    "data_num = data_num.apply(lambda x: Cont_Missing_Imputation(x))\n",
    "data_num.head()"
   ]
  },
  {
   "cell_type": "markdown",
   "metadata": {},
   "source": [
    "-- Pre-processing - Handle Missings in Categorical features"
   ]
  },
  {
   "cell_type": "code",
   "execution_count": 18,
   "metadata": {},
   "outputs": [
    {
     "data": {
      "text/html": [
       "<div>\n",
       "<style scoped>\n",
       "    .dataframe tbody tr th:only-of-type {\n",
       "        vertical-align: middle;\n",
       "    }\n",
       "\n",
       "    .dataframe tbody tr th {\n",
       "        vertical-align: top;\n",
       "    }\n",
       "\n",
       "    .dataframe thead th {\n",
       "        text-align: right;\n",
       "    }\n",
       "</style>\n",
       "<table border=\"1\" class=\"dataframe\">\n",
       "  <thead>\n",
       "    <tr style=\"text-align: right;\">\n",
       "      <th></th>\n",
       "      <th>Brick</th>\n",
       "      <th>Neighborhood</th>\n",
       "    </tr>\n",
       "  </thead>\n",
       "  <tbody>\n",
       "    <tr>\n",
       "      <th>0</th>\n",
       "      <td>No</td>\n",
       "      <td>East</td>\n",
       "    </tr>\n",
       "    <tr>\n",
       "      <th>1</th>\n",
       "      <td>No</td>\n",
       "      <td>East</td>\n",
       "    </tr>\n",
       "    <tr>\n",
       "      <th>2</th>\n",
       "      <td>No</td>\n",
       "      <td>East</td>\n",
       "    </tr>\n",
       "    <tr>\n",
       "      <th>3</th>\n",
       "      <td>No</td>\n",
       "      <td>East</td>\n",
       "    </tr>\n",
       "    <tr>\n",
       "      <th>4</th>\n",
       "      <td>No</td>\n",
       "      <td>East</td>\n",
       "    </tr>\n",
       "  </tbody>\n",
       "</table>\n",
       "</div>"
      ],
      "text/plain": [
       "  Brick Neighborhood\n",
       "0    No         East\n",
       "1    No         East\n",
       "2    No         East\n",
       "3    No         East\n",
       "4    No         East"
      ]
     },
     "execution_count": 18,
     "metadata": {},
     "output_type": "execute_result"
    }
   ],
   "source": [
    "def Cat_Missing_Imputation(x):\n",
    "    x = x.fillna(x.mode())\n",
    "    return x\n",
    "\n",
    "data_cat = data_cat.apply(lambda x: Cat_Missing_Imputation(x))\n",
    "data_cat.head()"
   ]
  },
  {
   "cell_type": "code",
   "execution_count": 19,
   "metadata": {},
   "outputs": [
    {
     "data": {
      "text/html": [
       "<div>\n",
       "<style scoped>\n",
       "    .dataframe tbody tr th:only-of-type {\n",
       "        vertical-align: middle;\n",
       "    }\n",
       "\n",
       "    .dataframe tbody tr th {\n",
       "        vertical-align: top;\n",
       "    }\n",
       "\n",
       "    .dataframe thead th {\n",
       "        text-align: right;\n",
       "    }\n",
       "</style>\n",
       "<table border=\"1\" class=\"dataframe\">\n",
       "  <thead>\n",
       "    <tr style=\"text-align: right;\">\n",
       "      <th></th>\n",
       "      <th>Price</th>\n",
       "      <th>SqFt</th>\n",
       "      <th>Bedrooms</th>\n",
       "      <th>Bathrooms</th>\n",
       "      <th>Offers</th>\n",
       "      <th>Brick</th>\n",
       "      <th>Neighborhood</th>\n",
       "    </tr>\n",
       "  </thead>\n",
       "  <tbody>\n",
       "    <tr>\n",
       "      <th>0</th>\n",
       "      <td>114300</td>\n",
       "      <td>1790.0</td>\n",
       "      <td>2.0</td>\n",
       "      <td>2</td>\n",
       "      <td>2</td>\n",
       "      <td>No</td>\n",
       "      <td>East</td>\n",
       "    </tr>\n",
       "    <tr>\n",
       "      <th>1</th>\n",
       "      <td>114200</td>\n",
       "      <td>2030.0</td>\n",
       "      <td>4.0</td>\n",
       "      <td>2</td>\n",
       "      <td>3</td>\n",
       "      <td>No</td>\n",
       "      <td>East</td>\n",
       "    </tr>\n",
       "    <tr>\n",
       "      <th>2</th>\n",
       "      <td>114800</td>\n",
       "      <td>1740.0</td>\n",
       "      <td>3.0</td>\n",
       "      <td>2</td>\n",
       "      <td>1</td>\n",
       "      <td>No</td>\n",
       "      <td>East</td>\n",
       "    </tr>\n",
       "    <tr>\n",
       "      <th>3</th>\n",
       "      <td>94700</td>\n",
       "      <td>1980.0</td>\n",
       "      <td>3.0</td>\n",
       "      <td>2</td>\n",
       "      <td>3</td>\n",
       "      <td>No</td>\n",
       "      <td>East</td>\n",
       "    </tr>\n",
       "    <tr>\n",
       "      <th>4</th>\n",
       "      <td>119800</td>\n",
       "      <td>2130.0</td>\n",
       "      <td>3.0</td>\n",
       "      <td>3</td>\n",
       "      <td>3</td>\n",
       "      <td>No</td>\n",
       "      <td>East</td>\n",
       "    </tr>\n",
       "  </tbody>\n",
       "</table>\n",
       "</div>"
      ],
      "text/plain": [
       "    Price    SqFt  Bedrooms  Bathrooms  Offers Brick Neighborhood\n",
       "0  114300  1790.0       2.0          2       2    No         East\n",
       "1  114200  2030.0       4.0          2       3    No         East\n",
       "2  114800  1740.0       3.0          2       1    No         East\n",
       "3   94700  1980.0       3.0          2       3    No         East\n",
       "4  119800  2130.0       3.0          3       3    No         East"
      ]
     },
     "execution_count": 19,
     "metadata": {},
     "output_type": "execute_result"
    }
   ],
   "source": [
    "data_final = pd.concat([data_num, data_cat],axis = 1)\n",
    "data_final.head()"
   ]
  },
  {
   "cell_type": "code",
   "execution_count": 20,
   "metadata": {},
   "outputs": [
    {
     "name": "stdout",
     "output_type": "stream",
     "text": [
      "<class 'pandas.core.frame.DataFrame'>\n",
      "RangeIndex: 128 entries, 0 to 127\n",
      "Data columns (total 7 columns):\n",
      " #   Column        Non-Null Count  Dtype  \n",
      "---  ------        --------------  -----  \n",
      " 0   Price         128 non-null    int64  \n",
      " 1   SqFt          128 non-null    float64\n",
      " 2   Bedrooms      128 non-null    float64\n",
      " 3   Bathrooms     128 non-null    int64  \n",
      " 4   Offers        128 non-null    int64  \n",
      " 5   Brick         128 non-null    object \n",
      " 6   Neighborhood  128 non-null    object \n",
      "dtypes: float64(2), int64(3), object(2)\n",
      "memory usage: 7.1+ KB\n"
     ]
    }
   ],
   "source": [
    "data_final.info()"
   ]
  },
  {
   "cell_type": "markdown",
   "metadata": {},
   "source": [
    "-- Preprocessing - Dummy variables: droppig 1st dummy columns"
   ]
  },
  {
   "cell_type": "code",
   "execution_count": 21,
   "metadata": {},
   "outputs": [
    {
     "data": {
      "text/html": [
       "<div>\n",
       "<style scoped>\n",
       "    .dataframe tbody tr th:only-of-type {\n",
       "        vertical-align: middle;\n",
       "    }\n",
       "\n",
       "    .dataframe tbody tr th {\n",
       "        vertical-align: top;\n",
       "    }\n",
       "\n",
       "    .dataframe thead th {\n",
       "        text-align: right;\n",
       "    }\n",
       "</style>\n",
       "<table border=\"1\" class=\"dataframe\">\n",
       "  <thead>\n",
       "    <tr style=\"text-align: right;\">\n",
       "      <th></th>\n",
       "      <th>Price</th>\n",
       "      <th>SqFt</th>\n",
       "      <th>Bedrooms</th>\n",
       "      <th>Bathrooms</th>\n",
       "      <th>Offers</th>\n",
       "      <th>Brick_Yes</th>\n",
       "      <th>Neighborhood_North</th>\n",
       "      <th>Neighborhood_West</th>\n",
       "    </tr>\n",
       "  </thead>\n",
       "  <tbody>\n",
       "    <tr>\n",
       "      <th>0</th>\n",
       "      <td>114300</td>\n",
       "      <td>1790.0</td>\n",
       "      <td>2.0</td>\n",
       "      <td>2</td>\n",
       "      <td>2</td>\n",
       "      <td>0</td>\n",
       "      <td>0</td>\n",
       "      <td>0</td>\n",
       "    </tr>\n",
       "    <tr>\n",
       "      <th>1</th>\n",
       "      <td>114200</td>\n",
       "      <td>2030.0</td>\n",
       "      <td>4.0</td>\n",
       "      <td>2</td>\n",
       "      <td>3</td>\n",
       "      <td>0</td>\n",
       "      <td>0</td>\n",
       "      <td>0</td>\n",
       "    </tr>\n",
       "    <tr>\n",
       "      <th>2</th>\n",
       "      <td>114800</td>\n",
       "      <td>1740.0</td>\n",
       "      <td>3.0</td>\n",
       "      <td>2</td>\n",
       "      <td>1</td>\n",
       "      <td>0</td>\n",
       "      <td>0</td>\n",
       "      <td>0</td>\n",
       "    </tr>\n",
       "    <tr>\n",
       "      <th>3</th>\n",
       "      <td>94700</td>\n",
       "      <td>1980.0</td>\n",
       "      <td>3.0</td>\n",
       "      <td>2</td>\n",
       "      <td>3</td>\n",
       "      <td>0</td>\n",
       "      <td>0</td>\n",
       "      <td>0</td>\n",
       "    </tr>\n",
       "    <tr>\n",
       "      <th>4</th>\n",
       "      <td>119800</td>\n",
       "      <td>2130.0</td>\n",
       "      <td>3.0</td>\n",
       "      <td>3</td>\n",
       "      <td>3</td>\n",
       "      <td>0</td>\n",
       "      <td>0</td>\n",
       "      <td>0</td>\n",
       "    </tr>\n",
       "  </tbody>\n",
       "</table>\n",
       "</div>"
      ],
      "text/plain": [
       "    Price    SqFt  Bedrooms  Bathrooms  Offers  Brick_Yes  Neighborhood_North  \\\n",
       "0  114300  1790.0       2.0          2       2          0                   0   \n",
       "1  114200  2030.0       4.0          2       3          0                   0   \n",
       "2  114800  1740.0       3.0          2       1          0                   0   \n",
       "3   94700  1980.0       3.0          2       3          0                   0   \n",
       "4  119800  2130.0       3.0          3       3          0                   0   \n",
       "\n",
       "   Neighborhood_West  \n",
       "0                  0  \n",
       "1                  0  \n",
       "2                  0  \n",
       "3                  0  \n",
       "4                  0  "
      ]
     },
     "metadata": {},
     "output_type": "display_data"
    },
    {
     "data": {
      "text/plain": [
       "Index(['Price', 'SqFt', 'Bedrooms', 'Bathrooms', 'Offers', 'Brick_Yes',\n",
       "       'Neighborhood_North', 'Neighborhood_West'],\n",
       "      dtype='object')"
      ]
     },
     "metadata": {},
     "output_type": "display_data"
    }
   ],
   "source": [
    "data_final = pd.get_dummies(data_final,['Brick','Neighborhood'],drop_first = True)\n",
    "\n",
    "display(data_final.head())\n",
    "\n",
    "display(data_final.columns)"
   ]
  },
  {
   "cell_type": "markdown",
   "metadata": {},
   "source": [
    "-- Calculating CV for all the variables to exclude that are very small."
   ]
  },
  {
   "cell_type": "code",
   "execution_count": 22,
   "metadata": {},
   "outputs": [
    {
     "data": {
      "text/plain": [
       "Price                 4.980908\n",
       "SqFt                  9.674452\n",
       "Bedrooms              4.238853\n",
       "Bathrooms             4.913538\n",
       "Offers                2.463262\n",
       "Brick_Yes             0.698836\n",
       "Neighborhood_North    0.723747\n",
       "Neighborhood_West     0.661968\n",
       "dtype: float64"
      ]
     },
     "execution_count": 22,
     "metadata": {},
     "output_type": "execute_result"
    }
   ],
   "source": [
    "cv_vars = data_final.apply(lambda x: np.mean(x)/np.std(x))\n",
    "cv_vars.to_csv(r'E:\\AI\\ALabs\\Python - ML\\Assignments-ML\\2. Predicting House Prices\\cv.csv')\n",
    "cv_vars"
   ]
  },
  {
   "cell_type": "markdown",
   "metadata": {},
   "source": [
    "-- Dropping columns whose CV is very less. if (CV(col)<0.05) exclude them."
   ]
  },
  {
   "cell_type": "code",
   "execution_count": 23,
   "metadata": {},
   "outputs": [
    {
     "data": {
      "text/plain": [
       "Price                 True\n",
       "SqFt                  True\n",
       "Bedrooms              True\n",
       "Bathrooms             True\n",
       "Offers                True\n",
       "Brick_Yes             True\n",
       "Neighborhood_North    True\n",
       "Neighborhood_West     True\n",
       "dtype: bool"
      ]
     },
     "execution_count": 23,
     "metadata": {},
     "output_type": "execute_result"
    }
   ],
   "source": [
    "cv = cv_vars.apply(lambda x: x>0.05)\n",
    "cv\n",
    "\n",
    "#Here no feature has CV < 0.05, so no dropping any feature at this stage."
   ]
  },
  {
   "cell_type": "markdown",
   "metadata": {},
   "source": [
    "# Pre-Modeling -"
   ]
  },
  {
   "cell_type": "markdown",
   "metadata": {},
   "source": []
  },
  {
   "cell_type": "markdown",
   "metadata": {},
   "source": [
    "# Modeling - Data Preparation Step 1: Based on data audit +"
   ]
  },
  {
   "cell_type": "markdown",
   "metadata": {},
   "source": [
    "-- Aggregate the data at customer level/store level/branch level based on business objective:\n",
    "\n",
    "\t  a. Joining multiple tables\t\t\t\t\t\t\t\n",
    "\t  b. appending multiple tables\t\t\t\t\t\t\t\n",
    "\t  c. creating new columns\t\t\t\t\t\t\t\n",
    "\t  d. aggregate data\t\t\t\t\t\t\t\n",
    "\t  e. Renaming the variables\t\t\t\t\t\t\t\n",
    "\t  f. converting data types"
   ]
  },
  {
   "cell_type": "code",
   "execution_count": 24,
   "metadata": {},
   "outputs": [],
   "source": [
    "        #   a. Joining multiple tables  : Not required here.                          \n",
    "        #   b. appending multiple tables  : Not required here.                        \n",
    "        #   c. creating new columns  : Not required here.                            \n",
    "        #   d. aggregate data  : Not required here.                            \n",
    "        #   e. Renaming the variables  : Not required here.                            \n",
    "        #   f. converting data types  : Not required here."
   ]
  },
  {
   "cell_type": "markdown",
   "metadata": {},
   "source": [
    "-- Handling missing values:\t\t\t\t\n",
    "\n",
    "\ta. Imputation with middle value (Mean, Median, Mode) or KNN Imputation, regression based imputation, MICE.\n",
    "\tb. Drop the variables or observations:\t\t\t\t\t\t\t\t\n",
    "\t\ti. variables with more than 25% observations missings\t\t\t\t\t\n",
    "\t\tii. observations with more than 50 % of values of columns"
   ]
  },
  {
   "cell_type": "code",
   "execution_count": 25,
   "metadata": {},
   "outputs": [],
   "source": [
    "# \ta. Imputation with middle value (Mean, Median, Mode) or KNN Imputation, regression based imputation, MICE.: Not Required.\n",
    "# \tb. Drop the variables or observations: Not Required.\n",
    "# \t\ti. variables with more than 25% observations missings: Not Required.\n",
    "# \t\tii. observations with more than 50 % of values of columns: Not Required."
   ]
  },
  {
   "cell_type": "markdown",
   "metadata": {},
   "source": [
    "-- Handling outliers:\n",
    "\n",
    "\ta. Identificiation of outliers using upper cap and lower cap\t\t\t\t\t\n",
    "\tb. Method\tLC\t                    UC\t\t\t\n",
    "\t           1\tP1, P5\t            P99, P95\t\t\t\n",
    "\t           2\tmean-3/2.5std\t    mean+3/2.5std\t\t\t\n",
    "               3\tQ1-1.5*IQR\t        Q3+1.5*IQR\t\t\t\n",
    "\t\t\t\t\t\t\n",
    "\tc. Less number of outliers, you can Cap or floor outliers\t\t\t\t\t\n",
    "\td. more number of outliers, build model for each group"
   ]
  },
  {
   "cell_type": "code",
   "execution_count": 26,
   "metadata": {},
   "outputs": [],
   "source": [
    "# \ta. Identificiation of outliers using upper cap and lower cap: Not Required. \n",
    "# \tb. Method\tLC\t                UC\t\t\t: Not Required.\n",
    "# \t   1\t    P1, P5\t            P99, P95\t\t\t\n",
    "# \t   2\t    mean-3/2.5std\t    mean+3/2.5std\t\t\t\n",
    "#      3\t    Q1-1.5*IQR\t        Q3+1.5*IQR\t\t\t\n",
    "\t\t\t\t\t\t\n",
    "# \tc. Less number of outliers, you can Cap or floor outliers: Not Required.\n",
    "# \td. more number of outliers, build model for each group: Not Required."
   ]
  },
  {
   "cell_type": "markdown",
   "metadata": {},
   "source": [
    "--2.4 Converting categorical variables into numerical variables:\n",
    "\n",
    "\ta. Ordinal\tLabel encoding\t\t\t\n",
    "\tb. Nominal\tOne-Hot encoding"
   ]
  },
  {
   "cell_type": "code",
   "execution_count": 27,
   "metadata": {},
   "outputs": [],
   "source": [
    "# \ta. Ordinal\tLabel encoding: Not Required.\n",
    "# \tb. Nominal\tOne-Hot encoding: Not Required."
   ]
  },
  {
   "cell_type": "markdown",
   "metadata": {},
   "source": [
    "# Modeling - Data Preparation Step 1: Based on data audit -"
   ]
  },
  {
   "cell_type": "code",
   "execution_count": null,
   "metadata": {},
   "outputs": [],
   "source": []
  },
  {
   "cell_type": "code",
   "execution_count": null,
   "metadata": {},
   "outputs": [],
   "source": []
  },
  {
   "cell_type": "markdown",
   "metadata": {},
   "source": [
    "# Modeling - Data Preparation Step 2: Based on the technique +"
   ]
  },
  {
   "cell_type": "markdown",
   "metadata": {},
   "source": [
    "--Apply transformations on X or Y depends on the situation"
   ]
  },
  {
   "cell_type": "markdown",
   "metadata": {},
   "source": [
    "-- Assumptions of Linear Regression: If you don’t follow the assumptions, you may end up with model with overfitting or underfitting problems:\n",
    "\n",
    "a. Y variable should follow normal distribution                \n",
    "b. Y & Each X variable should have linear relationship                \n",
    "c. No missings                \n",
    "d. No outliers                \n",
    "e. No multicollinierity                \n",
    "f. No hetroscendasticity\n",
    "\n",
    "-- Y variable should follow normal distribution"
   ]
  },
  {
   "cell_type": "code",
   "execution_count": 28,
   "metadata": {},
   "outputs": [
    {
     "data": {
      "text/plain": [
       "<AxesSubplot:>"
      ]
     },
     "execution_count": 28,
     "metadata": {},
     "output_type": "execute_result"
    },
    {
     "data": {
      "image/png": "[encoded data removed]",
      "text/plain": [
       "<Figure size 432x288 with 1 Axes>"
      ]
     },
     "metadata": {
      "needs_background": "light"
     },
     "output_type": "display_data"
    }
   ],
   "source": [
    "#Y value should be normally distributed\n",
    "data_final.Price.hist()"
   ]
  },
  {
   "cell_type": "markdown",
   "metadata": {},
   "source": [
    "-- Evaluating Best way of applying Transformation"
   ]
  },
  {
   "cell_type": "code",
   "execution_count": 29,
   "metadata": {},
   "outputs": [
    {
     "data": {
      "text/plain": [
       "<AxesSubplot:>"
      ]
     },
     "execution_count": 29,
     "metadata": {},
     "output_type": "execute_result"
    },
    {
     "data": {
      "image/png": "[encoded data removed]",
      "text/plain": [
       "<Figure size 432x288 with 1 Axes>"
      ]
     },
     "metadata": {
      "needs_background": "light"
     },
     "output_type": "display_data"
    }
   ],
   "source": [
    "data_final['ln_Price'] = np.log(data_final.Price)\n",
    "data_final.ln_Price.hist()\n",
    "#So, compare to Y normal distribution, log transformation looks little better"
   ]
  },
  {
   "cell_type": "code",
   "execution_count": 30,
   "metadata": {},
   "outputs": [
    {
     "name": "stderr",
     "output_type": "stream",
     "text": [
      "E:\\Anaconda3\\envs\\tensorflow\\lib\\site-packages\\seaborn\\distributions.py:2551: FutureWarning: `distplot` is a deprecated function and will be removed in a future version. Please adapt your code to use either `displot` (a figure-level function with similar flexibility) or `histplot` (an axes-level function for histograms).\n",
      "  warnings.warn(msg, FutureWarning)\n"
     ]
    },
    {
     "data": {
      "text/plain": [
       "<AxesSubplot:xlabel='ln_Price', ylabel='Density'>"
      ]
     },
     "execution_count": 30,
     "metadata": {},
     "output_type": "execute_result"
    },
    {
     "data": {
      "image/png": "[encoded data removed]",
      "text/plain": [
       "<Figure size 432x288 with 1 Axes>"
      ]
     },
     "metadata": {
      "needs_background": "light"
     },
     "output_type": "display_data"
    }
   ],
   "source": [
    "sns.distplot(data_final.ln_Price)"
   ]
  },
  {
   "cell_type": "markdown",
   "metadata": {},
   "source": [
    "-- Looking at the assumptions - Linearity relationship between Y & Xs"
   ]
  },
  {
   "cell_type": "code",
   "execution_count": 31,
   "metadata": {},
   "outputs": [
    {
     "data": {
      "text/html": [
       "<div>\n",
       "<style scoped>\n",
       "    .dataframe tbody tr th:only-of-type {\n",
       "        vertical-align: middle;\n",
       "    }\n",
       "\n",
       "    .dataframe tbody tr th {\n",
       "        vertical-align: top;\n",
       "    }\n",
       "\n",
       "    .dataframe thead th {\n",
       "        text-align: right;\n",
       "    }\n",
       "</style>\n",
       "<table border=\"1\" class=\"dataframe\">\n",
       "  <thead>\n",
       "    <tr style=\"text-align: right;\">\n",
       "      <th></th>\n",
       "      <th>Price</th>\n",
       "      <th>SqFt</th>\n",
       "      <th>Bedrooms</th>\n",
       "      <th>Bathrooms</th>\n",
       "      <th>Offers</th>\n",
       "      <th>Brick_Yes</th>\n",
       "      <th>Neighborhood_North</th>\n",
       "      <th>Neighborhood_West</th>\n",
       "      <th>ln_Price</th>\n",
       "    </tr>\n",
       "  </thead>\n",
       "  <tbody>\n",
       "    <tr>\n",
       "      <th>Price</th>\n",
       "      <td>1.000000</td>\n",
       "      <td>0.549070</td>\n",
       "      <td>0.523483</td>\n",
       "      <td>0.501744</td>\n",
       "      <td>-0.314728</td>\n",
       "      <td>0.452717</td>\n",
       "      <td>-0.551407</td>\n",
       "      <td>0.719472</td>\n",
       "      <td>0.992837</td>\n",
       "    </tr>\n",
       "    <tr>\n",
       "      <th>SqFt</th>\n",
       "      <td>0.549070</td>\n",
       "      <td>1.000000</td>\n",
       "      <td>0.481769</td>\n",
       "      <td>0.520577</td>\n",
       "      <td>0.338639</td>\n",
       "      <td>0.088258</td>\n",
       "      <td>-0.286627</td>\n",
       "      <td>0.247038</td>\n",
       "      <td>0.553127</td>\n",
       "    </tr>\n",
       "    <tr>\n",
       "      <th>Bedrooms</th>\n",
       "      <td>0.523483</td>\n",
       "      <td>0.481769</td>\n",
       "      <td>1.000000</td>\n",
       "      <td>0.384359</td>\n",
       "      <td>0.119065</td>\n",
       "      <td>0.038610</td>\n",
       "      <td>-0.365929</td>\n",
       "      <td>0.476137</td>\n",
       "      <td>0.506316</td>\n",
       "    </tr>\n",
       "    <tr>\n",
       "      <th>Bathrooms</th>\n",
       "      <td>0.501744</td>\n",
       "      <td>0.520577</td>\n",
       "      <td>0.384359</td>\n",
       "      <td>1.000000</td>\n",
       "      <td>0.182055</td>\n",
       "      <td>0.155127</td>\n",
       "      <td>-0.273551</td>\n",
       "      <td>0.271585</td>\n",
       "      <td>0.493268</td>\n",
       "    </tr>\n",
       "    <tr>\n",
       "      <th>Offers</th>\n",
       "      <td>-0.314728</td>\n",
       "      <td>0.338639</td>\n",
       "      <td>0.119065</td>\n",
       "      <td>0.182055</td>\n",
       "      <td>1.000000</td>\n",
       "      <td>-0.142766</td>\n",
       "      <td>0.329560</td>\n",
       "      <td>-0.329272</td>\n",
       "      <td>-0.326033</td>\n",
       "    </tr>\n",
       "    <tr>\n",
       "      <th>Brick_Yes</th>\n",
       "      <td>0.452717</td>\n",
       "      <td>0.088258</td>\n",
       "      <td>0.038610</td>\n",
       "      <td>0.155127</td>\n",
       "      <td>-0.142766</td>\n",
       "      <td>1.000000</td>\n",
       "      <td>-0.260554</td>\n",
       "      <td>0.115793</td>\n",
       "      <td>0.443745</td>\n",
       "    </tr>\n",
       "    <tr>\n",
       "      <th>Neighborhood_North</th>\n",
       "      <td>-0.551407</td>\n",
       "      <td>-0.286627</td>\n",
       "      <td>-0.365929</td>\n",
       "      <td>-0.273551</td>\n",
       "      <td>0.329560</td>\n",
       "      <td>-0.260554</td>\n",
       "      <td>1.000000</td>\n",
       "      <td>-0.479098</td>\n",
       "      <td>-0.562398</td>\n",
       "    </tr>\n",
       "    <tr>\n",
       "      <th>Neighborhood_West</th>\n",
       "      <td>0.719472</td>\n",
       "      <td>0.247038</td>\n",
       "      <td>0.476137</td>\n",
       "      <td>0.271585</td>\n",
       "      <td>-0.329272</td>\n",
       "      <td>0.115793</td>\n",
       "      <td>-0.479098</td>\n",
       "      <td>1.000000</td>\n",
       "      <td>0.697178</td>\n",
       "    </tr>\n",
       "    <tr>\n",
       "      <th>ln_Price</th>\n",
       "      <td>0.992837</td>\n",
       "      <td>0.553127</td>\n",
       "      <td>0.506316</td>\n",
       "      <td>0.493268</td>\n",
       "      <td>-0.326033</td>\n",
       "      <td>0.443745</td>\n",
       "      <td>-0.562398</td>\n",
       "      <td>0.697178</td>\n",
       "      <td>1.000000</td>\n",
       "    </tr>\n",
       "  </tbody>\n",
       "</table>\n",
       "</div>"
      ],
      "text/plain": [
       "                       Price      SqFt  Bedrooms  Bathrooms    Offers  \\\n",
       "Price               1.000000  0.549070  0.523483   0.501744 -0.314728   \n",
       "SqFt                0.549070  1.000000  0.481769   0.520577  0.338639   \n",
       "Bedrooms            0.523483  0.481769  1.000000   0.384359  0.119065   \n",
       "Bathrooms           0.501744  0.520577  0.384359   1.000000  0.182055   \n",
       "Offers             -0.314728  0.338639  0.119065   0.182055  1.000000   \n",
       "Brick_Yes           0.452717  0.088258  0.038610   0.155127 -0.142766   \n",
       "Neighborhood_North -0.551407 -0.286627 -0.365929  -0.273551  0.329560   \n",
       "Neighborhood_West   0.719472  0.247038  0.476137   0.271585 -0.329272   \n",
       "ln_Price            0.992837  0.553127  0.506316   0.493268 -0.326033   \n",
       "\n",
       "                    Brick_Yes  Neighborhood_North  Neighborhood_West  ln_Price  \n",
       "Price                0.452717           -0.551407           0.719472  0.992837  \n",
       "SqFt                 0.088258           -0.286627           0.247038  0.553127  \n",
       "Bedrooms             0.038610           -0.365929           0.476137  0.506316  \n",
       "Bathrooms            0.155127           -0.273551           0.271585  0.493268  \n",
       "Offers              -0.142766            0.329560          -0.329272 -0.326033  \n",
       "Brick_Yes            1.000000           -0.260554           0.115793  0.443745  \n",
       "Neighborhood_North  -0.260554            1.000000          -0.479098 -0.562398  \n",
       "Neighborhood_West    0.115793           -0.479098           1.000000  0.697178  \n",
       "ln_Price             0.443745           -0.562398           0.697178  1.000000  "
      ]
     },
     "execution_count": 31,
     "metadata": {},
     "output_type": "execute_result"
    }
   ],
   "source": [
    "corr_mat = data_final.corr() ##Correlation matrix...\n",
    "corr_mat.to_csv(r'E:\\AI\\ALabs\\Python - ML\\Assignments-ML\\2. Predicting House Prices\\corr_mat.csv')\n",
    "corr_mat"
   ]
  },
  {
   "cell_type": "markdown",
   "metadata": {},
   "source": [
    "-- Feature Selection - Will start eliminating the features that are big in numbers as of now"
   ]
  },
  {
   "cell_type": "code",
   "execution_count": 32,
   "metadata": {},
   "outputs": [
    {
     "name": "stdout",
     "output_type": "stream",
     "text": [
      "<class 'pandas.core.frame.DataFrame'>\n",
      "RangeIndex: 128 entries, 0 to 127\n",
      "Data columns (total 9 columns):\n",
      " #   Column              Non-Null Count  Dtype  \n",
      "---  ------              --------------  -----  \n",
      " 0   Price               128 non-null    int64  \n",
      " 1   SqFt                128 non-null    float64\n",
      " 2   Bedrooms            128 non-null    float64\n",
      " 3   Bathrooms           128 non-null    int64  \n",
      " 4   Offers              128 non-null    int64  \n",
      " 5   Brick_Yes           128 non-null    uint8  \n",
      " 6   Neighborhood_North  128 non-null    uint8  \n",
      " 7   Neighborhood_West   128 non-null    uint8  \n",
      " 8   ln_Price            128 non-null    float64\n",
      "dtypes: float64(3), int64(3), uint8(3)\n",
      "memory usage: 6.5 KB\n"
     ]
    }
   ],
   "source": [
    "data_final.info()"
   ]
  },
  {
   "cell_type": "code",
   "execution_count": 33,
   "metadata": {},
   "outputs": [],
   "source": [
    "#Features means X variables, Target means Y - variable.\n",
    "features = data_final[data_final.columns.difference(['ln_Price','Price'])]\n",
    "#Difference of this will give features\n",
    "\n",
    "target = data_final['ln_Price']"
   ]
  },
  {
   "cell_type": "code",
   "execution_count": 34,
   "metadata": {},
   "outputs": [
    {
     "data": {
      "text/html": [
       "<div>\n",
       "<style scoped>\n",
       "    .dataframe tbody tr th:only-of-type {\n",
       "        vertical-align: middle;\n",
       "    }\n",
       "\n",
       "    .dataframe tbody tr th {\n",
       "        vertical-align: top;\n",
       "    }\n",
       "\n",
       "    .dataframe thead th {\n",
       "        text-align: right;\n",
       "    }\n",
       "</style>\n",
       "<table border=\"1\" class=\"dataframe\">\n",
       "  <thead>\n",
       "    <tr style=\"text-align: right;\">\n",
       "      <th></th>\n",
       "      <th>Bathrooms</th>\n",
       "      <th>Bedrooms</th>\n",
       "      <th>Brick_Yes</th>\n",
       "      <th>Neighborhood_North</th>\n",
       "      <th>Neighborhood_West</th>\n",
       "      <th>Offers</th>\n",
       "      <th>SqFt</th>\n",
       "    </tr>\n",
       "  </thead>\n",
       "  <tbody>\n",
       "    <tr>\n",
       "      <th>0</th>\n",
       "      <td>2</td>\n",
       "      <td>2.0</td>\n",
       "      <td>0</td>\n",
       "      <td>0</td>\n",
       "      <td>0</td>\n",
       "      <td>2</td>\n",
       "      <td>1790.0</td>\n",
       "    </tr>\n",
       "    <tr>\n",
       "      <th>1</th>\n",
       "      <td>2</td>\n",
       "      <td>4.0</td>\n",
       "      <td>0</td>\n",
       "      <td>0</td>\n",
       "      <td>0</td>\n",
       "      <td>3</td>\n",
       "      <td>2030.0</td>\n",
       "    </tr>\n",
       "    <tr>\n",
       "      <th>2</th>\n",
       "      <td>2</td>\n",
       "      <td>3.0</td>\n",
       "      <td>0</td>\n",
       "      <td>0</td>\n",
       "      <td>0</td>\n",
       "      <td>1</td>\n",
       "      <td>1740.0</td>\n",
       "    </tr>\n",
       "    <tr>\n",
       "      <th>3</th>\n",
       "      <td>2</td>\n",
       "      <td>3.0</td>\n",
       "      <td>0</td>\n",
       "      <td>0</td>\n",
       "      <td>0</td>\n",
       "      <td>3</td>\n",
       "      <td>1980.0</td>\n",
       "    </tr>\n",
       "    <tr>\n",
       "      <th>4</th>\n",
       "      <td>3</td>\n",
       "      <td>3.0</td>\n",
       "      <td>0</td>\n",
       "      <td>0</td>\n",
       "      <td>0</td>\n",
       "      <td>3</td>\n",
       "      <td>2130.0</td>\n",
       "    </tr>\n",
       "    <tr>\n",
       "      <th>...</th>\n",
       "      <td>...</td>\n",
       "      <td>...</td>\n",
       "      <td>...</td>\n",
       "      <td>...</td>\n",
       "      <td>...</td>\n",
       "      <td>...</td>\n",
       "      <td>...</td>\n",
       "    </tr>\n",
       "    <tr>\n",
       "      <th>123</th>\n",
       "      <td>3</td>\n",
       "      <td>3.0</td>\n",
       "      <td>1</td>\n",
       "      <td>0</td>\n",
       "      <td>0</td>\n",
       "      <td>3</td>\n",
       "      <td>1900.0</td>\n",
       "    </tr>\n",
       "    <tr>\n",
       "      <th>124</th>\n",
       "      <td>3</td>\n",
       "      <td>4.0</td>\n",
       "      <td>1</td>\n",
       "      <td>0</td>\n",
       "      <td>0</td>\n",
       "      <td>3</td>\n",
       "      <td>2160.0</td>\n",
       "    </tr>\n",
       "    <tr>\n",
       "      <th>125</th>\n",
       "      <td>2</td>\n",
       "      <td>2.0</td>\n",
       "      <td>0</td>\n",
       "      <td>1</td>\n",
       "      <td>0</td>\n",
       "      <td>2</td>\n",
       "      <td>2070.0</td>\n",
       "    </tr>\n",
       "    <tr>\n",
       "      <th>126</th>\n",
       "      <td>3</td>\n",
       "      <td>3.0</td>\n",
       "      <td>0</td>\n",
       "      <td>0</td>\n",
       "      <td>1</td>\n",
       "      <td>1</td>\n",
       "      <td>2020.0</td>\n",
       "    </tr>\n",
       "    <tr>\n",
       "      <th>127</th>\n",
       "      <td>3</td>\n",
       "      <td>3.0</td>\n",
       "      <td>0</td>\n",
       "      <td>1</td>\n",
       "      <td>0</td>\n",
       "      <td>4</td>\n",
       "      <td>2250.0</td>\n",
       "    </tr>\n",
       "  </tbody>\n",
       "</table>\n",
       "<p>128 rows × 7 columns</p>\n",
       "</div>"
      ],
      "text/plain": [
       "     Bathrooms  Bedrooms  Brick_Yes  Neighborhood_North  Neighborhood_West  \\\n",
       "0            2       2.0          0                   0                  0   \n",
       "1            2       4.0          0                   0                  0   \n",
       "2            2       3.0          0                   0                  0   \n",
       "3            2       3.0          0                   0                  0   \n",
       "4            3       3.0          0                   0                  0   \n",
       "..         ...       ...        ...                 ...                ...   \n",
       "123          3       3.0          1                   0                  0   \n",
       "124          3       4.0          1                   0                  0   \n",
       "125          2       2.0          0                   1                  0   \n",
       "126          3       3.0          0                   0                  1   \n",
       "127          3       3.0          0                   1                  0   \n",
       "\n",
       "     Offers    SqFt  \n",
       "0         2  1790.0  \n",
       "1         3  2030.0  \n",
       "2         1  1740.0  \n",
       "3         3  1980.0  \n",
       "4         3  2130.0  \n",
       "..      ...     ...  \n",
       "123       3  1900.0  \n",
       "124       3  2160.0  \n",
       "125       2  2070.0  \n",
       "126       1  2020.0  \n",
       "127       4  2250.0  \n",
       "\n",
       "[128 rows x 7 columns]"
      ]
     },
     "execution_count": 34,
     "metadata": {},
     "output_type": "execute_result"
    }
   ],
   "source": [
    "features"
   ]
  },
  {
   "cell_type": "code",
   "execution_count": 35,
   "metadata": {},
   "outputs": [
    {
     "data": {
      "text/plain": [
       "0      11.646582\n",
       "1      11.645707\n",
       "2      11.650947\n",
       "3      11.458469\n",
       "4      11.693579\n",
       "         ...    \n",
       "123    11.692744\n",
       "124    11.904292\n",
       "125    11.639558\n",
       "126    11.917724\n",
       "127    11.732864\n",
       "Name: ln_Price, Length: 128, dtype: float64"
      ]
     },
     "execution_count": 35,
     "metadata": {},
     "output_type": "execute_result"
    }
   ],
   "source": [
    "target"
   ]
  },
  {
   "cell_type": "markdown",
   "metadata": {},
   "source": [
    "# Modeling - Data Preparation Step 2: Based on the technique -"
   ]
  },
  {
   "cell_type": "code",
   "execution_count": null,
   "metadata": {},
   "outputs": [],
   "source": []
  },
  {
   "cell_type": "code",
   "execution_count": null,
   "metadata": {},
   "outputs": [],
   "source": []
  },
  {
   "cell_type": "markdown",
   "metadata": {},
   "source": [
    "# Modeling - Data Preparation Step 3: Feature Engineering - Feature selection - Variable reduction +"
   ]
  },
  {
   "cell_type": "markdown",
   "metadata": {},
   "source": [
    "You can drop variables based on the data audit:\n",
    "\n",
    "\tIf variables having lots of missings (>25%)\t\t\t\t\t\n",
    "\tIf nominal categorical having lots of categories (>25)\t\t\t\t\t\n",
    "\tIf variable having very less variation (CV<0.05)\t\t\t\t\t\n",
    "\tUnique identifiers (Custid, Email, phone number, identification details)\t\t\t\t\t\n",
    "\tBusiness understanding \t\t\t\t\t\n"
   ]
  },
  {
   "cell_type": "code",
   "execution_count": 36,
   "metadata": {},
   "outputs": [],
   "source": [
    "# You can drop variables based on the data audit: Not required here.\n",
    "# \tIf variables having lots of missings (>25%): Not required here.\n",
    "# \tIf nominal categorical having lots of categories (>25): Not required here.\n",
    "# \tIf variable having very less variation (CV<0.05)\t\t\t\t\t\n",
    "# \tUnique identifiers (Custid, Email, phone number, identification details): Not required here.\n",
    "# \tBusiness understanding: Not required here."
   ]
  },
  {
   "cell_type": "markdown",
   "metadata": {},
   "source": [
    "--Based on the relationships:\n",
    "\n",
    "Based on Y & X relationships                    \n",
    "    Statistical methods (Corr, chisquare, Anova)                \n",
    "    RFE - Recursive Feature Elimination                \n",
    "    SelectKbest - Selecting K best features                \n",
    "    Univariate Models            f-regression    \n",
    "        Y & X            "
   ]
  },
  {
   "cell_type": "markdown",
   "metadata": {},
   "source": [
    "-- Now, will build the model & recursively eliminate the features."
   ]
  },
  {
   "cell_type": "code",
   "execution_count": 37,
   "metadata": {},
   "outputs": [],
   "source": [
    "from sklearn.feature_selection import RFE\n",
    "from sklearn.linear_model import LinearRegression\n",
    "import itertools\n",
    "\n",
    "lr = LinearRegression()\n",
    "\n",
    "#RFE\n",
    "\n",
    "#Create the RFE model & select 5 attributes.\n",
    "rfe = RFE(lr, n_features_to_select=5)\n",
    "rfe = rfe.fit(features,target)"
   ]
  },
  {
   "cell_type": "code",
   "execution_count": 38,
   "metadata": {},
   "outputs": [
    {
     "data": {
      "text/plain": [
       "Index(['Bathrooms', 'Bedrooms', 'Brick_Yes', 'Neighborhood_North',\n",
       "       'Neighborhood_West', 'Offers', 'SqFt'],\n",
       "      dtype='object')"
      ]
     },
     "execution_count": 38,
     "metadata": {},
     "output_type": "execute_result"
    }
   ],
   "source": [
    "features.columns"
   ]
  },
  {
   "cell_type": "code",
   "execution_count": 39,
   "metadata": {},
   "outputs": [
    {
     "data": {
      "text/plain": [
       "RFE(estimator=LinearRegression(), n_features_to_select=5)"
      ]
     },
     "execution_count": 39,
     "metadata": {},
     "output_type": "execute_result"
    }
   ],
   "source": [
    "rfe"
   ]
  },
  {
   "cell_type": "code",
   "execution_count": 40,
   "metadata": {},
   "outputs": [
    {
     "data": {
      "text/plain": [
       "array([ True,  True,  True, False,  True,  True, False])"
      ]
     },
     "execution_count": 40,
     "metadata": {},
     "output_type": "execute_result"
    }
   ],
   "source": [
    "rfe.support_"
   ]
  },
  {
   "cell_type": "code",
   "execution_count": 41,
   "metadata": {},
   "outputs": [
    {
     "data": {
      "text/plain": [
       "array([ True, False,  True, False,  True,  True,  True])"
      ]
     },
     "execution_count": 41,
     "metadata": {},
     "output_type": "execute_result"
    }
   ],
   "source": [
    "#So, rfe.support_ gives the 10 features to select. But such kind of feature selection sometimes not correct if we have \n",
    "#Multi-collinearity. As we see 'SqFt', etc have been eliminated above.\n",
    "\n",
    "##To handle this problem, there are some techniques that handle multi-collinearity situation and provide important \n",
    "#features to consider. RandomForestRegressor() works here.\n",
    "\n",
    "#Now, will build the model & recursively eliminate the features.\n",
    "from sklearn.feature_selection import RFE\n",
    "from sklearn.ensemble import RandomForestRegressor\n",
    "import itertools\n",
    "\n",
    "rfReg = RandomForestRegressor()\n",
    "\n",
    "#RFE\n",
    "\n",
    "#Create the RFE model & select 5 attributes.\n",
    "rfe = RFE(rfReg, n_features_to_select=5)\n",
    "rfe = rfe.fit(features,target)\n",
    "\n",
    "features.columns\n",
    "rfe.support_"
   ]
  },
  {
   "cell_type": "code",
   "execution_count": 42,
   "metadata": {},
   "outputs": [
    {
     "data": {
      "text/plain": [
       "Index(['Bathrooms', 'Brick_Yes', 'Neighborhood_West', 'Offers', 'SqFt'], dtype='object')"
      ]
     },
     "execution_count": 42,
     "metadata": {},
     "output_type": "execute_result"
    }
   ],
   "source": [
    "#So, choosing top 5 features now\n",
    "features.columns[rfe.support_]"
   ]
  },
  {
   "cell_type": "code",
   "execution_count": 43,
   "metadata": {},
   "outputs": [
    {
     "data": {
      "text/plain": [
       "array([ 40.51550573,  43.43579131,  30.89399577,  58.28915514,\n",
       "       119.1635147 ,  14.98650822,  55.5428819 ])"
      ]
     },
     "metadata": {},
     "output_type": "display_data"
    },
    {
     "data": {
      "text/plain": [
       "array([3.30768214e-09, 1.07930683e-09, 1.55243358e-07, 4.90518083e-12,\n",
       "       6.18953887e-20, 1.72918935e-04, 1.28331763e-11])"
      ]
     },
     "metadata": {},
     "output_type": "display_data"
    }
   ],
   "source": [
    "#F-Regression # Feature selection based on importance\n",
    "from sklearn.feature_selection import f_regression\n",
    "F_values, p_values = f_regression(features, target)\n",
    "display(F_values)\n",
    "display(p_values)"
   ]
  },
  {
   "cell_type": "code",
   "execution_count": 44,
   "metadata": {},
   "outputs": [
    {
     "data": {
      "text/plain": [
       "[('Bathrooms', 40.515505730485934, '0.000'),\n",
       " ('Bedrooms', 43.435791312904364, '0.000'),\n",
       " ('Brick_Yes', 30.89399577207386, '0.000'),\n",
       " ('Neighborhood_North', 58.28915514047715, '0.000'),\n",
       " ('Neighborhood_West', 119.16351469614492, '0.000'),\n",
       " ('Offers', 14.986508221660753, '0.000'),\n",
       " ('SqFt', 55.54288189641334, '0.000')]"
      ]
     },
     "execution_count": 44,
     "metadata": {},
     "output_type": "execute_result"
    }
   ],
   "source": [
    "itertools.zip_longest(features.columns, F_values, p_values)\n",
    "f_reg_results = [(i,v,z) for i, v, z in itertools.zip_longest(features.columns, F_values, ['%.3f' % p for p in p_values])]\n",
    "f_reg_results ## Tuple with Features with their F_values & p_values"
   ]
  },
  {
   "cell_type": "code",
   "execution_count": 45,
   "metadata": {},
   "outputs": [
    {
     "data": {
      "text/html": [
       "<div>\n",
       "<style scoped>\n",
       "    .dataframe tbody tr th:only-of-type {\n",
       "        vertical-align: middle;\n",
       "    }\n",
       "\n",
       "    .dataframe tbody tr th {\n",
       "        vertical-align: top;\n",
       "    }\n",
       "\n",
       "    .dataframe thead th {\n",
       "        text-align: right;\n",
       "    }\n",
       "</style>\n",
       "<table border=\"1\" class=\"dataframe\">\n",
       "  <thead>\n",
       "    <tr style=\"text-align: right;\">\n",
       "      <th></th>\n",
       "      <th>Variable</th>\n",
       "      <th>F_Value</th>\n",
       "      <th>P_Value</th>\n",
       "    </tr>\n",
       "  </thead>\n",
       "  <tbody>\n",
       "    <tr>\n",
       "      <th>4</th>\n",
       "      <td>Neighborhood_West</td>\n",
       "      <td>119.163515</td>\n",
       "      <td>0.000</td>\n",
       "    </tr>\n",
       "    <tr>\n",
       "      <th>3</th>\n",
       "      <td>Neighborhood_North</td>\n",
       "      <td>58.289155</td>\n",
       "      <td>0.000</td>\n",
       "    </tr>\n",
       "    <tr>\n",
       "      <th>6</th>\n",
       "      <td>SqFt</td>\n",
       "      <td>55.542882</td>\n",
       "      <td>0.000</td>\n",
       "    </tr>\n",
       "    <tr>\n",
       "      <th>1</th>\n",
       "      <td>Bedrooms</td>\n",
       "      <td>43.435791</td>\n",
       "      <td>0.000</td>\n",
       "    </tr>\n",
       "    <tr>\n",
       "      <th>0</th>\n",
       "      <td>Bathrooms</td>\n",
       "      <td>40.515506</td>\n",
       "      <td>0.000</td>\n",
       "    </tr>\n",
       "    <tr>\n",
       "      <th>2</th>\n",
       "      <td>Brick_Yes</td>\n",
       "      <td>30.893996</td>\n",
       "      <td>0.000</td>\n",
       "    </tr>\n",
       "    <tr>\n",
       "      <th>5</th>\n",
       "      <td>Offers</td>\n",
       "      <td>14.986508</td>\n",
       "      <td>0.000</td>\n",
       "    </tr>\n",
       "  </tbody>\n",
       "</table>\n",
       "</div>"
      ],
      "text/plain": [
       "             Variable     F_Value P_Value\n",
       "4   Neighborhood_West  119.163515   0.000\n",
       "3  Neighborhood_North   58.289155   0.000\n",
       "6                SqFt   55.542882   0.000\n",
       "1            Bedrooms   43.435791   0.000\n",
       "0           Bathrooms   40.515506   0.000\n",
       "2           Brick_Yes   30.893996   0.000\n",
       "5              Offers   14.986508   0.000"
      ]
     },
     "execution_count": 45,
     "metadata": {},
     "output_type": "execute_result"
    }
   ],
   "source": [
    "f_reg_results = pd.DataFrame(f_reg_results,columns=['Variable','F_Value', 'P_Value'])\n",
    "f_reg_results.sort_values(by=['F_Value'], ascending = False, inplace = True)\n",
    "f_reg_results.to_csv(r'E:\\AI\\ALabs\\Python - ML\\Assignments-ML\\2. Predicting House Prices\\f_reg_results.csv')\n",
    "f_reg_results\n",
    "\n",
    "#For F_Regression--> model building is not required\n",
    "#Multi-collinearity is not for Bi-Variate. It's for Uni-variate\n"
   ]
  },
  {
   "cell_type": "code",
   "execution_count": 46,
   "metadata": {},
   "outputs": [
    {
     "data": {
      "text/plain": [
       "0      11.646582\n",
       "1      11.645707\n",
       "2      11.650947\n",
       "3      11.458469\n",
       "4      11.693579\n",
       "         ...    \n",
       "123    11.692744\n",
       "124    11.904292\n",
       "125    11.639558\n",
       "126    11.917724\n",
       "127    11.732864\n",
       "Name: ln_Price, Length: 128, dtype: float64"
      ]
     },
     "execution_count": 46,
     "metadata": {},
     "output_type": "execute_result"
    }
   ],
   "source": [
    "#Whenever we see the Multi-collinearity, we should evaluate VIF to eliminate features.\n",
    "#Below list came from excel file 'f_reg_results.csv'- columns\n",
    "final_list = [\n",
    "'Neighborhood_West',\n",
    "'Neighborhood_North',\n",
    "'SqFt',\n",
    "'Bedrooms',\n",
    "'Bathrooms',\n",
    "'Brick_Yes',\n",
    "'Offers'\n",
    "]\n",
    "\n",
    "from statsmodels.stats.outliers_influence import variance_inflation_factor #This library provides VIF\n",
    "X = features[final_list] \n",
    "target"
   ]
  },
  {
   "cell_type": "code",
   "execution_count": 47,
   "metadata": {},
   "outputs": [
    {
     "data": {
      "text/html": [
       "<div>\n",
       "<style scoped>\n",
       "    .dataframe tbody tr th:only-of-type {\n",
       "        vertical-align: middle;\n",
       "    }\n",
       "\n",
       "    .dataframe tbody tr th {\n",
       "        vertical-align: top;\n",
       "    }\n",
       "\n",
       "    .dataframe thead th {\n",
       "        text-align: right;\n",
       "    }\n",
       "</style>\n",
       "<table border=\"1\" class=\"dataframe\">\n",
       "  <thead>\n",
       "    <tr style=\"text-align: right;\">\n",
       "      <th></th>\n",
       "      <th>VIF_Factor</th>\n",
       "      <th>Features</th>\n",
       "    </tr>\n",
       "  </thead>\n",
       "  <tbody>\n",
       "    <tr>\n",
       "      <th>2</th>\n",
       "      <td>60.905710</td>\n",
       "      <td>SqFt</td>\n",
       "    </tr>\n",
       "    <tr>\n",
       "      <th>4</th>\n",
       "      <td>37.086275</td>\n",
       "      <td>Bathrooms</td>\n",
       "    </tr>\n",
       "    <tr>\n",
       "      <th>3</th>\n",
       "      <td>31.801929</td>\n",
       "      <td>Bedrooms</td>\n",
       "    </tr>\n",
       "    <tr>\n",
       "      <th>6</th>\n",
       "      <td>11.039705</td>\n",
       "      <td>Offers</td>\n",
       "    </tr>\n",
       "    <tr>\n",
       "      <th>0</th>\n",
       "      <td>2.466554</td>\n",
       "      <td>Neighborhood_West</td>\n",
       "    </tr>\n",
       "    <tr>\n",
       "      <th>1</th>\n",
       "      <td>2.129110</td>\n",
       "      <td>Neighborhood_North</td>\n",
       "    </tr>\n",
       "    <tr>\n",
       "      <th>5</th>\n",
       "      <td>1.634121</td>\n",
       "      <td>Brick_Yes</td>\n",
       "    </tr>\n",
       "  </tbody>\n",
       "</table>\n",
       "</div>"
      ],
      "text/plain": [
       "   VIF_Factor            Features\n",
       "2   60.905710                SqFt\n",
       "4   37.086275           Bathrooms\n",
       "3   31.801929            Bedrooms\n",
       "6   11.039705              Offers\n",
       "0    2.466554   Neighborhood_West\n",
       "1    2.129110  Neighborhood_North\n",
       "5    1.634121           Brick_Yes"
      ]
     },
     "execution_count": 47,
     "metadata": {},
     "output_type": "execute_result"
    }
   ],
   "source": [
    "#Let's calculate VIF and save in dataframe\n",
    "vif = pd.DataFrame() #Way of creating an empty DataFrame\n",
    "vif['VIF_Factor'] = [variance_inflation_factor(X.values, i) for i in range(X.shape[1])]\n",
    "vif['Features'] = X.columns\n",
    "vif.sort_values(by='VIF_Factor', ascending = False)"
   ]
  },
  {
   "cell_type": "code",
   "execution_count": 48,
   "metadata": {},
   "outputs": [
    {
     "data": {
      "text/html": [
       "<div>\n",
       "<style scoped>\n",
       "    .dataframe tbody tr th:only-of-type {\n",
       "        vertical-align: middle;\n",
       "    }\n",
       "\n",
       "    .dataframe tbody tr th {\n",
       "        vertical-align: top;\n",
       "    }\n",
       "\n",
       "    .dataframe thead th {\n",
       "        text-align: right;\n",
       "    }\n",
       "</style>\n",
       "<table border=\"1\" class=\"dataframe\">\n",
       "  <thead>\n",
       "    <tr style=\"text-align: right;\">\n",
       "      <th></th>\n",
       "      <th>VIF_Factor</th>\n",
       "      <th>Features</th>\n",
       "    </tr>\n",
       "  </thead>\n",
       "  <tbody>\n",
       "    <tr>\n",
       "      <th>2</th>\n",
       "      <td>36.033710</td>\n",
       "      <td>SqFt</td>\n",
       "    </tr>\n",
       "    <tr>\n",
       "      <th>3</th>\n",
       "      <td>31.488328</td>\n",
       "      <td>Bedrooms</td>\n",
       "    </tr>\n",
       "    <tr>\n",
       "      <th>5</th>\n",
       "      <td>10.908520</td>\n",
       "      <td>Offers</td>\n",
       "    </tr>\n",
       "    <tr>\n",
       "      <th>0</th>\n",
       "      <td>2.439270</td>\n",
       "      <td>Neighborhood_West</td>\n",
       "    </tr>\n",
       "    <tr>\n",
       "      <th>1</th>\n",
       "      <td>2.119273</td>\n",
       "      <td>Neighborhood_North</td>\n",
       "    </tr>\n",
       "    <tr>\n",
       "      <th>4</th>\n",
       "      <td>1.610924</td>\n",
       "      <td>Brick_Yes</td>\n",
       "    </tr>\n",
       "  </tbody>\n",
       "</table>\n",
       "</div>"
      ],
      "text/plain": [
       "   VIF_Factor            Features\n",
       "2   36.033710                SqFt\n",
       "3   31.488328            Bedrooms\n",
       "5   10.908520              Offers\n",
       "0    2.439270   Neighborhood_West\n",
       "1    2.119273  Neighborhood_North\n",
       "4    1.610924           Brick_Yes"
      ]
     },
     "execution_count": 48,
     "metadata": {},
     "output_type": "execute_result"
    }
   ],
   "source": [
    "#We see above that VIF value is higher for 'SqFt' & 'Bathrooms' columns. So, will try to eliminate 1 feature at a time\n",
    "#to see the effect.\n",
    "\n",
    "#Will start considering 'Bathrooms' first as 'SqFt' is an important feature. \n",
    "\n",
    "final_list = [\n",
    "'Neighborhood_West',\n",
    "'Neighborhood_North',\n",
    "'SqFt',\n",
    "'Bedrooms',\n",
    "#'Bathrooms',\n",
    "'Brick_Yes',\n",
    "'Offers'\n",
    "]\n",
    "\n",
    "X = features[final_list] \n",
    "\n",
    "#Let's calculate VIF and save in dataframe\n",
    "vif = pd.DataFrame() #Way of creating an empty DataFrame\n",
    "vif['VIF_Factor'] = [variance_inflation_factor(X.values, i) for i in range(X.shape[1])]\n",
    "vif['Features'] = X.columns\n",
    "vif.sort_values(by='VIF_Factor', ascending = False)\n",
    "\n",
    "#We can see that, VIF values have come down significantly now."
   ]
  },
  {
   "cell_type": "code",
   "execution_count": 49,
   "metadata": {},
   "outputs": [
    {
     "data": {
      "text/html": [
       "<div>\n",
       "<style scoped>\n",
       "    .dataframe tbody tr th:only-of-type {\n",
       "        vertical-align: middle;\n",
       "    }\n",
       "\n",
       "    .dataframe tbody tr th {\n",
       "        vertical-align: top;\n",
       "    }\n",
       "\n",
       "    .dataframe thead th {\n",
       "        text-align: right;\n",
       "    }\n",
       "</style>\n",
       "<table border=\"1\" class=\"dataframe\">\n",
       "  <thead>\n",
       "    <tr style=\"text-align: right;\">\n",
       "      <th></th>\n",
       "      <th>VIF_Factor</th>\n",
       "      <th>Features</th>\n",
       "    </tr>\n",
       "  </thead>\n",
       "  <tbody>\n",
       "    <tr>\n",
       "      <th>2</th>\n",
       "      <td>13.579241</td>\n",
       "      <td>SqFt</td>\n",
       "    </tr>\n",
       "    <tr>\n",
       "      <th>4</th>\n",
       "      <td>10.529542</td>\n",
       "      <td>Offers</td>\n",
       "    </tr>\n",
       "    <tr>\n",
       "      <th>0</th>\n",
       "      <td>2.079855</td>\n",
       "      <td>Neighborhood_West</td>\n",
       "    </tr>\n",
       "    <tr>\n",
       "      <th>1</th>\n",
       "      <td>2.072834</td>\n",
       "      <td>Neighborhood_North</td>\n",
       "    </tr>\n",
       "    <tr>\n",
       "      <th>3</th>\n",
       "      <td>1.606362</td>\n",
       "      <td>Brick_Yes</td>\n",
       "    </tr>\n",
       "  </tbody>\n",
       "</table>\n",
       "</div>"
      ],
      "text/plain": [
       "   VIF_Factor            Features\n",
       "2   13.579241                SqFt\n",
       "4   10.529542              Offers\n",
       "0    2.079855   Neighborhood_West\n",
       "1    2.072834  Neighborhood_North\n",
       "3    1.606362           Brick_Yes"
      ]
     },
     "execution_count": 49,
     "metadata": {},
     "output_type": "execute_result"
    }
   ],
   "source": [
    "#We see above that VIF value is higher for 'SqFt' & 'Bathrooms' columns. So, will try to eliminate 1 feature at a time\n",
    "#to see the effect.\n",
    "\n",
    "#Eliminating now Bedrooms after Bathrooms\n",
    "\n",
    "final_list = [\n",
    "'Neighborhood_West',\n",
    "'Neighborhood_North',\n",
    "'SqFt',\n",
    "#'Bedrooms',\n",
    "#'Bathrooms',\n",
    "'Brick_Yes',\n",
    "'Offers'\n",
    "]\n",
    "\n",
    "X = features[final_list] \n",
    "\n",
    "#Let's calculate VIF and save in dataframe\n",
    "vif = pd.DataFrame() #Way of creating an empty DataFrame\n",
    "vif['VIF_Factor'] = [variance_inflation_factor(X.values, i) for i in range(X.shape[1])]\n",
    "vif['Features'] = X.columns\n",
    "vif.sort_values(by='VIF_Factor', ascending = False)\n",
    "\n",
    "#We can see that, VIF values have come down significantly now."
   ]
  },
  {
   "cell_type": "code",
   "execution_count": 50,
   "metadata": {},
   "outputs": [
    {
     "data": {
      "text/html": [
       "<div>\n",
       "<style scoped>\n",
       "    .dataframe tbody tr th:only-of-type {\n",
       "        vertical-align: middle;\n",
       "    }\n",
       "\n",
       "    .dataframe tbody tr th {\n",
       "        vertical-align: top;\n",
       "    }\n",
       "\n",
       "    .dataframe thead th {\n",
       "        text-align: right;\n",
       "    }\n",
       "</style>\n",
       "<table border=\"1\" class=\"dataframe\">\n",
       "  <thead>\n",
       "    <tr style=\"text-align: right;\">\n",
       "      <th></th>\n",
       "      <th>VIF_Factor</th>\n",
       "      <th>Features</th>\n",
       "    </tr>\n",
       "  </thead>\n",
       "  <tbody>\n",
       "    <tr>\n",
       "      <th>2</th>\n",
       "      <td>3.586662</td>\n",
       "      <td>SqFt</td>\n",
       "    </tr>\n",
       "    <tr>\n",
       "      <th>1</th>\n",
       "      <td>1.955746</td>\n",
       "      <td>Neighborhood_North</td>\n",
       "    </tr>\n",
       "    <tr>\n",
       "      <th>0</th>\n",
       "      <td>1.898675</td>\n",
       "      <td>Neighborhood_West</td>\n",
       "    </tr>\n",
       "    <tr>\n",
       "      <th>3</th>\n",
       "      <td>1.588754</td>\n",
       "      <td>Brick_Yes</td>\n",
       "    </tr>\n",
       "  </tbody>\n",
       "</table>\n",
       "</div>"
      ],
      "text/plain": [
       "   VIF_Factor            Features\n",
       "2    3.586662                SqFt\n",
       "1    1.955746  Neighborhood_North\n",
       "0    1.898675   Neighborhood_West\n",
       "3    1.588754           Brick_Yes"
      ]
     },
     "execution_count": 50,
     "metadata": {},
     "output_type": "execute_result"
    }
   ],
   "source": [
    "#We see above that VIF value is higher for 'SqFt' & 'Bathrooms' columns. So, will try to eliminate 1 feature at a time\n",
    "#to see the effect.\n",
    "\n",
    "#Eliminating now Offers  after Bathrooms, Bedrooms\n",
    "\n",
    "final_list = [\n",
    "'Neighborhood_West',\n",
    "'Neighborhood_North',\n",
    "'SqFt',\n",
    "#'Bedrooms',\n",
    "#'Bathrooms',\n",
    "'Brick_Yes',\n",
    "#'Offers'\n",
    "]\n",
    "\n",
    "X = features[final_list] \n",
    "\n",
    "#Let's calculate VIF and save in dataframe\n",
    "vif = pd.DataFrame() #Way of creating an empty DataFrame\n",
    "vif['VIF_Factor'] = [variance_inflation_factor(X.values, i) for i in range(X.shape[1])]\n",
    "vif['Features'] = X.columns\n",
    "vif.sort_values(by='VIF_Factor', ascending = False)\n",
    "\n",
    "#We can see that, VIF values have come down significantly now."
   ]
  },
  {
   "cell_type": "code",
   "execution_count": 51,
   "metadata": {},
   "outputs": [
    {
     "data": {
      "text/html": [
       "<div>\n",
       "<style scoped>\n",
       "    .dataframe tbody tr th:only-of-type {\n",
       "        vertical-align: middle;\n",
       "    }\n",
       "\n",
       "    .dataframe tbody tr th {\n",
       "        vertical-align: top;\n",
       "    }\n",
       "\n",
       "    .dataframe thead th {\n",
       "        text-align: right;\n",
       "    }\n",
       "</style>\n",
       "<table border=\"1\" class=\"dataframe\">\n",
       "  <thead>\n",
       "    <tr style=\"text-align: right;\">\n",
       "      <th></th>\n",
       "      <th>Neighborhood_West</th>\n",
       "      <th>Neighborhood_North</th>\n",
       "      <th>SqFt</th>\n",
       "      <th>Brick_Yes</th>\n",
       "    </tr>\n",
       "  </thead>\n",
       "  <tbody>\n",
       "    <tr>\n",
       "      <th>0</th>\n",
       "      <td>0</td>\n",
       "      <td>0</td>\n",
       "      <td>1790.0</td>\n",
       "      <td>0</td>\n",
       "    </tr>\n",
       "    <tr>\n",
       "      <th>1</th>\n",
       "      <td>0</td>\n",
       "      <td>0</td>\n",
       "      <td>2030.0</td>\n",
       "      <td>0</td>\n",
       "    </tr>\n",
       "    <tr>\n",
       "      <th>2</th>\n",
       "      <td>0</td>\n",
       "      <td>0</td>\n",
       "      <td>1740.0</td>\n",
       "      <td>0</td>\n",
       "    </tr>\n",
       "    <tr>\n",
       "      <th>3</th>\n",
       "      <td>0</td>\n",
       "      <td>0</td>\n",
       "      <td>1980.0</td>\n",
       "      <td>0</td>\n",
       "    </tr>\n",
       "    <tr>\n",
       "      <th>4</th>\n",
       "      <td>0</td>\n",
       "      <td>0</td>\n",
       "      <td>2130.0</td>\n",
       "      <td>0</td>\n",
       "    </tr>\n",
       "    <tr>\n",
       "      <th>...</th>\n",
       "      <td>...</td>\n",
       "      <td>...</td>\n",
       "      <td>...</td>\n",
       "      <td>...</td>\n",
       "    </tr>\n",
       "    <tr>\n",
       "      <th>123</th>\n",
       "      <td>0</td>\n",
       "      <td>0</td>\n",
       "      <td>1900.0</td>\n",
       "      <td>1</td>\n",
       "    </tr>\n",
       "    <tr>\n",
       "      <th>124</th>\n",
       "      <td>0</td>\n",
       "      <td>0</td>\n",
       "      <td>2160.0</td>\n",
       "      <td>1</td>\n",
       "    </tr>\n",
       "    <tr>\n",
       "      <th>125</th>\n",
       "      <td>0</td>\n",
       "      <td>1</td>\n",
       "      <td>2070.0</td>\n",
       "      <td>0</td>\n",
       "    </tr>\n",
       "    <tr>\n",
       "      <th>126</th>\n",
       "      <td>1</td>\n",
       "      <td>0</td>\n",
       "      <td>2020.0</td>\n",
       "      <td>0</td>\n",
       "    </tr>\n",
       "    <tr>\n",
       "      <th>127</th>\n",
       "      <td>0</td>\n",
       "      <td>1</td>\n",
       "      <td>2250.0</td>\n",
       "      <td>0</td>\n",
       "    </tr>\n",
       "  </tbody>\n",
       "</table>\n",
       "<p>128 rows × 4 columns</p>\n",
       "</div>"
      ],
      "text/plain": [
       "     Neighborhood_West  Neighborhood_North    SqFt  Brick_Yes\n",
       "0                    0                   0  1790.0          0\n",
       "1                    0                   0  2030.0          0\n",
       "2                    0                   0  1740.0          0\n",
       "3                    0                   0  1980.0          0\n",
       "4                    0                   0  2130.0          0\n",
       "..                 ...                 ...     ...        ...\n",
       "123                  0                   0  1900.0          1\n",
       "124                  0                   0  2160.0          1\n",
       "125                  0                   1  2070.0          0\n",
       "126                  1                   0  2020.0          0\n",
       "127                  0                   1  2250.0          0\n",
       "\n",
       "[128 rows x 4 columns]"
      ]
     },
     "execution_count": 51,
     "metadata": {},
     "output_type": "execute_result"
    }
   ],
   "source": [
    "#So, we can say that it's an iterative process to eliminate the features.\n",
    "#Also, by seeing last list of features along with VIF values, it seems that now there is no multi-collinearity left now.\n",
    "\n",
    "#So, let's now what are our features available after removing the multi-collinearity\n",
    "X"
   ]
  },
  {
   "cell_type": "code",
   "execution_count": 52,
   "metadata": {},
   "outputs": [
    {
     "name": "stdout",
     "output_type": "stream",
     "text": [
      "<class 'pandas.core.frame.DataFrame'>\n",
      "RangeIndex: 128 entries, 0 to 127\n",
      "Data columns (total 4 columns):\n",
      " #   Column              Non-Null Count  Dtype  \n",
      "---  ------              --------------  -----  \n",
      " 0   Neighborhood_West   128 non-null    uint8  \n",
      " 1   Neighborhood_North  128 non-null    uint8  \n",
      " 2   SqFt                128 non-null    float64\n",
      " 3   Brick_Yes           128 non-null    uint8  \n",
      "dtypes: float64(1), uint8(3)\n",
      "memory usage: 1.5 KB\n"
     ]
    }
   ],
   "source": [
    "X.info()"
   ]
  },
  {
   "cell_type": "code",
   "execution_count": 53,
   "metadata": {},
   "outputs": [
    {
     "data": {
      "text/html": [
       "<div>\n",
       "<style scoped>\n",
       "    .dataframe tbody tr th:only-of-type {\n",
       "        vertical-align: middle;\n",
       "    }\n",
       "\n",
       "    .dataframe tbody tr th {\n",
       "        vertical-align: top;\n",
       "    }\n",
       "\n",
       "    .dataframe thead th {\n",
       "        text-align: right;\n",
       "    }\n",
       "</style>\n",
       "<table border=\"1\" class=\"dataframe\">\n",
       "  <thead>\n",
       "    <tr style=\"text-align: right;\">\n",
       "      <th></th>\n",
       "      <th>Neighborhood_West</th>\n",
       "      <th>Neighborhood_North</th>\n",
       "      <th>SqFt</th>\n",
       "      <th>Brick_Yes</th>\n",
       "      <th>ln_Price</th>\n",
       "    </tr>\n",
       "  </thead>\n",
       "  <tbody>\n",
       "    <tr>\n",
       "      <th>0</th>\n",
       "      <td>0</td>\n",
       "      <td>0</td>\n",
       "      <td>1790.0</td>\n",
       "      <td>0</td>\n",
       "      <td>11.646582</td>\n",
       "    </tr>\n",
       "    <tr>\n",
       "      <th>1</th>\n",
       "      <td>0</td>\n",
       "      <td>0</td>\n",
       "      <td>2030.0</td>\n",
       "      <td>0</td>\n",
       "      <td>11.645707</td>\n",
       "    </tr>\n",
       "    <tr>\n",
       "      <th>2</th>\n",
       "      <td>0</td>\n",
       "      <td>0</td>\n",
       "      <td>1740.0</td>\n",
       "      <td>0</td>\n",
       "      <td>11.650947</td>\n",
       "    </tr>\n",
       "    <tr>\n",
       "      <th>3</th>\n",
       "      <td>0</td>\n",
       "      <td>0</td>\n",
       "      <td>1980.0</td>\n",
       "      <td>0</td>\n",
       "      <td>11.458469</td>\n",
       "    </tr>\n",
       "    <tr>\n",
       "      <th>4</th>\n",
       "      <td>0</td>\n",
       "      <td>0</td>\n",
       "      <td>2130.0</td>\n",
       "      <td>0</td>\n",
       "      <td>11.693579</td>\n",
       "    </tr>\n",
       "  </tbody>\n",
       "</table>\n",
       "</div>"
      ],
      "text/plain": [
       "   Neighborhood_West  Neighborhood_North    SqFt  Brick_Yes   ln_Price\n",
       "0                  0                   0  1790.0          0  11.646582\n",
       "1                  0                   0  2030.0          0  11.645707\n",
       "2                  0                   0  1740.0          0  11.650947\n",
       "3                  0                   0  1980.0          0  11.458469\n",
       "4                  0                   0  2130.0          0  11.693579"
      ]
     },
     "execution_count": 53,
     "metadata": {},
     "output_type": "execute_result"
    }
   ],
   "source": [
    "data_final1 = pd.concat([X,target],axis=1)\n",
    "data_final1.head()"
   ]
  },
  {
   "cell_type": "code",
   "execution_count": 54,
   "metadata": {},
   "outputs": [
    {
     "name": "stdout",
     "output_type": "stream",
     "text": [
      "<class 'pandas.core.frame.DataFrame'>\n",
      "RangeIndex: 128 entries, 0 to 127\n",
      "Data columns (total 5 columns):\n",
      " #   Column              Non-Null Count  Dtype  \n",
      "---  ------              --------------  -----  \n",
      " 0   Neighborhood_West   128 non-null    uint8  \n",
      " 1   Neighborhood_North  128 non-null    uint8  \n",
      " 2   SqFt                128 non-null    float64\n",
      " 3   Brick_Yes           128 non-null    uint8  \n",
      " 4   ln_Price            128 non-null    float64\n",
      "dtypes: float64(2), uint8(3)\n",
      "memory usage: 2.5 KB\n"
     ]
    }
   ],
   "source": [
    "data_final1.info()"
   ]
  },
  {
   "cell_type": "markdown",
   "metadata": {},
   "source": [
    "# Modeling - Data Preparation Step 3: Feature Engineering - Feature selection - Variable reduction -"
   ]
  },
  {
   "cell_type": "code",
   "execution_count": null,
   "metadata": {},
   "outputs": [],
   "source": []
  },
  {
   "cell_type": "code",
   "execution_count": null,
   "metadata": {},
   "outputs": [],
   "source": []
  },
  {
   "cell_type": "markdown",
   "metadata": {},
   "source": [
    "# Modeling - Data Preparation Step 4: +\n",
    "--Split the data into Train (build) & Test (validate) 70:30\t\t\t\n",
    "\tTrain\tSRS of 70% of total data\t\t\t\n",
    "\tTest\tSRS of 30% of remaining sample"
   ]
  },
  {
   "cell_type": "code",
   "execution_count": 55,
   "metadata": {},
   "outputs": [
    {
     "data": {
      "text/plain": [
       "(89, 5)"
      ]
     },
     "metadata": {},
     "output_type": "display_data"
    },
    {
     "data": {
      "text/plain": [
       "(39, 5)"
      ]
     },
     "metadata": {},
     "output_type": "display_data"
    }
   ],
   "source": [
    "#Now, we can split the data into train & test.\n",
    "train,test =  train_test_split(data_final1, test_size=0.3,)\n",
    "display(train.shape)\n",
    "display(test.shape)"
   ]
  },
  {
   "cell_type": "markdown",
   "metadata": {},
   "source": [
    "--Build the model on Train data (Development data)\t\n",
    "\n",
    "\tAll variables coming significant or not\t\t\t\t\t\t\t\n",
    "\tModel possible or not\t\t\t\t\t\t\t\n",
    "\tHaving good goodness of fit metric (R^2)\t\t\t\t\t\t\t\n",
    "\tVariables signs of coefficients are matching with individual correlations coeficients\t\t\t\t\t\t\t\n",
    "\t\t\t\t\t\t\t\t\n",
    "\tFinal mathematical equation & predict the value for train data\t"
   ]
  },
  {
   "cell_type": "code",
   "execution_count": 56,
   "metadata": {},
   "outputs": [
    {
     "data": {
      "text/plain": [
       "Index(['Neighborhood_West', 'Neighborhood_North', 'SqFt', 'Brick_Yes'], dtype='object')"
      ]
     },
     "metadata": {},
     "output_type": "display_data"
    },
    {
     "data": {
      "text/plain": [
       "'ln_Price ~ Neighborhood_West+Neighborhood_North+SqFt+Brick_Yes'"
      ]
     },
     "metadata": {},
     "output_type": "display_data"
    }
   ],
   "source": [
    "#Let's see the available features \n",
    "display(X.columns)\n",
    "\n",
    "#Now let's prepare the equation containing target & all features; to input to model.\n",
    "eqn = 'ln_Price ~ ' + '+'.join(X.columns)\n",
    "display(eqn)\n",
    "eqn = 'ln_Price ~ Neighborhood_West+Neighborhood_North+SqFt+Brick_Yes'"
   ]
  },
  {
   "cell_type": "markdown",
   "metadata": {},
   "source": [
    "--Metrics\tR-Square\t\t\t\t\t\t\n",
    "\n",
    "\t\tMAPE/RMSE/MSE/RMSPE\t\t\t\t\t\t\n",
    "\t\t\t\t\t\t\t\t\n",
    "\t\tCorr(Actual, predicted) should be high\t\t\t\t\t\t\n",
    "\t\tCorr(Actual, errors) should be low\t\t\t\t\t\t\n",
    "\t\t\t\t\t\t\t\t\n",
    "\t\tDecile analysis\t\t"
   ]
  },
  {
   "cell_type": "code",
   "execution_count": 57,
   "metadata": {},
   "outputs": [
    {
     "name": "stdout",
     "output_type": "stream",
     "text": [
      "                            OLS Regression Results                            \n",
      "==============================================================================\n",
      "Dep. Variable:               ln_Price   R-squared:                       0.804\n",
      "Model:                            OLS   Adj. R-squared:                  0.795\n",
      "Method:                 Least Squares   F-statistic:                     86.20\n",
      "Date:                Sun, 06 Dec 2020   Prob (F-statistic):           6.41e-29\n",
      "Time:                        23:48:05   Log-Likelihood:                 87.011\n",
      "No. Observations:                  89   AIC:                            -164.0\n",
      "Df Residuals:                      84   BIC:                            -151.6\n",
      "Df Model:                           4                                         \n",
      "Covariance Type:            nonrobust                                         \n",
      "======================================================================================\n",
      "                         coef    std err          t      P>|t|      [0.025      0.975]\n",
      "--------------------------------------------------------------------------------------\n",
      "Intercept             11.0059      0.108    101.476      0.000      10.790      11.222\n",
      "Neighborhood_West      0.2310      0.024      9.628      0.000       0.183       0.279\n",
      "Neighborhood_North    -0.0657      0.025     -2.588      0.011      -0.116      -0.015\n",
      "SqFt                   0.0003    5.4e-05      6.127      0.000       0.000       0.000\n",
      "Brick_Yes              0.1390      0.022      6.398      0.000       0.096       0.182\n",
      "==============================================================================\n",
      "Omnibus:                        7.409   Durbin-Watson:                   1.901\n",
      "Prob(Omnibus):                  0.025   Jarque-Bera (JB):               10.421\n",
      "Skew:                          -0.322   Prob(JB):                      0.00546\n",
      "Kurtosis:                       4.548   Cond. No.                     2.19e+04\n",
      "==============================================================================\n",
      "\n",
      "Notes:\n",
      "[1] Standard Errors assume that the covariance matrix of the errors is correctly specified.\n",
      "[2] The condition number is large, 2.19e+04. This might indicate that there are\n",
      "strong multicollinearity or other numerical problems.\n"
     ]
    }
   ],
   "source": [
    "#Let's use OLS method now...\n",
    "ols_model = smp.ols(formula = eqn, data=train) #Here, equation & data is changed.\n",
    "ols_model_output = ols_model.fit()\n",
    "\n",
    "print(ols_model_output.summary())"
   ]
  },
  {
   "cell_type": "code",
   "execution_count": 58,
   "metadata": {},
   "outputs": [
    {
     "name": "stdout",
     "output_type": "stream",
     "text": [
      "                            OLS Regression Results                            \n",
      "==============================================================================\n",
      "Dep. Variable:               ln_Price   R-squared:                       0.788\n",
      "Model:                            OLS   Adj. R-squared:                  0.781\n",
      "Method:                 Least Squares   F-statistic:                     105.6\n",
      "Date:                Sun, 06 Dec 2020   Prob (F-statistic):           1.40e-28\n",
      "Time:                        23:48:05   Log-Likelihood:                 83.597\n",
      "No. Observations:                  89   AIC:                            -159.2\n",
      "Df Residuals:                      85   BIC:                            -149.2\n",
      "Df Model:                           3                                         \n",
      "Covariance Type:            nonrobust                                         \n",
      "=====================================================================================\n",
      "                        coef    std err          t      P>|t|      [0.025      0.975]\n",
      "-------------------------------------------------------------------------------------\n",
      "Intercept            10.9221      0.107    102.155      0.000      10.709      11.135\n",
      "Neighborhood_West     0.2573      0.022     11.457      0.000       0.213       0.302\n",
      "SqFt                  0.0004   5.48e-05      6.515      0.000       0.000       0.000\n",
      "Brick_Yes             0.1475      0.022      6.653      0.000       0.103       0.192\n",
      "==============================================================================\n",
      "Omnibus:                        5.889   Durbin-Watson:                   1.898\n",
      "Prob(Omnibus):                  0.053   Jarque-Bera (JB):                6.740\n",
      "Skew:                          -0.321   Prob(JB):                       0.0344\n",
      "Kurtosis:                       4.186   Cond. No.                     2.09e+04\n",
      "==============================================================================\n",
      "\n",
      "Notes:\n",
      "[1] Standard Errors assume that the covariance matrix of the errors is correctly specified.\n",
      "[2] The condition number is large, 2.09e+04. This might indicate that there are\n",
      "strong multicollinearity or other numerical problems.\n"
     ]
    }
   ],
   "source": [
    "#Let's use OLS method now...\n",
    "#We are reducing the features iteratively on the basis of P-value here. If p-value is high, will reduce that feature.\n",
    "#Iterative feature reduction based on high p-value...\n",
    "# Removing  Neighborhood_North\n",
    "\n",
    "eqn = 'ln_Price ~ Neighborhood_West+SqFt+Brick_Yes'\n",
    "ols_model = smp.ols(formula = eqn, data=train) #Here, equation & data is changed.\n",
    "ols_model_output = ols_model.fit()\n",
    "\n",
    "print(ols_model_output.summary())"
   ]
  },
  {
   "cell_type": "code",
   "execution_count": 59,
   "metadata": {},
   "outputs": [],
   "source": [
    "#Mathematical equation \n",
    "#ln_Price = 0.2478*Neighborhood_West + 0.0004*SqFt + 0.1540*Brick_Yes + 10.9176\n",
    "##But above is not the actual mathematical equation. Actual eqn will be below, using exp().\n",
    "\n",
    "#Price = exp(0.2478*Neighborhood_West + 0.0004*SqFt + 0.1540*Brick_Yes + 10.9176)"
   ]
  },
  {
   "cell_type": "markdown",
   "metadata": {},
   "source": [
    "--Validate the model using test data (new data)\t\t\t\t\t\t\t\t\n",
    "\n",
    "\tPredict value using mathematical equation finalized in the above step\t\t\t\t\t\t\t\n",
    "\t\t\t\t\t\t\t\t\n",
    "\tCalculate all the below metrics for test data\t\t\t\t\t\t\t\n",
    "\tMetrics\tR-Square\t\t\t\t\t\t\n",
    "\t\tMAPE/RMSE/MSE/RMSPE\t\t\t\t\t\t\n",
    "\t\t\t\t\t\t\t\t\n",
    "\t\tCorr(Actual, predicted) should be high\t\t\t\t\t\t\n",
    "\t\tCorr(Actual, errors) should be low\t\t\t\t\t\t\n",
    "\t\t\t\t\t\t\t\t\n",
    "\t\tDecile analysis\t\t\t\t"
   ]
  },
  {
   "cell_type": "code",
   "execution_count": 60,
   "metadata": {},
   "outputs": [
    {
     "data": {
      "text/plain": [
       "118    11.766309\n",
       "45     11.568769\n",
       "28     11.493735\n",
       "64     11.843954\n",
       "107    11.744871\n",
       "         ...    \n",
       "5      11.558050\n",
       "31     11.759163\n",
       "20     11.561623\n",
       "99     12.070079\n",
       "104    11.604499\n",
       "Length: 89, dtype: float64"
      ]
     },
     "execution_count": 60,
     "metadata": {},
     "output_type": "execute_result"
    }
   ],
   "source": [
    "ols_model_output.predict(train)"
   ]
  },
  {
   "cell_type": "code",
   "execution_count": 61,
   "metadata": {},
   "outputs": [
    {
     "data": {
      "text/plain": [
       "118    128837.715526\n",
       "45     105743.192040\n",
       "28      98099.268502\n",
       "64     139239.990593\n",
       "107    126105.069241\n",
       "           ...      \n",
       "5      104615.776011\n",
       "31     127920.316525\n",
       "20     104990.239394\n",
       "99     174569.571337\n",
       "104    109589.732599\n",
       "Length: 89, dtype: float64"
      ]
     },
     "execution_count": 61,
     "metadata": {},
     "output_type": "execute_result"
    }
   ],
   "source": [
    "#But above is not the actual train prediction, as Y should be exp(). i.e.\n",
    "train_predicted = np.exp(ols_model_output.predict(train))\n",
    "train_predicted"
   ]
  },
  {
   "cell_type": "code",
   "execution_count": 62,
   "metadata": {},
   "outputs": [
    {
     "data": {
      "text/plain": [
       "98     149554.294129\n",
       "124    138876.787798\n",
       "96     132437.921979\n",
       "78     118551.829263\n",
       "22     101305.138569\n",
       "119    109981.999842\n",
       "18     117828.239256\n",
       "121    110375.671173\n",
       "2      103131.230722\n",
       "101    124188.375439\n",
       "42     112767.467710\n",
       "41     138248.521381\n",
       "49     117828.239256\n",
       "67     114800.175930\n",
       "50     135931.212920\n",
       "117    109981.999842\n",
       "52     119402.040807\n",
       "46     112767.467710\n",
       "105    175371.964413\n",
       "90     142257.265357\n",
       "109    117707.671717\n",
       "54      99867.572726\n",
       "32     143415.261365\n",
       "35     116452.692429\n",
       "110    102031.662982\n",
       "106    118551.829263\n",
       "11     125207.128261\n",
       "17     112767.467710\n",
       "82     172708.340092\n",
       "127    123745.439033\n",
       "53     117287.849710\n",
       "62     158353.187254\n",
       "25     125526.720098\n",
       "51     107649.283044\n",
       "30     185501.835950\n",
       "65     110915.913592\n",
       "123    126556.451745\n",
       "37     170083.314729\n",
       "95     167841.498906\n",
       "dtype: float64"
      ]
     },
     "execution_count": 62,
     "metadata": {},
     "output_type": "execute_result"
    }
   ],
   "source": [
    "#Similarly, test predcition\n",
    "test_predicted = np.exp(ols_model_output.predict(test))\n",
    "test_predicted"
   ]
  },
  {
   "cell_type": "code",
   "execution_count": 63,
   "metadata": {},
   "outputs": [],
   "source": [
    "#Metrics (MAPE, RMSE, MSE, RMSPE)\n",
    "train_actual = np.exp(train.ln_Price)\n",
    "test_actual = np.exp (test.ln_Price)"
   ]
  },
  {
   "cell_type": "code",
   "execution_count": 64,
   "metadata": {},
   "outputs": [
    {
     "data": {
      "text/plain": [
       "11604.753383441808"
      ]
     },
     "metadata": {},
     "output_type": "display_data"
    },
    {
     "data": {
      "text/plain": [
       "13213.412036067555"
      ]
     },
     "metadata": {},
     "output_type": "display_data"
    }
   ],
   "source": [
    "#RMSE\n",
    "##Error --\n",
    "train_actual - train_predicted\n",
    "\n",
    "##Square Error --\n",
    "np.square(train_actual - train_predicted)\n",
    "\n",
    "##Mean Square Error --\n",
    "np.mean(np.square(train_actual - train_predicted))\n",
    "\n",
    "##Root Mean Square Error --\n",
    "train_RMSE = np.sqrt(np.mean(np.square(train_actual - train_predicted)))\n",
    "display(train_RMSE)\n",
    "\n",
    "#Similarly,\n",
    "test_RMSE = np.sqrt(np.mean(np.square(test_actual - test_predicted)))\n",
    "display(test_RMSE)"
   ]
  },
  {
   "cell_type": "code",
   "execution_count": 65,
   "metadata": {},
   "outputs": [
    {
     "data": {
      "text/plain": [
       "0.09705094456878822"
      ]
     },
     "metadata": {},
     "output_type": "display_data"
    },
    {
     "data": {
      "text/plain": [
       "0.1115550709342136"
      ]
     },
     "metadata": {},
     "output_type": "display_data"
    }
   ],
   "source": [
    "#RMSPE\n",
    "train_RMSPE = np.sqrt(np.mean(np.square((train_actual-train_predicted)/train_actual)))\n",
    "display(train_RMSPE)\n",
    "test_RMSPE  = np.sqrt(np.mean(np.square((test_actual-test_predicted)/test_actual)))\n",
    "display(test_RMSPE)"
   ]
  },
  {
   "cell_type": "code",
   "execution_count": 66,
   "metadata": {},
   "outputs": [],
   "source": [
    "#So, now if we see that these matrix are similar that means we are now confident that level 1 validation is done."
   ]
  },
  {
   "cell_type": "markdown",
   "metadata": {},
   "source": [
    "--cross check if the metrics between train & test similar or not\t\t\t\t\t\t\t\n",
    "    \n",
    "\t\t\t\t\t\t\n",
    "   Once ensured there is no problem of overfitting and underfitting, you can finalize the model"
   ]
  },
  {
   "cell_type": "code",
   "execution_count": 67,
   "metadata": {},
   "outputs": [
    {
     "data": {
      "text/plain": [
       "array([[1.        , 0.90584863],\n",
       "       [0.90584863, 1.        ]])"
      ]
     },
     "metadata": {},
     "output_type": "display_data"
    },
    {
     "data": {
      "text/plain": [
       "array([[1.        , 0.83021426],\n",
       "       [0.83021426, 1.        ]])"
      ]
     },
     "metadata": {},
     "output_type": "display_data"
    }
   ],
   "source": [
    "#Now co-relation between actual & predicted:\n",
    "display(np.corrcoef(train_actual, train_predicted))\n",
    "display(np.corrcoef(test_actual, test_predicted))"
   ]
  },
  {
   "cell_type": "code",
   "execution_count": 68,
   "metadata": {},
   "outputs": [
    {
     "data": {
      "text/plain": [
       "118    21362.284474\n",
       "45     -2543.192040\n",
       "28    -16529.268502\n",
       "64     -8939.990593\n",
       "107     7894.930759\n",
       "           ...     \n",
       "5       9984.223989\n",
       "31    -15620.316525\n",
       "20     11209.760606\n",
       "99     -3569.571337\n",
       "104   -27289.732599\n",
       "Length: 89, dtype: float64"
      ]
     },
     "metadata": {},
     "output_type": "display_data"
    },
    {
     "data": {
      "text/plain": [
       "98     -4054.294129\n",
       "124     9023.212202\n",
       "96       862.078021\n",
       "78      2748.170737\n",
       "22     -9605.138569\n",
       "119     -281.999842\n",
       "18     -6428.239256\n",
       "121    -4775.671173\n",
       "2      11668.769278\n",
       "101    -1088.375439\n",
       "42     -7167.467710\n",
       "41     -4648.521381\n",
       "49    -10328.239256\n",
       "67     37099.824070\n",
       "50     15168.787080\n",
       "117     7818.000158\n",
       "52     -2002.040807\n",
       "46     17032.532290\n",
       "105   -28471.964413\n",
       "90       842.734643\n",
       "109    -9007.671717\n",
       "54    -18297.572726\n",
       "32     -8415.261365\n",
       "35       647.307571\n",
       "110     9568.337018\n",
       "106   -10051.829263\n",
       "11     -2207.128261\n",
       "17    -29167.467710\n",
       "82     -7908.340092\n",
       "127      854.560967\n",
       "53     13512.150290\n",
       "62      2946.812746\n",
       "25     23773.279902\n",
       "51    -16549.283044\n",
       "30     -3501.835950\n",
       "65       184.086408\n",
       "123    -6856.451745\n",
       "37    -23083.314729\n",
       "95    -15341.498906\n",
       "dtype: float64"
      ]
     },
     "metadata": {},
     "output_type": "display_data"
    }
   ],
   "source": [
    "#Check\n",
    "#Errors following normal distribution\n",
    "#Errors should not have relationship with Y\n",
    "\n",
    "train_errors = train_actual-train_predicted\n",
    "display(train_errors)\n",
    "\n",
    "test_errors = test_actual-test_predicted\n",
    "display(test_errors)"
   ]
  },
  {
   "cell_type": "code",
   "execution_count": 69,
   "metadata": {},
   "outputs": [
    {
     "name": "stderr",
     "output_type": "stream",
     "text": [
      "E:\\Anaconda3\\envs\\tensorflow\\lib\\site-packages\\seaborn\\distributions.py:2551: FutureWarning: `distplot` is a deprecated function and will be removed in a future version. Please adapt your code to use either `displot` (a figure-level function with similar flexibility) or `histplot` (an axes-level function for histograms).\n",
      "  warnings.warn(msg, FutureWarning)\n"
     ]
    },
    {
     "data": {
      "text/plain": [
       "<AxesSubplot:ylabel='Density'>"
      ]
     },
     "execution_count": 69,
     "metadata": {},
     "output_type": "execute_result"
    },
    {
     "data": {
      "image/png": "[encoded data removed]",
      "text/plain": [
       "<Figure size 432x288 with 1 Axes>"
      ]
     },
     "metadata": {
      "needs_background": "light"
     },
     "output_type": "display_data"
    }
   ],
   "source": [
    "#By seeing above result, ideally the distribution should be Normal. If it is not then, we'll still have opportunity to furthure\n",
    "#correct the model.\n",
    "sns.distplot(train_errors)\n",
    "\n",
    "#So, it is not Normal. Some skewness on right side, so still have scope to improve it further."
   ]
  },
  {
   "cell_type": "code",
   "execution_count": 70,
   "metadata": {},
   "outputs": [
    {
     "data": {
      "text/html": [
       "<div>\n",
       "<style scoped>\n",
       "    .dataframe tbody tr th:only-of-type {\n",
       "        vertical-align: middle;\n",
       "    }\n",
       "\n",
       "    .dataframe tbody tr th {\n",
       "        vertical-align: top;\n",
       "    }\n",
       "\n",
       "    .dataframe thead th {\n",
       "        text-align: right;\n",
       "    }\n",
       "</style>\n",
       "<table border=\"1\" class=\"dataframe\">\n",
       "  <thead>\n",
       "    <tr style=\"text-align: right;\">\n",
       "      <th></th>\n",
       "      <th>actual</th>\n",
       "      <th>pred</th>\n",
       "    </tr>\n",
       "    <tr>\n",
       "      <th>Deciles</th>\n",
       "      <th></th>\n",
       "      <th></th>\n",
       "    </tr>\n",
       "  </thead>\n",
       "  <tbody>\n",
       "    <tr>\n",
       "      <th>0</th>\n",
       "      <td>101474.444444</td>\n",
       "      <td>99946.836229</td>\n",
       "    </tr>\n",
       "    <tr>\n",
       "      <th>1</th>\n",
       "      <td>107572.727273</td>\n",
       "      <td>107738.776668</td>\n",
       "    </tr>\n",
       "    <tr>\n",
       "      <th>2</th>\n",
       "      <td>111755.555556</td>\n",
       "      <td>112505.853343</td>\n",
       "    </tr>\n",
       "    <tr>\n",
       "      <th>3</th>\n",
       "      <td>119971.428571</td>\n",
       "      <td>116164.504756</td>\n",
       "    </tr>\n",
       "    <tr>\n",
       "      <th>4</th>\n",
       "      <td>121333.333333</td>\n",
       "      <td>123544.301596</td>\n",
       "    </tr>\n",
       "    <tr>\n",
       "      <th>5</th>\n",
       "      <td>132250.000000</td>\n",
       "      <td>131115.223877</td>\n",
       "    </tr>\n",
       "    <tr>\n",
       "      <th>6</th>\n",
       "      <td>140033.333333</td>\n",
       "      <td>137958.342549</td>\n",
       "    </tr>\n",
       "    <tr>\n",
       "      <th>7</th>\n",
       "      <td>146722.222222</td>\n",
       "      <td>147872.836456</td>\n",
       "    </tr>\n",
       "    <tr>\n",
       "      <th>8</th>\n",
       "      <td>162888.888889</td>\n",
       "      <td>160717.080923</td>\n",
       "    </tr>\n",
       "    <tr>\n",
       "      <th>9</th>\n",
       "      <td>182050.222222</td>\n",
       "      <td>182120.486530</td>\n",
       "    </tr>\n",
       "  </tbody>\n",
       "</table>\n",
       "</div>"
      ],
      "text/plain": [
       "                actual           pred\n",
       "Deciles                              \n",
       "0        101474.444444   99946.836229\n",
       "1        107572.727273  107738.776668\n",
       "2        111755.555556  112505.853343\n",
       "3        119971.428571  116164.504756\n",
       "4        121333.333333  123544.301596\n",
       "5        132250.000000  131115.223877\n",
       "6        140033.333333  137958.342549\n",
       "7        146722.222222  147872.836456\n",
       "8        162888.888889  160717.080923\n",
       "9        182050.222222  182120.486530"
      ]
     },
     "execution_count": 70,
     "metadata": {},
     "output_type": "execute_result"
    }
   ],
   "source": [
    "#Decile Analysis: Dividing data into 10 parts based on cut-offs(p10,p20,p30,..)\n",
    "##Decile is used to avoid comparison between each actual & predicted values. It helps to create certain no. of bins (10 here),\n",
    "##to see the comparison of different bins and to find out if actual & predicted values are increasing/decreasing in sync.\n",
    "\n",
    "train_results = pd.concat([train_actual, train_predicted], axis=1)\n",
    "test_results = pd.concat([test_actual, test_predicted], axis=1)\n",
    "train_results.columns = ['actual', 'pred']\n",
    "test_results.columns = ['actual', 'pred']\n",
    "\n",
    "train_results['Deciles']=pd.qcut(train_results['pred'],10, labels=False)\n",
    "train_results.groupby(['Deciles']).apply(mean)[['actual','pred']]"
   ]
  },
  {
   "cell_type": "code",
   "execution_count": 71,
   "metadata": {},
   "outputs": [
    {
     "data": {
      "text/html": [
       "<div>\n",
       "<style scoped>\n",
       "    .dataframe tbody tr th:only-of-type {\n",
       "        vertical-align: middle;\n",
       "    }\n",
       "\n",
       "    .dataframe tbody tr th {\n",
       "        vertical-align: top;\n",
       "    }\n",
       "\n",
       "    .dataframe thead th {\n",
       "        text-align: right;\n",
       "    }\n",
       "</style>\n",
       "<table border=\"1\" class=\"dataframe\">\n",
       "  <thead>\n",
       "    <tr style=\"text-align: right;\">\n",
       "      <th></th>\n",
       "      <th>actual</th>\n",
       "      <th>pred</th>\n",
       "    </tr>\n",
       "    <tr>\n",
       "      <th>Deciles</th>\n",
       "      <th></th>\n",
       "      <th></th>\n",
       "    </tr>\n",
       "  </thead>\n",
       "  <tbody>\n",
       "    <tr>\n",
       "      <th>0</th>\n",
       "      <td>99917.5</td>\n",
       "      <td>101583.901250</td>\n",
       "    </tr>\n",
       "    <tr>\n",
       "      <th>1</th>\n",
       "      <td>106050.0</td>\n",
       "      <td>109497.238475</td>\n",
       "    </tr>\n",
       "    <tr>\n",
       "      <th>2</th>\n",
       "      <td>107525.0</td>\n",
       "      <td>112304.579180</td>\n",
       "    </tr>\n",
       "    <tr>\n",
       "      <th>3</th>\n",
       "      <td>127125.0</td>\n",
       "      <td>116562.097446</td>\n",
       "    </tr>\n",
       "    <tr>\n",
       "      <th>4</th>\n",
       "      <td>112175.0</td>\n",
       "      <td>118190.034260</td>\n",
       "    </tr>\n",
       "    <tr>\n",
       "      <th>5</th>\n",
       "      <td>121700.0</td>\n",
       "      <td>122445.285093</td>\n",
       "    </tr>\n",
       "    <tr>\n",
       "      <th>6</th>\n",
       "      <td>131325.0</td>\n",
       "      <td>127432.055521</td>\n",
       "    </tr>\n",
       "    <tr>\n",
       "      <th>7</th>\n",
       "      <td>143925.0</td>\n",
       "      <td>138828.446864</td>\n",
       "    </tr>\n",
       "    <tr>\n",
       "      <th>8</th>\n",
       "      <td>148575.0</td>\n",
       "      <td>154791.060414</td>\n",
       "    </tr>\n",
       "    <tr>\n",
       "      <th>9</th>\n",
       "      <td>160175.0</td>\n",
       "      <td>175916.363796</td>\n",
       "    </tr>\n",
       "  </tbody>\n",
       "</table>\n",
       "</div>"
      ],
      "text/plain": [
       "           actual           pred\n",
       "Deciles                         \n",
       "0         99917.5  101583.901250\n",
       "1        106050.0  109497.238475\n",
       "2        107525.0  112304.579180\n",
       "3        127125.0  116562.097446\n",
       "4        112175.0  118190.034260\n",
       "5        121700.0  122445.285093\n",
       "6        131325.0  127432.055521\n",
       "7        143925.0  138828.446864\n",
       "8        148575.0  154791.060414\n",
       "9        160175.0  175916.363796"
      ]
     },
     "execution_count": 71,
     "metadata": {},
     "output_type": "execute_result"
    }
   ],
   "source": [
    "test_results['Deciles']=pd.qcut(test_results['pred'],10, labels=False)\n",
    "test_results.groupby(['Deciles']).apply(mean)[['actual','pred']]"
   ]
  },
  {
   "cell_type": "code",
   "execution_count": 72,
   "metadata": {},
   "outputs": [],
   "source": [
    "import joblib\n",
    "\n",
    "#from sklearn.externals import joblib\n",
    "joblib.dump(ols_model_output, 'ols_model')\n",
    "\n",
    "#### Lets save everything in metrics_df to pickle object\n",
    "import pickle\n",
    "\n",
    "# now you can save it to a file\n",
    "with open(r'E:\\AI\\ALabs\\Python - ML\\Assignments-ML\\2. Predicting House Prices\\HousePricing_ols.pkl', 'wb') as f:\n",
    "    pickle.dump(ols_model_output, f)\n",
    "    \n",
    "# and later you can load it\n",
    "with open(r'E:\\AI\\ALabs\\Python - ML\\Assignments-ML\\2. Predicting House Prices\\HousePricing_ols.pkl', 'rb') as f:\n",
    "    model = pickle.load(f)"
   ]
  },
  {
   "cell_type": "code",
   "execution_count": 73,
   "metadata": {},
   "outputs": [
    {
     "name": "stdout",
     "output_type": "stream",
     "text": [
      "                            OLS Regression Results                            \n",
      "==============================================================================\n",
      "Dep. Variable:               ln_Price   R-squared:                       0.788\n",
      "Model:                            OLS   Adj. R-squared:                  0.781\n",
      "Method:                 Least Squares   F-statistic:                     105.6\n",
      "Date:                Sun, 06 Dec 2020   Prob (F-statistic):           1.40e-28\n",
      "Time:                        23:48:06   Log-Likelihood:                 83.597\n",
      "No. Observations:                  89   AIC:                            -159.2\n",
      "Df Residuals:                      85   BIC:                            -149.2\n",
      "Df Model:                           3                                         \n",
      "Covariance Type:            nonrobust                                         \n",
      "=====================================================================================\n",
      "                        coef    std err          t      P>|t|      [0.025      0.975]\n",
      "-------------------------------------------------------------------------------------\n",
      "Intercept            10.9221      0.107    102.155      0.000      10.709      11.135\n",
      "Neighborhood_West     0.2573      0.022     11.457      0.000       0.213       0.302\n",
      "SqFt                  0.0004   5.48e-05      6.515      0.000       0.000       0.000\n",
      "Brick_Yes             0.1475      0.022      6.653      0.000       0.103       0.192\n",
      "==============================================================================\n",
      "Omnibus:                        5.889   Durbin-Watson:                   1.898\n",
      "Prob(Omnibus):                  0.053   Jarque-Bera (JB):                6.740\n",
      "Skew:                          -0.321   Prob(JB):                       0.0344\n",
      "Kurtosis:                       4.186   Cond. No.                     2.09e+04\n",
      "==============================================================================\n",
      "\n",
      "Notes:\n",
      "[1] Standard Errors assume that the covariance matrix of the errors is correctly specified.\n",
      "[2] The condition number is large, 2.09e+04. This might indicate that there are\n",
      "strong multicollinearity or other numerical problems.\n"
     ]
    }
   ],
   "source": [
    "print(model.summary())"
   ]
  },
  {
   "cell_type": "code",
   "execution_count": 74,
   "metadata": {},
   "outputs": [
    {
     "name": "stdout",
     "output_type": "stream",
     "text": [
      "                            OLS Regression Results                            \n",
      "==============================================================================\n",
      "Dep. Variable:               ln_Price   R-squared:                       0.757\n",
      "Model:                            OLS   Adj. R-squared:                  0.752\n",
      "Method:                 Least Squares   F-statistic:                     129.0\n",
      "Date:                Sun, 06 Dec 2020   Prob (F-statistic):           5.73e-38\n",
      "Time:                        23:48:06   Log-Likelihood:                 115.00\n",
      "No. Observations:                 128   AIC:                            -222.0\n",
      "Df Residuals:                     124   BIC:                            -210.6\n",
      "Df Model:                           3                                         \n",
      "Covariance Type:            nonrobust                                         \n",
      "=====================================================================================\n",
      "                        coef    std err          t      P>|t|      [0.025      0.975]\n",
      "-------------------------------------------------------------------------------------\n",
      "Intercept            10.8930      0.087    124.502      0.000      10.720      11.066\n",
      "Neighborhood_West     0.2444      0.020     12.263      0.000       0.205       0.284\n",
      "SqFt                  0.0004   4.42e-05      8.390      0.000       0.000       0.000\n",
      "Brick_Yes             0.1469      0.019      7.726      0.000       0.109       0.184\n",
      "==============================================================================\n",
      "Omnibus:                        6.064   Durbin-Watson:                   2.331\n",
      "Prob(Omnibus):                  0.048   Jarque-Bera (JB):                7.644\n",
      "Skew:                          -0.248   Prob(JB):                       0.0219\n",
      "Kurtosis:                       4.089   Cond. No.                     1.99e+04\n",
      "==============================================================================\n",
      "\n",
      "Notes:\n",
      "[1] Standard Errors assume that the covariance matrix of the errors is correctly specified.\n",
      "[2] The condition number is large, 1.99e+04. This might indicate that there are\n",
      "strong multicollinearity or other numerical problems.\n"
     ]
    }
   ],
   "source": [
    "eqn = 'ln_Price ~ Neighborhood_West + SqFt + Brick_Yes'\n",
    "#smp.ols(formula = 'y~x1+x2+x3+x4', data=data_final)\n",
    "\n",
    "ols_model = smp.ols(formula = eqn, data=data_final)\n",
    "ols_model_output = ols_model.fit()\n",
    "print(ols_model_output.summary())"
   ]
  },
  {
   "cell_type": "markdown",
   "metadata": {},
   "source": [
    "# Modeling - Data Preparation Step 4 -"
   ]
  },
  {
   "cell_type": "code",
   "execution_count": null,
   "metadata": {},
   "outputs": [],
   "source": []
  }
 ],
 "metadata": {
  "kernelspec": {
   "display_name": "Python 3",
   "language": "python",
   "name": "python3"
  },
  "language_info": {
   "codemirror_mode": {
    "name": "ipython",
    "version": 3
   },
   "file_extension": ".py",
   "mimetype": "text/x-python",
   "name": "python",
   "nbconvert_exporter": "python",
   "pygments_lexer": "ipython3",
   "version": "3.7.9"
  }
 },
 "nbformat": 4,
 "nbformat_minor": 4
}
