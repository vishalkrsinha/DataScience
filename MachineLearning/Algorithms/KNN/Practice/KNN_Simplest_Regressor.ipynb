{
 "cells": [
  {
   "cell_type": "markdown",
   "id": "c443f89d",
   "metadata": {},
   "source": [
    "Source:: https://www.tutorialspoint.com/machine_learning_with_python/machine_learning_with_python_knn_algorithm_finding_nearest_neighbors.htm"
   ]
  },
  {
   "cell_type": "markdown",
   "id": "146166c5",
   "metadata": {},
   "source": [
    "# Importing packages"
   ]
  },
  {
   "cell_type": "code",
   "execution_count": 109,
   "id": "4d012253",
   "metadata": {},
   "outputs": [],
   "source": [
    "import pandas as pd\n",
    "import matplotlib.pyplot as plt\n",
    "from sklearn.model_selection import GridSearchCV\n",
    "from sklearn.metrics import mean_squared_error, accuracy_score\n",
    "from sklearn.neighbors import KNeighborsRegressor\n",
    "from sklearn.preprocessing import StandardScaler\n",
    "from math import sqrt"
   ]
  },
  {
   "cell_type": "markdown",
   "id": "e82c4252",
   "metadata": {},
   "source": [
    "# Loading data"
   ]
  },
  {
   "cell_type": "code",
   "execution_count": 110,
   "id": "134f37ad",
   "metadata": {},
   "outputs": [
    {
     "data": {
      "text/html": [
       "<div>\n",
       "<style scoped>\n",
       "    .dataframe tbody tr th:only-of-type {\n",
       "        vertical-align: middle;\n",
       "    }\n",
       "\n",
       "    .dataframe tbody tr th {\n",
       "        vertical-align: top;\n",
       "    }\n",
       "\n",
       "    .dataframe thead th {\n",
       "        text-align: right;\n",
       "    }\n",
       "</style>\n",
       "<table border=\"1\" class=\"dataframe\">\n",
       "  <thead>\n",
       "    <tr style=\"text-align: right;\">\n",
       "      <th></th>\n",
       "      <th>0.455</th>\n",
       "      <th>0.365</th>\n",
       "      <th>0.095</th>\n",
       "      <th>0.514</th>\n",
       "      <th>0.2245</th>\n",
       "      <th>0.101</th>\n",
       "      <th>0.15</th>\n",
       "      <th>15</th>\n",
       "    </tr>\n",
       "  </thead>\n",
       "  <tbody>\n",
       "    <tr>\n",
       "      <th>0</th>\n",
       "      <td>0.350</td>\n",
       "      <td>0.265</td>\n",
       "      <td>0.090</td>\n",
       "      <td>0.2255</td>\n",
       "      <td>0.0995</td>\n",
       "      <td>0.0485</td>\n",
       "      <td>0.070</td>\n",
       "      <td>7</td>\n",
       "    </tr>\n",
       "    <tr>\n",
       "      <th>1</th>\n",
       "      <td>0.530</td>\n",
       "      <td>0.420</td>\n",
       "      <td>0.135</td>\n",
       "      <td>0.6770</td>\n",
       "      <td>0.2565</td>\n",
       "      <td>0.1415</td>\n",
       "      <td>0.210</td>\n",
       "      <td>9</td>\n",
       "    </tr>\n",
       "    <tr>\n",
       "      <th>2</th>\n",
       "      <td>0.440</td>\n",
       "      <td>0.365</td>\n",
       "      <td>0.125</td>\n",
       "      <td>0.5160</td>\n",
       "      <td>0.2155</td>\n",
       "      <td>0.1140</td>\n",
       "      <td>0.155</td>\n",
       "      <td>10</td>\n",
       "    </tr>\n",
       "    <tr>\n",
       "      <th>3</th>\n",
       "      <td>0.330</td>\n",
       "      <td>0.255</td>\n",
       "      <td>0.080</td>\n",
       "      <td>0.2050</td>\n",
       "      <td>0.0895</td>\n",
       "      <td>0.0395</td>\n",
       "      <td>0.055</td>\n",
       "      <td>7</td>\n",
       "    </tr>\n",
       "    <tr>\n",
       "      <th>4</th>\n",
       "      <td>0.425</td>\n",
       "      <td>0.300</td>\n",
       "      <td>0.095</td>\n",
       "      <td>0.3515</td>\n",
       "      <td>0.1410</td>\n",
       "      <td>0.0775</td>\n",
       "      <td>0.120</td>\n",
       "      <td>8</td>\n",
       "    </tr>\n",
       "  </tbody>\n",
       "</table>\n",
       "</div>"
      ],
      "text/plain": [
       "   0.455  0.365  0.095   0.514  0.2245   0.101   0.15  15\n",
       "0  0.350  0.265  0.090  0.2255  0.0995  0.0485  0.070   7\n",
       "1  0.530  0.420  0.135  0.6770  0.2565  0.1415  0.210   9\n",
       "2  0.440  0.365  0.125  0.5160  0.2155  0.1140  0.155  10\n",
       "3  0.330  0.255  0.080  0.2050  0.0895  0.0395  0.055   7\n",
       "4  0.425  0.300  0.095  0.3515  0.1410  0.0775  0.120   8"
      ]
     },
     "execution_count": 110,
     "metadata": {},
     "output_type": "execute_result"
    }
   ],
   "source": [
    "url = (\"https://archive.ics.uci.edu/ml/machine-learning-databases/abalone/abalone.data\")\n",
    "abalone = pd.read_csv(url)\n",
    "abalone.head()\n",
    "\n",
    "#Since sex is not a purely physical measure, you should remove it from the dataset. \n",
    "\n",
    "abalone = abalone.drop(\"M\",axis=1)\n",
    "abalone.head()"
   ]
  },
  {
   "cell_type": "code",
   "execution_count": 111,
   "id": "62cd6dca",
   "metadata": {},
   "outputs": [
    {
     "data": {
      "image/png": "[encoded data removed]",
      "text/plain": [
       "<Figure size 432x288 with 1 Axes>"
      ]
     },
     "metadata": {
      "needs_background": "light"
     },
     "output_type": "display_data"
    }
   ],
   "source": [
    "abalone[\"15\"].hist(bins=15)\n",
    "plt.show()"
   ]
  },
  {
   "cell_type": "markdown",
   "id": "7c1bdead",
   "metadata": {},
   "source": [
    "# Split Train/Test data"
   ]
  },
  {
   "cell_type": "code",
   "execution_count": 112,
   "id": "72207b83",
   "metadata": {},
   "outputs": [
    {
     "data": {
      "application/javascript": [
       "\n",
       "        if (window._pyforest_update_imports_cell) { window._pyforest_update_imports_cell('from sklearn.preprocessing import StandardScaler\\nfrom sklearn.model_selection import train_test_split\\nfrom sklearn.model_selection import GridSearchCV'); }\n",
       "    "
      ],
      "text/plain": [
       "<IPython.core.display.Javascript object>"
      ]
     },
     "metadata": {},
     "output_type": "display_data"
    }
   ],
   "source": [
    "X = abalone.drop(\"15\", axis=1)\n",
    "X = X.values\n",
    "\n",
    "y = abalone[\"15\"]\n",
    "y = y.values\n",
    "\n",
    "X_train, X_test, y_train, y_test = train_test_split(X, y, test_size=0.2, random_state=12345)"
   ]
  },
  {
   "cell_type": "markdown",
   "id": "d471c0a3",
   "metadata": {},
   "source": [
    "# Data scaling"
   ]
  },
  {
   "cell_type": "code",
   "execution_count": 113,
   "id": "1f46ec5f",
   "metadata": {},
   "outputs": [],
   "source": [
    "#Feature scaling is essential for machine learning algorithms that calculate distances between data. \n",
    "##If not scale, the feature with a higher value range starts dominating when calculating distances\n",
    "\n",
    "scaler = StandardScaler()\n",
    "scaler.fit(X_train)\n",
    "X_train = scaler.transform(X_train)\n",
    "X_test = scaler.transform(X_test)\n",
    "\n",
    "#model.fit() performs the training, \n",
    "##model.transform() changes the data in the pipeline in order to pass it on to the next stage in the pipeline"
   ]
  },
  {
   "cell_type": "markdown",
   "id": "a0bb0132",
   "metadata": {},
   "source": [
    "# Apply Regression & then do the Prediction"
   ]
  },
  {
   "cell_type": "code",
   "execution_count": 114,
   "id": "af5b2928",
   "metadata": {},
   "outputs": [
    {
     "data": {
      "text/plain": [
       "{'n_neighbors': 21, 'weights': 'distance'}"
      ]
     },
     "execution_count": 114,
     "metadata": {},
     "output_type": "execute_result"
    }
   ],
   "source": [
    "param_grid={'n_neighbors': range(1, 50),'weights': ['uniform', 'distance']}\n",
    "gridsearch = GridSearchCV(KNeighborsRegressor(), param_grid)\n",
    "gridsearch.fit(X_train, y_train)\n",
    "\n",
    "gridsearch.best_params_"
   ]
  },
  {
   "cell_type": "code",
   "execution_count": 115,
   "id": "2a863c91",
   "metadata": {},
   "outputs": [
    {
     "data": {
      "text/plain": [
       "0.528655744996187"
      ]
     },
     "execution_count": 115,
     "metadata": {},
     "output_type": "execute_result"
    }
   ],
   "source": [
    "gridsearch.best_score_"
   ]
  },
  {
   "cell_type": "code",
   "execution_count": 116,
   "id": "63dad986",
   "metadata": {},
   "outputs": [
    {
     "data": {
      "text/plain": [
       "KNeighborsRegressor(n_neighbors=21)"
      ]
     },
     "execution_count": 116,
     "metadata": {},
     "output_type": "execute_result"
    }
   ],
   "source": [
    "best_model = KNeighborsRegressor(n_neighbors=21, weights='uniform')\n",
    "best_model.fit(X_train, y_train)"
   ]
  },
  {
   "cell_type": "code",
   "execution_count": 117,
   "id": "d0c8d67a",
   "metadata": {},
   "outputs": [
    {
     "data": {
      "text/plain": [
       "2.1062831014697774"
      ]
     },
     "metadata": {},
     "output_type": "display_data"
    },
    {
     "data": {
      "text/plain": [
       "2.171417354161927"
      ]
     },
     "metadata": {},
     "output_type": "display_data"
    }
   ],
   "source": [
    "# Using RMSE, we can easily plot a difference between the estimated and actual values of a parameter of the model.\n",
    "\n",
    "train_preds_grid = best_model.predict(X_train)\n",
    "train_mse = mean_squared_error(y_train, train_preds_grid)\n",
    "train_rmse = sqrt(train_mse)\n",
    "display(train_rmse)\n",
    "\n",
    "\n",
    "test_preds_grid = best_model.predict(X_test)\n",
    "test_mse = mean_squared_error(y_test, test_preds_grid)\n",
    "test_rmse = sqrt(test_mse)\n",
    "display(test_rmse)"
   ]
  },
  {
   "cell_type": "code",
   "execution_count": null,
   "id": "a7294974",
   "metadata": {},
   "outputs": [],
   "source": []
  }
 ],
 "metadata": {
  "kernelspec": {
   "display_name": "Python 3",
   "language": "python",
   "name": "python3"
  },
  "language_info": {
   "codemirror_mode": {
    "name": "ipython",
    "version": 3
   },
   "file_extension": ".py",
   "mimetype": "text/x-python",
   "name": "python",
   "nbconvert_exporter": "python",
   "pygments_lexer": "ipython3",
   "version": "3.8.10"
  }
 },
 "nbformat": 4,
 "nbformat_minor": 5
}
