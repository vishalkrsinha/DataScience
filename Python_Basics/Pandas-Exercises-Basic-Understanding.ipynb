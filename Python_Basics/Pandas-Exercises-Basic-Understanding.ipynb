{
 "cells": [
  {
   "cell_type": "markdown",
   "metadata": {},
   "source": [
    "# Pokemon"
   ]
  },
  {
   "cell_type": "markdown",
   "metadata": {},
   "source": [
    "### Introduction:\n",
    "\n",
    "This time you will create the data.\n",
    "\n",
    "\n",
    "\n",
    "### Step 1. Import the necessary libraries (pandas, numpy etc)"
   ]
  },
  {
   "cell_type": "code",
   "execution_count": 1,
   "metadata": {},
   "outputs": [],
   "source": [
    "import pandas as pd\n",
    "import numpy as np"
   ]
  },
  {
   "cell_type": "markdown",
   "metadata": {},
   "source": [
    "### Step 2. Run the below line of code to create a dictionary"
   ]
  },
  {
   "cell_type": "code",
   "execution_count": 2,
   "metadata": {},
   "outputs": [],
   "source": [
    "raw_data = {\"name\": ['Bulbasaur', 'Charmander','Squirtle','Caterpie'],\n",
    "            \"evolution\": ['Ivysaur','Charmeleon','Wartortle','Metapod'],\n",
    "            \"type\": ['grass', 'fire', 'water', 'bug'],\n",
    "            \"hp\": [45, 39, 44, 45],\n",
    "            \"pokedex\": ['yes', 'no','yes','no']                        \n",
    "            }"
   ]
  },
  {
   "cell_type": "markdown",
   "metadata": {},
   "source": [
    "### Step 3. Assign it to a variable called pokemon and it should be a pandas Series."
   ]
  },
  {
   "cell_type": "code",
   "execution_count": 6,
   "metadata": {},
   "outputs": [
    {
     "data": {
      "text/plain": [
       "name         [Bulbasaur, Charmander, Squirtle, Caterpie]\n",
       "evolution      [Ivysaur, Charmeleon, Wartortle, Metapod]\n",
       "type                           [grass, fire, water, bug]\n",
       "hp                                      [45, 39, 44, 45]\n",
       "pokedex                               [yes, no, yes, no]\n",
       "dtype: object"
      ]
     },
     "execution_count": 6,
     "metadata": {},
     "output_type": "execute_result"
    }
   ],
   "source": [
    "pokemon = pd.Series(raw_data)\n",
    "pokemon\n",
    "\n",
    "# p  = pd.DataFrame(raw_data.items())\n",
    "# p"
   ]
  },
  {
   "cell_type": "markdown",
   "metadata": {},
   "source": [
    "### Step 4. If the DataFrame columns are in alphabetical order, change the order of the columns as name, type, hp, evolution, pokedex"
   ]
  },
  {
   "cell_type": "code",
   "execution_count": 4,
   "metadata": {},
   "outputs": [
    {
     "data": {
      "text/plain": [
       "name         [Bulbasaur, Charmander, Squirtle, Caterpie]\n",
       "type                           [grass, fire, water, bug]\n",
       "hp                                      [45, 39, 44, 45]\n",
       "evolution      [Ivysaur, Charmeleon, Wartortle, Metapod]\n",
       "pokedex                               [yes, no, yes, no]\n",
       "dtype: object"
      ]
     },
     "execution_count": 4,
     "metadata": {},
     "output_type": "execute_result"
    }
   ],
   "source": [
    "pokemon = pokemon[['name','type','hp','evolution','pokedex']]\n",
    "pokemon"
   ]
  },
  {
   "cell_type": "markdown",
   "metadata": {},
   "source": [
    "### Step 5. Add another column called place, and insert places (lakes, parks, hills etc) of your choice."
   ]
  },
  {
   "cell_type": "code",
   "execution_count": 10,
   "metadata": {},
   "outputs": [
    {
     "data": {
      "text/html": [
       "<div>\n",
       "<style scoped>\n",
       "    .dataframe tbody tr th:only-of-type {\n",
       "        vertical-align: middle;\n",
       "    }\n",
       "\n",
       "    .dataframe tbody tr th {\n",
       "        vertical-align: top;\n",
       "    }\n",
       "\n",
       "    .dataframe thead th {\n",
       "        text-align: right;\n",
       "    }\n",
       "</style>\n",
       "<table border=\"1\" class=\"dataframe\">\n",
       "  <thead>\n",
       "    <tr style=\"text-align: right;\">\n",
       "      <th></th>\n",
       "      <th>name</th>\n",
       "      <th>type</th>\n",
       "      <th>hp</th>\n",
       "      <th>evolution</th>\n",
       "      <th>pokedex</th>\n",
       "      <th>places</th>\n",
       "    </tr>\n",
       "  </thead>\n",
       "  <tbody>\n",
       "    <tr>\n",
       "      <th>0</th>\n",
       "      <td>[Bulbasaur, Charmander, Squirtle, Caterpie]</td>\n",
       "      <td>[grass, fire, water, bug]</td>\n",
       "      <td>[45, 39, 44, 45]</td>\n",
       "      <td>[Ivysaur, Charmeleon, Wartortle, Metapod]</td>\n",
       "      <td>[yes, no, yes, no]</td>\n",
       "      <td>[lakes, parks, hills, theatres]</td>\n",
       "    </tr>\n",
       "  </tbody>\n",
       "</table>\n",
       "</div>"
      ],
      "text/plain": [
       "                                          name                       type  \\\n",
       "0  [Bulbasaur, Charmander, Squirtle, Caterpie]  [grass, fire, water, bug]   \n",
       "\n",
       "                 hp                                  evolution  \\\n",
       "0  [45, 39, 44, 45]  [Ivysaur, Charmeleon, Wartortle, Metapod]   \n",
       "\n",
       "              pokedex                           places  \n",
       "0  [yes, no, yes, no]  [lakes, parks, hills, theatres]  "
      ]
     },
     "execution_count": 10,
     "metadata": {},
     "output_type": "execute_result"
    }
   ],
   "source": [
    "# # type(pokemon)\n",
    "# # pokemon = pd.DataFrame(pokemon)\n",
    "# pokemon['places'] = pd.Series(['lakes','parks','hills','theatres'])\n",
    "# pokemon.DataFrame(pokemon)\n",
    "\n",
    "# type(pokemon)\n",
    "# result = pd.DataFrame(pokemon)\n",
    "# type(result)\n",
    "# result\n",
    "pokemon['places'] = ['lakes','parks','hills','theatres']\n",
    "pokemon\n",
    "pokemon = pd.DataFrame(pokemon)\n",
    "pokemon  = pokemon.T\n",
    "pokemon\n"
   ]
  },
  {
   "cell_type": "markdown",
   "metadata": {},
   "source": [
    "### Step 6. Display the data type of each column"
   ]
  },
  {
   "cell_type": "code",
   "execution_count": 11,
   "metadata": {},
   "outputs": [
    {
     "data": {
      "text/plain": [
       "name         object\n",
       "type         object\n",
       "hp           object\n",
       "evolution    object\n",
       "pokedex      object\n",
       "places       object\n",
       "dtype: object"
      ]
     },
     "execution_count": 11,
     "metadata": {},
     "output_type": "execute_result"
    }
   ],
   "source": [
    "pokemon.dtypes"
   ]
  },
  {
   "cell_type": "code",
   "execution_count": null,
   "metadata": {},
   "outputs": [],
   "source": []
  }
 ],
 "metadata": {
  "anaconda-cloud": {},
  "kernelspec": {
   "display_name": "Python 3",
   "language": "python",
   "name": "python3"
  },
  "language_info": {
   "codemirror_mode": {
    "name": "ipython",
    "version": 3
   },
   "file_extension": ".py",
   "mimetype": "text/x-python",
   "name": "python",
   "nbconvert_exporter": "python",
   "pygments_lexer": "ipython3",
   "version": "3.8.1"
  }
 },
 "nbformat": 4,
 "nbformat_minor": 1
}
