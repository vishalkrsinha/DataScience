{
 "cells": [
  {
   "cell_type": "markdown",
   "id": "22713440",
   "metadata": {},
   "source": [
    "source::\n",
    "\n",
    "        https://realpython.com/regex-python/?utm_source=pocket_mylist\n",
    "        \n",
    "        https://realpython.com/regex-python-part-2/?utm_source=pocket_mylist"
   ]
  },
  {
   "cell_type": "code",
   "execution_count": 1,
   "id": "f595719d",
   "metadata": {},
   "outputs": [],
   "source": [
    "import re"
   ]
  },
  {
   "cell_type": "code",
   "execution_count": 2,
   "id": "83eabfa0",
   "metadata": {},
   "outputs": [
    {
     "data": {
      "text/plain": [
       "True"
      ]
     },
     "execution_count": 2,
     "metadata": {},
     "output_type": "execute_result"
    }
   ],
   "source": [
    "s = 'foo123bar'\n",
    "'123' in s"
   ]
  },
  {
   "cell_type": "code",
   "execution_count": 3,
   "id": "5fbbf0f6",
   "metadata": {},
   "outputs": [
    {
     "name": "stdout",
     "output_type": "stream",
     "text": [
      "3\n",
      "3\n"
     ]
    }
   ],
   "source": [
    "s = 'foo123bar'\n",
    "print(s.find('123'))\n",
    "\n",
    "print(s.index('123'))"
   ]
  },
  {
   "cell_type": "code",
   "execution_count": 4,
   "id": "43bfc00f",
   "metadata": {},
   "outputs": [
    {
     "name": "stdout",
     "output_type": "stream",
     "text": [
      "<re.Match object; span=(3, 6), match='123'>\n",
      "Found a match.\n",
      "123\n"
     ]
    }
   ],
   "source": [
    "s = 'foo123bar'\n",
    "print(re.search('123',s))\n",
    "\n",
    "if re.search('123', s):\n",
    "    print('Found a match.')\n",
    "else:\n",
    "    print('No match.')\n",
    "    \n",
    "print(s[3:6])"
   ]
  },
  {
   "cell_type": "code",
   "execution_count": 5,
   "id": "f275852f",
   "metadata": {},
   "outputs": [
    {
     "name": "stdout",
     "output_type": "stream",
     "text": [
      "<re.Match object; span=(3, 6), match='456'>\n",
      "<re.Match object; span=(0, 3), match='234'>\n",
      "<re.Match object; span=(3, 6), match='678'>\n",
      "None\n",
      "<re.Match object; span=(3, 6), match='123'>\n"
     ]
    }
   ],
   "source": [
    "print(re.search('[0-9][0-9][0-9]', 'foo456bar'))\n",
    "print(re.search('[0-9][0-9][0-9]', '234baz'))\n",
    "print(re.search('[0-9][0-9][0-9]', 'qux678'))\n",
    "print(re.search('[0-9][0-9][0-9]', '12foo34'))\n",
    "print(re.search('1.3', 'foo123bar'))"
   ]
  },
  {
   "cell_type": "code",
   "execution_count": 6,
   "id": "394e1e04",
   "metadata": {},
   "outputs": [
    {
     "name": "stdout",
     "output_type": "stream",
     "text": [
      "<re.Match object; span=(3, 6), match='bar'>\n",
      "<re.Match object; span=(3, 6), match='baz'>\n",
      "<re.Match object; span=(3, 4), match='b'>\n",
      "<re.Match object; span=(3, 5), match='12'>\n",
      "<re.Match object; span=(4, 5), match='a'>\n"
     ]
    }
   ],
   "source": [
    "print(re.search('ba[artz]', 'foobarqux'))\n",
    "print(re.search('ba[artz]', 'foobazqux'))\n",
    "print(re.search('[a-z]', 'FOObar'))\n",
    "print(re.search('[0-9][0-9]', 'foo123bar'))\n",
    "print(re.search('[0-9a-fA-f]', '--- a0 ---'))"
   ]
  },
  {
   "cell_type": "code",
   "execution_count": 7,
   "id": "8a209c9b",
   "metadata": {},
   "outputs": [
    {
     "name": "stdout",
     "output_type": "stream",
     "text": [
      "<re.Match object; span=(5, 6), match='f'>\n",
      "<re.Match object; span=(3, 4), match='^'>\n"
     ]
    }
   ],
   "source": [
    "print(re.search('[^0-9]', '12345foo'))\n",
    "print(re.search('[#:^]', 'foo^bar:baz#qux'))"
   ]
  },
  {
   "cell_type": "code",
   "execution_count": 8,
   "id": "367c72b1",
   "metadata": {},
   "outputs": [
    {
     "name": "stdout",
     "output_type": "stream",
     "text": [
      "<re.Match object; span=(3, 4), match='-'>\n",
      "<re.Match object; span=(3, 4), match='-'>\n",
      "<re.Match object; span=(3, 4), match='-'>\n",
      "<re.Match object; span=(3, 4), match='*'>\n",
      "<re.Match object; span=(3, 4), match='+'>\n"
     ]
    }
   ],
   "source": [
    "print(re.search('[-abc]', '123-456'))\n",
    "print(re.search('[abc-]', '123-456'))\n",
    "print(re.search('[ab\\-c]', '123-456'))\n",
    "print(re.search('[)*+|]', '123*456'))\n",
    "print(re.search('[)*+|]', '123+456'))\n"
   ]
  },
  {
   "cell_type": "code",
   "execution_count": null,
   "id": "198df676",
   "metadata": {},
   "outputs": [],
   "source": []
  },
  {
   "cell_type": "markdown",
   "id": "4c8ff815",
   "metadata": {},
   "source": [
    "# dot (.)"
   ]
  },
  {
   "cell_type": "code",
   "execution_count": 9,
   "id": "9d7f1ce8",
   "metadata": {},
   "outputs": [
    {
     "name": "stdout",
     "output_type": "stream",
     "text": [
      "<re.Match object; span=(0, 7), match='fooxbar'>\n",
      "None\n",
      "None\n"
     ]
    }
   ],
   "source": [
    "print(re.search('foo.bar', 'fooxbar'))\n",
    "print(re.search('foo.bar', 'foobar'))\n",
    "print(re.search('foo.bar', 'foo\\nbar'))"
   ]
  },
  {
   "cell_type": "code",
   "execution_count": 10,
   "id": "085bc3fd",
   "metadata": {},
   "outputs": [
    {
     "name": "stdout",
     "output_type": "stream",
     "text": [
      "<re.Match object; span=(3, 4), match='a'>\n",
      "<re.Match object; span=(3, 4), match='a'>\n",
      "<re.Match object; span=(3, 4), match='*'>\n",
      "<re.Match object; span=(3, 4), match='*'>\n"
     ]
    }
   ],
   "source": [
    "print(re.search('\\w', '#(.a$@&'))\n",
    "print(re.search('[a-zA-Z0-9_]', '#(.a$@&'))\n",
    "print(re.search('\\W', 'a_1*3Qb'))\n",
    "print(re.search('[^a-zA-Z0-9_]', 'a_1*3Qb'))"
   ]
  },
  {
   "cell_type": "code",
   "execution_count": 11,
   "id": "02d073e1",
   "metadata": {},
   "outputs": [
    {
     "name": "stdout",
     "output_type": "stream",
     "text": [
      "<re.Match object; span=(3, 4), match='4'>\n",
      "<re.Match object; span=(3, 4), match='Q'>\n"
     ]
    }
   ],
   "source": [
    "print(re.search('\\d', 'abc4def'))\n",
    "print(re.search('\\D', '234Q678'))"
   ]
  },
  {
   "cell_type": "code",
   "execution_count": 12,
   "id": "97addc38",
   "metadata": {},
   "outputs": [
    {
     "name": "stdout",
     "output_type": "stream",
     "text": [
      "<re.Match object; span=(3, 4), match='\\n'>\n",
      "<re.Match object; span=(4, 5), match='f'>\n"
     ]
    }
   ],
   "source": [
    "print(re.search('\\s', 'foo\\nbar baz'))\n",
    "print(re.search('\\S', '  \\n foo  \\n  '))"
   ]
  },
  {
   "cell_type": "code",
   "execution_count": 13,
   "id": "0815d69d",
   "metadata": {},
   "outputs": [
    {
     "name": "stdout",
     "output_type": "stream",
     "text": [
      "<re.Match object; span=(3, 4), match='3'>\n",
      "<re.Match object; span=(3, 4), match='a'>\n",
      "<re.Match object; span=(3, 4), match=' '>\n"
     ]
    }
   ],
   "source": [
    "print(re.search('[\\d\\w\\s]', '---3---'))\n",
    "print(re.search('[\\d\\w\\s]', '---a---'))\n",
    "print(re.search('[\\d\\w\\s]', '--- ---'))"
   ]
  },
  {
   "cell_type": "code",
   "execution_count": 14,
   "id": "f0c2d346",
   "metadata": {},
   "outputs": [
    {
     "name": "stdout",
     "output_type": "stream",
     "text": [
      "<re.Match object; span=(0, 1), match='f'>\n",
      "<re.Match object; span=(3, 4), match='.'>\n",
      "foo\\bar\n",
      "None\n",
      "None\n"
     ]
    }
   ],
   "source": [
    "print(re.search('.', 'foo.bar'))\n",
    "print(re.search('\\.', 'foo.bar'))\n",
    "print(r'foo\\bar')\n",
    "#print(re.search('\\\\', 'foo\\bar'))\n",
    "print(re.search('\\\\\\\\', 'foo\\bar'))\n",
    "print(re.search(r'\\\\', 'foo\\bar'))"
   ]
  },
  {
   "cell_type": "code",
   "execution_count": null,
   "id": "7bd25f4d",
   "metadata": {},
   "outputs": [],
   "source": []
  },
  {
   "cell_type": "markdown",
   "id": "78d1b6bc",
   "metadata": {},
   "source": [
    "# Anchors"
   ]
  },
  {
   "cell_type": "code",
   "execution_count": 15,
   "id": "dd485d03",
   "metadata": {},
   "outputs": [
    {
     "name": "stdout",
     "output_type": "stream",
     "text": [
      "<re.Match object; span=(0, 3), match='foo'>\n",
      "None\n",
      "<re.Match object; span=(0, 3), match='foo'>\n",
      "None\n",
      "\n",
      "<re.Match object; span=(3, 6), match='bar'>\n",
      "None\n",
      "<re.Match object; span=(3, 6), match='bar'>\n",
      "None\n",
      "<re.Match object; span=(3, 6), match='bar'>\n"
     ]
    }
   ],
   "source": [
    "print(re.search('^foo', 'foobar'))\n",
    "print(re.search('^foo', 'barfoo'))\n",
    "print(re.search('\\Afoo', 'foobar'))\n",
    "print(re.search('\\Afoo', 'barfoo'))\n",
    "print()\n",
    "print(re.search('bar$', 'foobar'))\n",
    "print(re.search('bar$', 'barfoo'))\n",
    "print(re.search('bar\\Z', 'foobar'))\n",
    "print(re.search('bar\\Z', 'barfoo'))\n",
    "print(re.search('bar$', 'foobar\\n'))"
   ]
  },
  {
   "cell_type": "raw",
   "id": "a6054b3d",
   "metadata": {},
   "source": [
    "\\b: Anchors a match to a word boundary."
   ]
  },
  {
   "cell_type": "code",
   "execution_count": 16,
   "id": "40e6284e",
   "metadata": {},
   "outputs": [
    {
     "name": "stdout",
     "output_type": "stream",
     "text": [
      "<re.Match object; span=(4, 7), match='bar'>\n",
      "<re.Match object; span=(4, 7), match='bar'>\n",
      "None\n",
      "\n",
      "<re.Match object; span=(0, 3), match='foo'>\n",
      "<re.Match object; span=(0, 3), match='foo'>\n",
      "None\n",
      "\n",
      "<re.Match object; span=(4, 7), match='bar'>\n",
      "<re.Match object; span=(4, 7), match='bar'>\n",
      "None\n"
     ]
    }
   ],
   "source": [
    "#\\b asserts that the regex parser’s current position must be at the beginning or end of a word. \n",
    "print(re.search(r'\\bbar', 'foo bar'))\n",
    "print(re.search(r'\\bbar', 'foo.bar'))\n",
    "print(re.search(r'\\bbar', 'foobar'))\n",
    "print()\n",
    "print(re.search(r'foo\\b', 'foo bar'))\n",
    "print(re.search(r'foo\\b', 'foo.bar'))\n",
    "print(re.search(r'foo\\b', 'foobar'))\n",
    "print()\n",
    "print(re.search(r'\\bbar\\b', 'foo bar baz'))\n",
    "print(re.search(r'\\bbar\\b', 'foo(bar)baz'))\n",
    "print(re.search(r'\\bbar\\b', 'foobarbaz'))"
   ]
  },
  {
   "cell_type": "raw",
   "id": "bec7b31a",
   "metadata": {},
   "source": [
    "\\B: Anchors a match to a location that isn’t a word boundary."
   ]
  },
  {
   "cell_type": "code",
   "execution_count": 17,
   "id": "64458721",
   "metadata": {},
   "outputs": [
    {
     "name": "stdout",
     "output_type": "stream",
     "text": [
      "None\n",
      "None\n",
      "<re.Match object; span=(3, 6), match='foo'>\n"
     ]
    }
   ],
   "source": [
    "#\\B does the opposite of \\b. It asserts that the regex parser’s current position must not be at the start or end of a word:\n",
    "print(re.search(r'\\Bfoo\\B', 'foo'))\n",
    "print(re.search(r'\\Bfoo\\B', '.foo.'))\n",
    "print(re.search(r'\\Bfoo\\B', 'barfoobaz'))"
   ]
  },
  {
   "cell_type": "code",
   "execution_count": null,
   "id": "2c65c2e7",
   "metadata": {},
   "outputs": [],
   "source": []
  },
  {
   "cell_type": "markdown",
   "id": "7e96b87f",
   "metadata": {},
   "source": [
    "# Quantifiers"
   ]
  },
  {
   "cell_type": "raw",
   "id": "ce6cece5",
   "metadata": {},
   "source": [
    "* - Matches zero or more repetitions of the preceding regex."
   ]
  },
  {
   "cell_type": "code",
   "execution_count": 18,
   "id": "45b2748b",
   "metadata": {},
   "outputs": [
    {
     "name": "stdout",
     "output_type": "stream",
     "text": [
      "<re.Match object; span=(0, 6), match='foobar'>\n",
      "<re.Match object; span=(0, 7), match='foo-bar'>\n",
      "<re.Match object; span=(0, 8), match='foo--bar'>\n",
      "<re.Match object; span=(2, 23), match='foo $qux@grault % bar'>\n"
     ]
    }
   ],
   "source": [
    "#a* matches zero or more 'a' characters. That means it would match an empty string, 'a', 'aa', 'aaa', and so on.\n",
    "print(re.search('foo-*bar', 'foobar'))\n",
    "print(re.search('foo-*bar', 'foo-bar'))\n",
    "print(re.search('foo-*bar', 'foo--bar'))\n",
    "print(re.search('foo.*bar', '# foo $qux@grault % bar #'))"
   ]
  },
  {
   "cell_type": "raw",
   "id": "6d280e92",
   "metadata": {},
   "source": [
    "+ - Matches one or more repetitions of the preceding regex."
   ]
  },
  {
   "cell_type": "code",
   "execution_count": 19,
   "id": "ca01efbc",
   "metadata": {},
   "outputs": [
    {
     "name": "stdout",
     "output_type": "stream",
     "text": [
      "None\n",
      "<re.Match object; span=(0, 7), match='foo-bar'>\n",
      "<re.Match object; span=(0, 8), match='foo--bar'>\n",
      "<re.Match object; span=(2, 23), match='foo $qux@grault % bar'>\n"
     ]
    }
   ],
   "source": [
    "print(re.search('foo-+bar', 'foobar'))\n",
    "print(re.search('foo-+bar', 'foo-bar'))\n",
    "print(re.search('foo-+bar', 'foo--bar'))\n",
    "print(re.search('foo.+bar', '# foo $qux@grault % bar #'))\n"
   ]
  },
  {
   "cell_type": "raw",
   "id": "6af7efcb",
   "metadata": {},
   "source": [
    "? - Matches zero or one repetitions of the preceding regex."
   ]
  },
  {
   "cell_type": "code",
   "execution_count": 20,
   "id": "12c50a03",
   "metadata": {},
   "outputs": [
    {
     "name": "stdout",
     "output_type": "stream",
     "text": [
      "<re.Match object; span=(0, 6), match='foobar'>\n",
      "<re.Match object; span=(0, 7), match='foo-bar'>\n",
      "None\n",
      "None\n"
     ]
    }
   ],
   "source": [
    "print(re.search('foo-?bar', 'foobar'))\n",
    "print(re.search('foo-?bar', 'foo-bar'))\n",
    "print(re.search('foo-?bar', 'foo--bar'))\n",
    "print(re.search('foo.?bar', '# foo $qux@grault % bar #'))"
   ]
  },
  {
   "cell_type": "code",
   "execution_count": 21,
   "id": "86a96ee6",
   "metadata": {},
   "outputs": [
    {
     "name": "stdout",
     "output_type": "stream",
     "text": [
      "<re.Match object; span=(0, 6), match='foobar'>\n",
      "<re.Match object; span=(0, 8), match='foo42bar'>\n",
      "None\n",
      "<re.Match object; span=(0, 8), match='foo42bar'>\n",
      "<re.Match object; span=(0, 6), match='foobar'>\n",
      "None\n"
     ]
    }
   ],
   "source": [
    "print(re.match('foo[1-9]*bar', 'foobar'))\n",
    "print(re.match('foo[1-9]*bar', 'foo42bar'))\n",
    "print(re.match('foo[1-9]+bar', 'foobar'))\n",
    "print(re.match('foo[1-9]+bar', 'foo42bar'))\n",
    "print(re.match('foo[1-9]?bar', 'foobar'))\n",
    "print(re.match('foo[1-9]?bar', 'foo42bar'))"
   ]
  },
  {
   "cell_type": "raw",
   "id": "23732a0f",
   "metadata": {},
   "source": [
    "*?\n",
    "+?\n",
    "??\n",
    "\n",
    "    The non-greedy (or lazy) versions of the *, +, and ? quantifiers.\n"
   ]
  },
  {
   "cell_type": "code",
   "execution_count": 22,
   "id": "73fb40a8",
   "metadata": {},
   "outputs": [
    {
     "name": "stdout",
     "output_type": "stream",
     "text": [
      "<re.Match object; span=(1, 18), match='<foo> <bar> <baz>'>\n",
      "<re.Match object; span=(1, 6), match='<foo>'>\n"
     ]
    }
   ],
   "source": [
    "# When used alone, the quantifier metacharacters *, +, and ? are all greedy, meaning they produce the longest possible match.\n",
    "# Consider these example:\n",
    "\n",
    "print(re.search('<.*>', '%<foo> <bar> <baz>%'))\n",
    "print(re.search('<.*?>', '%<foo> <bar> <baz>%'))"
   ]
  },
  {
   "cell_type": "code",
   "execution_count": 23,
   "id": "d5de9609",
   "metadata": {},
   "outputs": [
    {
     "name": "stdout",
     "output_type": "stream",
     "text": [
      "<re.Match object; span=(1, 18), match='<foo> <bar> <baz>'>\n",
      "<re.Match object; span=(1, 6), match='<foo>'>\n",
      "<re.Match object; span=(0, 2), match='ba'>\n",
      "<re.Match object; span=(0, 1), match='b'>\n",
      "\n"
     ]
    }
   ],
   "source": [
    "# lazy versions of the + and ? quantifiers as well:\n",
    "print(re.search('<.+>', '%<foo> <bar> <baz>%'))\n",
    "print(re.search('<.+?>', '%<foo> <bar> <baz>%'))\n",
    "print(re.search('ba?', 'baaaa'))\n",
    "print(re.search('ba??', 'baaaa'))\n",
    "print()"
   ]
  },
  {
   "cell_type": "raw",
   "id": "67109a9e",
   "metadata": {},
   "source": [
    "{m}: Matches exactly m repetitions of the preceding regex."
   ]
  },
  {
   "cell_type": "code",
   "execution_count": 24,
   "id": "c61d07be",
   "metadata": {},
   "outputs": [
    {
     "name": "stdout",
     "output_type": "stream",
     "text": [
      "None\n",
      "<re.Match object; span=(0, 5), match='x---x'>\n",
      "None\n"
     ]
    }
   ],
   "source": [
    "print(re.search('x-{3}x', 'x--x'))\n",
    "print(re.search('x-{3}x', 'x---x'))\n",
    "print(re.search('x-{3}x', 'x----x'))"
   ]
  },
  {
   "cell_type": "raw",
   "id": "432f8e44",
   "metadata": {},
   "source": [
    "{m,n}: Matches any number of repetitions of the preceding regex from m to n, inclusive."
   ]
  },
  {
   "cell_type": "code",
   "execution_count": 25,
   "id": "220d3930",
   "metadata": {},
   "outputs": [
    {
     "name": "stdout",
     "output_type": "stream",
     "text": [
      "1  x-x        None\n",
      "2  x--x       <re.Match object; span=(0, 4), match='x--x'>\n",
      "3  x---x      <re.Match object; span=(0, 5), match='x---x'>\n",
      "4  x----x     <re.Match object; span=(0, 6), match='x----x'>\n",
      "5  x-----x    None\n"
     ]
    }
   ],
   "source": [
    "for i in range(1, 6):\n",
    "    s = f\"x{'-' * i}x\"\n",
    "    print(f'{i}  {s:10}', re.search('x-{2,4}x', s))"
   ]
  },
  {
   "cell_type": "code",
   "execution_count": 26,
   "id": "40fe3cce",
   "metadata": {},
   "outputs": [
    {
     "name": "stdout",
     "output_type": "stream",
     "text": [
      "<re.Match object; span=(0, 4), match='x{}y'>\n",
      "<re.Match object; span=(0, 7), match='x{foo}y'>\n",
      "<re.Match object; span=(0, 7), match='x{a:b}y'>\n",
      "<re.Match object; span=(0, 9), match='x{1,3,5}y'>\n",
      "<re.Match object; span=(0, 11), match='x{foo,bar}y'>\n"
     ]
    }
   ],
   "source": [
    "# If you omit all of m, n, and the comma, then the curly braces no longer function as metacharacters. \n",
    "# {} matches just the literal string '{}':\n",
    "\n",
    "print(re.search('x{}y', 'x{}y'))\n",
    "print(re.search('x{foo}y', 'x{foo}y'))\n",
    "print(re.search('x{a:b}y', 'x{a:b}y'))\n",
    "print(re.search('x{1,3,5}y', 'x{1,3,5}y'))\n",
    "print(re.search('x{foo,bar}y', 'x{foo,bar}y'))\n"
   ]
  },
  {
   "cell_type": "raw",
   "id": "15cf852b",
   "metadata": {},
   "source": [
    "{m,n}?: The non-greedy (lazy) version of {m,n}."
   ]
  },
  {
   "cell_type": "code",
   "execution_count": 27,
   "id": "8ce90e83",
   "metadata": {},
   "outputs": [
    {
     "name": "stdout",
     "output_type": "stream",
     "text": [
      "<re.Match object; span=(0, 5), match='aaaaa'>\n",
      "<re.Match object; span=(0, 3), match='aaa'>\n"
     ]
    }
   ],
   "source": [
    "# {m,n} will match as many characters as possible, and {m,n}? will match as few as possible:\n",
    "print(re.search('a{3,5}', 'aaaaaaaa'))\n",
    "print(re.search('a{3,5}?', 'aaaaaaaa'))"
   ]
  },
  {
   "cell_type": "code",
   "execution_count": null,
   "id": "302dd848",
   "metadata": {},
   "outputs": [],
   "source": []
  },
  {
   "cell_type": "markdown",
   "id": "fc380858",
   "metadata": {},
   "source": [
    "# Grouping Constructs and Backreferences"
   ]
  },
  {
   "cell_type": "code",
   "execution_count": 28,
   "id": "dcb8bbfa",
   "metadata": {},
   "outputs": [
    {
     "name": "stdout",
     "output_type": "stream",
     "text": [
      "<re.Match object; span=(4, 7), match='bar'>\n",
      "<re.Match object; span=(4, 7), match='bar'>\n"
     ]
    }
   ],
   "source": [
    "print(re.search('(bar)', 'foo bar baz'))\n",
    "print(re.search('bar', 'foo bar baz'))"
   ]
  },
  {
   "cell_type": "raw",
   "id": "81c9c210",
   "metadata": {},
   "source": [
    "Treating a Group as a Unit"
   ]
  },
  {
   "cell_type": "code",
   "execution_count": 29,
   "id": "51924e30",
   "metadata": {},
   "outputs": [
    {
     "name": "stdout",
     "output_type": "stream",
     "text": [
      "<re.Match object; span=(4, 7), match='bar'>\n",
      "<re.Match object; span=(4, 10), match='barbar'>\n",
      "<re.Match object; span=(4, 16), match='barbarbarbar'>\n"
     ]
    }
   ],
   "source": [
    "print(re.search('(bar)+', 'foo bar baz'))\n",
    "print(re.search('(bar)+', 'foo barbar baz'))\n",
    "print(re.search('(bar)+', 'foo barbarbarbar baz'))"
   ]
  },
  {
   "cell_type": "code",
   "execution_count": 30,
   "id": "bdcbb2ce",
   "metadata": {},
   "outputs": [
    {
     "name": "stdout",
     "output_type": "stream",
     "text": [
      "<re.Match object; span=(0, 12), match='bazbarbazqux'>\n",
      "<re.Match object; span=(0, 6), match='barbar'>\n",
      "<re.Match object; span=(0, 9), match='foofoobar'>\n",
      "<re.Match object; span=(0, 12), match='foofoobar123'>\n",
      "<re.Match object; span=(0, 9), match='foofoo123'>\n"
     ]
    }
   ],
   "source": [
    "#The regex (ba[rz]){2,4}(qux)? matches 2 to 4 occurrences of either 'bar' or 'baz', optionally followed by 'qux':\n",
    "print(re.search('(ba[rz]){2,4}(qux)?', 'bazbarbazqux'))\n",
    "print(re.search('(ba[rz]){2,4}(qux)?', 'barbar'))\n",
    "print(re.search('(foo(bar)?)+(\\d\\d\\d)?', 'foofoobar'))\n",
    "print(re.search('(foo(bar)?)+(\\d\\d\\d)?', 'foofoobar123'))\n",
    "print(re.search('(foo(bar)?)+(\\d\\d\\d)?', 'foofoo123'))\n"
   ]
  },
  {
   "cell_type": "code",
   "execution_count": null,
   "id": "c5c613b1",
   "metadata": {},
   "outputs": [],
   "source": []
  },
  {
   "cell_type": "markdown",
   "id": "815422cc",
   "metadata": {},
   "source": [
    "# Capturing Groups"
   ]
  },
  {
   "cell_type": "raw",
   "id": "ced507d3",
   "metadata": {},
   "source": [
    "m.groups(): Returns a tuple containing all the captured groups from a regex match."
   ]
  },
  {
   "cell_type": "code",
   "execution_count": 31,
   "id": "83d15398",
   "metadata": {},
   "outputs": [
    {
     "name": "stdout",
     "output_type": "stream",
     "text": [
      "<re.Match object; span=(0, 12), match='foo,quux,baz'>\n",
      "('foo', 'quux', 'baz')\n"
     ]
    }
   ],
   "source": [
    "m = re.search('(\\w+),(\\w+),(\\w+)', 'foo,quux,baz')\n",
    "print(m)\n",
    "print(m.groups())"
   ]
  },
  {
   "cell_type": "raw",
   "id": "2cd6db39",
   "metadata": {},
   "source": [
    "m.group(<n>): Returns a string containing the <n>th captured match."
   ]
  },
  {
   "cell_type": "code",
   "execution_count": 32,
   "id": "2eefa4d8",
   "metadata": {},
   "outputs": [
    {
     "name": "stdout",
     "output_type": "stream",
     "text": [
      "('foo', 'quux', 'baz')\n",
      "\n",
      "foo,quux,baz\n",
      "foo,quux,baz\n",
      "foo,quux,baz\n",
      "foo\n",
      "quux\n",
      "baz\n",
      "\n",
      "('quux', 'baz')\n",
      "('baz', 'quux', 'foo')\n",
      "('baz', 'quux', 'foo')\n"
     ]
    }
   ],
   "source": [
    "m = re.search('(\\w+),(\\w+),(\\w+)', 'foo,quux,baz')\n",
    "print(m.groups())\n",
    "print()\n",
    "print(m.group())\n",
    "print(m.group(0))\n",
    "print(m.group(0))\n",
    "print(m.group(1))\n",
    "print(m.group(2))\n",
    "print(m.group(3))\n",
    "print()\n",
    "print(m.group(2, 3))\n",
    "print(m.group(3,2,1))\n",
    "print((m.group(3), m.group(2), m.group(1)))"
   ]
  },
  {
   "cell_type": "raw",
   "id": "16512767",
   "metadata": {},
   "source": [
    "# Backreferences"
   ]
  },
  {
   "cell_type": "code",
   "execution_count": 33,
   "id": "8dcfae28",
   "metadata": {},
   "outputs": [
    {
     "name": "stdout",
     "output_type": "stream",
     "text": [
      "<re.Match object; span=(0, 7), match='foo,foo'>\n",
      "foo\n",
      "\n",
      "<re.Match object; span=(0, 7), match='qux,qux'>\n",
      "qux\n",
      "\n",
      "None\n",
      "\n",
      "None\n",
      "0o1\n",
      "<re.Match object; span=(0, 3), match='d#d'>\n"
     ]
    }
   ],
   "source": [
    "#\\<n>: Matches the contents of a previously captured group.\n",
    "\n",
    "regex = r'(\\w+),\\1'\n",
    "m = re.search(regex, 'foo,foo')\n",
    "print(m)\n",
    "print(m.group(1))\n",
    "print()\n",
    "\n",
    "m = re.search(regex, 'qux,qux')\n",
    "print(m)\n",
    "print(m.group(1))\n",
    "print()\n",
    "\n",
    "m = re.search(regex, 'foo,qux')\n",
    "print(m)\n",
    "print()\n",
    "\n",
    "print(re.search('([a-z])#\\1', 'd#d'))\n",
    "\n",
    "#The regex ([a-z])#\\1 matches a lowercase letter, followed by '#', followed by the same lowercase letter. \n",
    "#The string in this case is 'd#d', which should match. But the match fails because Python misinterprets the backreference \\1 \n",
    "#as the character whose octal value is one:\n",
    "\n",
    "\n",
    "print(oct(ord('\\1')))\n",
    "\n",
    "print(re.search(r'([a-z])#\\1', 'd#d'))"
   ]
  },
  {
   "cell_type": "markdown",
   "id": "91e83c09",
   "metadata": {},
   "source": [
    "# Other Grouping Constructs"
   ]
  },
  {
   "cell_type": "raw",
   "id": "5ad33780",
   "metadata": {},
   "source": [
    "(?P<name><regex>): Creates a named captured group.\n",
    "\n",
    "#This section introduces to some enhanced grouping constructs that allow you to tweak when and how grouping occurs."
   ]
  },
  {
   "cell_type": "code",
   "execution_count": 34,
   "id": "4a36bde1",
   "metadata": {},
   "outputs": [
    {
     "name": "stdout",
     "output_type": "stream",
     "text": [
      "('foo', 'quux', 'baz')\n",
      "('foo', 'quux', 'baz')\n",
      "\n",
      "('foo', 'quux', 'baz')\n",
      "foo\n",
      "baz\n",
      "('foo', 'quux', 'baz')\n",
      "\n",
      "foo\n",
      "foo\n",
      "('foo', 'quux', 'baz')\n",
      "('foo', 'quux', 'baz')\n"
     ]
    }
   ],
   "source": [
    "m = re.search('(\\w+),(\\w+),(\\w+)', 'foo,quux,baz')\n",
    "print(m.groups())\n",
    "print(m.group(1, 2, 3))\n",
    "print()\n",
    "\n",
    "m = re.search('(?P<w1>\\w+),(?P<w2>\\w+),(?P<w3>\\w+)', 'foo,quux,baz')\n",
    "print(m.groups())\n",
    "print(m.group('w1'))\n",
    "print(m.group('w3'))\n",
    "print(m.group('w1', 'w2', 'w3'))\n",
    "print()\n",
    "\n",
    "m = re.search('(?P<w1>\\w+),(?P<w2>\\w+),(?P<w3>\\w+)', 'foo,quux,baz')\n",
    "print(m.group('w1'))\n",
    "print(m.group(1))\n",
    "print(m.group('w1', 'w2', 'w3'))\n",
    "print(m.group(1, 2, 3))"
   ]
  },
  {
   "cell_type": "raw",
   "id": "e99bcbd8",
   "metadata": {},
   "source": [
    "(?P=<name>): Matches the contents of a previously captured named group."
   ]
  },
  {
   "cell_type": "code",
   "execution_count": 35,
   "id": "e70db197",
   "metadata": {},
   "outputs": [
    {
     "name": "stdout",
     "output_type": "stream",
     "text": [
      "<re.Match object; span=(0, 7), match='foo,foo'>\n",
      "foo\n",
      "\n",
      "<re.Match object; span=(0, 7), match='foo,foo'>\n",
      "foo\n",
      "\n",
      "<re.Match object; span=(0, 7), match='135.135'>\n",
      "135\n"
     ]
    }
   ],
   "source": [
    "#The (?P=<name>) metacharacter sequence is a backreference, similar to \\<n>, \n",
    "#except that it refers to a named group rather than a numbered group.\n",
    "\n",
    "m = re.search(r'(\\w+),\\1', 'foo,foo')\n",
    "print(m)\n",
    "print(m.group(1))\n",
    "print()\n",
    "\n",
    "m = re.search(r'(?P<word>\\w+),(?P=word)', 'foo,foo')\n",
    "print(m)\n",
    "print(m.group('word'))\n",
    "print()\n",
    "##(?P=<word>\\w+) matches 'foo' and saves it as a captured group named word. Again, the comma matches literally. \n",
    "##Then (?P=word) is a backreference to the named capture and matches 'foo' again.\n",
    "\n",
    "##Note: The angle brackets (< and >) are required around name when creating a named group but not when referring to it later, \n",
    "##either by backreference or by .group():\n",
    "\n",
    "m = re.match(r'(?P<num>\\d+)\\.(?P=num)', '135.135')\n",
    "print(m)\n",
    "print(m.group('num'))"
   ]
  },
  {
   "cell_type": "raw",
   "id": "5de0e590",
   "metadata": {},
   "source": [
    "(?:<regex>): Creates a non-capturing group."
   ]
  },
  {
   "cell_type": "code",
   "execution_count": 36,
   "id": "d3916f3b",
   "metadata": {},
   "outputs": [
    {
     "name": "stdout",
     "output_type": "stream",
     "text": [
      "('foo', 'baz')\n",
      "foo\n",
      "baz\n"
     ]
    }
   ],
   "source": [
    "##(?:<regex>) is just like (<regex>) in that it matches the specified <regex>. \n",
    "##But (?:<regex>) doesn’t capture the match for later retrieval:\n",
    "\n",
    "m = re.search('(\\w+),(?:\\w+),(\\w+)', 'foo,quux,baz')\n",
    "print(m.groups())\n",
    "print(m.group(1))\n",
    "print(m.group(2))"
   ]
  },
  {
   "cell_type": "raw",
   "id": "fb42870c",
   "metadata": {},
   "source": [
    "(?(<n>)<yes-regex>|<no-regex>)\n",
    "(?(<name>)<yes-regex>|<no-regex>):: Specifies a conditional match."
   ]
  },
  {
   "cell_type": "code",
   "execution_count": 37,
   "id": "0e51aae4",
   "metadata": {},
   "outputs": [
    {
     "name": "stdout",
     "output_type": "stream",
     "text": [
      "<re.Match object; span=(0, 9), match='###foobar'>\n",
      "None\n",
      "None\n",
      "<re.Match object; span=(0, 6), match='foobaz'>\n",
      "\n",
      "None\n"
     ]
    }
   ],
   "source": [
    "regex = r'^(###)?foo(?(1)bar|baz)'\n",
    "print(re.search(regex, '###foobar'))\n",
    "print(re.search(regex, '###foobaz'))\n",
    "print(re.search(regex, 'foobar'))\n",
    "print(re.search(regex, 'foobaz'))\n",
    "print()\n",
    "regex = r'^(?P<ch>\\W)?foo(?(ch)(?P=ch)|)$'\n",
    "print(re.search(regex, '###foobar'))"
   ]
  },
  {
   "cell_type": "code",
   "execution_count": 38,
   "id": "3bcac445",
   "metadata": {},
   "outputs": [
    {
     "name": "stdout",
     "output_type": "stream",
     "text": [
      "<re.Match object; span=(0, 3), match='foo'>\n",
      "<re.Match object; span=(0, 5), match='#foo#'>\n",
      "<re.Match object; span=(0, 5), match='@foo@'>\n",
      "\n",
      "None\n",
      "None\n",
      "None\n",
      "None\n"
     ]
    }
   ],
   "source": [
    "regex = r'^(?P<ch>\\W)?foo(?(ch)(?P=ch)|)$'\n",
    "print(re.search(regex, 'foo'))\n",
    "print(re.search(regex, '#foo#'))\n",
    "print(re.search(regex, '@foo@'))\n",
    "print()\n",
    "print(re.search(regex, '#foo'))\n",
    "print(re.search(regex, 'foo@'))\n",
    "print(re.search(regex, '#foo@'))\n",
    "print(re.search(regex, '@foo#'))"
   ]
  },
  {
   "cell_type": "code",
   "execution_count": null,
   "id": "d3be1445",
   "metadata": {},
   "outputs": [],
   "source": []
  },
  {
   "cell_type": "markdown",
   "id": "d0132afc",
   "metadata": {},
   "source": [
    "# Lookahead and Lookbehind Assertions"
   ]
  },
  {
   "cell_type": "raw",
   "id": "9b3eaee6",
   "metadata": {},
   "source": [
    "(?=<lookahead_regex>): Creates a positive lookahead assertion."
   ]
  },
  {
   "cell_type": "code",
   "execution_count": 39,
   "id": "2fa37305",
   "metadata": {},
   "outputs": [
    {
     "name": "stdout",
     "output_type": "stream",
     "text": [
      "<re.Match object; span=(0, 3), match='foo'>\n",
      "None\n",
      "<re.Match object; span=(0, 4), match='foob'>\n",
      "\n",
      "b\n",
      "a\n"
     ]
    }
   ],
   "source": [
    "#(?=<lookahead_regex>) asserts that what follows the regex parser’s current position must match <lookahead_regex>\n",
    "\n",
    "print(re.search('foo(?=[a-z])', 'foobar'))\n",
    "print(re.search('foo(?=[a-z])', 'foo123'))\n",
    "print(re.search('foo([a-z])', 'foobar'))\n",
    "print()\n",
    "\n",
    "m = re.search('foo(?=[a-z])(?P<ch>.)', 'foobar')\n",
    "print(m.group('ch'))\n",
    "m = re.search('foo([a-z])(?P<ch>.)', 'foobar')\n",
    "print(m.group('ch'))"
   ]
  },
  {
   "cell_type": "raw",
   "id": "72186db2",
   "metadata": {},
   "source": [
    "(?!<lookahead_regex>): Creates a negative lookahead assertion."
   ]
  },
  {
   "cell_type": "code",
   "execution_count": 40,
   "id": "35b2d655",
   "metadata": {},
   "outputs": [
    {
     "name": "stdout",
     "output_type": "stream",
     "text": [
      "<re.Match object; span=(0, 3), match='foo'>\n",
      "None\n",
      "None\n",
      "<re.Match object; span=(0, 3), match='foo'>\n"
     ]
    }
   ],
   "source": [
    "#(?!<lookahead_regex>) asserts that what follows the regex parser’s current position must not match <lookahead_regex>.\n",
    "\n",
    "print(re.search('foo(?=[a-z])', 'foobar'))\n",
    "print(re.search('foo(?![a-z])', 'foobar'))\n",
    "print(re.search('foo(?=[a-z])', 'foo123'))\n",
    "print(re.search('foo(?![a-z])', 'foo123'))"
   ]
  },
  {
   "cell_type": "raw",
   "id": "7c3c8ecd",
   "metadata": {},
   "source": [
    "(?<=<lookbehind_regex>): Creates a positive lookbehind assertion."
   ]
  },
  {
   "cell_type": "code",
   "execution_count": 41,
   "id": "d0946246",
   "metadata": {},
   "outputs": [
    {
     "name": "stdout",
     "output_type": "stream",
     "text": [
      "<re.Match object; span=(3, 6), match='bar'>\n",
      "None\n",
      "<re.Match object; span=(3, 6), match='def'>\n"
     ]
    }
   ],
   "source": [
    "#(?<=<lookbehind_regex>) asserts that what precedes the regex parser’s current position must match <lookbehind_regex>.\n",
    "\n",
    "print(re.search('(?<=foo)bar', 'foobar'))\n",
    "print(re.search('(?<=qux)bar', 'foobar'))\n",
    "#print(re.search('(?<=a+)def', 'aaadef'))\n",
    "print(re.search('(?<=a{3})def', 'aaadef'))"
   ]
  },
  {
   "cell_type": "raw",
   "id": "f4aea31a",
   "metadata": {},
   "source": [
    "(?<!--<lookbehind_regex-->): Creates a negative lookbehind assertion."
   ]
  },
  {
   "cell_type": "code",
   "execution_count": 42,
   "id": "f82fdf47",
   "metadata": {},
   "outputs": [
    {
     "name": "stdout",
     "output_type": "stream",
     "text": [
      "None\n",
      "<re.Match object; span=(3, 6), match='bar'>\n"
     ]
    }
   ],
   "source": [
    "#(?<!--<lookbehind_regex-->) asserts that what precedes the regex parser’s current position must not match <lookbehind_regex>\n",
    "\n",
    "print(re.search('(?<!foo)bar', 'foobar'))\n",
    "print(re.search('(?<!qux)bar', 'foobar'))"
   ]
  },
  {
   "cell_type": "code",
   "execution_count": null,
   "id": "49d536e6",
   "metadata": {},
   "outputs": [],
   "source": []
  },
  {
   "cell_type": "markdown",
   "id": "e44a4640",
   "metadata": {},
   "source": [
    "# Miscellaneous Metacharacters"
   ]
  },
  {
   "cell_type": "raw",
   "id": "187bb2a8",
   "metadata": {},
   "source": [
    "(?#...): Specifies a comment."
   ]
  },
  {
   "cell_type": "code",
   "execution_count": 43,
   "id": "a4a04608",
   "metadata": {},
   "outputs": [
    {
     "name": "stdout",
     "output_type": "stream",
     "text": [
      "<re.Match object; span=(4, 11), match='bar baz'>\n"
     ]
    }
   ],
   "source": [
    "#The regex parser ignores anything contained in the sequence (?#...)\n",
    "\n",
    "print(re.search('bar(?#This is a comment) *baz', 'foo bar baz qux'))\n",
    "\n",
    "#This allows you to specify documentation inside a regex in Python, which can be especially useful if the regex is \n",
    "##particularly long."
   ]
  },
  {
   "cell_type": "raw",
   "id": "39841d83",
   "metadata": {},
   "source": [
    "Vertical bar, or pipe (|): Specifies a set of alternatives on which to match."
   ]
  },
  {
   "cell_type": "code",
   "execution_count": 44,
   "id": "02ad2d57",
   "metadata": {},
   "outputs": [
    {
     "name": "stdout",
     "output_type": "stream",
     "text": [
      "<re.Match object; span=(0, 3), match='bar'>\n",
      "<re.Match object; span=(0, 3), match='baz'>\n",
      "None\n",
      "\n",
      "<re.Match object; span=(0, 3), match='foo'>\n",
      "<re.Match object; span=(3, 9), match='grault'>\n",
      "<re.Match object; span=(0, 3), match='foo'>\n",
      "\n",
      "<re.Match object; span=(0, 9), match='foofoofoo'>\n",
      "<re.Match object; span=(0, 12), match='bazbazbazbaz'>\n",
      "<re.Match object; span=(0, 9), match='barbazfoo'>\n",
      "\n",
      "<re.Match object; span=(0, 3), match='456'>\n",
      "SUBPATTERN 1 0 0\n",
      "  BRANCH\n",
      "    MAX_REPEAT 1 MAXREPEAT\n",
      "      IN\n",
      "        RANGE (48, 57)\n",
      "  OR\n",
      "    MAX_REPEAT 1 MAXREPEAT\n",
      "      IN\n",
      "        RANGE (97, 102)\n",
      "\n",
      " 0. INFO 4 0b0 1 MAXREPEAT (to 5)\n",
      " 5: MARK 0\n",
      " 7. BRANCH 14 (to 22)\n",
      " 9.   REPEAT_ONE 10 1 MAXREPEAT (to 20)\n",
      "13.     IN 5 (to 19)\n",
      "15.       RANGE 0x30 0x39 ('0'-'9')\n",
      "18.       FAILURE\n",
      "19:     SUCCESS\n",
      "20:   JUMP 16 (to 37)\n",
      "22: branch 14 (to 36)\n",
      "23.   REPEAT_ONE 10 1 MAXREPEAT (to 34)\n",
      "27.     IN 5 (to 33)\n",
      "29.       RANGE 0x61 0x66 ('a'-'f')\n",
      "32.       FAILURE\n",
      "33:     SUCCESS\n",
      "34:   JUMP 2 (to 37)\n",
      "36: FAILURE\n",
      "37: MARK 1\n",
      "39. SUCCESS\n",
      "<re.Match object; span=(0, 4), match='ffda'>\n"
     ]
    }
   ],
   "source": [
    "#An expression of the form <regex1>|<regex2>|...|<regexn> matches at most one of the specified <regexi> expressions\n",
    "\n",
    "print(re.search('foo|bar|baz', 'bar'))\n",
    "print(re.search('foo|bar|baz', 'baz'))\n",
    "print(re.search('foo|bar|baz', 'quux'))\n",
    "print()\n",
    "print(re.search('foo', 'foograult'))\n",
    "print(re.search('grault', 'foograult'))\n",
    "print(re.search('foo|grault', 'foograult'))\n",
    "print()\n",
    "print(re.search('(foo|bar|baz)+', 'foofoofoo'))\n",
    "print(re.search('(foo|bar|baz)+', 'bazbazbazbaz'))\n",
    "print(re.search('(foo|bar|baz)+', 'barbazfoo'))\n",
    "print()\n",
    "print(re.search('([0-9]+|[a-f]+)', '456'))\n",
    "print(re.search('([0-9]+|[a-f]+)', 'ffda',re.DEBUG))"
   ]
  },
  {
   "cell_type": "raw",
   "id": "dbc8cedd",
   "metadata": {},
   "source": [
    "re.I (re.IGNORECASE) : Makes matching case insensitive."
   ]
  },
  {
   "cell_type": "code",
   "execution_count": 45,
   "id": "0b11de88",
   "metadata": {},
   "outputs": [
    {
     "name": "stdout",
     "output_type": "stream",
     "text": [
      "<re.Match object; span=(0, 3), match='aaa'>\n",
      "<re.Match object; span=(3, 6), match='AAA'>\n",
      "<re.Match object; span=(0, 6), match='aaaAAA'>\n",
      "<re.Match object; span=(0, 6), match='aaaAAA'>\n",
      "<re.Match object; span=(0, 1), match='a'>\n",
      "<re.Match object; span=(0, 6), match='aBcDeF'>\n"
     ]
    }
   ],
   "source": [
    "print(re.search('a+', 'aaaAAA'))\n",
    "print(re.search('A+', 'aaaAAA'))\n",
    "print(re.search('a+', 'aaaAAA', re.I))\n",
    "print(re.search('A+', 'aaaAAA', re.IGNORECASE))\n",
    "print(re.search('[a-z]+', 'aBcDeF'))\n",
    "print(re.search('[a-z]+', 'aBcDeF', re.I))"
   ]
  },
  {
   "cell_type": "raw",
   "id": "22014d52",
   "metadata": {},
   "source": [
    "re.M (re.MULTILINE): Causes start-of-string and end-of-string anchors to match at embedded newlines."
   ]
  },
  {
   "cell_type": "code",
   "execution_count": 46,
   "id": "2165d78b",
   "metadata": {},
   "outputs": [
    {
     "name": "stdout",
     "output_type": "stream",
     "text": [
      "<re.Match object; span=(0, 3), match='foo'>\n",
      "None\n",
      "None\n",
      "None\n",
      "None\n",
      "<re.Match object; span=(8, 11), match='baz'>\n",
      "\n",
      "<re.Match object; span=(0, 3), match='foo'>\n",
      "<re.Match object; span=(4, 7), match='bar'>\n",
      "<re.Match object; span=(8, 11), match='baz'>\n",
      "<re.Match object; span=(0, 3), match='foo'>\n",
      "<re.Match object; span=(4, 7), match='bar'>\n",
      "<re.Match object; span=(8, 11), match='baz'>\n",
      "\n",
      "<re.Match object; span=(4, 7), match='bar'>\n",
      "<re.Match object; span=(4, 7), match='bar'>\n",
      "None\n",
      "None\n"
     ]
    }
   ],
   "source": [
    "s = 'foo\\nbar\\nbaz'\n",
    "print(re.search('^foo', s))\n",
    "print(re.search('^bar', s))\n",
    "print(re.search('^baz', s))\n",
    "print(re.search('foo$', s))\n",
    "print(re.search('bar$', s))\n",
    "print(re.search('baz$', s))\n",
    "print()\n",
    "print(re.search('^foo', s, re.MULTILINE))\n",
    "print(re.search('^bar', s, re.MULTILINE))\n",
    "print(re.search('^baz', s, re.MULTILINE))\n",
    "print(re.search('foo$', s, re.M))\n",
    "print(re.search('bar$', s, re.M))\n",
    "print(re.search('baz$', s, re.M))\n",
    "print()\n",
    "print(re.search('^bar', s, re.MULTILINE))\n",
    "print(re.search('bar$', s, re.MULTILINE))\n",
    "print(re.search('\\Abar', s, re.MULTILINE))\n",
    "print(re.search('bar\\Z', s, re.MULTILINE))"
   ]
  },
  {
   "cell_type": "raw",
   "id": "5a5dd68c",
   "metadata": {},
   "source": [
    "re.S | re.DOTALL: Causes the dot (.) metacharacter to match a newline."
   ]
  },
  {
   "cell_type": "code",
   "execution_count": 47,
   "id": "cc2e95d0",
   "metadata": {},
   "outputs": [
    {
     "name": "stdout",
     "output_type": "stream",
     "text": [
      "None\n",
      "<re.Match object; span=(0, 7), match='foo\\nbar'>\n",
      "<re.Match object; span=(0, 7), match='foo\\nbar'>\n"
     ]
    }
   ],
   "source": [
    "#Remember that by default, the dot metacharacter matches any character except the newline character. \n",
    "##The DOTALL flag lifts this restriction:\n",
    "\n",
    "print(re.search('foo.bar', 'foo\\nbar'))\n",
    "print(re.search('foo.bar', 'foo\\nbar', re.DOTALL))\n",
    "print(re.search('foo.bar', 'foo\\nbar', re.S))"
   ]
  },
  {
   "cell_type": "raw",
   "id": "bbf9a702",
   "metadata": {},
   "source": [
    "re.X: re.VERBOSE: Allows inclusion of whitespace and comments within a regex."
   ]
  },
  {
   "cell_type": "code",
   "execution_count": 48,
   "id": "79f837ac",
   "metadata": {},
   "outputs": [
    {
     "name": "stdout",
     "output_type": "stream",
     "text": [
      "<re.Match object; span=(0, 8), match='414.9229'>\n",
      "<re.Match object; span=(0, 8), match='414-9229'>\n",
      "<re.Match object; span=(0, 13), match='(712)414-9229'>\n",
      "<re.Match object; span=(0, 14), match='(712) 414-9229'>\n",
      "\n",
      "None\n",
      "None\n",
      "None\n",
      "None\n",
      "\n",
      "<re.Match object; span=(0, 7), match='foo bar'>\n",
      "None\n",
      "<re.Match object; span=(0, 7), match='foo bar'>\n",
      "<re.Match object; span=(0, 7), match='foo bar'>\n"
     ]
    }
   ],
   "source": [
    "regex = r'^(\\(\\d{3}\\))?\\s*\\d{3}[-.]\\d{4}$'\n",
    "print(re.search(regex, '414.9229'))\n",
    "print(re.search(regex, '414-9229'))\n",
    "print(re.search(regex, '(712)414-9229'))\n",
    "print(re.search(regex, '(712) 414-9229'))\n",
    "print()\n",
    "\n",
    "regex = r'''^               # Start of string\n",
    "...             (\\(\\d{3}\\))?    # Optional area code\n",
    "...             \\s*             # Optional whitespace\n",
    "...             \\d{3}           # Three-digit prefix\n",
    "...             [-.]            # Separator character\n",
    "...             \\d{4}           # Four-digit line number\n",
    "...             $               # Anchor at end of string\n",
    "...             '''\n",
    "\n",
    "print(re.search(regex, '414.9229', re.VERBOSE))\n",
    "print(re.search(regex, '414-9229', re.VERBOSE))\n",
    "print(re.search(regex, '(712)414-9229', re.X))\n",
    "print(re.search(regex, '(712) 414-9229', re.X))\n",
    "print()\n",
    "print(re.search('foo bar', 'foo bar'))\n",
    "print(re.search('foo bar', 'foo bar', re.VERBOSE))\n",
    "print(re.search('foo\\ bar', 'foo bar', re.VERBOSE))\n",
    "print(re.search('foo[ ]bar', 'foo bar', re.VERBOSE))"
   ]
  },
  {
   "cell_type": "raw",
   "id": "893ff28e",
   "metadata": {},
   "source": [
    "re.DEBUG: Displays debugging information."
   ]
  },
  {
   "cell_type": "code",
   "execution_count": 49,
   "id": "23135f53",
   "metadata": {},
   "outputs": [
    {
     "name": "stdout",
     "output_type": "stream",
     "text": [
      "LITERAL 102\n",
      "LITERAL 111\n",
      "LITERAL 111\n",
      "ANY None\n",
      "LITERAL 98\n",
      "LITERAL 97\n",
      "LITERAL 114\n",
      "\n",
      " 0. INFO 12 0b1 7 7 (to 13)\n",
      "      prefix_skip 3\n",
      "      prefix [0x66, 0x6f, 0x6f] ('foo')\n",
      "      overlap [0, 0, 0]\n",
      "13: LITERAL 0x66 ('f')\n",
      "15. LITERAL 0x6f ('o')\n",
      "17. LITERAL 0x6f ('o')\n",
      "19. ANY\n",
      "20. LITERAL 0x62 ('b')\n",
      "22. LITERAL 0x61 ('a')\n",
      "24. LITERAL 0x72 ('r')\n",
      "26. SUCCESS\n",
      "<re.Match object; span=(0, 7), match='fooxbar'>\n",
      "\n",
      "AT AT_BEGINNING\n",
      "MAX_REPEAT 0 1\n",
      "  SUBPATTERN 1 0 0\n",
      "    LITERAL 40\n",
      "    MAX_REPEAT 3 3\n",
      "      IN\n",
      "        CATEGORY CATEGORY_DIGIT\n",
      "    LITERAL 41\n",
      "MAX_REPEAT 0 MAXREPEAT\n",
      "  IN\n",
      "    CATEGORY CATEGORY_SPACE\n",
      "MAX_REPEAT 3 3\n",
      "  IN\n",
      "    CATEGORY CATEGORY_DIGIT\n",
      "IN\n",
      "  LITERAL 45\n",
      "  LITERAL 46\n",
      "MAX_REPEAT 4 4\n",
      "  IN\n",
      "    CATEGORY CATEGORY_DIGIT\n",
      "AT AT_END\n",
      "\n",
      " 0. INFO 4 0b0 8 MAXREPEAT (to 5)\n",
      " 5: AT BEGINNING\n",
      " 7. REPEAT 21 0 1 (to 29)\n",
      "11.   MARK 0\n",
      "13.   LITERAL 0x28 ('(')\n",
      "15.   REPEAT_ONE 9 3 3 (to 25)\n",
      "19.     IN 4 (to 24)\n",
      "21.       CATEGORY UNI_DIGIT\n",
      "23.       FAILURE\n",
      "24:     SUCCESS\n",
      "25:   LITERAL 0x29 (')')\n",
      "27.   MARK 1\n",
      "29: MAX_UNTIL\n",
      "30. REPEAT_ONE 9 0 MAXREPEAT (to 40)\n",
      "34.   IN 4 (to 39)\n",
      "36.     CATEGORY UNI_SPACE\n",
      "38.     FAILURE\n",
      "39:   SUCCESS\n",
      "40: REPEAT_ONE 9 3 3 (to 50)\n",
      "44.   IN 4 (to 49)\n",
      "46.     CATEGORY UNI_DIGIT\n",
      "48.     FAILURE\n",
      "49:   SUCCESS\n",
      "50: IN 5 (to 56)\n",
      "52.   RANGE 0x2d 0x2e ('-'-'.')\n",
      "55.   FAILURE\n",
      "56: REPEAT_ONE 9 4 4 (to 66)\n",
      "60.   IN 4 (to 65)\n",
      "62.     CATEGORY UNI_DIGIT\n",
      "64.     FAILURE\n",
      "65:   SUCCESS\n",
      "66: AT END\n",
      "68. SUCCESS\n",
      "<re.Match object; span=(0, 8), match='414.9229'>\n",
      "\n",
      "<re.Match object; span=(0, 5), match='x222y'>\n",
      "LITERAL 120\n",
      "MAX_REPEAT 2 4\n",
      "  IN\n",
      "    LITERAL 49\n",
      "    LITERAL 50\n",
      "    LITERAL 51\n",
      "LITERAL 121\n",
      "\n",
      " 0. INFO 8 0b1 4 6 (to 9)\n",
      "      prefix_skip 1\n",
      "      prefix [0x78] ('x')\n",
      "      overlap [0]\n",
      " 9: LITERAL 0x78 ('x')\n",
      "11. REPEAT_ONE 10 2 4 (to 22)\n",
      "15.   IN 5 (to 21)\n",
      "17.     RANGE 0x31 0x33 ('1'-'3')\n",
      "20.     FAILURE\n",
      "21:   SUCCESS\n",
      "22: LITERAL 0x79 ('y')\n",
      "24. SUCCESS\n",
      "<re.Match object; span=(0, 5), match='x222y'>\n",
      "\n",
      "LITERAL 120\n",
      "IN\n",
      "  LITERAL 49\n",
      "  LITERAL 50\n",
      "  LITERAL 51\n",
      "LITERAL 123\n",
      "LITERAL 102\n",
      "LITERAL 111\n",
      "LITERAL 111\n",
      "LITERAL 125\n",
      "LITERAL 121\n",
      "\n",
      " 0. INFO 8 0b1 8 8 (to 9)\n",
      "      prefix_skip 1\n",
      "      prefix [0x78] ('x')\n",
      "      overlap [0]\n",
      " 9: LITERAL 0x78 ('x')\n",
      "11. IN 5 (to 17)\n",
      "13.   RANGE 0x31 0x33 ('1'-'3')\n",
      "16.   FAILURE\n",
      "17: LITERAL 0x7b ('{')\n",
      "19. LITERAL 0x66 ('f')\n",
      "21. LITERAL 0x6f ('o')\n",
      "23. LITERAL 0x6f ('o')\n",
      "25. LITERAL 0x7d ('}')\n",
      "27. LITERAL 0x79 ('y')\n",
      "29. SUCCESS\n",
      "None\n"
     ]
    }
   ],
   "source": [
    "#The DEBUG flag causes the regex parser in Python to display debugging information about the parsing process to the console\n",
    "\n",
    "print(re.search('foo.bar', 'fooxbar', re.DEBUG))\n",
    "\n",
    "print()\n",
    "regex = r'^(\\(\\d{3}\\))?\\s*\\d{3}[-.]\\d{4}$'\n",
    "print(re.search(regex, '414.9229', re.DEBUG))\n",
    "\n",
    "print()\n",
    "print(re.search('x[123]{2,4}y', 'x222y'))\n",
    "print(re.search('x[123]{2,4}y', 'x222y', re.DEBUG))\n",
    "print()\n",
    "\n",
    "print(re.search('x[123]{foo}y', 'x222y', re.DEBUG))"
   ]
  },
  {
   "cell_type": "raw",
   "id": "bf4fb32a",
   "metadata": {},
   "source": [
    "re.A | re.ASCII | re.U | re.UNICODE | re.L | re.LOCALE: \n",
    "    Specify the character encoding used for parsing of special regex character classes."
   ]
  },
  {
   "cell_type": "code",
   "execution_count": 50,
   "id": "94cc4dd2",
   "metadata": {},
   "outputs": [
    {
     "name": "stdout",
     "output_type": "stream",
     "text": [
      "१४६\n",
      "<re.Match object; span=(0, 3), match='१४६'>\n",
      "\n",
      "schön\n",
      "<re.Match object; span=(0, 3), match='sch'>\n",
      "<re.Match object; span=(0, 5), match='schön'>\n",
      "<re.Match object; span=(0, 5), match='schön'>\n"
     ]
    }
   ],
   "source": [
    "s = '\\u0967\\u096a\\u096c'\n",
    "print(s) #Devanagari digit characters\n",
    "print(re.search('\\d+', s))\n",
    "print()\n",
    "s = 'sch\\u00f6n'\n",
    "print(s) #'schön' (the German word for pretty or nice) \n",
    "print(re.search('\\w+', s, re.ASCII))\n",
    "print(re.search('\\w+', s, re.UNICODE))\n",
    "print(re.search('\\w+', s))"
   ]
  },
  {
   "cell_type": "code",
   "execution_count": null,
   "id": "863a2066",
   "metadata": {},
   "outputs": [],
   "source": []
  },
  {
   "cell_type": "markdown",
   "id": "93fcbd55",
   "metadata": {},
   "source": [
    "# Combining <flags> Arguments in a Function Call"
   ]
  },
  {
   "cell_type": "code",
   "execution_count": 51,
   "id": "ab0bdfd9",
   "metadata": {},
   "outputs": [
    {
     "name": "stdout",
     "output_type": "stream",
     "text": [
      "<re.Match object; span=(4, 7), match='BAR'>\n",
      "<re.Match object; span=(4, 7), match='BAR'>\n",
      "<re.Match object; span=(4, 7), match='BAR'>\n",
      "<re.Match object; span=(0, 11), match='foo\\nbar\\nbaz'>\n",
      "<re.Match object; span=(0, 11), match='foo\\nbar\\nbaz'>\n",
      "3.8.10 | packaged by conda-forge | (default, May 11 2021, 06:25:23) [MSC v.1916 64 bit (AMD64)]\n",
      "<re.Match object; span=(0, 11), match='foo\\nbar\\nbaz'>\n"
     ]
    },
    {
     "name": "stderr",
     "output_type": "stream",
     "text": [
      "<ipython-input-51-597c61f57b09>:4: DeprecationWarning: Flags not at the start of the expression 'foo.bar(?s).baz'\n",
      "  print(re.search('foo.bar(?s).baz', 'foo\\nbar\\nbaz'))\n",
      "<ipython-input-51-597c61f57b09>:5: DeprecationWarning: Flags not at the start of the expression 'foo.bar.baz(?s)'\n",
      "  print(re.search('foo.bar.baz(?s)', 'foo\\nbar\\nbaz'))\n"
     ]
    }
   ],
   "source": [
    "print(re.search('^bar', 'FOO\\nBAR\\nBAZ', re.I|re.M))\n",
    "print(re.search('^bar', 'FOO\\nBAR\\nBAZ\\n', re.I|re.M))\n",
    "print(re.search('(?im)^bar', 'FOO\\nBAR\\nBAZ\\n'))\n",
    "print(re.search('foo.bar(?s).baz', 'foo\\nbar\\nbaz'))\n",
    "print(re.search('foo.bar.baz(?s)', 'foo\\nbar\\nbaz'))\n",
    "\n",
    "import sys\n",
    "print(sys.version)\n",
    "\n",
    "print(re.search('foo.bar.baz(?s)', 'foo\\nbar\\nbaz'))"
   ]
  },
  {
   "cell_type": "code",
   "execution_count": null,
   "id": "0d191c54",
   "metadata": {},
   "outputs": [],
   "source": []
  },
  {
   "cell_type": "raw",
   "id": "bade2674",
   "metadata": {},
   "source": [
    "(?<set_flags>-<remove_flags>:<regex>): Sets or removes flag value(s) for the duration of a group."
   ]
  },
  {
   "cell_type": "code",
   "execution_count": 52,
   "id": "8a427dfd",
   "metadata": {},
   "outputs": [
    {
     "name": "stdout",
     "output_type": "stream",
     "text": [
      "<re.Match object; span=(0, 6), match='FOObar'>\n",
      "None\n",
      "None\n",
      "\n",
      "schön\n",
      "<re.Match object; span=(0, 3), match='sch'>\n",
      "<re.Match object; span=(0, 5), match='schön'>\n"
     ]
    }
   ],
   "source": [
    "#(?<set_flags>-<remove_flags>:<regex>) defines a non-capturing group that matches against <regex>. \n",
    "# For the <regex> contained in the group, the regex parser sets any flags specified in <set_flags> and clears any flags \n",
    "# specified in <remove_flags>.\n",
    "\n",
    "# Values for <set_flags> and <remove_flags> are most commonly i, m, s or x.\n",
    "\n",
    "# In the following example, the IGNORECASE flag is set for the specified group:\n",
    "\n",
    "print(re.search('(?i:foo)bar', 'FOObar'))\n",
    "print(re.search('(?i:foo)bar', 'FOOBAR'))\n",
    "print(re.search('(?-i:foo)bar', 'FOOBAR', re.IGNORECASE))\n",
    "print()\n",
    "\n",
    "s = 'sch\\u00f6n'\n",
    "print(s)\n",
    "\n",
    "# Requires Python 3.7 or later\n",
    "print(re.search('(?a:\\w+)', s))\n",
    "print(re.search('(?u:\\w+)', s))\n",
    "#print(re.search('(?-a:\\w+)', s))"
   ]
  },
  {
   "cell_type": "raw",
   "id": "86c10eb8",
   "metadata": {},
   "source": [
    "re.search(<regex>, <string>, flags=0): Scans a string for a regex match"
   ]
  },
  {
   "cell_type": "code",
   "execution_count": 53,
   "id": "b2b50007",
   "metadata": {},
   "outputs": [
    {
     "name": "stdout",
     "output_type": "stream",
     "text": [
      "<re.Match object; span=(3, 6), match='123'>\n",
      "<re.Match object; span=(3, 6), match='FOO'>\n",
      "None\n"
     ]
    }
   ],
   "source": [
    "#The function returns a match object if it finds a match and None otherwise.\n",
    "\n",
    "print(re.search(r'(\\d+)', 'foo123bar'))\n",
    "print(re.search(r'[a-z]+', '123FOO456', flags=re.IGNORECASE))\n",
    "print(re.search(r'\\d+', 'foo.bar'))\n"
   ]
  },
  {
   "cell_type": "raw",
   "id": "8fcf56a1",
   "metadata": {},
   "source": [
    "re.match(<regex>, <string>, flags=0): Looks for a regex match at the beginning of a string."
   ]
  },
  {
   "cell_type": "code",
   "execution_count": 54,
   "id": "dcb81f26",
   "metadata": {},
   "outputs": [
    {
     "name": "stdout",
     "output_type": "stream",
     "text": [
      "<re.Match object; span=(0, 3), match='123'>\n",
      "<re.Match object; span=(3, 6), match='123'>\n",
      "<re.Match object; span=(0, 3), match='123'>\n",
      "None\n",
      "\n",
      "<re.Match object; span=(0, 3), match='foo'>\n",
      "<re.Match object; span=(4, 7), match='bar'>\n",
      "<re.Match object; span=(0, 3), match='foo'>\n",
      "None\n"
     ]
    }
   ],
   "source": [
    "#This is identical to re.search(), except that re.search() returns a match if <regex> matches anywhere in <string>, \n",
    "##whereas re.match() returns a match only if <regex> matches at the beginning of <string>:\n",
    "\n",
    "print(re.search(r'\\d+', '123foobar'))\n",
    "print(re.search(r'\\d+', 'foo123bar'))\n",
    "print(re.match(r'\\d+', '123foobar'))\n",
    "print(re.match(r'\\d+', 'foo123bar'))\n",
    "print()\n",
    "s = 'foo\\nbar\\nbaz'\n",
    "print(re.search('^foo', s))\n",
    "print(re.search('^bar', s, re.MULTILINE))\n",
    "print(re.match('^foo', s))\n",
    "print(re.match('^bar', s, re.MULTILINE))"
   ]
  },
  {
   "cell_type": "raw",
   "id": "8b9a5176",
   "metadata": {},
   "source": [
    "re.fullmatch(<regex>, <string>, flags=0): Looks for a regex match on an entire string"
   ]
  },
  {
   "cell_type": "code",
   "execution_count": 55,
   "id": "f56c7a6f",
   "metadata": {},
   "outputs": [
    {
     "name": "stdout",
     "output_type": "stream",
     "text": [
      "None\n",
      "None\n",
      "None\n",
      "<re.Match object; span=(0, 3), match='123'>\n",
      "<re.Match object; span=(0, 3), match='123'>\n"
     ]
    }
   ],
   "source": [
    "print(re.fullmatch(r'\\d+', '123foo'))\n",
    "print(re.fullmatch(r'\\d+', 'foo123'))\n",
    "print(re.fullmatch(r'\\d+', 'foo123bar'))\n",
    "print(re.fullmatch(r'\\d+', '123'))\n",
    "print(re.search(r'^\\d+$', '123'))"
   ]
  },
  {
   "cell_type": "raw",
   "id": "453eb14e",
   "metadata": {},
   "source": [
    "re.findall(<regex>, <string>, flags=0): Returns a list of all matches of a regex in a string"
   ]
  },
  {
   "cell_type": "code",
   "execution_count": 56,
   "id": "6c7e3164",
   "metadata": {},
   "outputs": [
    {
     "name": "stdout",
     "output_type": "stream",
     "text": [
      "['foo', 'bar', 'baz']\n",
      "['foo', 'bar', 'baz']\n",
      "[('foo', 'bar'), ('baz', 'qux'), ('quux', 'corge')]\n",
      "[('foo', 'bar', 'baz'), ('qux', 'quux', 'corge')]\n"
     ]
    }
   ],
   "source": [
    "#re.findall(<regex>, <string>) returns a list of all non-overlapping matches of <regex> in <string>. \n",
    "##It scans the search string from left to right and returns all matches in the order found\n",
    "\n",
    "print(re.findall(r'\\w+', '...foo,,,,bar:%$baz//|'))\n",
    "print(re.findall(r'#(\\w+)#', '#foo#.#bar#.#baz#'))\n",
    "print(re.findall(r'(\\w+),(\\w+)', 'foo,bar,baz,qux,quux,corge'))\n",
    "print(re.findall(r'(\\w+),(\\w+),(\\w+)', 'foo,bar,baz,qux,quux,corge'))"
   ]
  },
  {
   "cell_type": "raw",
   "id": "15aebe73",
   "metadata": {},
   "source": [
    "re.finditer(<regex>, <string>, flags=0): Returns an iterator that yields regex matches."
   ]
  },
  {
   "cell_type": "code",
   "execution_count": 57,
   "id": "89af21cd",
   "metadata": {},
   "outputs": [
    {
     "name": "stdout",
     "output_type": "stream",
     "text": [
      "<re.Match object; span=(3, 6), match='foo'>\n",
      "<re.Match object; span=(10, 13), match='bar'>\n",
      "<re.Match object; span=(16, 19), match='baz'>\n"
     ]
    }
   ],
   "source": [
    "#re.finditer(<regex>, <string>) scans <string> for non-overlapping matches of <regex> and returns an iterator that yields the \n",
    "#match objects from any it finds. It scans the search string from left to right and returns matches in the order it finds them\n",
    "\n",
    "it = re.finditer(r'\\w+', '...foo,,,,bar:%$baz//|')\n",
    "print(next(it))\n",
    "print(next(it))\n",
    "print(next(it))\n",
    "# next(it)"
   ]
  },
  {
   "cell_type": "code",
   "execution_count": null,
   "id": "8b511625",
   "metadata": {},
   "outputs": [],
   "source": []
  },
  {
   "cell_type": "markdown",
   "id": "8af58d96",
   "metadata": {},
   "source": [
    "# Substitution Functions"
   ]
  },
  {
   "cell_type": "raw",
   "id": "76706ce5",
   "metadata": {},
   "source": [
    "re.sub(<regex>, <repl>, <string>, count=0, flags=0): Returns a new string that results from performing replacements on a search string."
   ]
  },
  {
   "cell_type": "code",
   "execution_count": 58,
   "id": "cac7519b",
   "metadata": {},
   "outputs": [],
   "source": [
    "#re.sub(<regex>, <repl>, <string>) finds the leftmost non-overlapping occurrences of <regex> in <string>, replaces each match \n",
    "##as indicated by <repl>, and returns the result. <string> remains unchanged.\n",
    "##<repl> can be either a string or a function, as explained below.\n",
    "\n"
   ]
  },
  {
   "cell_type": "raw",
   "id": "cdd47835",
   "metadata": {},
   "source": [
    "Substitution by String: If <repl> is a string, then re.sub() inserts it into <string> in place of any sequences that match <regex>"
   ]
  },
  {
   "cell_type": "code",
   "execution_count": 59,
   "id": "5a2165e2",
   "metadata": {},
   "outputs": [
    {
     "name": "stdout",
     "output_type": "stream",
     "text": [
      "foo.#.bar.#.baz\n",
      "(*).123.(*).789.(*)\n",
      "qux,bar,baz,foo\n",
      "foo,baz,bar,qux\n",
      "foo,baz,bar,qux\n",
      "foo 1230 bar\n",
      "foo /123/ bar\n",
      "-f-o-o-\n"
     ]
    }
   ],
   "source": [
    "s = 'foo.123.bar.789.baz'\n",
    "print(re.sub(r'\\d+', '#', s))\n",
    "print(re.sub('[a-z]+', '(*)', s))\n",
    "print(re.sub(r'(\\w+),bar,baz,(\\w+)',r'\\2,bar,baz,\\1','foo,bar,baz,qux'))\n",
    "print(re.sub(r'foo,(?P<w1>\\w+),(?P<w2>\\w+),qux', r'foo,\\g<w2>,\\g<w1>,qux', 'foo,bar,baz,qux'))\n",
    "print(re.sub(r'foo,(\\w+),(\\w+),qux', r'foo,\\g<2>,\\g<1>,qux','foo,bar,baz,qux'))\n",
    "print(re.sub(r'(\\d+)', r'\\g<1>0', 'foo 123 bar'))\n",
    "print(re.sub(r'\\d+', '/\\g<0>/', 'foo 123 bar'))\n",
    "print(re.sub('x*', '-', 'foo'))"
   ]
  },
  {
   "cell_type": "raw",
   "id": "6702196f",
   "metadata": {},
   "source": [
    "Substitution by Function"
   ]
  },
  {
   "cell_type": "code",
   "execution_count": 60,
   "id": "d8a3ff4e",
   "metadata": {},
   "outputs": [
    {
     "data": {
      "text/plain": [
       "'FOO.100.BAR.200.BAZ.300'"
      ]
     },
     "execution_count": 60,
     "metadata": {},
     "output_type": "execute_result"
    }
   ],
   "source": [
    "def f(match_obj):\n",
    "    s = match_obj.group(0)  # The matching string\n",
    "    # s.isdigit() returns True if all characters in s are digits\n",
    "    if s.isdigit():\n",
    "        return str(int(s) * 10)\n",
    "    else:\n",
    "        return s.upper()\n",
    "    \n",
    "\n",
    "re.sub(r'\\w+', f, 'foo.10.bar.20.baz.30')"
   ]
  },
  {
   "cell_type": "raw",
   "id": "a18d9ccb",
   "metadata": {},
   "source": [
    "Limiting the Number of Replacements"
   ]
  },
  {
   "cell_type": "code",
   "execution_count": 61,
   "id": "da04a5bb",
   "metadata": {},
   "outputs": [
    {
     "name": "stdout",
     "output_type": "stream",
     "text": [
      "xxx.xxx.xxx.xxx\n",
      "xxx.xxx.baz.qux\n"
     ]
    }
   ],
   "source": [
    "print(re.sub(r'\\w+', 'xxx', 'foo.bar.baz.qux'))\n",
    "print(re.sub(r'\\w+', 'xxx', 'foo.bar.baz.qux', count=2))"
   ]
  },
  {
   "cell_type": "raw",
   "id": "6acf78fb",
   "metadata": {},
   "source": [
    "re.subn(<regex>, <repl>, <string>, count=0, flags=0): Returns a new string that results from performing replacements on a search string and also returns the number of substitutions made."
   ]
  },
  {
   "cell_type": "code",
   "execution_count": 62,
   "id": "ca9a1480",
   "metadata": {},
   "outputs": [
    {
     "name": "stdout",
     "output_type": "stream",
     "text": [
      "('xxx.xxx.xxx.xxx', 4)\n",
      "('xxx.xxx.baz.qux', 2)\n"
     ]
    }
   ],
   "source": [
    "#re.subn() is identical to re.sub(), except that re.subn() returns a two-tuple consisting of the modified string and the \n",
    "##number of substitutions made\n",
    "\n",
    "print(re.subn(r'\\w+', 'xxx', 'foo.bar.baz.qux'))\n",
    "print(re.subn(r'\\w+', 'xxx', 'foo.bar.baz.qux', count=2))"
   ]
  },
  {
   "cell_type": "code",
   "execution_count": null,
   "id": "4b37a32f",
   "metadata": {},
   "outputs": [],
   "source": []
  },
  {
   "cell_type": "markdown",
   "id": "81c9669a",
   "metadata": {},
   "source": [
    "# Utility Functions"
   ]
  },
  {
   "cell_type": "raw",
   "id": "fb4f2bf1",
   "metadata": {},
   "source": [
    "re.split(<regex>, <string>, maxsplit=0, flags=0): Splits a string into substrings."
   ]
  },
  {
   "cell_type": "code",
   "execution_count": 63,
   "id": "fec87c6b",
   "metadata": {},
   "outputs": [
    {
     "name": "stdout",
     "output_type": "stream",
     "text": [
      "['foo', 'bar', 'baz', 'qux']\n",
      "['foo', ',', 'bar', '  ;  ', 'baz', ' / ', 'qux']\n",
      "\n",
      "['foo', 'bar', 'baz', 'qux']\n",
      "\n",
      "['foo', 'bar', 'baz', 'qux', 'quux', 'corge']\n",
      "['foo', 'bar', 'baz', 'qux, quux, corge']\n",
      "['', '/', 'foo', '/', 'bar', '/', 'baz', '/', '']\n"
     ]
    }
   ],
   "source": [
    "#re.split(<regex>, <string>) splits <string> into substrings using <regex> as the delimiter and returns the substrings as a \n",
    "##list.\n",
    "\n",
    "##The following example splits the specified string into substrings delimited by a comma (,), semicolon (;), or slash (/) \n",
    "##character, surrounded by any amount of whitespace\n",
    "\n",
    "print(re.split('\\s*[,;/]\\s*', 'foo,bar  ;  baz / qux'))\n",
    "print(re.split('(\\s*[,;/]\\s*)', 'foo,bar  ;  baz / qux'))\n",
    "print()\n",
    "\n",
    "string = 'foo,bar  ;  baz / qux'\n",
    "regex = r'(?:\\s*[,;/]\\s*)'\n",
    "print(re.split(regex, string))\n",
    "print()\n",
    "\n",
    "s = 'foo, bar, baz, qux, quux, corge'\n",
    "print(re.split(r',\\s*', s))\n",
    "print(re.split(r',\\s*', s, maxsplit=3))\n",
    "print(re.split('(/)', '/foo/bar/baz/'))"
   ]
  },
  {
   "cell_type": "raw",
   "id": "dd1f0158",
   "metadata": {},
   "source": [
    "re.escape(<regex>): Escapes characters in a regex"
   ]
  },
  {
   "cell_type": "code",
   "execution_count": 64,
   "id": "5c6db5bd",
   "metadata": {},
   "outputs": [
    {
     "name": "stdout",
     "output_type": "stream",
     "text": [
      "None\n",
      "<re.Match object; span=(0, 16), match='foo^bar(baz)|qux'>\n",
      "True\n",
      "<re.Match object; span=(0, 16), match='foo^bar(baz)|qux'>\n"
     ]
    }
   ],
   "source": [
    "#re.escape(<regex>) returns a copy of <regex> with each nonword character (anything other than a letter, digit, or underscore)\n",
    "##preceded by a backslash.\n",
    "\n",
    "print(re.match('foo^bar(baz)|qux', 'foo^bar(baz)|qux'))\n",
    "print(re.match('foo\\^bar\\(baz\\)\\|qux', 'foo^bar(baz)|qux'))\n",
    "print(re.escape('foo^bar(baz)|qux') == 'foo\\^bar\\(baz\\)\\|qux')\n",
    "print(re.match(re.escape('foo^bar(baz)|qux'), 'foo^bar(baz)|qux'))"
   ]
  },
  {
   "cell_type": "code",
   "execution_count": null,
   "id": "fc039fb3",
   "metadata": {},
   "outputs": [],
   "source": []
  },
  {
   "cell_type": "markdown",
   "id": "6df8d118",
   "metadata": {},
   "source": [
    "# Compiled Regex Objects in Python"
   ]
  },
  {
   "cell_type": "raw",
   "id": "c967edbb",
   "metadata": {},
   "source": [
    "re.compile(<regex>, flags=0): Compiles a regex into a regular expression object"
   ]
  },
  {
   "cell_type": "code",
   "execution_count": 65,
   "id": "ad36cb88",
   "metadata": {},
   "outputs": [
    {
     "name": "stdout",
     "output_type": "stream",
     "text": [
      "<re.Match object; span=(3, 6), match='123'>\n",
      "<re.Match object; span=(3, 6), match='123'>\n",
      "<re.Match object; span=(3, 6), match='123'>\n",
      "<re.Match object; span=(3, 6), match='BAR'>\n",
      "<re.Match object; span=(3, 6), match='BAR'>\n",
      "<re.Match object; span=(3, 6), match='BAR'>\n",
      "\n"
     ]
    }
   ],
   "source": [
    "#re.compile(<regex>) compiles <regex> and returns the corresponding regular expression object. \n",
    "#If you include a <flags> value, then the corresponding flags apply to any searches performed with the object.\n",
    "\n",
    "print(re.search(r'(\\d+)', 'foo123bar'))\n",
    "re_obj = re.compile(r'(\\d+)')\n",
    "print(re.search(re_obj, 'foo123bar'))\n",
    "print(re_obj.search('foo123bar'))\n",
    "\n",
    "r1 = re.search('ba[rz]', 'FOOBARBAZ', flags=re.I)\n",
    "re_obj = re.compile('ba[rz]', flags=re.I)\n",
    "r2 = re.search(re_obj, 'FOOBARBAZ')\n",
    "r3 = re_obj.search('FOOBARBAZ')\n",
    "print(r1)\n",
    "print(r2)\n",
    "print(r3)\n",
    "print()"
   ]
  },
  {
   "cell_type": "markdown",
   "id": "8c52b0af",
   "metadata": {},
   "source": [
    "# Why Bother Compiling a Regex?"
   ]
  },
  {
   "cell_type": "code",
   "execution_count": 66,
   "id": "0a6bfd28",
   "metadata": {},
   "outputs": [
    {
     "name": "stdout",
     "output_type": "stream",
     "text": [
      "None\n",
      "<re.Match object; span=(3, 6), match='123'>\n",
      "<re.Match object; span=(3, 5), match='99'>\n",
      "None\n"
     ]
    }
   ],
   "source": [
    "#If you use a particular regex in your Python code frequently, then precompiling allows you to separate out the \n",
    "##regex definition from its uses. This enhances modularity. \n",
    "\n",
    "s1, s2, s3, s4 = 'foo.bar', 'foo123bar', 'baz99', 'qux & grault'\n",
    "print(re.search('\\d+', s1))\n",
    "print(re.search('\\d+', s2))\n",
    "print(re.search('\\d+', s3))\n",
    "print(re.search('\\d+', s4))"
   ]
  },
  {
   "cell_type": "code",
   "execution_count": 67,
   "id": "834afcde",
   "metadata": {},
   "outputs": [
    {
     "name": "stdout",
     "output_type": "stream",
     "text": [
      "None\n",
      "<re.Match object; span=(3, 6), match='123'>\n",
      "<re.Match object; span=(3, 5), match='99'>\n",
      "None\n"
     ]
    }
   ],
   "source": [
    "#The following is more modular and more maintainable:\n",
    "\n",
    "s1, s2, s3, s4 = 'foo.bar', 'foo123bar', 'baz99', 'qux & grault'\n",
    "re_obj = re.compile('\\d+')\n",
    "\n",
    "print(re_obj.search(s1))\n",
    "print(re_obj.search(s2))\n",
    "print(re_obj.search(s3))\n",
    "print(re_obj.search(s4))"
   ]
  },
  {
   "cell_type": "code",
   "execution_count": 68,
   "id": "db082acf",
   "metadata": {},
   "outputs": [
    {
     "name": "stdout",
     "output_type": "stream",
     "text": [
      "None\n",
      "<re.Match object; span=(3, 6), match='123'>\n",
      "<re.Match object; span=(3, 5), match='99'>\n",
      "None\n"
     ]
    }
   ],
   "source": [
    "#Then again, you can achieve similar modularity without precompiling by using variable assignment\n",
    "\n",
    "s1, s2, s3, s4 = 'foo.bar', 'foo123bar', 'baz99', 'qux & grault'\n",
    "regex = '\\d+'\n",
    "\n",
    "print(re.search(regex, s1))\n",
    "print(re.search(regex, s2))\n",
    "print(re.search(regex, s3))\n",
    "print(re.search(regex, s4))"
   ]
  },
  {
   "cell_type": "code",
   "execution_count": 69,
   "id": "1bd5cd32",
   "metadata": {},
   "outputs": [],
   "source": [
    "# In theory, you might expect precompilation to result in faster execution time as well. Suppose you call re.search() many \n",
    "# thousands of times on the same regex. It might seem like compiling the regex once ahead of time would be more efficient than \n",
    "# recompiling it each of the thousands of times it’s used.\n",
    "\n",
    "# In practice, though, that isn’t the case. The truth is that the re module compiles and caches a regex when it’s used in a \n",
    "# function call. If the same regex is used subsequently in the same Python code, then it isn’t recompiled. The compiled value \n",
    "# is fetched from cache instead. So the performance advantage is minimal.\n",
    "\n",
    "# All in all, there isn’t any immensely compelling reason to compile a regex in Python. Like much of Python, it’s just one more \n",
    "# tool in your toolkit that you can use if you feel it will improve the readability or structure of your code."
   ]
  },
  {
   "cell_type": "code",
   "execution_count": null,
   "id": "5c5614de",
   "metadata": {},
   "outputs": [],
   "source": []
  },
  {
   "cell_type": "markdown",
   "id": "198dd4ba",
   "metadata": {},
   "source": [
    "# Regular Expression Object Methods"
   ]
  },
  {
   "cell_type": "code",
   "execution_count": 70,
   "id": "d215d86b",
   "metadata": {},
   "outputs": [
    {
     "name": "stdout",
     "output_type": "stream",
     "text": [
      "<re.Match object; span=(3, 6), match='123'>\n",
      "bar\n",
      "None\n",
      "\n",
      "barbaz\n",
      "None\n"
     ]
    }
   ],
   "source": [
    "re_obj = re.compile(r'\\d+')\n",
    "s = 'foo123barbaz'\n",
    "\n",
    "print(re_obj.search(s))\n",
    "print(s[6:9])\n",
    "print(re_obj.search(s, 6, 9))\n",
    "#the <pos> and <endpos> parameters effectively restrict the search to the substring starting with character 6 and going up to\n",
    "##but not including character 9 (the substring 'bar'), which doesn’t contain any digits.\n",
    "\n",
    "#If we specify <pos> but omit <endpos>, then the search applies to the substring from <pos> to the end of the string.\n",
    "\n",
    "print()\n",
    "\n",
    "\n",
    "re_obj = re.compile('^bar')\n",
    "s = 'foobarbaz'\n",
    "print(s[3:])\n",
    "print(re_obj.search(s, 3))\n",
    "\n",
    "#Here, even though 'bar' does occur at the start of the substring beginning at character 3, \n",
    "#it isn’t at the start of the entire string, so the caret (^) anchor fails to match."
   ]
  },
  {
   "cell_type": "code",
   "execution_count": null,
   "id": "64516eab",
   "metadata": {},
   "outputs": [],
   "source": []
  },
  {
   "cell_type": "markdown",
   "id": "40f56b76",
   "metadata": {},
   "source": [
    "# Regular Expression Object Attributes"
   ]
  },
  {
   "cell_type": "code",
   "execution_count": 71,
   "id": "315fa1ab",
   "metadata": {},
   "outputs": [
    {
     "name": "stdout",
     "output_type": "stream",
     "text": [
      "42\n",
      "re.IGNORECASE|re.UNICODE|re.MULTILINE\n",
      "2\n",
      "(?m)(\\w+),(\\w+)\n",
      "\n",
      "{'w1': 1, 'w2': 2}\n",
      "1\n",
      "2\n",
      "\n"
     ]
    }
   ],
   "source": [
    "re_obj = re.compile(r'(?m)(\\w+),(\\w+)', re.I)\n",
    "print(re_obj.flags)\n",
    "print(re.I|re.M|re.UNICODE)\n",
    "print(re_obj.groups)\n",
    "print(re_obj.pattern)\n",
    "print()\n",
    "\n",
    "re_obj = re.compile(r'(?P<w1>),(?P<w2>)')\n",
    "print(re_obj.groupindex)\n",
    "print(re_obj.groupindex['w1'])\n",
    "print(re_obj.groupindex['w2'])\n",
    "print()\n",
    "\n",
    "#You can see on line 4 that the value of re_obj.flags is the logical OR of these three values, which equals 42."
   ]
  },
  {
   "cell_type": "code",
   "execution_count": null,
   "id": "ade70a23",
   "metadata": {},
   "outputs": [],
   "source": []
  },
  {
   "cell_type": "markdown",
   "id": "2fa9a098",
   "metadata": {},
   "source": [
    "# Match Object Methods and Attributes"
   ]
  },
  {
   "cell_type": "code",
   "execution_count": 72,
   "id": "4bf24d07",
   "metadata": {},
   "outputs": [
    {
     "name": "stdout",
     "output_type": "stream",
     "text": [
      "<re.Match object; span=(4, 7), match='bar'>\n",
      "True\n",
      "Found a match\n"
     ]
    }
   ],
   "source": [
    "m = re.search('bar', 'foo.bar.baz')\n",
    "print(m)\n",
    "print(bool(m))\n",
    "\n",
    "if re.search('bar', 'foo.bar.baz'):\n",
    "    print('Found a match')\n"
   ]
  },
  {
   "cell_type": "raw",
   "id": "0cacb45e",
   "metadata": {},
   "source": [
    "Match Object Methods"
   ]
  },
  {
   "cell_type": "raw",
   "id": "7764f7ef",
   "metadata": {},
   "source": [
    "match.group([<group1>, ...]): Returns the specified captured group(s) from a match"
   ]
  },
  {
   "cell_type": "code",
   "execution_count": 73,
   "id": "bb10147f",
   "metadata": {},
   "outputs": [
    {
     "name": "stdout",
     "output_type": "stream",
     "text": [
      "foo\n",
      "baz\n"
     ]
    }
   ],
   "source": [
    "m = re.search(r'(\\w+),(\\w+),(\\w+)', 'foo,bar,baz')\n",
    "print(m.group(1))\n",
    "print(m.group(3))\n",
    "\n",
    "#Remember: Numbered captured groups are one-based, not zero-based."
   ]
  },
  {
   "cell_type": "code",
   "execution_count": 74,
   "id": "ad2d1e2b",
   "metadata": {},
   "outputs": [
    {
     "name": "stdout",
     "output_type": "stream",
     "text": [
      "quux\n",
      "grault\n"
     ]
    }
   ],
   "source": [
    "#If we capture groups using (?P<name><regex>), then match.group(<name>) returns the corresponding named group:\n",
    "\n",
    "m = re.match(r'(?P<w1>\\w+),(?P<w2>\\w+),(?P<w3>\\w+)', 'quux,corge,grault')\n",
    "print(m.group('w1'))\n",
    "print(m.group('w3'))"
   ]
  },
  {
   "cell_type": "code",
   "execution_count": 75,
   "id": "12ab358f",
   "metadata": {},
   "outputs": [
    {
     "name": "stdout",
     "output_type": "stream",
     "text": [
      "('foo', 'baz')\n",
      "('baz', 'baz', 'foo', 'foo', 'bar', 'bar')\n",
      "\n",
      "('grault', 'quux', 'quux', 'corge')\n"
     ]
    }
   ],
   "source": [
    "#With more than one argument, .group() returns a tuple of all the groups specified. A given group can appear multiple times, \n",
    "#and you can specify any captured groups in any order:\n",
    "\n",
    "m = re.search(r'(\\w+),(\\w+),(\\w+)', 'foo,bar,baz')\n",
    "print(m.group(1, 3))\n",
    "print(m.group(3, 3, 1, 1, 2, 2))\n",
    "print()\n",
    "m = re.match(r'(?P<w1>\\w+),(?P<w2>\\w+),(?P<w3>\\w+)', 'quux,corge,grault')\n",
    "print(m.group('w3', 'w1', 'w1', 'w2'))"
   ]
  },
  {
   "cell_type": "code",
   "execution_count": 77,
   "id": "de8ac244",
   "metadata": {},
   "outputs": [
    {
     "ename": "IndexError",
     "evalue": "no such group",
     "output_type": "error",
     "traceback": [
      "\u001b[1;31m---------------------------------------------------------------------------\u001b[0m",
      "\u001b[1;31mIndexError\u001b[0m                                Traceback (most recent call last)",
      "\u001b[1;32m<ipython-input-77-1471c2fbbd05>\u001b[0m in \u001b[0;36m<module>\u001b[1;34m\u001b[0m\n\u001b[0;32m      5\u001b[0m \u001b[1;33m\u001b[0m\u001b[0m\n\u001b[0;32m      6\u001b[0m \u001b[0mm\u001b[0m \u001b[1;33m=\u001b[0m \u001b[0mre\u001b[0m\u001b[1;33m.\u001b[0m\u001b[0mmatch\u001b[0m\u001b[1;33m(\u001b[0m\u001b[1;34mr'(?P<w1>\\w+),(?P<w2>\\w+),(?P<w3>\\w+)'\u001b[0m\u001b[1;33m,\u001b[0m \u001b[1;34m'quux,corge,grault'\u001b[0m\u001b[1;33m)\u001b[0m\u001b[1;33m\u001b[0m\u001b[1;33m\u001b[0m\u001b[0m\n\u001b[1;32m----> 7\u001b[1;33m \u001b[0mprint\u001b[0m\u001b[1;33m(\u001b[0m\u001b[0mm\u001b[0m\u001b[1;33m.\u001b[0m\u001b[0mgroup\u001b[0m\u001b[1;33m(\u001b[0m\u001b[1;34m'foo'\u001b[0m\u001b[1;33m)\u001b[0m\u001b[1;33m)\u001b[0m\u001b[1;33m\u001b[0m\u001b[1;33m\u001b[0m\u001b[0m\n\u001b[0m",
      "\u001b[1;31mIndexError\u001b[0m: no such group"
     ]
    }
   ],
   "source": [
    "#If you specify a group that’s out of range or nonexistent, then .group() raises an IndexError exception:\n",
    "\n",
    "m = re.search(r'(\\w+),(\\w+),(\\w+)', 'foo,bar,baz')\n",
    "#print(m.group(4))\n",
    "\n",
    "m = re.match(r'(?P<w1>\\w+),(?P<w2>\\w+),(?P<w3>\\w+)', 'quux,corge,grault')\n",
    "#print(m.group('foo'))"
   ]
  },
  {
   "cell_type": "code",
   "execution_count": 79,
   "id": "7bcb6875",
   "metadata": {},
   "outputs": [
    {
     "name": "stdout",
     "output_type": "stream",
     "text": [
      "<re.Match object; span=(0, 8), match='foo,bar,'>\n",
      "('foo', 'bar')\n",
      "None\n"
     ]
    }
   ],
   "source": [
    "#It’s possible for a regex in Python to match as a whole but to contain a group that doesn’t participate in the match. \n",
    "#In that case, .group() returns None for the nonparticipating group. Consider this example:\n",
    "\n",
    "m = re.search(r'(\\w+),(\\w+),(\\w+)?', 'foo,bar,')\n",
    "print(m)\n",
    "print(m.group(1, 2))\n",
    "\n",
    "#This regex matches, as you can see from the match object. The first two captured groups contain 'foo' and 'bar', respectively.\n",
    "\n",
    "#A question mark (?) quantifier metacharacter follows the third group, though, so that group is optional. A match will occur \n",
    "#if there’s a third sequence of word characters following the second comma (,) but also if there isn’t.\n",
    "\n",
    "#In this case, there isn’t. So there is match overall, but the third group doesn’t participate in it. As a result, m.group(3) \n",
    "#is still defined and is a valid reference, but it returns None:\n",
    "print(m.group(3))"
   ]
  },
  {
   "cell_type": "code",
   "execution_count": 80,
   "id": "da524eec",
   "metadata": {},
   "outputs": [
    {
     "name": "stdout",
     "output_type": "stream",
     "text": [
      "<re.Match object; span=(0, 12), match='foo,bar,baz,'>\n",
      "baz,\n"
     ]
    }
   ],
   "source": [
    "#It can also happen that a group participates in the overall match multiple times. If you call .group() for that group number,\n",
    "##then it returns only the part of the search string that matched the last time. The earlier matches aren’t accessible:\n",
    "\n",
    "m = re.match(r'(\\w{3},)+', 'foo,bar,baz,qux')\n",
    "print(m)\n",
    "\n",
    "print(m.group(1))\n",
    "\n",
    "#In this example, the full match is 'foo,bar,baz,', as shown by the displayed match object. Each of 'foo,', 'bar,', and 'baz,'\n",
    "##matches what’s inside the group, but m.group(1) returns only the last match, 'baz,'."
   ]
  },
  {
   "cell_type": "code",
   "execution_count": 81,
   "id": "0012e959",
   "metadata": {},
   "outputs": [
    {
     "name": "stdout",
     "output_type": "stream",
     "text": [
      "<re.Match object; span=(0, 11), match='foo,bar,baz'>\n",
      "foo,bar,baz\n",
      "foo,bar,baz\n"
     ]
    }
   ],
   "source": [
    "#If you call .group() with an argument of 0 or no argument at all, then it returns the entire match:\n",
    "m = re.search(r'(\\w+),(\\w+),(\\w+)', 'foo,bar,baz')\n",
    "print(m)\n",
    "print(m.group(0))\n",
    "print(m.group())"
   ]
  },
  {
   "cell_type": "raw",
   "id": "0fb1a758",
   "metadata": {},
   "source": [
    "match.__getitem__(<grp>): Returns a captured group from a match."
   ]
  },
  {
   "cell_type": "code",
   "execution_count": 82,
   "id": "fbf42b16",
   "metadata": {},
   "outputs": [
    {
     "name": "stdout",
     "output_type": "stream",
     "text": [
      "bar\n",
      "bar\n"
     ]
    }
   ],
   "source": [
    "#match.__getitem__(<grp>) is identical to match.group(<grp>) and returns the single group specified by <grp>:\n",
    "\n",
    "m = re.search(r'(\\w+),(\\w+),(\\w+)', 'foo,bar,baz')\n",
    "print(m.group(2))\n",
    "print(m.__getitem__(2))"
   ]
  },
  {
   "cell_type": "code",
   "execution_count": null,
   "id": "59bcc972",
   "metadata": {},
   "outputs": [],
   "source": []
  },
  {
   "cell_type": "markdown",
   "id": "1e62103a",
   "metadata": {},
   "source": [
    "# A Brief Introduction to Magic Methods"
   ]
  },
  {
   "cell_type": "code",
   "execution_count": 84,
   "id": "f0ea0381",
   "metadata": {},
   "outputs": [],
   "source": [
    "# .__getitem__() is one of a collection of methods in Python called magic methods. These are special methods that the \n",
    "# interpreter calls when a Python statement contains specific corresponding syntactical elements.\n",
    "\n",
    "# Note: Magic methods are also referred to as dunder methods because of the double underscore at the beginning and end of the\n",
    "##method name.\n",
    "\n",
    "# Later in this series, there are several tutorials on object-oriented programming. You’ll learn much more about magic methods\n",
    "##there.\n",
    "\n",
    "# print(obj[n])\n",
    "# print(obj.__getitem__(n))"
   ]
  },
  {
   "cell_type": "raw",
   "id": "24755043",
   "metadata": {},
   "source": [
    "Back to Match Objects"
   ]
  },
  {
   "cell_type": "code",
   "execution_count": 88,
   "id": "178fb9a4",
   "metadata": {},
   "outputs": [
    {
     "name": "stdout",
     "output_type": "stream",
     "text": [
      "bar\n",
      "bar\n",
      "bar\n",
      "baz\n",
      "baz\n"
     ]
    }
   ],
   "source": [
    "m = re.search(r'(\\w+),(\\w+),(\\w+)', 'foo,bar,baz')\n",
    "print(m.group(2))\n",
    "print(m.__getitem__(2))\n",
    "print(m[2])\n",
    "\n",
    "#This works with named captured groups as well:\n",
    "m = re.match(r'foo,(?P<w1>\\w+),(?P<w2>\\w+),qux','foo,bar,baz,qux')\n",
    "print(m.group('w2'))\n",
    "print(m['w2'])\n",
    "\n",
    "#This is something you could achieve by just calling .group() explicitly, but it’s a pretty shortcut notation nonetheless.\n",
    "\n"
   ]
  },
  {
   "cell_type": "code",
   "execution_count": 89,
   "id": "8f749e55",
   "metadata": {},
   "outputs": [],
   "source": [
    "##Note: Many objects in Python have a .__getitem() method defined, allowing the use of square-bracket indexing syntax. \n",
    "# However, this feature is only available for regex match objects in Python version 3.6 or later."
   ]
  },
  {
   "cell_type": "raw",
   "id": "b0734101",
   "metadata": {},
   "source": [
    "match.groups(default=None): Returns all captured groups from a match."
   ]
  },
  {
   "cell_type": "code",
   "execution_count": 91,
   "id": "33978034",
   "metadata": {},
   "outputs": [
    {
     "name": "stdout",
     "output_type": "stream",
     "text": [
      "('foo', 'bar', 'baz')\n",
      "\n",
      "<re.Match object; span=(0, 8), match='foo,bar,'>\n",
      "None\n",
      "('foo', 'bar', None)\n",
      "('foo', 'bar', '---')\n"
     ]
    }
   ],
   "source": [
    "m = re.search(r'(\\w+),(\\w+),(\\w+)', 'foo,bar,baz')\n",
    "print(m.groups())\n",
    "print()\n",
    "\n",
    "m = re.search(r'(\\w+),(\\w+),(\\w+)?', 'foo,bar,')\n",
    "print(m)\n",
    "print(m.group(3))\n",
    "print(m.groups())\n",
    "print(m.groups(default='---'))\n",
    "\n",
    "# Here, the third (\\w+) group doesn’t participate in the match because the question mark (?) metacharacter makes it optional, \n",
    "# and the string 'foo,bar,' doesn’t contain a third sequence of word characters. By default, m.groups() returns None for the \n",
    "# third group, as shown on line 8. On line 10, you can see that specifying default='---' causes it to return the string '---' \n",
    "# instead."
   ]
  },
  {
   "cell_type": "raw",
   "id": "0125d66a",
   "metadata": {},
   "source": [
    "match.groupdict(default=None): Returns a dictionary of named captured groups."
   ]
  },
  {
   "cell_type": "code",
   "execution_count": 92,
   "id": "57c44175",
   "metadata": {},
   "outputs": [
    {
     "name": "stdout",
     "output_type": "stream",
     "text": [
      "{'w1': 'bar', 'w2': 'baz'}\n",
      "baz\n"
     ]
    }
   ],
   "source": [
    "m = re.match(r'foo,(?P<w1>\\w+),(?P<w2>\\w+),qux','foo,bar,baz,qux')\n",
    "print(m.groupdict())\n",
    "print(m.groupdict()['w2'])"
   ]
  },
  {
   "cell_type": "code",
   "execution_count": 94,
   "id": "bce4cce1",
   "metadata": {},
   "outputs": [
    {
     "name": "stdout",
     "output_type": "stream",
     "text": [
      "{'w1': 'bar', 'w2': None}\n",
      "{'w1': 'bar', 'w2': '---'}\n"
     ]
    }
   ],
   "source": [
    "# As with .groups(), for .groupdict() the default argument determines the return value for nonparticipating groups:\n",
    "\n",
    "m = re.match(r'foo,(?P<w1>\\w+),(?P<w2>\\w+)?,qux','foo,bar,,qux')\n",
    "print(m.groupdict())\n",
    "print(m.groupdict(default='---'))"
   ]
  },
  {
   "cell_type": "raw",
   "id": "b7deb2ad",
   "metadata": {},
   "source": [
    "match.expand(<template>): Performs backreference substitutions from a match."
   ]
  },
  {
   "cell_type": "code",
   "execution_count": 95,
   "id": "ba9d5121",
   "metadata": {},
   "outputs": [
    {
     "name": "stdout",
     "output_type": "stream",
     "text": [
      "<re.Match object; span=(0, 11), match='foo,bar,baz'>\n",
      "('foo', 'bar', 'baz')\n",
      "bar\n",
      "[baz] -> [foo]\n",
      "\n",
      "<re.Match object; span=(3, 6), match='123'>\n",
      "123\n",
      "--- 123 ---\n"
     ]
    }
   ],
   "source": [
    "#match.expand(<template>) returns the string that results from performing backreference substitution on <template> \n",
    "##exactly as re.sub() would do:\n",
    "\n",
    "m = re.search(r'(\\w+),(\\w+),(\\w+)', 'foo,bar,baz')\n",
    "print(m)\n",
    "print(m.groups())\n",
    "print(m.expand(r'\\2'))\n",
    "print(m.expand(r'[\\3] -> [\\1]'))\n",
    "\n",
    "print()\n",
    "m = re.search(r'(?P<num>\\d+)', 'foo123qux')\n",
    "print(m)\n",
    "print(m.group(1))\n",
    "print(m.expand(r'--- \\g<num> ---'))"
   ]
  },
  {
   "cell_type": "raw",
   "id": "635aa1a0",
   "metadata": {},
   "source": [
    "match.start([<grp>])\n",
    "match.end([<grp>])\n",
    "::Return the starting and ending indices of the match"
   ]
  },
  {
   "cell_type": "code",
   "execution_count": 98,
   "id": "157908cc",
   "metadata": {},
   "outputs": [
    {
     "name": "stdout",
     "output_type": "stream",
     "text": [
      "<re.Match object; span=(3, 6), match='123'>\n",
      "3\n",
      "6\n",
      "123\n",
      "\n",
      "123\n",
      "3 6\n",
      "123\n",
      "456\n",
      "9 12\n",
      "456\n",
      "\n",
      "\n",
      "3 3\n",
      "\n",
      "None\n",
      "-1 -1\n"
     ]
    }
   ],
   "source": [
    "s = 'foo123bar456baz'\n",
    "m = re.search('\\d+', s)\n",
    "print(m)\n",
    "print(m.start())\n",
    "print(m.end())\n",
    "print(s[m.start():m.end()])\n",
    "\n",
    "print()\n",
    "m = re.search(r'(\\d+)\\D*(?P<num>\\d+)', s)\n",
    "print(m.group(1))\n",
    "print(m.start(1), m.end(1))\n",
    "print(s[m.start(1):m.end(1)])\n",
    "print(m.group('num'))\n",
    "print(m.start('num'), m.end('num'))\n",
    "print(s[m.start('num'):m.end('num')])\n",
    "\n",
    "print()\n",
    "m = re.search('foo(\\d*)bar', 'foobar')\n",
    "print(m[1])\n",
    "print(m.start(1), m.end(1))\n",
    "\n",
    "print()\n",
    "m = re.search(r'(\\w+),(\\w+),(\\w+)?', 'foo,bar,')\n",
    "print(m.group(3))\n",
    "print(m.start(3), m.end(3))"
   ]
  },
  {
   "cell_type": "raw",
   "id": "40206e4c",
   "metadata": {},
   "source": [
    "match.span([<grp>]): Returns both the starting and ending indices of the match"
   ]
  },
  {
   "cell_type": "code",
   "execution_count": 99,
   "id": "57a30d93",
   "metadata": {},
   "outputs": [
    {
     "name": "stdout",
     "output_type": "stream",
     "text": [
      "<re.Match object; span=(3, 12), match='123bar456'>\n",
      "123bar456\n",
      "(3, 12)\n",
      "123\n",
      "(3, 6)\n",
      "456\n",
      "(9, 12)\n"
     ]
    }
   ],
   "source": [
    "#match.span() returns both the starting and ending indices of the match as a tuple. If you specified <grp>, then the return \n",
    "##tuple applies to the given group:\n",
    "\n",
    "s = 'foo123bar456baz'\n",
    "m = re.search(r'(\\d+)\\D*(?P<num>\\d+)', s)\n",
    "print(m)\n",
    "print(m[0])\n",
    "print(m.span())\n",
    "print(m[1])\n",
    "print(m.span(1))\n",
    "print(m['num'])\n",
    "print(m.span('num'))"
   ]
  },
  {
   "cell_type": "code",
   "execution_count": null,
   "id": "931de11c",
   "metadata": {},
   "outputs": [],
   "source": []
  },
  {
   "cell_type": "markdown",
   "id": "37569dd4",
   "metadata": {},
   "source": [
    "# Match Object Attributes"
   ]
  },
  {
   "cell_type": "raw",
   "id": "91f8ddeb",
   "metadata": {},
   "source": [
    "match.pos\n",
    "match.endpos\n",
    ":: Contain the effective values of <pos> and <endpos> for the search."
   ]
  },
  {
   "cell_type": "code",
   "execution_count": 100,
   "id": "01316b4c",
   "metadata": {},
   "outputs": [
    {
     "name": "stdout",
     "output_type": "stream",
     "text": [
      "<re.Match object; span=(3, 6), match='123'>\n",
      "2 7\n",
      "\n",
      "<re.Match object; span=(3, 6), match='123'>\n",
      "0 9\n",
      "\n",
      "<re.Match object; span=(3, 6), match='123'>\n",
      "0 9\n"
     ]
    }
   ],
   "source": [
    "re_obj = re.compile(r'\\d+')\n",
    "m = re_obj.search('foo123bar', 2, 7)\n",
    "print(m)\n",
    "print(m.pos, m.endpos)\n",
    "print()\n",
    "\n",
    "m = re_obj.search('foo123bar')\n",
    "print(m)\n",
    "print(m.pos, m.endpos)\n",
    "print()\n",
    "\n",
    "m = re.search(r'\\d+', 'foo123bar')\n",
    "print(m)\n",
    "print(m.pos, m.endpos)\n",
    "\n",
    "#The re_obj.search() call above on line 2 could take <pos> and <endpos> arguments, but they aren’t specified. The re.search() \n",
    "#call on line 8 can’t take them at all. In either case, m.pos and m.endpos are 0 and 9, the starting and ending indices of the\n",
    "#search string 'foo123bar'."
   ]
  },
  {
   "cell_type": "raw",
   "id": "c5e901f8",
   "metadata": {},
   "source": [
    "match.lastindex: Contains the index of the last captured group."
   ]
  },
  {
   "cell_type": "code",
   "execution_count": 103,
   "id": "cd42eafb",
   "metadata": {},
   "outputs": [
    {
     "name": "stdout",
     "output_type": "stream",
     "text": [
      "3\n",
      "baz\n",
      "\n",
      "('foo', 'bar', 'baz')\n",
      "3 baz\n",
      "\n",
      "('foo', 'bar', None)\n",
      "2 bar\n",
      "\n",
      "('ab', 'a', 'b')\n",
      "1 ab\n"
     ]
    }
   ],
   "source": [
    "m = re.search(r'(\\w+),(\\w+),(\\w+)', 'foo,bar,baz')\n",
    "print(m.lastindex)\n",
    "print(m[m.lastindex])\n",
    "print()\n",
    "\n",
    "m = re.search(r'(\\w+),(\\w+),(\\w+)?', 'foo,bar,baz')\n",
    "print(m.groups())\n",
    "print(m.lastindex, m[m.lastindex])\n",
    "\n",
    "print()\n",
    "m = re.search(r'(\\w+),(\\w+),(\\w+)?', 'foo,bar,')\n",
    "print(m.groups())\n",
    "print(m.lastindex, m[m.lastindex])\n",
    "\n",
    "print()\n",
    "m = re.match('((a)(b))', 'ab')\n",
    "print(m.groups())\n",
    "print(m.lastindex, m[m.lastindex])"
   ]
  },
  {
   "cell_type": "raw",
   "id": "4efb4a1a",
   "metadata": {},
   "source": [
    "match.lastgroup: Contains the name of the last captured group."
   ]
  },
  {
   "cell_type": "code",
   "execution_count": 104,
   "id": "382510a4",
   "metadata": {},
   "outputs": [
    {
     "name": "stdout",
     "output_type": "stream",
     "text": [
      "n2\n",
      "\n",
      "('123', '456')\n",
      "None\n",
      "\n",
      "()\n",
      "None\n"
     ]
    }
   ],
   "source": [
    "s = 'foo123bar456baz'\n",
    "m = re.search(r'(?P<n1>\\d+)\\D*(?P<n2>\\d+)', s)\n",
    "print(m.lastgroup)\n",
    "print()\n",
    "\n",
    "m = re.search(r'(\\d+)\\D*(\\d+)', s)\n",
    "print(m.groups())\n",
    "print(m.lastgroup)\n",
    "\n",
    "print()\n",
    "m = re.search(r'\\d+\\D*\\d+', s)\n",
    "print(m.groups())\n",
    "print(m.lastgroup)"
   ]
  },
  {
   "cell_type": "raw",
   "id": "0720c228",
   "metadata": {},
   "source": [
    "match.re: Contains the regular expression object for the match."
   ]
  },
  {
   "cell_type": "code",
   "execution_count": 105,
   "id": "363fb6ec",
   "metadata": {},
   "outputs": [
    {
     "name": "stdout",
     "output_type": "stream",
     "text": [
      "<re.Match object; span=(0, 11), match='foo,bar,baz'>\n",
      "re.compile('(\\\\w+),(\\\\w+),(\\\\w+)')\n",
      "\n",
      "re.compile('(\\\\w+),(\\\\w+),(\\\\w+)')\n",
      "True\n",
      "\n",
      "<re.Match object; span=(0, 14), match='qux,quux,corge'>\n",
      "re.compile('(\\\\w+),(\\\\w+),(\\\\w+)')\n",
      "True\n",
      "3\n",
      "(\\w+),(\\w+),(\\w+)\n",
      "True\n",
      "32\n",
      "\n",
      "re.compile('(\\\\w+),(\\\\w+),(\\\\w+)')\n",
      "<re.Match object; span=(0, 17), match='quux,corge,grault'>\n"
     ]
    }
   ],
   "source": [
    "regex = r'(\\w+),(\\w+),(\\w+)'\n",
    "m1 = re.search(regex, 'foo,bar,baz')\n",
    "print(m1)\n",
    "print(m1.re)\n",
    "print()\n",
    "\n",
    "re_obj = re.compile(regex)\n",
    "print(re_obj)\n",
    "print(re_obj is m1.re)\n",
    "print()\n",
    "\n",
    "m2 = re_obj.search('qux,quux,corge')\n",
    "print(m2)\n",
    "print(m2.re)\n",
    "print(m2.re is re_obj is m1.re)\n",
    "print( m1.re.groups)\n",
    "print(m1.re.pattern)\n",
    "print(m1.re.pattern == regex)\n",
    "\n",
    "print(m1.re.flags)\n",
    "print()\n",
    "\n",
    "m = re.search(r'(\\w+),(\\w+),(\\w+)', 'foo,bar,baz')\n",
    "print(m.re)\n",
    "print(m.re.match('quux,corge,grault'))"
   ]
  },
  {
   "cell_type": "raw",
   "id": "93936cb0",
   "metadata": {},
   "source": [
    "match.string: Contains the search string for a match"
   ]
  },
  {
   "cell_type": "code",
   "execution_count": 107,
   "id": "758e8e2f",
   "metadata": {},
   "outputs": [
    {
     "name": "stdout",
     "output_type": "stream",
     "text": [
      "foo,bar,baz\n",
      "\n",
      "foo,bar,baz\n"
     ]
    }
   ],
   "source": [
    "m = re.search(r'(\\w+),(\\w+),(\\w+)', 'foo,bar,baz')\n",
    "print(m.string)\n",
    "print()\n",
    "\n",
    "re_obj = re.compile(r'(\\w+),(\\w+),(\\w+)')\n",
    "m = re_obj.search('foo,bar,baz')\n",
    "print(m.string)"
   ]
  },
  {
   "cell_type": "code",
   "execution_count": null,
   "id": "3bd3403d",
   "metadata": {},
   "outputs": [],
   "source": []
  }
 ],
 "metadata": {
  "kernelspec": {
   "display_name": "Python 3",
   "language": "python",
   "name": "python3"
  },
  "language_info": {
   "codemirror_mode": {
    "name": "ipython",
    "version": 3
   },
   "file_extension": ".py",
   "mimetype": "text/x-python",
   "name": "python",
   "nbconvert_exporter": "python",
   "pygments_lexer": "ipython3",
   "version": "3.8.10"
  }
 },
 "nbformat": 4,
 "nbformat_minor": 5
}
