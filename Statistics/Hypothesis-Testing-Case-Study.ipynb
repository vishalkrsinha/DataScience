{
 "cells": [
  {
   "cell_type": "markdown",
   "id": "possible-tuesday",
   "metadata": {},
   "source": [
    "Hypothesis Testing Case Study"
   ]
  },
  {
   "cell_type": "code",
   "execution_count": 3,
   "id": "fiscal-sheet",
   "metadata": {},
   "outputs": [],
   "source": [
    "import numpy as np\n",
    "import pandas as pd\n",
    "import scipy.stats as stats\n",
    "import matplotlib.pyplot as plt\n",
    "%matplotlib inline\n",
    "import math"
   ]
  },
  {
   "cell_type": "code",
   "execution_count": 4,
   "id": "fossil-tutorial",
   "metadata": {},
   "outputs": [
    {
     "data": {
      "text/html": [
       "<div>\n",
       "<style scoped>\n",
       "    .dataframe tbody tr th:only-of-type {\n",
       "        vertical-align: middle;\n",
       "    }\n",
       "\n",
       "    .dataframe tbody tr th {\n",
       "        vertical-align: top;\n",
       "    }\n",
       "\n",
       "    .dataframe thead th {\n",
       "        text-align: right;\n",
       "    }\n",
       "</style>\n",
       "<table border=\"1\" class=\"dataframe\">\n",
       "  <thead>\n",
       "    <tr style=\"text-align: right;\">\n",
       "      <th></th>\n",
       "      <th>custid</th>\n",
       "      <th>sex</th>\n",
       "      <th>AqChannel</th>\n",
       "      <th>region</th>\n",
       "      <th>Marital_status</th>\n",
       "      <th>segment</th>\n",
       "      <th>pre_usage</th>\n",
       "      <th>Post_usage_1month</th>\n",
       "      <th>Latest_mon_usage</th>\n",
       "      <th>post_usage_2ndmonth</th>\n",
       "    </tr>\n",
       "  </thead>\n",
       "  <tbody>\n",
       "    <tr>\n",
       "      <th>0</th>\n",
       "      <td>70</td>\n",
       "      <td>0</td>\n",
       "      <td>4</td>\n",
       "      <td>1</td>\n",
       "      <td>1</td>\n",
       "      <td>1</td>\n",
       "      <td>57</td>\n",
       "      <td>52</td>\n",
       "      <td>49.2</td>\n",
       "      <td>57.2</td>\n",
       "    </tr>\n",
       "    <tr>\n",
       "      <th>1</th>\n",
       "      <td>121</td>\n",
       "      <td>1</td>\n",
       "      <td>4</td>\n",
       "      <td>2</td>\n",
       "      <td>1</td>\n",
       "      <td>3</td>\n",
       "      <td>68</td>\n",
       "      <td>59</td>\n",
       "      <td>63.6</td>\n",
       "      <td>64.9</td>\n",
       "    </tr>\n",
       "    <tr>\n",
       "      <th>2</th>\n",
       "      <td>86</td>\n",
       "      <td>0</td>\n",
       "      <td>4</td>\n",
       "      <td>3</td>\n",
       "      <td>1</td>\n",
       "      <td>1</td>\n",
       "      <td>44</td>\n",
       "      <td>33</td>\n",
       "      <td>64.8</td>\n",
       "      <td>36.3</td>\n",
       "    </tr>\n",
       "    <tr>\n",
       "      <th>3</th>\n",
       "      <td>141</td>\n",
       "      <td>0</td>\n",
       "      <td>4</td>\n",
       "      <td>3</td>\n",
       "      <td>1</td>\n",
       "      <td>3</td>\n",
       "      <td>63</td>\n",
       "      <td>44</td>\n",
       "      <td>56.4</td>\n",
       "      <td>48.4</td>\n",
       "    </tr>\n",
       "    <tr>\n",
       "      <th>4</th>\n",
       "      <td>172</td>\n",
       "      <td>0</td>\n",
       "      <td>4</td>\n",
       "      <td>2</td>\n",
       "      <td>1</td>\n",
       "      <td>2</td>\n",
       "      <td>47</td>\n",
       "      <td>52</td>\n",
       "      <td>68.4</td>\n",
       "      <td>57.2</td>\n",
       "    </tr>\n",
       "  </tbody>\n",
       "</table>\n",
       "</div>"
      ],
      "text/plain": [
       "   custid  sex  AqChannel  region  Marital_status  segment  pre_usage  \\\n",
       "0      70    0          4       1               1        1         57   \n",
       "1     121    1          4       2               1        3         68   \n",
       "2      86    0          4       3               1        1         44   \n",
       "3     141    0          4       3               1        3         63   \n",
       "4     172    0          4       2               1        2         47   \n",
       "\n",
       "   Post_usage_1month  Latest_mon_usage  post_usage_2ndmonth  \n",
       "0                 52              49.2                 57.2  \n",
       "1                 59              63.6                 64.9  \n",
       "2                 33              64.8                 36.3  \n",
       "3                 44              56.4                 48.4  \n",
       "4                 52              68.4                 57.2  "
      ]
     },
     "execution_count": 4,
     "metadata": {},
     "output_type": "execute_result"
    }
   ],
   "source": [
    "cust = pd.read_csv(\"E:\\AI\\ALabs\\Python - ML\\DataSets\\Cust_seg.csv\")\n",
    "cust.head()"
   ]
  },
  {
   "cell_type": "code",
   "execution_count": 15,
   "id": "heard-three",
   "metadata": {},
   "outputs": [
    {
     "data": {
      "text/plain": [
       "63.174"
      ]
     },
     "execution_count": 15,
     "metadata": {},
     "output_type": "execute_result"
    }
   ],
   "source": [
    "#assignment 1:\n",
    "mean = cust.Latest_mon_usage.mean()\n",
    "mean"
   ]
  },
  {
   "cell_type": "code",
   "execution_count": 16,
   "id": "alleged-dryer",
   "metadata": {},
   "outputs": [
    {
     "data": {
      "text/plain": [
       "11.242137352892756"
      ]
     },
     "execution_count": 16,
     "metadata": {},
     "output_type": "execute_result"
    }
   ],
   "source": [
    "std = cust.Latest_mon_usage.std()\n",
    "std"
   ]
  },
  {
   "cell_type": "code",
   "execution_count": 21,
   "id": "surface-sucking",
   "metadata": {},
   "outputs": [
    {
     "data": {
      "text/plain": [
       "Ttest_1sampResult(statistic=16.57233752433133, pvalue=2.4963719280931583e-39)"
      ]
     },
     "execution_count": 21,
     "metadata": {},
     "output_type": "execute_result"
    }
   ],
   "source": [
    "#step1: Sample represents the population (Assumption)\n",
    "#step2: H0 hypothesis: Last Year mean  = latest_mon_usage\n",
    "#step3: Applying One Sample t-test as we have last year sample mean, and looking for current month mean\n",
    "ttest1 = stats.ttest_1samp(a=cust.Latest_mon_usage,popmean=50)\n",
    "ttest1"
   ]
  },
  {
   "cell_type": "code",
   "execution_count": 22,
   "id": "communist-cosmetic",
   "metadata": {},
   "outputs": [
    {
     "data": {
      "text/plain": [
       "True"
      ]
     },
     "execution_count": 22,
     "metadata": {},
     "output_type": "execute_result"
    }
   ],
   "source": [
    "ttest1.pvalue<0.05"
   ]
  },
  {
   "cell_type": "code",
   "execution_count": 23,
   "id": "concrete-voluntary",
   "metadata": {},
   "outputs": [],
   "source": [
    "#So, we can say that we failed to accept the null hypothesis.\n",
    "#ttest1 says that it has an influence over the result compared to last year."
   ]
  },
  {
   "cell_type": "code",
   "execution_count": null,
   "id": "automated-satin",
   "metadata": {},
   "outputs": [],
   "source": []
  },
  {
   "cell_type": "code",
   "execution_count": 24,
   "id": "prospective-liability",
   "metadata": {},
   "outputs": [
    {
     "data": {
      "text/plain": [
       "Ttest_relResult(statistic=-0.8673065458794775, pvalue=0.3868186820914985)"
      ]
     },
     "execution_count": 24,
     "metadata": {},
     "output_type": "execute_result"
    }
   ],
   "source": [
    "#Asssignment 2: Applying 2 sample t-test\n",
    "ttest2 = stats.ttest_rel(a=cust.pre_usage,b=cust.Post_usage_1month)\n",
    "ttest2"
   ]
  },
  {
   "cell_type": "code",
   "execution_count": 25,
   "id": "blocked-tackle",
   "metadata": {},
   "outputs": [
    {
     "data": {
      "text/plain": [
       "False"
      ]
     },
     "execution_count": 25,
     "metadata": {},
     "output_type": "execute_result"
    }
   ],
   "source": [
    "ttest2.pvalue<0.05"
   ]
  },
  {
   "cell_type": "code",
   "execution_count": 26,
   "id": "waiting-housing",
   "metadata": {},
   "outputs": [],
   "source": [
    "#We accept null hypothesis. So, no impact of campaign after one month."
   ]
  },
  {
   "cell_type": "code",
   "execution_count": 27,
   "id": "sweet-leeds",
   "metadata": {},
   "outputs": [
    {
     "data": {
      "text/plain": [
       "Ttest_relResult(statistic=-8.866832246938742, pvalue=4.295733828012836e-16)"
      ]
     },
     "execution_count": 27,
     "metadata": {},
     "output_type": "execute_result"
    }
   ],
   "source": [
    "ttest2_2ndmonth = stats.ttest_rel(a=cust.pre_usage,b=cust.post_usage_2ndmonth)\n",
    "ttest2_2ndmonth"
   ]
  },
  {
   "cell_type": "code",
   "execution_count": 28,
   "id": "dutch-listening",
   "metadata": {},
   "outputs": [
    {
     "data": {
      "text/plain": [
       "True"
      ]
     },
     "execution_count": 28,
     "metadata": {},
     "output_type": "execute_result"
    }
   ],
   "source": [
    "ttest2_2ndmonth.pvalue<0.05"
   ]
  },
  {
   "cell_type": "code",
   "execution_count": 29,
   "id": "neither-olympus",
   "metadata": {},
   "outputs": [],
   "source": [
    "#We reject the null hypothesis here. SO, there is an impact of campaign after 2 months."
   ]
  },
  {
   "cell_type": "code",
   "execution_count": null,
   "id": "shaped-poetry",
   "metadata": {},
   "outputs": [],
   "source": []
  },
  {
   "cell_type": "code",
   "execution_count": 31,
   "id": "assisted-inventory",
   "metadata": {},
   "outputs": [
    {
     "data": {
      "text/plain": [
       "Ttest_indResult(statistic=-3.7340738531536797, pvalue=0.00024625461203549315)"
      ]
     },
     "execution_count": 31,
     "metadata": {},
     "output_type": "execute_result"
    }
   ],
   "source": [
    "#Assignment 3: Applying Independent t-test\n",
    "males_spend = cust.Post_usage_1month.loc[(cust.sex==0)]\n",
    "females_spend = cust.Post_usage_1month.loc[(cust.sex==1)]\n",
    "ttest3 = stats.ttest_ind(a=males_spend,b=females_spend)\n",
    "ttest3"
   ]
  },
  {
   "cell_type": "code",
   "execution_count": 32,
   "id": "grateful-instrumentation",
   "metadata": {},
   "outputs": [
    {
     "data": {
      "text/plain": [
       "True"
      ]
     },
     "execution_count": 32,
     "metadata": {},
     "output_type": "execute_result"
    }
   ],
   "source": [
    "ttest3.pvalue<0.05"
   ]
  },
  {
   "cell_type": "code",
   "execution_count": 33,
   "id": "postal-password",
   "metadata": {},
   "outputs": [],
   "source": [
    "#Null Hypothesis is rejected. SO, there is a difference of males/females caredit card usage."
   ]
  },
  {
   "cell_type": "code",
   "execution_count": null,
   "id": "processed-mineral",
   "metadata": {},
   "outputs": [],
   "source": []
  },
  {
   "cell_type": "code",
   "execution_count": 34,
   "id": "amber-salmon",
   "metadata": {},
   "outputs": [
    {
     "data": {
      "text/plain": [
       "2    105\n",
       "3     50\n",
       "1     45\n",
       "Name: segment, dtype: int64"
      ]
     },
     "execution_count": 34,
     "metadata": {},
     "output_type": "execute_result"
    }
   ],
   "source": [
    "#Assignmenmt 4:\n",
    "#Need to apply ANOVA\n",
    "cust.segment.value_counts()"
   ]
  },
  {
   "cell_type": "code",
   "execution_count": 35,
   "id": "classified-violation",
   "metadata": {},
   "outputs": [],
   "source": [
    "s1 = cust.Latest_mon_usage.loc[cust.segment==1]\n",
    "s2 = cust.Latest_mon_usage.loc[cust.segment==2]\n",
    "s3 = cust.Latest_mon_usage.loc[cust.segment==3]"
   ]
  },
  {
   "cell_type": "code",
   "execution_count": 38,
   "id": "electronic-indonesian",
   "metadata": {},
   "outputs": [
    {
     "data": {
      "text/plain": [
       "F_onewayResult(statistic=29.279283801321778, pvalue=7.36401083352674e-12)"
      ]
     },
     "execution_count": 38,
     "metadata": {},
     "output_type": "execute_result"
    }
   ],
   "source": [
    "#Performing ANOVA\n",
    "anova_test = stats.f_oneway(s1,s2,s3)\n",
    "anova_test"
   ]
  },
  {
   "cell_type": "code",
   "execution_count": 39,
   "id": "above-morning",
   "metadata": {},
   "outputs": [
    {
     "data": {
      "text/plain": [
       "True"
      ]
     },
     "execution_count": 39,
     "metadata": {},
     "output_type": "execute_result"
    }
   ],
   "source": [
    "anova_test.pvalue<0.05"
   ]
  },
  {
   "cell_type": "code",
   "execution_count": 40,
   "id": "pursuant-company",
   "metadata": {},
   "outputs": [],
   "source": [
    "#Null Hypothesis is rejected. SO, there is a difference of segments card usage."
   ]
  },
  {
   "cell_type": "code",
   "execution_count": null,
   "id": "foreign-lebanon",
   "metadata": {},
   "outputs": [],
   "source": []
  },
  {
   "cell_type": "code",
   "execution_count": 42,
   "id": "interesting-samba",
   "metadata": {},
   "outputs": [
    {
     "data": {
      "text/plain": [
       "(16.60444164948934,\n",
       " 0.055282939487992365,\n",
       " 9,\n",
       " array([[ 10.575,  21.375,  13.05 ,  45.   ],\n",
       "        [ 24.675,  49.875,  30.45 , 105.   ],\n",
       "        [ 11.75 ,  23.75 ,  14.5  ,  50.   ],\n",
       "        [ 47.   ,  95.   ,  58.   , 200.   ]]))"
      ]
     },
     "execution_count": 42,
     "metadata": {},
     "output_type": "execute_result"
    }
   ],
   "source": [
    "#Chi-square:\n",
    "seg_reg_xtab = pd.crosstab(cust.segment,cust.region,margins=True)\n",
    "chi_test = stats.chi2_contingency(observed=seg_reg_xtab)\n",
    "chi_test"
   ]
  },
  {
   "cell_type": "code",
   "execution_count": 43,
   "id": "everyday-context",
   "metadata": {},
   "outputs": [
    {
     "data": {
      "text/plain": [
       "False"
      ]
     },
     "execution_count": 43,
     "metadata": {},
     "output_type": "execute_result"
    }
   ],
   "source": [
    "0.055282939487992365<0.05"
   ]
  },
  {
   "cell_type": "code",
   "execution_count": 44,
   "id": "inside-browse",
   "metadata": {},
   "outputs": [],
   "source": [
    "#Accepting Null Hypothesis. No relationship."
   ]
  },
  {
   "cell_type": "code",
   "execution_count": null,
   "id": "clinical-deviation",
   "metadata": {},
   "outputs": [],
   "source": []
  },
  {
   "cell_type": "code",
   "execution_count": 45,
   "id": "cardiovascular-galaxy",
   "metadata": {},
   "outputs": [
    {
     "data": {
      "text/plain": [
       "0.5967764790880451"
      ]
     },
     "execution_count": 45,
     "metadata": {},
     "output_type": "execute_result"
    }
   ],
   "source": [
    "#Assignment 6: \n",
    "cust.pre_usage.corr(other=cust.Post_usage_1month)"
   ]
  },
  {
   "cell_type": "code",
   "execution_count": 46,
   "id": "favorite-convert",
   "metadata": {},
   "outputs": [
    {
     "data": {
      "text/html": [
       "<div>\n",
       "<style scoped>\n",
       "    .dataframe tbody tr th:only-of-type {\n",
       "        vertical-align: middle;\n",
       "    }\n",
       "\n",
       "    .dataframe tbody tr th {\n",
       "        vertical-align: top;\n",
       "    }\n",
       "\n",
       "    .dataframe thead th {\n",
       "        text-align: right;\n",
       "    }\n",
       "</style>\n",
       "<table border=\"1\" class=\"dataframe\">\n",
       "  <thead>\n",
       "    <tr style=\"text-align: right;\">\n",
       "      <th></th>\n",
       "      <th>custid</th>\n",
       "      <th>sex</th>\n",
       "      <th>AqChannel</th>\n",
       "      <th>region</th>\n",
       "      <th>Marital_status</th>\n",
       "      <th>segment</th>\n",
       "      <th>pre_usage</th>\n",
       "      <th>Post_usage_1month</th>\n",
       "      <th>Latest_mon_usage</th>\n",
       "      <th>post_usage_2ndmonth</th>\n",
       "    </tr>\n",
       "  </thead>\n",
       "  <tbody>\n",
       "    <tr>\n",
       "      <th>custid</th>\n",
       "      <td>1.000000</td>\n",
       "      <td>-0.087217</td>\n",
       "      <td>0.748793</td>\n",
       "      <td>0.210912</td>\n",
       "      <td>0.482383</td>\n",
       "      <td>-0.058029</td>\n",
       "      <td>0.148620</td>\n",
       "      <td>0.186688</td>\n",
       "      <td>0.219234</td>\n",
       "      <td>0.186688</td>\n",
       "    </tr>\n",
       "    <tr>\n",
       "      <th>sex</th>\n",
       "      <td>-0.087217</td>\n",
       "      <td>1.000000</td>\n",
       "      <td>0.001259</td>\n",
       "      <td>-0.125009</td>\n",
       "      <td>0.015337</td>\n",
       "      <td>0.004009</td>\n",
       "      <td>-0.053084</td>\n",
       "      <td>0.256492</td>\n",
       "      <td>-0.029338</td>\n",
       "      <td>0.256492</td>\n",
       "    </tr>\n",
       "    <tr>\n",
       "      <th>AqChannel</th>\n",
       "      <td>0.748793</td>\n",
       "      <td>0.001259</td>\n",
       "      <td>1.000000</td>\n",
       "      <td>0.195364</td>\n",
       "      <td>0.108386</td>\n",
       "      <td>-0.050060</td>\n",
       "      <td>0.243400</td>\n",
       "      <td>0.219999</td>\n",
       "      <td>0.202553</td>\n",
       "      <td>0.219999</td>\n",
       "    </tr>\n",
       "    <tr>\n",
       "      <th>region</th>\n",
       "      <td>0.210912</td>\n",
       "      <td>-0.125009</td>\n",
       "      <td>0.195364</td>\n",
       "      <td>1.000000</td>\n",
       "      <td>0.136673</td>\n",
       "      <td>0.017333</td>\n",
       "      <td>0.293322</td>\n",
       "      <td>0.207494</td>\n",
       "      <td>0.272459</td>\n",
       "      <td>0.207494</td>\n",
       "    </tr>\n",
       "    <tr>\n",
       "      <th>Marital_status</th>\n",
       "      <td>0.482383</td>\n",
       "      <td>0.015337</td>\n",
       "      <td>0.108386</td>\n",
       "      <td>0.136673</td>\n",
       "      <td>1.000000</td>\n",
       "      <td>-0.095050</td>\n",
       "      <td>0.086201</td>\n",
       "      <td>0.127228</td>\n",
       "      <td>0.098309</td>\n",
       "      <td>0.127228</td>\n",
       "    </tr>\n",
       "    <tr>\n",
       "      <th>segment</th>\n",
       "      <td>-0.058029</td>\n",
       "      <td>0.004009</td>\n",
       "      <td>-0.050060</td>\n",
       "      <td>0.017333</td>\n",
       "      <td>-0.095050</td>\n",
       "      <td>1.000000</td>\n",
       "      <td>-0.134973</td>\n",
       "      <td>-0.181107</td>\n",
       "      <td>-0.150104</td>\n",
       "      <td>-0.181107</td>\n",
       "    </tr>\n",
       "    <tr>\n",
       "      <th>pre_usage</th>\n",
       "      <td>0.148620</td>\n",
       "      <td>-0.053084</td>\n",
       "      <td>0.243400</td>\n",
       "      <td>0.293322</td>\n",
       "      <td>0.086201</td>\n",
       "      <td>-0.134973</td>\n",
       "      <td>1.000000</td>\n",
       "      <td>0.596776</td>\n",
       "      <td>0.662280</td>\n",
       "      <td>0.596776</td>\n",
       "    </tr>\n",
       "    <tr>\n",
       "      <th>Post_usage_1month</th>\n",
       "      <td>0.186688</td>\n",
       "      <td>0.256492</td>\n",
       "      <td>0.219999</td>\n",
       "      <td>0.207494</td>\n",
       "      <td>0.127228</td>\n",
       "      <td>-0.181107</td>\n",
       "      <td>0.596776</td>\n",
       "      <td>1.000000</td>\n",
       "      <td>0.617449</td>\n",
       "      <td>1.000000</td>\n",
       "    </tr>\n",
       "    <tr>\n",
       "      <th>Latest_mon_usage</th>\n",
       "      <td>0.219234</td>\n",
       "      <td>-0.029338</td>\n",
       "      <td>0.202553</td>\n",
       "      <td>0.272459</td>\n",
       "      <td>0.098309</td>\n",
       "      <td>-0.150104</td>\n",
       "      <td>0.662280</td>\n",
       "      <td>0.617449</td>\n",
       "      <td>1.000000</td>\n",
       "      <td>0.617449</td>\n",
       "    </tr>\n",
       "    <tr>\n",
       "      <th>post_usage_2ndmonth</th>\n",
       "      <td>0.186688</td>\n",
       "      <td>0.256492</td>\n",
       "      <td>0.219999</td>\n",
       "      <td>0.207494</td>\n",
       "      <td>0.127228</td>\n",
       "      <td>-0.181107</td>\n",
       "      <td>0.596776</td>\n",
       "      <td>1.000000</td>\n",
       "      <td>0.617449</td>\n",
       "      <td>1.000000</td>\n",
       "    </tr>\n",
       "  </tbody>\n",
       "</table>\n",
       "</div>"
      ],
      "text/plain": [
       "                       custid       sex  AqChannel    region  Marital_status  \\\n",
       "custid               1.000000 -0.087217   0.748793  0.210912        0.482383   \n",
       "sex                 -0.087217  1.000000   0.001259 -0.125009        0.015337   \n",
       "AqChannel            0.748793  0.001259   1.000000  0.195364        0.108386   \n",
       "region               0.210912 -0.125009   0.195364  1.000000        0.136673   \n",
       "Marital_status       0.482383  0.015337   0.108386  0.136673        1.000000   \n",
       "segment             -0.058029  0.004009  -0.050060  0.017333       -0.095050   \n",
       "pre_usage            0.148620 -0.053084   0.243400  0.293322        0.086201   \n",
       "Post_usage_1month    0.186688  0.256492   0.219999  0.207494        0.127228   \n",
       "Latest_mon_usage     0.219234 -0.029338   0.202553  0.272459        0.098309   \n",
       "post_usage_2ndmonth  0.186688  0.256492   0.219999  0.207494        0.127228   \n",
       "\n",
       "                      segment  pre_usage  Post_usage_1month  Latest_mon_usage  \\\n",
       "custid              -0.058029   0.148620           0.186688          0.219234   \n",
       "sex                  0.004009  -0.053084           0.256492         -0.029338   \n",
       "AqChannel           -0.050060   0.243400           0.219999          0.202553   \n",
       "region               0.017333   0.293322           0.207494          0.272459   \n",
       "Marital_status      -0.095050   0.086201           0.127228          0.098309   \n",
       "segment              1.000000  -0.134973          -0.181107         -0.150104   \n",
       "pre_usage           -0.134973   1.000000           0.596776          0.662280   \n",
       "Post_usage_1month   -0.181107   0.596776           1.000000          0.617449   \n",
       "Latest_mon_usage    -0.150104   0.662280           0.617449          1.000000   \n",
       "post_usage_2ndmonth -0.181107   0.596776           1.000000          0.617449   \n",
       "\n",
       "                     post_usage_2ndmonth  \n",
       "custid                          0.186688  \n",
       "sex                             0.256492  \n",
       "AqChannel                       0.219999  \n",
       "region                          0.207494  \n",
       "Marital_status                  0.127228  \n",
       "segment                        -0.181107  \n",
       "pre_usage                       0.596776  \n",
       "Post_usage_1month               1.000000  \n",
       "Latest_mon_usage                0.617449  \n",
       "post_usage_2ndmonth             1.000000  "
      ]
     },
     "execution_count": 46,
     "metadata": {},
     "output_type": "execute_result"
    }
   ],
   "source": [
    "cust.corr()"
   ]
  },
  {
   "cell_type": "code",
   "execution_count": 47,
   "id": "continent-modeling",
   "metadata": {},
   "outputs": [
    {
     "data": {
      "text/plain": [
       "<seaborn.axisgrid.FacetGrid at 0x1cbec14a7f0>"
      ]
     },
     "execution_count": 47,
     "metadata": {},
     "output_type": "execute_result"
    },
    {
     "data": {
      "image/png": "[encoded data removed]",
      "text/plain": [
       "<Figure size 360x360 with 1 Axes>"
      ]
     },
     "metadata": {
      "needs_background": "light"
     },
     "output_type": "display_data"
    }
   ],
   "source": [
    "import seaborn as sns \n",
    "sns.lmplot(x=\"Latest_mon_usage\",y=\"Post_usage_1month\",data = cust)"
   ]
  },
  {
   "cell_type": "code",
   "execution_count": null,
   "id": "detected-blair",
   "metadata": {},
   "outputs": [],
   "source": []
  }
 ],
 "metadata": {
  "kernelspec": {
   "display_name": "Python 3",
   "language": "python",
   "name": "python3"
  },
  "language_info": {
   "codemirror_mode": {
    "name": "ipython",
    "version": 3
   },
   "file_extension": ".py",
   "mimetype": "text/x-python",
   "name": "python",
   "nbconvert_exporter": "python",
   "pygments_lexer": "ipython3",
   "version": "3.8.5"
  }
 },
 "nbformat": 4,
 "nbformat_minor": 5
}
